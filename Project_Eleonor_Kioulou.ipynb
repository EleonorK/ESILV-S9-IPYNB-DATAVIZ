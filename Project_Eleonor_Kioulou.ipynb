{
 "cells": [
  {
   "cell_type": "markdown",
   "metadata": {},
   "source": [
    "Eléonor KIOULOU"
   ]
  },
  {
   "cell_type": "markdown",
   "metadata": {},
   "source": [
    "DIA2 - A5"
   ]
  },
  {
   "cell_type": "markdown",
   "metadata": {},
   "source": [
    "# Projet Dataviz"
   ]
  },
  {
   "cell_type": "code",
   "execution_count": 466,
   "metadata": {},
   "outputs": [],
   "source": [
    "import pandas as pd\n",
    "import plotly.express as px\n",
    "import plotly.graph_objects as go\n",
    "from plotly.subplots import make_subplots\n",
    "import plotly.io as pio\n",
    "pio.renderers.default = \"notebook_connected\""
   ]
  },
  {
   "cell_type": "markdown",
   "metadata": {},
   "source": [
    "Kaggle: https://www.kaggle.com/datasets/souvikahmed071/social-media-and-mental-health?resource=download"
   ]
  },
  {
   "cell_type": "markdown",
   "metadata": {},
   "source": [
    "### Context and Motivation"
   ]
  },
  {
   "cell_type": "markdown",
   "metadata": {},
   "source": [
    "Social media is very important in our lives, especially for university students. This project looks at how using social media affects the mental health of young adults. We use survey data from Kaggle to understand the link between social media and problems like depression and anxiety. We will make interactive charts with tools like Bokeh or Plotly to explain our findings. This study is useful for students, teachers, and health experts. It's important now because mental health is getting more attention in schools and the tech world. We want to help people understand how social media can affect our mental health."
   ]
  },
  {
   "cell_type": "code",
   "execution_count": 467,
   "metadata": {},
   "outputs": [
    {
     "data": {
      "text/plain": [
       "Index(['Timestamp', '1. What is your age?', '2. Gender',\n",
       "       '3. Relationship Status', '4. Occupation Status',\n",
       "       '5. What type of organizations are you affiliated with?',\n",
       "       '6. Do you use social media?',\n",
       "       '7. What social media platforms do you commonly use?',\n",
       "       '8. What is the average time you spend on social media every day?',\n",
       "       '9. How often do you find yourself using Social media without a specific purpose?',\n",
       "       '10. How often do you get distracted by Social media when you are busy doing something?',\n",
       "       '11. Do you feel restless if you haven't used Social media in a while?',\n",
       "       '12. On a scale of 1 to 5, how easily distracted are you?',\n",
       "       '13. On a scale of 1 to 5, how much are you bothered by worries?',\n",
       "       '14. Do you find it difficult to concentrate on things?',\n",
       "       '15. On a scale of 1-5, how often do you compare yourself to other successful people through the use of social media?',\n",
       "       '16. Following the previous question, how do you feel about these comparisons, generally speaking?',\n",
       "       '17. How often do you look to seek validation from features of social media?',\n",
       "       '18. How often do you feel depressed or down?',\n",
       "       '19. On a scale of 1 to 5, how frequently does your interest in daily activities fluctuate?',\n",
       "       '20. On a scale of 1 to 5, how often do you face issues regarding sleep?'],\n",
       "      dtype='object')"
      ]
     },
     "execution_count": 467,
     "metadata": {},
     "output_type": "execute_result"
    }
   ],
   "source": [
    "df = pd.read_csv(\"smmh.csv\")\n",
    "df.columns"
   ]
  },
  {
   "cell_type": "markdown",
   "metadata": {},
   "source": [
    "## Preprocessing"
   ]
  },
  {
   "cell_type": "code",
   "execution_count": 468,
   "metadata": {},
   "outputs": [
    {
     "name": "stdout",
     "output_type": "stream",
     "text": [
      "Timestamp                                                                                                                0\n",
      "1. What is your age?                                                                                                     0\n",
      "2. Gender                                                                                                                0\n",
      "3. Relationship Status                                                                                                   0\n",
      "4. Occupation Status                                                                                                     0\n",
      "5. What type of organizations are you affiliated with?                                                                  30\n",
      "6. Do you use social media?                                                                                              0\n",
      "7. What social media platforms do you commonly use?                                                                      0\n",
      "8. What is the average time you spend on social media every day?                                                         0\n",
      "9. How often do you find yourself using Social media without a specific purpose?                                         0\n",
      "10. How often do you get distracted by Social media when you are busy doing something?                                   0\n",
      "11. Do you feel restless if you haven't used Social media in a while?                                                    0\n",
      "12. On a scale of 1 to 5, how easily distracted are you?                                                                 0\n",
      "13. On a scale of 1 to 5, how much are you bothered by worries?                                                          0\n",
      "14. Do you find it difficult to concentrate on things?                                                                   0\n",
      "15. On a scale of 1-5, how often do you compare yourself to other successful people through the use of social media?     0\n",
      "16. Following the previous question, how do you feel about these comparisons, generally speaking?                        0\n",
      "17. How often do you look to seek validation from features of social media?                                              0\n",
      "18. How often do you feel depressed or down?                                                                             0\n",
      "19. On a scale of 1 to 5, how frequently does your interest in daily activities fluctuate?                               0\n",
      "20. On a scale of 1 to 5, how often do you face issues regarding sleep?                                                  0\n",
      "dtype: int64\n"
     ]
    }
   ],
   "source": [
    "# Check for missing values\n",
    "missing_values = df.isnull().sum()\n",
    "print(missing_values)"
   ]
  },
  {
   "cell_type": "code",
   "execution_count": 469,
   "metadata": {},
   "outputs": [],
   "source": [
    "# Drop rows where any of the important columns have missing values\n",
    "df = df.dropna(subset=[\n",
    "    '1. What is your age?',\n",
    "    '2. Gender',\n",
    "    '3. Relationship Status',\n",
    "    '4. Occupation Status',\n",
    "    '6. Do you use social media?',\n",
    "    '8. What is the average time you spend on social media every day?',\n",
    "    '9. How often do you find yourself using Social media without a specific purpose?',\n",
    "    '18. How often do you feel depressed or down?',\n",
    "    '19. On a scale of 1 to 5, how frequently does your interest in daily activities fluctuate?',\n",
    "    '20. On a scale of 1 to 5, how often do you face issues regarding sleep?'\n",
    "])"
   ]
  },
  {
   "cell_type": "code",
   "execution_count": 470,
   "metadata": {},
   "outputs": [
    {
     "data": {
      "text/plain": [
       "Timestamp                                                                                                                object\n",
       "1. What is your age?                                                                                                    float64\n",
       "2. Gender                                                                                                                object\n",
       "3. Relationship Status                                                                                                   object\n",
       "4. Occupation Status                                                                                                     object\n",
       "5. What type of organizations are you affiliated with?                                                                   object\n",
       "6. Do you use social media?                                                                                              object\n",
       "7. What social media platforms do you commonly use?                                                                      object\n",
       "8. What is the average time you spend on social media every day?                                                         object\n",
       "9. How often do you find yourself using Social media without a specific purpose?                                          int64\n",
       "10. How often do you get distracted by Social media when you are busy doing something?                                    int64\n",
       "11. Do you feel restless if you haven't used Social media in a while?                                                     int64\n",
       "12. On a scale of 1 to 5, how easily distracted are you?                                                                  int64\n",
       "13. On a scale of 1 to 5, how much are you bothered by worries?                                                           int64\n",
       "14. Do you find it difficult to concentrate on things?                                                                    int64\n",
       "15. On a scale of 1-5, how often do you compare yourself to other successful people through the use of social media?      int64\n",
       "16. Following the previous question, how do you feel about these comparisons, generally speaking?                         int64\n",
       "17. How often do you look to seek validation from features of social media?                                               int64\n",
       "18. How often do you feel depressed or down?                                                                              int64\n",
       "19. On a scale of 1 to 5, how frequently does your interest in daily activities fluctuate?                                int64\n",
       "20. On a scale of 1 to 5, how often do you face issues regarding sleep?                                                   int64\n",
       "dtype: object"
      ]
     },
     "execution_count": 470,
     "metadata": {},
     "output_type": "execute_result"
    }
   ],
   "source": [
    "# Check data types\n",
    "df.dtypes"
   ]
  },
  {
   "cell_type": "code",
   "execution_count": 471,
   "metadata": {},
   "outputs": [],
   "source": [
    "# Converting categorical data to appropriate data types\n",
    "df['1. What is your age?'] = df['1. What is your age?'].astype(int)\n",
    "df['2. Gender'] = df['2. Gender'].astype('category')\n",
    "df['3. Relationship Status'] = df['3. Relationship Status'].astype('category')\n",
    "df['4. Occupation Status'] = df['4. Occupation Status'].astype('category')\n",
    "df['6. Do you use social media?'] = df['6. Do you use social media?'].astype('category')\n",
    "\n",
    "# 'Less than 1 hour' -> 0.5, 'Between 1 and 2 hours' -> 1.5, 'Between 2 and 3 hours' -> 2.5, and so on.\n",
    "time_mapping = {\n",
    "    'Less than an Hour': 0.5,\n",
    "    'Between 1 and 2 hours': 1.5,\n",
    "    'Between 2 and 3 hours': 2.5,\n",
    "    'Between 3 and 4 hours': 3.5,\n",
    "    'Between 4 and 5 hours': 4.5,\n",
    "    'More than 5 hours': 6\n",
    "}\n",
    "df['8. What is the average time you spend on social media every day?'] = df['8. What is the average time you spend on social media every day?'].map(time_mapping)"
   ]
  },
  {
   "cell_type": "code",
   "execution_count": 472,
   "metadata": {},
   "outputs": [
    {
     "data": {
      "text/plain": [
       "['timestamp',\n",
       " 'age',\n",
       " 'gender',\n",
       " 'relationship_status',\n",
       " 'occupation',\n",
       " 'organization_type',\n",
       " 'uses_social_media',\n",
       " 'common_platforms',\n",
       " 'average_daily_use',\n",
       " 'without_specific_purposeless_use(1-5)',\n",
       " 'distraction_when_busy(1-5)',\n",
       " 'restlessness(1-5)',\n",
       " 'easy_distraction_scale(1-5)',\n",
       " 'bothered_by_worries_scale(1-5)',\n",
       " 'concentration_difficulty(1-5)',\n",
       " 'comparison_with_others(1-5)',\n",
       " 'feelings_about_comparison(1-5)',\n",
       " 'validation_seeking(1-5)',\n",
       " 'feel_depressed(1-5)',\n",
       " 'interest_daily_activities_fluctuation(1-5)',\n",
       " 'sleep_issues(1-5)']"
      ]
     },
     "execution_count": 472,
     "metadata": {},
     "output_type": "execute_result"
    }
   ],
   "source": [
    "# Define the new column names in a dictionary\n",
    "simplified_column_names = {\n",
    "    'Timestamp': 'timestamp',\n",
    "    '1. What is your age?': 'age',\n",
    "    '2. Gender': 'gender',\n",
    "    '3. Relationship Status': 'relationship_status',\n",
    "    '4. Occupation Status': 'occupation',\n",
    "    '5. What type of organizations are you affiliated with?': 'organization_type',\n",
    "    '6. Do you use social media?': 'uses_social_media',\n",
    "    '7. What social media platforms do you commonly use?': 'common_platforms',\n",
    "    '8. What is the average time you spend on social media every day?': 'average_daily_use',\n",
    "    '9. How often do you find yourself using Social media without a specific purpose?': 'without_specific_purposeless_use(1-5)',\n",
    "    '10. How often do you get distracted by Social media when you are busy doing something?': 'distraction_when_busy(1-5)',\n",
    "    '11. Do you feel restless if you haven\\'t used Social media in a while?': 'restlessness(1-5)',\n",
    "    '12. On a scale of 1 to 5, how easily distracted are you?': 'easy_distraction_scale(1-5)',\n",
    "    '13. On a scale of 1 to 5, how much are you bothered by worries?': 'bothered_by_worries_scale(1-5)',\n",
    "    '14. Do you find it difficult to concentrate on things?': 'concentration_difficulty(1-5)',\n",
    "    '15. On a scale of 1-5, how often do you compare yourself to other successful people through the use of social media?': 'comparison_with_others(1-5)',\n",
    "    '16. Following the previous question, how do you feel about these comparisons, generally speaking?': 'feelings_about_comparison(1-5)',\n",
    "    '17. How often do you look to seek validation from features of social media?': 'validation_seeking(1-5)',\n",
    "    '18. How often do you feel depressed or down?': 'feel_depressed(1-5)',\n",
    "    '19. On a scale of 1 to 5, how frequently does your interest in daily activities fluctuate?': 'interest_daily_activities_fluctuation(1-5)',\n",
    "    '20. On a scale of 1 to 5, how often do you face issues regarding sleep?': 'sleep_issues(1-5)'\n",
    "}\n",
    "\n",
    "# Apply the new simplified column names to the dataset\n",
    "df = df.rename(columns=simplified_column_names)\n",
    "\n",
    "# Confirm the new column names by printing them out\n",
    "df.columns.tolist()"
   ]
  },
  {
   "cell_type": "code",
   "execution_count": 473,
   "metadata": {},
   "outputs": [],
   "source": [
    "# Define the mapping from numeric values to the original time categories\n",
    "reverse_time_mapping = {\n",
    "    0.5: 'Less than an Hour',\n",
    "    1.5: 'Between 1 and 2 hours',\n",
    "    2.5: 'Between 2 and 3 hours',\n",
    "    3.5: 'Between 3 and 4 hours',\n",
    "    4.5: 'Between 4 and 5 hours',\n",
    "    6.0: 'More than 5 hours'\n",
    "}\n",
    "\n",
    "# Map the 'average_daily_use_numeric' to their respective categories\n",
    "df['average_daily_use_category'] = df['average_daily_use'].map(reverse_time_mapping)"
   ]
  },
  {
   "cell_type": "code",
   "execution_count": 474,
   "metadata": {},
   "outputs": [
    {
     "data": {
      "text/plain": [
       "timestamp                                       object\n",
       "age                                              int64\n",
       "gender                                        category\n",
       "relationship_status                           category\n",
       "occupation                                    category\n",
       "organization_type                               object\n",
       "uses_social_media                             category\n",
       "common_platforms                                object\n",
       "average_daily_use                              float64\n",
       "without_specific_purposeless_use(1-5)            int64\n",
       "distraction_when_busy(1-5)                       int64\n",
       "restlessness(1-5)                                int64\n",
       "easy_distraction_scale(1-5)                      int64\n",
       "bothered_by_worries_scale(1-5)                   int64\n",
       "concentration_difficulty(1-5)                    int64\n",
       "comparison_with_others(1-5)                      int64\n",
       "feelings_about_comparison(1-5)                   int64\n",
       "validation_seeking(1-5)                          int64\n",
       "feel_depressed(1-5)                              int64\n",
       "interest_daily_activities_fluctuation(1-5)       int64\n",
       "sleep_issues(1-5)                                int64\n",
       "average_daily_use_category                      object\n",
       "dtype: object"
      ]
     },
     "execution_count": 474,
     "metadata": {},
     "output_type": "execute_result"
    }
   ],
   "source": [
    "df.dtypes"
   ]
  },
  {
   "cell_type": "code",
   "execution_count": 475,
   "metadata": {},
   "outputs": [
    {
     "data": {
      "text/html": [
       "<div>\n",
       "<style scoped>\n",
       "    .dataframe tbody tr th:only-of-type {\n",
       "        vertical-align: middle;\n",
       "    }\n",
       "\n",
       "    .dataframe tbody tr th {\n",
       "        vertical-align: top;\n",
       "    }\n",
       "\n",
       "    .dataframe thead th {\n",
       "        text-align: right;\n",
       "    }\n",
       "</style>\n",
       "<table border=\"1\" class=\"dataframe\">\n",
       "  <thead>\n",
       "    <tr style=\"text-align: right;\">\n",
       "      <th></th>\n",
       "      <th>timestamp</th>\n",
       "      <th>age</th>\n",
       "      <th>gender</th>\n",
       "      <th>relationship_status</th>\n",
       "      <th>occupation</th>\n",
       "      <th>organization_type</th>\n",
       "      <th>uses_social_media</th>\n",
       "      <th>common_platforms</th>\n",
       "      <th>average_daily_use</th>\n",
       "      <th>without_specific_purposeless_use(1-5)</th>\n",
       "      <th>...</th>\n",
       "      <th>easy_distraction_scale(1-5)</th>\n",
       "      <th>bothered_by_worries_scale(1-5)</th>\n",
       "      <th>concentration_difficulty(1-5)</th>\n",
       "      <th>comparison_with_others(1-5)</th>\n",
       "      <th>feelings_about_comparison(1-5)</th>\n",
       "      <th>validation_seeking(1-5)</th>\n",
       "      <th>feel_depressed(1-5)</th>\n",
       "      <th>interest_daily_activities_fluctuation(1-5)</th>\n",
       "      <th>sleep_issues(1-5)</th>\n",
       "      <th>average_daily_use_category</th>\n",
       "    </tr>\n",
       "  </thead>\n",
       "  <tbody>\n",
       "    <tr>\n",
       "      <th>0</th>\n",
       "      <td>4/18/2022 19:18:47</td>\n",
       "      <td>21</td>\n",
       "      <td>Male</td>\n",
       "      <td>In a relationship</td>\n",
       "      <td>University Student</td>\n",
       "      <td>University</td>\n",
       "      <td>Yes</td>\n",
       "      <td>Facebook, Twitter, Instagram, YouTube, Discord...</td>\n",
       "      <td>2.5</td>\n",
       "      <td>5</td>\n",
       "      <td>...</td>\n",
       "      <td>5</td>\n",
       "      <td>2</td>\n",
       "      <td>5</td>\n",
       "      <td>2</td>\n",
       "      <td>3</td>\n",
       "      <td>2</td>\n",
       "      <td>5</td>\n",
       "      <td>4</td>\n",
       "      <td>5</td>\n",
       "      <td>Between 2 and 3 hours</td>\n",
       "    </tr>\n",
       "    <tr>\n",
       "      <th>1</th>\n",
       "      <td>4/18/2022 19:19:28</td>\n",
       "      <td>21</td>\n",
       "      <td>Female</td>\n",
       "      <td>Single</td>\n",
       "      <td>University Student</td>\n",
       "      <td>University</td>\n",
       "      <td>Yes</td>\n",
       "      <td>Facebook, Twitter, Instagram, YouTube, Discord...</td>\n",
       "      <td>6.0</td>\n",
       "      <td>4</td>\n",
       "      <td>...</td>\n",
       "      <td>4</td>\n",
       "      <td>5</td>\n",
       "      <td>4</td>\n",
       "      <td>5</td>\n",
       "      <td>1</td>\n",
       "      <td>1</td>\n",
       "      <td>5</td>\n",
       "      <td>4</td>\n",
       "      <td>5</td>\n",
       "      <td>More than 5 hours</td>\n",
       "    </tr>\n",
       "    <tr>\n",
       "      <th>2</th>\n",
       "      <td>4/18/2022 19:25:59</td>\n",
       "      <td>21</td>\n",
       "      <td>Female</td>\n",
       "      <td>Single</td>\n",
       "      <td>University Student</td>\n",
       "      <td>University</td>\n",
       "      <td>Yes</td>\n",
       "      <td>Facebook, Instagram, YouTube, Pinterest</td>\n",
       "      <td>3.5</td>\n",
       "      <td>3</td>\n",
       "      <td>...</td>\n",
       "      <td>2</td>\n",
       "      <td>5</td>\n",
       "      <td>4</td>\n",
       "      <td>3</td>\n",
       "      <td>3</td>\n",
       "      <td>1</td>\n",
       "      <td>4</td>\n",
       "      <td>2</td>\n",
       "      <td>5</td>\n",
       "      <td>Between 3 and 4 hours</td>\n",
       "    </tr>\n",
       "    <tr>\n",
       "      <th>3</th>\n",
       "      <td>4/18/2022 19:29:43</td>\n",
       "      <td>21</td>\n",
       "      <td>Female</td>\n",
       "      <td>Single</td>\n",
       "      <td>University Student</td>\n",
       "      <td>University</td>\n",
       "      <td>Yes</td>\n",
       "      <td>Facebook, Instagram</td>\n",
       "      <td>6.0</td>\n",
       "      <td>4</td>\n",
       "      <td>...</td>\n",
       "      <td>3</td>\n",
       "      <td>5</td>\n",
       "      <td>3</td>\n",
       "      <td>5</td>\n",
       "      <td>1</td>\n",
       "      <td>2</td>\n",
       "      <td>4</td>\n",
       "      <td>3</td>\n",
       "      <td>2</td>\n",
       "      <td>More than 5 hours</td>\n",
       "    </tr>\n",
       "    <tr>\n",
       "      <th>4</th>\n",
       "      <td>4/18/2022 19:33:31</td>\n",
       "      <td>21</td>\n",
       "      <td>Female</td>\n",
       "      <td>Single</td>\n",
       "      <td>University Student</td>\n",
       "      <td>University</td>\n",
       "      <td>Yes</td>\n",
       "      <td>Facebook, Instagram, YouTube</td>\n",
       "      <td>2.5</td>\n",
       "      <td>3</td>\n",
       "      <td>...</td>\n",
       "      <td>4</td>\n",
       "      <td>5</td>\n",
       "      <td>5</td>\n",
       "      <td>3</td>\n",
       "      <td>3</td>\n",
       "      <td>3</td>\n",
       "      <td>4</td>\n",
       "      <td>4</td>\n",
       "      <td>1</td>\n",
       "      <td>Between 2 and 3 hours</td>\n",
       "    </tr>\n",
       "  </tbody>\n",
       "</table>\n",
       "<p>5 rows × 22 columns</p>\n",
       "</div>"
      ],
      "text/plain": [
       "            timestamp  age  gender relationship_status          occupation  \\\n",
       "0  4/18/2022 19:18:47   21    Male   In a relationship  University Student   \n",
       "1  4/18/2022 19:19:28   21  Female              Single  University Student   \n",
       "2  4/18/2022 19:25:59   21  Female              Single  University Student   \n",
       "3  4/18/2022 19:29:43   21  Female              Single  University Student   \n",
       "4  4/18/2022 19:33:31   21  Female              Single  University Student   \n",
       "\n",
       "  organization_type uses_social_media  \\\n",
       "0        University               Yes   \n",
       "1        University               Yes   \n",
       "2        University               Yes   \n",
       "3        University               Yes   \n",
       "4        University               Yes   \n",
       "\n",
       "                                    common_platforms  average_daily_use  \\\n",
       "0  Facebook, Twitter, Instagram, YouTube, Discord...                2.5   \n",
       "1  Facebook, Twitter, Instagram, YouTube, Discord...                6.0   \n",
       "2            Facebook, Instagram, YouTube, Pinterest                3.5   \n",
       "3                                Facebook, Instagram                6.0   \n",
       "4                       Facebook, Instagram, YouTube                2.5   \n",
       "\n",
       "   without_specific_purposeless_use(1-5)  ...  easy_distraction_scale(1-5)  \\\n",
       "0                                      5  ...                            5   \n",
       "1                                      4  ...                            4   \n",
       "2                                      3  ...                            2   \n",
       "3                                      4  ...                            3   \n",
       "4                                      3  ...                            4   \n",
       "\n",
       "   bothered_by_worries_scale(1-5)  concentration_difficulty(1-5)  \\\n",
       "0                               2                              5   \n",
       "1                               5                              4   \n",
       "2                               5                              4   \n",
       "3                               5                              3   \n",
       "4                               5                              5   \n",
       "\n",
       "   comparison_with_others(1-5)  feelings_about_comparison(1-5)  \\\n",
       "0                            2                               3   \n",
       "1                            5                               1   \n",
       "2                            3                               3   \n",
       "3                            5                               1   \n",
       "4                            3                               3   \n",
       "\n",
       "   validation_seeking(1-5)  feel_depressed(1-5)  \\\n",
       "0                        2                    5   \n",
       "1                        1                    5   \n",
       "2                        1                    4   \n",
       "3                        2                    4   \n",
       "4                        3                    4   \n",
       "\n",
       "   interest_daily_activities_fluctuation(1-5)  sleep_issues(1-5)  \\\n",
       "0                                           4                  5   \n",
       "1                                           4                  5   \n",
       "2                                           2                  5   \n",
       "3                                           3                  2   \n",
       "4                                           4                  1   \n",
       "\n",
       "   average_daily_use_category  \n",
       "0       Between 2 and 3 hours  \n",
       "1           More than 5 hours  \n",
       "2       Between 3 and 4 hours  \n",
       "3           More than 5 hours  \n",
       "4       Between 2 and 3 hours  \n",
       "\n",
       "[5 rows x 22 columns]"
      ]
     },
     "execution_count": 475,
     "metadata": {},
     "output_type": "execute_result"
    }
   ],
   "source": [
    "df.to_csv('smmh_new.csv', index=False)\n",
    "df.head()"
   ]
  },
  {
   "cell_type": "markdown",
   "metadata": {},
   "source": [
    "## Data Visualization Distribution"
   ]
  },
  {
   "cell_type": "code",
   "execution_count": 476,
   "metadata": {},
   "outputs": [],
   "source": [
    "# Define a pastel color sequence\n",
    "pastel_colors = ['#ffd1dc', '#a8e6cf', '#dcedc1', '#ffd3b6', '#ffaaa5',\"#a9d5fc\", \"#fcefa7\", \"#b6fcb6\", \"#FFB6C1\" ]"
   ]
  },
  {
   "cell_type": "code",
   "execution_count": 477,
   "metadata": {},
   "outputs": [
    {
     "data": {
      "text/html": [
       "        <script type=\"text/javascript\">\n",
       "        window.PlotlyConfig = {MathJaxConfig: 'local'};\n",
       "        if (window.MathJax && window.MathJax.Hub && window.MathJax.Hub.Config) {window.MathJax.Hub.Config({SVG: {font: \"STIX-Web\"}});}\n",
       "        if (typeof require !== 'undefined') {\n",
       "        require.undef(\"plotly\");\n",
       "        requirejs.config({\n",
       "            paths: {\n",
       "                'plotly': ['https://cdn.plot.ly/plotly-2.27.0.min']\n",
       "            }\n",
       "        });\n",
       "        require(['plotly'], function(Plotly) {\n",
       "            window._Plotly = Plotly;\n",
       "        });\n",
       "        }\n",
       "        </script>\n",
       "        "
      ]
     },
     "metadata": {},
     "output_type": "display_data"
    },
    {
     "data": {
      "text/html": [
       "<div>                            <div id=\"e01f6f75-ec8f-44ef-9b5a-4eac068e9109\" class=\"plotly-graph-div\" style=\"height:600px; width:1200px;\"></div>            <script type=\"text/javascript\">                require([\"plotly\"], function(Plotly) {                    window.PLOTLYENV=window.PLOTLYENV || {};                                    if (document.getElementById(\"e01f6f75-ec8f-44ef-9b5a-4eac068e9109\")) {                    Plotly.newPlot(                        \"e01f6f75-ec8f-44ef-9b5a-4eac068e9109\",                        [{\"alignmentgroup\":\"True\",\"bingroup\":\"x\",\"hovertemplate\":\"age=%{x}\\u003cbr\\u003ecount=%{y}\\u003cextra\\u003e\\u003c\\u002fextra\\u003e\",\"legendgroup\":\"\",\"marker\":{\"color\":\"#96ebbc\",\"pattern\":{\"shape\":\"\"}},\"name\":\"\",\"nbinsx\":40,\"offsetgroup\":\"\",\"orientation\":\"v\",\"showlegend\":false,\"x\":[21,21,21,21,21,22,21,21,21,20,24,21,22,21,22,23,21,25,28,34,22,23,26,23,23,35,20,35,22,21,22,35,24,18,19,21,21,23,22,22,21,21,56,19,24,22,65,17,40,33,22,24,26,55,26,27,22,19,22,20,25,25,18,25,19,24,21,18,14,25,33,23,14,38,23,26,24,21,18,28,22,21,21,21,17,24,22,32,22,20,22,28,22,17,30,22,14,20,22,16,22,22,22,22,21,23,23,48,21,47,48,26,47,47,27,34,20,22,23,20,48,20,20,22,22,20,24,23,20,16,50,47,24,38,50,49,47,48,51,50,47,27,40,46,21,47,20,47,48,49,21,32,47,50,48,21,47,36,37,19,30,48,48,48,47,47,48,21,48,21,20,20,20,21,20,47,35,23,21,21,37,48,47,25,22,45,47,47,24,21,22,19,21,22,20,42,35,38,17,32,21,22,27,21,27,20,27,24,26,20,31,21,34,22,20,23,48,37,22,50,21,23,21,22,22,22,19,23,46,21,24,20,25,21,23,22,36,22,69,25,22,23,23,19,21,27,25,20,34,23,34,26,25,22,20,23,91,22,23,21,36,21,22,22,22,20,26,21,20,21,19,20,22,23,21,21,22,26,22,17,23,21,22,20,24,22,24,22,26,24,22,25,21,20,22,25,17,22,26,22,23,25,21,30,23,22,21,20,18,20,15,22,17,21,22,23,24,21,22,22,21,21,18,19,22,21,21,22,21,23,19,26,27,25,20,20,22,18,22,20,24,21,29,21,19,21,43,22,24,18,19,37,24,29,19,35,22,23,22,25,19,29,21,21,22,23,22,20,22,27,24,21,23,21,23,24,21,30,23,22,29,20,26,24,26,22,23,19,21,20,22,22,23,22,20,27,22,21,21,24,19,52,26,44,44,19,35,21,20,24,21,24,21,17,26,18,18,18,23,20,23,25,26,20,19,17,24,29,30,21,23,21,20,21,22,22,22,27,21,23,22,21,23,21,20,23,22,20,21,25,21,28,22,60,49,34,56,51,23,21,50,22,28,13,14,13,23,18,18,15,20,20,35,26,30,32,24,26,29,21,53],\"xaxis\":\"x\",\"yaxis\":\"y\",\"type\":\"histogram\"}],                        {\"template\":{\"data\":{\"histogram2dcontour\":[{\"type\":\"histogram2dcontour\",\"colorbar\":{\"outlinewidth\":0,\"ticks\":\"\"},\"colorscale\":[[0.0,\"#0d0887\"],[0.1111111111111111,\"#46039f\"],[0.2222222222222222,\"#7201a8\"],[0.3333333333333333,\"#9c179e\"],[0.4444444444444444,\"#bd3786\"],[0.5555555555555556,\"#d8576b\"],[0.6666666666666666,\"#ed7953\"],[0.7777777777777778,\"#fb9f3a\"],[0.8888888888888888,\"#fdca26\"],[1.0,\"#f0f921\"]]}],\"choropleth\":[{\"type\":\"choropleth\",\"colorbar\":{\"outlinewidth\":0,\"ticks\":\"\"}}],\"histogram2d\":[{\"type\":\"histogram2d\",\"colorbar\":{\"outlinewidth\":0,\"ticks\":\"\"},\"colorscale\":[[0.0,\"#0d0887\"],[0.1111111111111111,\"#46039f\"],[0.2222222222222222,\"#7201a8\"],[0.3333333333333333,\"#9c179e\"],[0.4444444444444444,\"#bd3786\"],[0.5555555555555556,\"#d8576b\"],[0.6666666666666666,\"#ed7953\"],[0.7777777777777778,\"#fb9f3a\"],[0.8888888888888888,\"#fdca26\"],[1.0,\"#f0f921\"]]}],\"heatmap\":[{\"type\":\"heatmap\",\"colorbar\":{\"outlinewidth\":0,\"ticks\":\"\"},\"colorscale\":[[0.0,\"#0d0887\"],[0.1111111111111111,\"#46039f\"],[0.2222222222222222,\"#7201a8\"],[0.3333333333333333,\"#9c179e\"],[0.4444444444444444,\"#bd3786\"],[0.5555555555555556,\"#d8576b\"],[0.6666666666666666,\"#ed7953\"],[0.7777777777777778,\"#fb9f3a\"],[0.8888888888888888,\"#fdca26\"],[1.0,\"#f0f921\"]]}],\"heatmapgl\":[{\"type\":\"heatmapgl\",\"colorbar\":{\"outlinewidth\":0,\"ticks\":\"\"},\"colorscale\":[[0.0,\"#0d0887\"],[0.1111111111111111,\"#46039f\"],[0.2222222222222222,\"#7201a8\"],[0.3333333333333333,\"#9c179e\"],[0.4444444444444444,\"#bd3786\"],[0.5555555555555556,\"#d8576b\"],[0.6666666666666666,\"#ed7953\"],[0.7777777777777778,\"#fb9f3a\"],[0.8888888888888888,\"#fdca26\"],[1.0,\"#f0f921\"]]}],\"contourcarpet\":[{\"type\":\"contourcarpet\",\"colorbar\":{\"outlinewidth\":0,\"ticks\":\"\"}}],\"contour\":[{\"type\":\"contour\",\"colorbar\":{\"outlinewidth\":0,\"ticks\":\"\"},\"colorscale\":[[0.0,\"#0d0887\"],[0.1111111111111111,\"#46039f\"],[0.2222222222222222,\"#7201a8\"],[0.3333333333333333,\"#9c179e\"],[0.4444444444444444,\"#bd3786\"],[0.5555555555555556,\"#d8576b\"],[0.6666666666666666,\"#ed7953\"],[0.7777777777777778,\"#fb9f3a\"],[0.8888888888888888,\"#fdca26\"],[1.0,\"#f0f921\"]]}],\"surface\":[{\"type\":\"surface\",\"colorbar\":{\"outlinewidth\":0,\"ticks\":\"\"},\"colorscale\":[[0.0,\"#0d0887\"],[0.1111111111111111,\"#46039f\"],[0.2222222222222222,\"#7201a8\"],[0.3333333333333333,\"#9c179e\"],[0.4444444444444444,\"#bd3786\"],[0.5555555555555556,\"#d8576b\"],[0.6666666666666666,\"#ed7953\"],[0.7777777777777778,\"#fb9f3a\"],[0.8888888888888888,\"#fdca26\"],[1.0,\"#f0f921\"]]}],\"mesh3d\":[{\"type\":\"mesh3d\",\"colorbar\":{\"outlinewidth\":0,\"ticks\":\"\"}}],\"scatter\":[{\"fillpattern\":{\"fillmode\":\"overlay\",\"size\":10,\"solidity\":0.2},\"type\":\"scatter\"}],\"parcoords\":[{\"type\":\"parcoords\",\"line\":{\"colorbar\":{\"outlinewidth\":0,\"ticks\":\"\"}}}],\"scatterpolargl\":[{\"type\":\"scatterpolargl\",\"marker\":{\"colorbar\":{\"outlinewidth\":0,\"ticks\":\"\"}}}],\"bar\":[{\"error_x\":{\"color\":\"#2a3f5f\"},\"error_y\":{\"color\":\"#2a3f5f\"},\"marker\":{\"line\":{\"color\":\"#E5ECF6\",\"width\":0.5},\"pattern\":{\"fillmode\":\"overlay\",\"size\":10,\"solidity\":0.2}},\"type\":\"bar\"}],\"scattergeo\":[{\"type\":\"scattergeo\",\"marker\":{\"colorbar\":{\"outlinewidth\":0,\"ticks\":\"\"}}}],\"scatterpolar\":[{\"type\":\"scatterpolar\",\"marker\":{\"colorbar\":{\"outlinewidth\":0,\"ticks\":\"\"}}}],\"histogram\":[{\"marker\":{\"pattern\":{\"fillmode\":\"overlay\",\"size\":10,\"solidity\":0.2}},\"type\":\"histogram\"}],\"scattergl\":[{\"type\":\"scattergl\",\"marker\":{\"colorbar\":{\"outlinewidth\":0,\"ticks\":\"\"}}}],\"scatter3d\":[{\"type\":\"scatter3d\",\"line\":{\"colorbar\":{\"outlinewidth\":0,\"ticks\":\"\"}},\"marker\":{\"colorbar\":{\"outlinewidth\":0,\"ticks\":\"\"}}}],\"scattermapbox\":[{\"type\":\"scattermapbox\",\"marker\":{\"colorbar\":{\"outlinewidth\":0,\"ticks\":\"\"}}}],\"scatterternary\":[{\"type\":\"scatterternary\",\"marker\":{\"colorbar\":{\"outlinewidth\":0,\"ticks\":\"\"}}}],\"scattercarpet\":[{\"type\":\"scattercarpet\",\"marker\":{\"colorbar\":{\"outlinewidth\":0,\"ticks\":\"\"}}}],\"carpet\":[{\"aaxis\":{\"endlinecolor\":\"#2a3f5f\",\"gridcolor\":\"white\",\"linecolor\":\"white\",\"minorgridcolor\":\"white\",\"startlinecolor\":\"#2a3f5f\"},\"baxis\":{\"endlinecolor\":\"#2a3f5f\",\"gridcolor\":\"white\",\"linecolor\":\"white\",\"minorgridcolor\":\"white\",\"startlinecolor\":\"#2a3f5f\"},\"type\":\"carpet\"}],\"table\":[{\"cells\":{\"fill\":{\"color\":\"#EBF0F8\"},\"line\":{\"color\":\"white\"}},\"header\":{\"fill\":{\"color\":\"#C8D4E3\"},\"line\":{\"color\":\"white\"}},\"type\":\"table\"}],\"barpolar\":[{\"marker\":{\"line\":{\"color\":\"#E5ECF6\",\"width\":0.5},\"pattern\":{\"fillmode\":\"overlay\",\"size\":10,\"solidity\":0.2}},\"type\":\"barpolar\"}],\"pie\":[{\"automargin\":true,\"type\":\"pie\"}]},\"layout\":{\"autotypenumbers\":\"strict\",\"colorway\":[\"#636efa\",\"#EF553B\",\"#00cc96\",\"#ab63fa\",\"#FFA15A\",\"#19d3f3\",\"#FF6692\",\"#B6E880\",\"#FF97FF\",\"#FECB52\"],\"font\":{\"color\":\"#2a3f5f\"},\"hovermode\":\"closest\",\"hoverlabel\":{\"align\":\"left\"},\"paper_bgcolor\":\"white\",\"plot_bgcolor\":\"#E5ECF6\",\"polar\":{\"bgcolor\":\"#E5ECF6\",\"angularaxis\":{\"gridcolor\":\"white\",\"linecolor\":\"white\",\"ticks\":\"\"},\"radialaxis\":{\"gridcolor\":\"white\",\"linecolor\":\"white\",\"ticks\":\"\"}},\"ternary\":{\"bgcolor\":\"#E5ECF6\",\"aaxis\":{\"gridcolor\":\"white\",\"linecolor\":\"white\",\"ticks\":\"\"},\"baxis\":{\"gridcolor\":\"white\",\"linecolor\":\"white\",\"ticks\":\"\"},\"caxis\":{\"gridcolor\":\"white\",\"linecolor\":\"white\",\"ticks\":\"\"}},\"coloraxis\":{\"colorbar\":{\"outlinewidth\":0,\"ticks\":\"\"}},\"colorscale\":{\"sequential\":[[0.0,\"#0d0887\"],[0.1111111111111111,\"#46039f\"],[0.2222222222222222,\"#7201a8\"],[0.3333333333333333,\"#9c179e\"],[0.4444444444444444,\"#bd3786\"],[0.5555555555555556,\"#d8576b\"],[0.6666666666666666,\"#ed7953\"],[0.7777777777777778,\"#fb9f3a\"],[0.8888888888888888,\"#fdca26\"],[1.0,\"#f0f921\"]],\"sequentialminus\":[[0.0,\"#0d0887\"],[0.1111111111111111,\"#46039f\"],[0.2222222222222222,\"#7201a8\"],[0.3333333333333333,\"#9c179e\"],[0.4444444444444444,\"#bd3786\"],[0.5555555555555556,\"#d8576b\"],[0.6666666666666666,\"#ed7953\"],[0.7777777777777778,\"#fb9f3a\"],[0.8888888888888888,\"#fdca26\"],[1.0,\"#f0f921\"]],\"diverging\":[[0,\"#8e0152\"],[0.1,\"#c51b7d\"],[0.2,\"#de77ae\"],[0.3,\"#f1b6da\"],[0.4,\"#fde0ef\"],[0.5,\"#f7f7f7\"],[0.6,\"#e6f5d0\"],[0.7,\"#b8e186\"],[0.8,\"#7fbc41\"],[0.9,\"#4d9221\"],[1,\"#276419\"]]},\"xaxis\":{\"gridcolor\":\"white\",\"linecolor\":\"white\",\"ticks\":\"\",\"title\":{\"standoff\":15},\"zerolinecolor\":\"white\",\"automargin\":true,\"zerolinewidth\":2},\"yaxis\":{\"gridcolor\":\"white\",\"linecolor\":\"white\",\"ticks\":\"\",\"title\":{\"standoff\":15},\"zerolinecolor\":\"white\",\"automargin\":true,\"zerolinewidth\":2},\"scene\":{\"xaxis\":{\"backgroundcolor\":\"#E5ECF6\",\"gridcolor\":\"white\",\"linecolor\":\"white\",\"showbackground\":true,\"ticks\":\"\",\"zerolinecolor\":\"white\",\"gridwidth\":2},\"yaxis\":{\"backgroundcolor\":\"#E5ECF6\",\"gridcolor\":\"white\",\"linecolor\":\"white\",\"showbackground\":true,\"ticks\":\"\",\"zerolinecolor\":\"white\",\"gridwidth\":2},\"zaxis\":{\"backgroundcolor\":\"#E5ECF6\",\"gridcolor\":\"white\",\"linecolor\":\"white\",\"showbackground\":true,\"ticks\":\"\",\"zerolinecolor\":\"white\",\"gridwidth\":2}},\"shapedefaults\":{\"line\":{\"color\":\"#2a3f5f\"}},\"annotationdefaults\":{\"arrowcolor\":\"#2a3f5f\",\"arrowhead\":0,\"arrowwidth\":1},\"geo\":{\"bgcolor\":\"white\",\"landcolor\":\"#E5ECF6\",\"subunitcolor\":\"white\",\"showland\":true,\"showlakes\":true,\"lakecolor\":\"white\"},\"title\":{\"x\":0.05},\"mapbox\":{\"style\":\"light\"}}},\"xaxis\":{\"anchor\":\"y\",\"domain\":[0.0,1.0],\"title\":{\"text\":\"Age\"},\"showgrid\":true,\"gridcolor\":\"LightGrey\"},\"yaxis\":{\"anchor\":\"x\",\"domain\":[0.0,1.0],\"title\":{\"text\":\"Count\"},\"showgrid\":true,\"gridcolor\":\"LightGrey\"},\"legend\":{\"tracegroupgap\":0},\"margin\":{\"t\":60},\"barmode\":\"relative\",\"title\":{\"text\":\"Age Distribution\",\"x\":0.5},\"plot_bgcolor\":\"rgba(0,0,0,0)\",\"paper_bgcolor\":\"rgba(0,0,0,0)\",\"width\":1200,\"height\":600},                        {\"responsive\": true}                    ).then(function(){\n",
       "                            \n",
       "var gd = document.getElementById('e01f6f75-ec8f-44ef-9b5a-4eac068e9109');\n",
       "var x = new MutationObserver(function (mutations, observer) {{\n",
       "        var display = window.getComputedStyle(gd).display;\n",
       "        if (!display || display === 'none') {{\n",
       "            console.log([gd, 'removed!']);\n",
       "            Plotly.purge(gd);\n",
       "            observer.disconnect();\n",
       "        }}\n",
       "}});\n",
       "\n",
       "// Listen for the removal of the full notebook cells\n",
       "var notebookContainer = gd.closest('#notebook-container');\n",
       "if (notebookContainer) {{\n",
       "    x.observe(notebookContainer, {childList: true});\n",
       "}}\n",
       "\n",
       "// Listen for the clearing of the current output cell\n",
       "var outputEl = gd.closest('.output');\n",
       "if (outputEl) {{\n",
       "    x.observe(outputEl, {childList: true});\n",
       "}}\n",
       "\n",
       "                        })                };                });            </script>        </div>"
      ]
     },
     "metadata": {},
     "output_type": "display_data"
    }
   ],
   "source": [
    "# Graph 1: Age Distribution\n",
    "fig = px.histogram(df, x='age', nbins=40, color_discrete_sequence=[\"#96ebbc\"])\n",
    "\n",
    "fig.update_layout(\n",
    "    title_text='Age Distribution',\n",
    "    title_x=0.5,\n",
    "    xaxis=dict(\n",
    "        title='Age',\n",
    "        showgrid=True,  \n",
    "        gridcolor='LightGrey', \n",
    "    ),\n",
    "    yaxis=dict(\n",
    "        title='Count',\n",
    "        showgrid=True,\n",
    "        gridcolor='LightGrey',\n",
    "    ),\n",
    "    plot_bgcolor='rgba(0,0,0,0)',\n",
    "    paper_bgcolor='rgba(0,0,0,0)',\n",
    ")\n",
    "fig.update_layout(width=1200, height=600)\n",
    "fig.show()"
   ]
  },
  {
   "cell_type": "markdown",
   "metadata": {},
   "source": [
    "The histogram depicts the age distribution of a dataset, with a notable peak in the 20-30 age range, suggesting a younger demographic predominance. The distribution tails off as age increases, indicating fewer respondents in older age brackets."
   ]
  },
  {
   "cell_type": "code",
   "execution_count": 478,
   "metadata": {},
   "outputs": [
    {
     "data": {
      "text/html": [
       "<div>                            <div id=\"f80ac3de-48ea-4cf2-9816-67e913325d9f\" class=\"plotly-graph-div\" style=\"height:600px; width:1200px;\"></div>            <script type=\"text/javascript\">                require([\"plotly\"], function(Plotly) {                    window.PLOTLYENV=window.PLOTLYENV || {};                                    if (document.getElementById(\"f80ac3de-48ea-4cf2-9816-67e913325d9f\")) {                    Plotly.newPlot(                        \"f80ac3de-48ea-4cf2-9816-67e913325d9f\",                        [{\"alignmentgroup\":\"True\",\"bingroup\":\"x\",\"hovertemplate\":\"gender=%{x}\\u003cbr\\u003ecount=%{y}\\u003cextra\\u003e\\u003c\\u002fextra\\u003e\",\"legendgroup\":\"\",\"marker\":{\"color\":\"#ffd1dc\",\"pattern\":{\"shape\":\"\"}},\"name\":\"\",\"offsetgroup\":\"\",\"orientation\":\"v\",\"showlegend\":false,\"x\":[\"Male\",\"Female\",\"Female\",\"Female\",\"Female\",\"Female\",\"Female\",\"Female\",\"Female\",\"Male\",\"Male\",\"Female\",\"Female\",\"Female\",\"Male\",\"Male\",\"Male\",\"Male\",\"Male\",\"Male\",\"Male\",\"Male\",\"Female\",\"Female\",\"Male\",\"Female\",\"Male\",\"Male\",\"Female\",\"Female\",\"Female\",\"Male\",\"Male\",\"Female\",\"Female\",\"Male\",\"Male\",\"Female\",\"Male\",\"Female\",\"Female\",\"Female\",\"Female\",\"Male\",\"Female\",\"Male\",\"Female\",\"Male\",\"Female\",\"Female\",\"Male\",\"Male\",\"Male\",\"Male\",\"Male\",\"Male\",\"Female\",\"Female\",\"Female\",\"Female\",\"Female\",\"Female\",\"Male\",\"Female\",\"Male\",\"Male\",\"Male\",\"Male\",\"Male\",\"Male\",\"Female\",\"Male\",\"Female\",\"Male\",\"Male\",\"Female\",\"Female\",\"Male\",\"Male\",\"Male\",\"Male\",\"Female\",\"Male\",\"Female\",\"Female\",\"Male\",\"Female\",\"Male\",\"Female\",\"Female\",\"Female\",\"Male\",\"Male\",\"Male\",\"Female\",\"Male\",\"Female\",\"Male\",\"Male\",\"Male\",\"Female\",\"Female\",\"Female\",\"Female\",\"Female\",\"Female\",\"Male\",\"Female\",\"Male\",\"Male\",\"Female\",\"Female\",\"Female\",\"Female\",\"Female\",\"Male\",\"Female\",\"Female\",\"Female\",\"Female\",\"Female\",\"Female\",\"Male\",\"Female\",\"Female\",\"Male\",\"Female\",\"Male\",\"Male\",\"Female\",\"Male\",\"Male\",\"Female\",\"Female\",\"Male\",\"Male\",\"Female\",\"Female\",\"Female\",\"Male\",\"Female\",\"Female\",\"Female\",\"Female\",\"Male\",\"Male\",\"Male\",\"Female\",\"Female\",\"Male\",\"Male\",\"Female\",\"Male\",\"Female\",\"Female\",\"Female\",\"Male\",\"Male\",\"Female\",\"Male\",\"Male\",\"Female\",\"Male\",\"Male\",\"Male\",\"Male\",\"Male\",\"Female\",\"Male\",\"Female\",\"Female\",\"Male\",\"Female\",\"Female\",\"Female\",\"Female\",\"Female\",\"Male\",\"Male\",\"Female\",\"Female\",\"Male\",\"Male\",\"Female\",\"Female\",\"Female\",\"Female\",\"Female\",\"Female\",\"Female\",\"Male\",\"Female\",\"Female\",\"Male\",\"Male\",\"Male\",\"Female\",\"Male\",\"Female\",\"Male\",\"Male\",\"Male\",\"Female\",\"Male\",\"Female\",\"Female\",\"Male\",\"Male\",\"Male\",\"Male\",\"Female\",\"Male\",\"Male\",\"Male\",\"Male\",\"Male\",\"Female\",\"Female\",\"Female\",\"Female\",\"Female\",\"Female\",\"Female\",\"Female\",\"Male\",\"Male\",\"Female\",\"Female\",\"Male\",\"Female\",\"Male\",\"Female\",\"Male\",\"Female\",\"Female\",\"Female\",\"Male\",\"Male\",\"Female\",\"Female\",\"Female\",\"Female\",\"Female\",\"Female\",\"Female\",\"Female\",\"Female\",\"Male\",\"Female\",\"Male\",\"Female\",\"Female\",\"Female\",\"Female\",\"Female\",\"Female\",\"Female\",\"Female\",\"Male\",\"Female\",\"Female\",\"Female\",\"Male\",\"Female\",\"Female\",\"Female\",\"Female\",\"Female\",\"Male\",\"Male\",\"Female\",\"Male\",\"Male\",\"Female\",\"Male\",\"Male\",\"Male\",\"Female\",\"Male\",\"Female\",\"Female\",\"Male\",\"Female\",\"Male\",\"Female\",\"Female\",\"Female\",\"Female\",\"Female\",\"Female\",\"Female\",\"Male\",\"Female\",\"Male\",\"Female\",\"Male\",\"Male\",\"Male\",\"Female\",\"Female\",\"Male\",\"Female\",\"Female\",\"Female\",\"Female\",\"Female\",\"Male\",\"Female\",\"Male\",\"Female\",\"Female\",\"Male\",\"Female\",\"Female\",\"Female\",\"Female\",\"Female\",\"Male\",\"Male\",\"Male\",\"Female\",\"Male\",\"Female\",\"Male\",\"Male\",\"Male\",\"Male\",\"Female\",\"Female\",\"Female\",\"Male\",\"Female\",\"Male\",\"Male\",\"Male\",\"Male\",\"Female\",\"Male\",\"Female\",\"Female\",\"Male\",\"Female\",\"Male\",\"Female\",\"Female\",\"Female\",\"Male\",\"Female\",\"Male\",\"Male\",\"Female\",\"Male\",\"Female\",\"Male\",\"Male\",\"Female\",\"Female\",\"Male\",\"Female\",\"Female\",\"Female\",\"Male\",\"Female\",\"Male\",\"Female\",\"Female\",\"Female\",\"Female\",\"Female\",\"Male\",\"Female\",\"Male\",\"Female\",\"Female\",\"Male\",\"Female\",\"Male\",\"Male\",\"Male\",\"Male\",\"Male\",\"Female\",\"Female\",\"Male\",\"Male\",\"Male\",\"Female\",\"Female\",\"Female\",\"Female\",\"Female\",\"Female\",\"Female\",\"Male\",\"Male\",\"Male\",\"Male\",\"Male\",\"Female\",\"Male\",\"Female\",\"Female\",\"Female\",\"Female\",\"Male\",\"Female\",\"Male\",\"Female\",\"Male\",\"Female\",\"Female\",\"Male\",\"Male\",\"Male\",\"Male\",\"Male\",\"Male\",\"Male\",\"Female\",\"Female\",\"Female\",\"Female\",\"Female\",\"Male\",\"Male\",\"Female\",\"Male\",\"Female\",\"Female\",\"Female\",\"Female\",\"Male\",\"Male\",\"Male\",\"Female\",\"Male\",\"Female\",\"Male\",\"Male\",\"Female\",\"Female\",\"Male\",\"Female\",\"Female\",\"Female\",\"Female\",\"Male\",\"Male\",\"Female\",\"Male\",\"Male\",\"Female\",\"Female\",\"Male\",\"Female\",\"Female\",\"Male\",\"Male\",\"Male\",\"Male\",\"Male\",\"Male\",\"Male\",\"Female\",\"Female\",\"Female\",\"Female\",\"Female\",\"Female\",\"Male\",\"Female\",\"Female\",\"Male\",\"Male\"],\"xaxis\":\"x\",\"yaxis\":\"y\",\"type\":\"histogram\"}],                        {\"template\":{\"data\":{\"histogram2dcontour\":[{\"type\":\"histogram2dcontour\",\"colorbar\":{\"outlinewidth\":0,\"ticks\":\"\"},\"colorscale\":[[0.0,\"#0d0887\"],[0.1111111111111111,\"#46039f\"],[0.2222222222222222,\"#7201a8\"],[0.3333333333333333,\"#9c179e\"],[0.4444444444444444,\"#bd3786\"],[0.5555555555555556,\"#d8576b\"],[0.6666666666666666,\"#ed7953\"],[0.7777777777777778,\"#fb9f3a\"],[0.8888888888888888,\"#fdca26\"],[1.0,\"#f0f921\"]]}],\"choropleth\":[{\"type\":\"choropleth\",\"colorbar\":{\"outlinewidth\":0,\"ticks\":\"\"}}],\"histogram2d\":[{\"type\":\"histogram2d\",\"colorbar\":{\"outlinewidth\":0,\"ticks\":\"\"},\"colorscale\":[[0.0,\"#0d0887\"],[0.1111111111111111,\"#46039f\"],[0.2222222222222222,\"#7201a8\"],[0.3333333333333333,\"#9c179e\"],[0.4444444444444444,\"#bd3786\"],[0.5555555555555556,\"#d8576b\"],[0.6666666666666666,\"#ed7953\"],[0.7777777777777778,\"#fb9f3a\"],[0.8888888888888888,\"#fdca26\"],[1.0,\"#f0f921\"]]}],\"heatmap\":[{\"type\":\"heatmap\",\"colorbar\":{\"outlinewidth\":0,\"ticks\":\"\"},\"colorscale\":[[0.0,\"#0d0887\"],[0.1111111111111111,\"#46039f\"],[0.2222222222222222,\"#7201a8\"],[0.3333333333333333,\"#9c179e\"],[0.4444444444444444,\"#bd3786\"],[0.5555555555555556,\"#d8576b\"],[0.6666666666666666,\"#ed7953\"],[0.7777777777777778,\"#fb9f3a\"],[0.8888888888888888,\"#fdca26\"],[1.0,\"#f0f921\"]]}],\"heatmapgl\":[{\"type\":\"heatmapgl\",\"colorbar\":{\"outlinewidth\":0,\"ticks\":\"\"},\"colorscale\":[[0.0,\"#0d0887\"],[0.1111111111111111,\"#46039f\"],[0.2222222222222222,\"#7201a8\"],[0.3333333333333333,\"#9c179e\"],[0.4444444444444444,\"#bd3786\"],[0.5555555555555556,\"#d8576b\"],[0.6666666666666666,\"#ed7953\"],[0.7777777777777778,\"#fb9f3a\"],[0.8888888888888888,\"#fdca26\"],[1.0,\"#f0f921\"]]}],\"contourcarpet\":[{\"type\":\"contourcarpet\",\"colorbar\":{\"outlinewidth\":0,\"ticks\":\"\"}}],\"contour\":[{\"type\":\"contour\",\"colorbar\":{\"outlinewidth\":0,\"ticks\":\"\"},\"colorscale\":[[0.0,\"#0d0887\"],[0.1111111111111111,\"#46039f\"],[0.2222222222222222,\"#7201a8\"],[0.3333333333333333,\"#9c179e\"],[0.4444444444444444,\"#bd3786\"],[0.5555555555555556,\"#d8576b\"],[0.6666666666666666,\"#ed7953\"],[0.7777777777777778,\"#fb9f3a\"],[0.8888888888888888,\"#fdca26\"],[1.0,\"#f0f921\"]]}],\"surface\":[{\"type\":\"surface\",\"colorbar\":{\"outlinewidth\":0,\"ticks\":\"\"},\"colorscale\":[[0.0,\"#0d0887\"],[0.1111111111111111,\"#46039f\"],[0.2222222222222222,\"#7201a8\"],[0.3333333333333333,\"#9c179e\"],[0.4444444444444444,\"#bd3786\"],[0.5555555555555556,\"#d8576b\"],[0.6666666666666666,\"#ed7953\"],[0.7777777777777778,\"#fb9f3a\"],[0.8888888888888888,\"#fdca26\"],[1.0,\"#f0f921\"]]}],\"mesh3d\":[{\"type\":\"mesh3d\",\"colorbar\":{\"outlinewidth\":0,\"ticks\":\"\"}}],\"scatter\":[{\"fillpattern\":{\"fillmode\":\"overlay\",\"size\":10,\"solidity\":0.2},\"type\":\"scatter\"}],\"parcoords\":[{\"type\":\"parcoords\",\"line\":{\"colorbar\":{\"outlinewidth\":0,\"ticks\":\"\"}}}],\"scatterpolargl\":[{\"type\":\"scatterpolargl\",\"marker\":{\"colorbar\":{\"outlinewidth\":0,\"ticks\":\"\"}}}],\"bar\":[{\"error_x\":{\"color\":\"#2a3f5f\"},\"error_y\":{\"color\":\"#2a3f5f\"},\"marker\":{\"line\":{\"color\":\"#E5ECF6\",\"width\":0.5},\"pattern\":{\"fillmode\":\"overlay\",\"size\":10,\"solidity\":0.2}},\"type\":\"bar\"}],\"scattergeo\":[{\"type\":\"scattergeo\",\"marker\":{\"colorbar\":{\"outlinewidth\":0,\"ticks\":\"\"}}}],\"scatterpolar\":[{\"type\":\"scatterpolar\",\"marker\":{\"colorbar\":{\"outlinewidth\":0,\"ticks\":\"\"}}}],\"histogram\":[{\"marker\":{\"pattern\":{\"fillmode\":\"overlay\",\"size\":10,\"solidity\":0.2}},\"type\":\"histogram\"}],\"scattergl\":[{\"type\":\"scattergl\",\"marker\":{\"colorbar\":{\"outlinewidth\":0,\"ticks\":\"\"}}}],\"scatter3d\":[{\"type\":\"scatter3d\",\"line\":{\"colorbar\":{\"outlinewidth\":0,\"ticks\":\"\"}},\"marker\":{\"colorbar\":{\"outlinewidth\":0,\"ticks\":\"\"}}}],\"scattermapbox\":[{\"type\":\"scattermapbox\",\"marker\":{\"colorbar\":{\"outlinewidth\":0,\"ticks\":\"\"}}}],\"scatterternary\":[{\"type\":\"scatterternary\",\"marker\":{\"colorbar\":{\"outlinewidth\":0,\"ticks\":\"\"}}}],\"scattercarpet\":[{\"type\":\"scattercarpet\",\"marker\":{\"colorbar\":{\"outlinewidth\":0,\"ticks\":\"\"}}}],\"carpet\":[{\"aaxis\":{\"endlinecolor\":\"#2a3f5f\",\"gridcolor\":\"white\",\"linecolor\":\"white\",\"minorgridcolor\":\"white\",\"startlinecolor\":\"#2a3f5f\"},\"baxis\":{\"endlinecolor\":\"#2a3f5f\",\"gridcolor\":\"white\",\"linecolor\":\"white\",\"minorgridcolor\":\"white\",\"startlinecolor\":\"#2a3f5f\"},\"type\":\"carpet\"}],\"table\":[{\"cells\":{\"fill\":{\"color\":\"#EBF0F8\"},\"line\":{\"color\":\"white\"}},\"header\":{\"fill\":{\"color\":\"#C8D4E3\"},\"line\":{\"color\":\"white\"}},\"type\":\"table\"}],\"barpolar\":[{\"marker\":{\"line\":{\"color\":\"#E5ECF6\",\"width\":0.5},\"pattern\":{\"fillmode\":\"overlay\",\"size\":10,\"solidity\":0.2}},\"type\":\"barpolar\"}],\"pie\":[{\"automargin\":true,\"type\":\"pie\"}]},\"layout\":{\"autotypenumbers\":\"strict\",\"colorway\":[\"#636efa\",\"#EF553B\",\"#00cc96\",\"#ab63fa\",\"#FFA15A\",\"#19d3f3\",\"#FF6692\",\"#B6E880\",\"#FF97FF\",\"#FECB52\"],\"font\":{\"color\":\"#2a3f5f\"},\"hovermode\":\"closest\",\"hoverlabel\":{\"align\":\"left\"},\"paper_bgcolor\":\"white\",\"plot_bgcolor\":\"#E5ECF6\",\"polar\":{\"bgcolor\":\"#E5ECF6\",\"angularaxis\":{\"gridcolor\":\"white\",\"linecolor\":\"white\",\"ticks\":\"\"},\"radialaxis\":{\"gridcolor\":\"white\",\"linecolor\":\"white\",\"ticks\":\"\"}},\"ternary\":{\"bgcolor\":\"#E5ECF6\",\"aaxis\":{\"gridcolor\":\"white\",\"linecolor\":\"white\",\"ticks\":\"\"},\"baxis\":{\"gridcolor\":\"white\",\"linecolor\":\"white\",\"ticks\":\"\"},\"caxis\":{\"gridcolor\":\"white\",\"linecolor\":\"white\",\"ticks\":\"\"}},\"coloraxis\":{\"colorbar\":{\"outlinewidth\":0,\"ticks\":\"\"}},\"colorscale\":{\"sequential\":[[0.0,\"#0d0887\"],[0.1111111111111111,\"#46039f\"],[0.2222222222222222,\"#7201a8\"],[0.3333333333333333,\"#9c179e\"],[0.4444444444444444,\"#bd3786\"],[0.5555555555555556,\"#d8576b\"],[0.6666666666666666,\"#ed7953\"],[0.7777777777777778,\"#fb9f3a\"],[0.8888888888888888,\"#fdca26\"],[1.0,\"#f0f921\"]],\"sequentialminus\":[[0.0,\"#0d0887\"],[0.1111111111111111,\"#46039f\"],[0.2222222222222222,\"#7201a8\"],[0.3333333333333333,\"#9c179e\"],[0.4444444444444444,\"#bd3786\"],[0.5555555555555556,\"#d8576b\"],[0.6666666666666666,\"#ed7953\"],[0.7777777777777778,\"#fb9f3a\"],[0.8888888888888888,\"#fdca26\"],[1.0,\"#f0f921\"]],\"diverging\":[[0,\"#8e0152\"],[0.1,\"#c51b7d\"],[0.2,\"#de77ae\"],[0.3,\"#f1b6da\"],[0.4,\"#fde0ef\"],[0.5,\"#f7f7f7\"],[0.6,\"#e6f5d0\"],[0.7,\"#b8e186\"],[0.8,\"#7fbc41\"],[0.9,\"#4d9221\"],[1,\"#276419\"]]},\"xaxis\":{\"gridcolor\":\"white\",\"linecolor\":\"white\",\"ticks\":\"\",\"title\":{\"standoff\":15},\"zerolinecolor\":\"white\",\"automargin\":true,\"zerolinewidth\":2},\"yaxis\":{\"gridcolor\":\"white\",\"linecolor\":\"white\",\"ticks\":\"\",\"title\":{\"standoff\":15},\"zerolinecolor\":\"white\",\"automargin\":true,\"zerolinewidth\":2},\"scene\":{\"xaxis\":{\"backgroundcolor\":\"#E5ECF6\",\"gridcolor\":\"white\",\"linecolor\":\"white\",\"showbackground\":true,\"ticks\":\"\",\"zerolinecolor\":\"white\",\"gridwidth\":2},\"yaxis\":{\"backgroundcolor\":\"#E5ECF6\",\"gridcolor\":\"white\",\"linecolor\":\"white\",\"showbackground\":true,\"ticks\":\"\",\"zerolinecolor\":\"white\",\"gridwidth\":2},\"zaxis\":{\"backgroundcolor\":\"#E5ECF6\",\"gridcolor\":\"white\",\"linecolor\":\"white\",\"showbackground\":true,\"ticks\":\"\",\"zerolinecolor\":\"white\",\"gridwidth\":2}},\"shapedefaults\":{\"line\":{\"color\":\"#2a3f5f\"}},\"annotationdefaults\":{\"arrowcolor\":\"#2a3f5f\",\"arrowhead\":0,\"arrowwidth\":1},\"geo\":{\"bgcolor\":\"white\",\"landcolor\":\"#E5ECF6\",\"subunitcolor\":\"white\",\"showland\":true,\"showlakes\":true,\"lakecolor\":\"white\"},\"title\":{\"x\":0.05},\"mapbox\":{\"style\":\"light\"}}},\"xaxis\":{\"anchor\":\"y\",\"domain\":[0.0,1.0],\"title\":{\"text\":\"Gender\"},\"categoryorder\":\"array\",\"categoryarray\":[\"Female\",\"Male\"],\"showgrid\":true,\"gridcolor\":\"LightGrey\"},\"yaxis\":{\"anchor\":\"x\",\"domain\":[0.0,1.0],\"title\":{\"text\":\"Count\"},\"showgrid\":true,\"gridcolor\":\"LightGrey\"},\"legend\":{\"tracegroupgap\":0},\"margin\":{\"t\":60},\"barmode\":\"relative\",\"title\":{\"text\":\"Gender Distribution\",\"x\":0.5},\"plot_bgcolor\":\"rgba(0,0,0,0)\",\"paper_bgcolor\":\"rgba(0,0,0,0)\",\"showlegend\":false,\"width\":1200,\"height\":600},                        {\"responsive\": true}                    ).then(function(){\n",
       "                            \n",
       "var gd = document.getElementById('f80ac3de-48ea-4cf2-9816-67e913325d9f');\n",
       "var x = new MutationObserver(function (mutations, observer) {{\n",
       "        var display = window.getComputedStyle(gd).display;\n",
       "        if (!display || display === 'none') {{\n",
       "            console.log([gd, 'removed!']);\n",
       "            Plotly.purge(gd);\n",
       "            observer.disconnect();\n",
       "        }}\n",
       "}});\n",
       "\n",
       "// Listen for the removal of the full notebook cells\n",
       "var notebookContainer = gd.closest('#notebook-container');\n",
       "if (notebookContainer) {{\n",
       "    x.observe(notebookContainer, {childList: true});\n",
       "}}\n",
       "\n",
       "// Listen for the clearing of the current output cell\n",
       "var outputEl = gd.closest('.output');\n",
       "if (outputEl) {{\n",
       "    x.observe(outputEl, {childList: true});\n",
       "}}\n",
       "\n",
       "                        })                };                });            </script>        </div>"
      ]
     },
     "metadata": {},
     "output_type": "display_data"
    }
   ],
   "source": [
    "# Graph 2: Gender Distribution\n",
    "# Filter the DataFrame to only include 'Female' and 'Male' categories.\n",
    "filtered_df = df[df['gender'].isin(['Female', 'Male'])]\n",
    "\n",
    "# Create the histogram with custom colors.\n",
    "fig = px.histogram(filtered_df, x='gender',\n",
    "                   category_orders={'gender': ['Female', 'Male']},\n",
    "                   color_discrete_sequence=pastel_colors)\n",
    "\n",
    "# Customize the layout to include a grid and match the desired style.\n",
    "fig.update_layout(\n",
    "    title_text='Gender Distribution',\n",
    "    title_x=0.5,\n",
    "    xaxis=dict(\n",
    "        title='Gender',\n",
    "        showgrid=True,\n",
    "        gridcolor='LightGrey'\n",
    "    ),\n",
    "    yaxis=dict(\n",
    "        title='Count',\n",
    "        showgrid=True,\n",
    "        gridcolor='LightGrey'\n",
    "    ),\n",
    "    plot_bgcolor='rgba(0,0,0,0)',\n",
    "    paper_bgcolor='rgba(0,0,0,0)',\n",
    "    showlegend=False\n",
    ")\n",
    "fig.update_layout(width=1200, height=600)\n",
    "fig.show()\n",
    "# Save the chart as an HTML file\n",
    "#fig.write_html('html_graph/gender_distribution.html')"
   ]
  },
  {
   "cell_type": "markdown",
   "metadata": {},
   "source": [
    "The bar graph illustrates the gender distribution of a dataset, showing a slight difference in favor of women over men, suggesting an almost balanced representation of the sexes in the sample."
   ]
  },
  {
   "cell_type": "code",
   "execution_count": 479,
   "metadata": {},
   "outputs": [
    {
     "data": {
      "text/html": [
       "<div>                            <div id=\"2bae7c0a-9d22-411b-bc66-16a0cf149d7f\" class=\"plotly-graph-div\" style=\"height:600px; width:800px;\"></div>            <script type=\"text/javascript\">                require([\"plotly\"], function(Plotly) {                    window.PLOTLYENV=window.PLOTLYENV || {};                                    if (document.getElementById(\"2bae7c0a-9d22-411b-bc66-16a0cf149d7f\")) {                    Plotly.newPlot(                        \"2bae7c0a-9d22-411b-bc66-16a0cf149d7f\",                        [{\"customdata\":[[\"In a relationship\"],[\"Single\"],[\"Single\"],[\"Single\"],[\"Single\"],[\"Single\"],[\"Married\"],[\"In a relationship\"],[\"In a relationship\"],[\"Single\"],[\"Single\"],[\"Single\"],[\"Single\"],[\"Single\"],[\"Single\"],[\"In a relationship\"],[\"Single\"],[\"Single\"],[\"Single\"],[\"Divorced\"],[\"In a relationship\"],[\"Single\"],[\"Single\"],[\"Married\"],[\"Single\"],[\"Married\"],[\"Single\"],[\"Married\"],[\"In a relationship\"],[\"Single\"],[\"In a relationship\"],[\"Married\"],[\"Single\"],[\"Single\"],[\"Single\"],[\"Single\"],[\"Single\"],[\"Single\"],[\"Single\"],[\"Single\"],[\"Single\"],[\"Single\"],[\"Married\"],[\"Single\"],[\"Single\"],[\"In a relationship\"],[\"Married\"],[\"Single\"],[\"Married\"],[\"Single\"],[\"Single\"],[\"Single\"],[\"Single\"],[\"Married\"],[\"In a relationship\"],[\"Single\"],[\"Married\"],[\"Single\"],[\"Married\"],[\"Married\"],[\"Single\"],[\"Married\"],[\"Single\"],[\"Single\"],[\"Single\"],[\"In a relationship\"],[\"In a relationship\"],[\"Single\"],[\"Single\"],[\"Single\"],[\"Married\"],[\"Single\"],[\"Single\"],[\"Married\"],[\"Single\"],[\"Single\"],[\"Single\"],[\"Single\"],[\"Single\"],[\"Single\"],[\"Single\"],[\"Single\"],[\"Single\"],[\"In a relationship\"],[\"Single\"],[\"Single\"],[\"In a relationship\"],[\"Married\"],[\"Single\"],[\"In a relationship\"],[\"In a relationship\"],[\"Single\"],[\"Single\"],[\"Single\"],[\"Single\"],[\"Single\"],[\"Single\"],[\"Single\"],[\"Single\"],[\"Single\"],[\"In a relationship\"],[\"In a relationship\"],[\"Single\"],[\"Single\"],[\"Single\"],[\"Single\"],[\"Single\"],[\"Married\"],[\"In a relationship\"],[\"Married\"],[\"Married\"],[\"Single\"],[\"Married\"],[\"Married\"],[\"Single\"],[\"Married\"],[\"Single\"],[\"Single\"],[\"In a relationship\"],[\"Single\"],[\"Married\"],[\"Single\"],[\"Single\"],[\"Single\"],[\"Single\"],[\"Single\"],[\"Single\"],[\"Single\"],[\"Single\"],[\"Single\"],[\"Single\"],[\"Married\"],[\"Single\"],[\"Married\"],[\"Divorced\"],[\"Married\"],[\"Married\"],[\"Married\"],[\"Married\"],[\"Married\"],[\"Married\"],[\"Married\"],[\"Single\"],[\"Divorced\"],[\"Single\"],[\"Married\"],[\"In a relationship\"],[\"Married\"],[\"Married\"],[\"Married\"],[\"In a relationship\"],[\"Married\"],[\"Married\"],[\"Married\"],[\"Divorced\"],[\"In a relationship\"],[\"Married\"],[\"Married\"],[\"Married\"],[\"In a relationship\"],[\"In a relationship\"],[\"Married\"],[\"Married\"],[\"Married\"],[\"Married\"],[\"Married\"],[\"Married\"],[\"Single\"],[\"Married\"],[\"In a relationship\"],[\"Single\"],[\"Single\"],[\"Single\"],[\"Single\"],[\"In a relationship\"],[\"Married\"],[\"Divorced\"],[\"Single\"],[\"Single\"],[\"In a relationship\"],[\"Married\"],[\"Married\"],[\"Married\"],[\"Married\"],[\"In a relationship\"],[\"Married\"],[\"Married\"],[\"Single\"],[\"Married\"],[\"In a relationship\"],[\"Single\"],[\"Single\"],[\"In a relationship\"],[\"In a relationship\"],[\"Single\"],[\"Married\"],[\"Married\"],[\"Married\"],[\"Single\"],[\"Married\"],[\"Single\"],[\"In a relationship\"],[\"Married\"],[\"In a relationship\"],[\"Married\"],[\"Single\"],[\"Married\"],[\"Single\"],[\"Single\"],[\"Single\"],[\"Single\"],[\"Single\"],[\"Married\"],[\"Single\"],[\"In a relationship\"],[\"In a relationship\"],[\"Married\"],[\"Married\"],[\"Single\"],[\"Single\"],[\"In a relationship\"],[\"Single\"],[\"Single\"],[\"Single\"],[\"In a relationship\"],[\"In a relationship\"],[\"Single\"],[\"Single\"],[\"Married\"],[\"In a relationship\"],[\"In a relationship\"],[\"Single\"],[\"Single\"],[\"Single\"],[\"In a relationship\"],[\"In a relationship\"],[\"Married\"],[\"Single\"],[\"Divorced\"],[\"Single\"],[\"Single\"],[\"Single\"],[\"Single\"],[\"Single\"],[\"Single\"],[\"In a relationship\"],[\"Single\"],[\"Single\"],[\"Married\"],[\"Single\"],[\"Married\"],[\"Single\"],[\"Single\"],[\"Married\"],[\"Single\"],[\"Single\"],[\"Single\"],[\"Single\"],[\"Single\"],[\"In a relationship\"],[\"Married\"],[\"In a relationship\"],[\"Single\"],[\"Single\"],[\"Single\"],[\"Single\"],[\"In a relationship\"],[\"Single\"],[\"Single\"],[\"In a relationship\"],[\"Single\"],[\"Single\"],[\"Single\"],[\"Single\"],[\"Single\"],[\"In a relationship\"],[\"In a relationship\"],[\"Single\"],[\"In a relationship\"],[\"Single\"],[\"Single\"],[\"Single\"],[\"Single\"],[\"Single\"],[\"Single\"],[\"Single\"],[\"Single\"],[\"Single\"],[\"In a relationship\"],[\"In a relationship\"],[\"Single\"],[\"In a relationship\"],[\"Single\"],[\"In a relationship\"],[\"Single\"],[\"In a relationship\"],[\"Single\"],[\"Single\"],[\"Single\"],[\"Single\"],[\"In a relationship\"],[\"Single\"],[\"Single\"],[\"Single\"],[\"Single\"],[\"In a relationship\"],[\"In a relationship\"],[\"In a relationship\"],[\"Single\"],[\"Single\"],[\"Single\"],[\"Single\"],[\"Single\"],[\"Single\"],[\"Single\"],[\"Married\"],[\"Single\"],[\"In a relationship\"],[\"Single\"],[\"Single\"],[\"Single\"],[\"Single\"],[\"Single\"],[\"Single\"],[\"Single\"],[\"Single\"],[\"Single\"],[\"Single\"],[\"Single\"],[\"Married\"],[\"Single\"],[\"Single\"],[\"Single\"],[\"Single\"],[\"Single\"],[\"Single\"],[\"Single\"],[\"Single\"],[\"In a relationship\"],[\"Single\"],[\"Single\"],[\"Single\"],[\"Single\"],[\"Single\"],[\"Single\"],[\"In a relationship\"],[\"Married\"],[\"Married\"],[\"In a relationship\"],[\"Single\"],[\"Single\"],[\"In a relationship\"],[\"Single\"],[\"Single\"],[\"Single\"],[\"Married\"],[\"Single\"],[\"Single\"],[\"Single\"],[\"Single\"],[\"Single\"],[\"Married\"],[\"In a relationship\"],[\"In a relationship\"],[\"Married\"],[\"Single\"],[\"In a relationship\"],[\"Divorced\"],[\"In a relationship\"],[\"Single\"],[\"Single\"],[\"Married\"],[\"Single\"],[\"Single\"],[\"In a relationship\"],[\"In a relationship\"],[\"Single\"],[\"Single\"],[\"Single\"],[\"Single\"],[\"Single\"],[\"Single\"],[\"Single\"],[\"Single\"],[\"In a relationship\"],[\"Single\"],[\"Single\"],[\"Single\"],[\"Single\"],[\"Single\"],[\"Single\"],[\"Single\"],[\"Single\"],[\"Single\"],[\"In a relationship\"],[\"Married\"],[\"Single\"],[\"Single\"],[\"Single\"],[\"Single\"],[\"Single\"],[\"Married\"],[\"Single\"],[\"Married\"],[\"Married\"],[\"Single\"],[\"Single\"],[\"In a relationship\"],[\"Single\"],[\"In a relationship\"],[\"Single\"],[\"Single\"],[\"In a relationship\"],[\"Single\"],[\"In a relationship\"],[\"Single\"],[\"Single\"],[\"In a relationship\"],[\"Single\"],[\"Single\"],[\"Single\"],[\"In a relationship\"],[\"Single\"],[\"In a relationship\"],[\"In a relationship\"],[\"Single\"],[\"Married\"],[\"Married\"],[\"Married\"],[\"Single\"],[\"Single\"],[\"Single\"],[\"Single\"],[\"Single\"],[\"Single\"],[\"Single\"],[\"In a relationship\"],[\"In a relationship\"],[\"Single\"],[\"In a relationship\"],[\"In a relationship\"],[\"In a relationship\"],[\"Single\"],[\"Single\"],[\"Single\"],[\"Single\"],[\"In a relationship\"],[\"In a relationship\"],[\"Single\"],[\"Single\"],[\"Single\"],[\"Single\"],[\"Single\"],[\"Single\"],[\"Married\"],[\"Married\"],[\"Married\"],[\"Married\"],[\"Single\"],[\"Single\"],[\"Married\"],[\"Single\"],[\"Married\"],[\"Single\"],[\"Single\"],[\"Single\"],[\"In a relationship\"],[\"Single\"],[\"Single\"],[\"Single\"],[\"Single\"],[\"Single\"],[\"Married\"],[\"Married\"],[\"Married\"],[\"Married\"],[\"Single\"],[\"Married\"],[\"Married\"],[\"Single\"],[\"Married\"]],\"domain\":{\"x\":[0.0,1.0],\"y\":[0.0,1.0]},\"hole\":0.3,\"hovertemplate\":\"relationship_status=%{customdata[0]}\\u003cextra\\u003e\\u003c\\u002fextra\\u003e\",\"labels\":[\"In a relationship\",\"Single\",\"Single\",\"Single\",\"Single\",\"Single\",\"Married\",\"In a relationship\",\"In a relationship\",\"Single\",\"Single\",\"Single\",\"Single\",\"Single\",\"Single\",\"In a relationship\",\"Single\",\"Single\",\"Single\",\"Divorced\",\"In a relationship\",\"Single\",\"Single\",\"Married\",\"Single\",\"Married\",\"Single\",\"Married\",\"In a relationship\",\"Single\",\"In a relationship\",\"Married\",\"Single\",\"Single\",\"Single\",\"Single\",\"Single\",\"Single\",\"Single\",\"Single\",\"Single\",\"Single\",\"Married\",\"Single\",\"Single\",\"In a relationship\",\"Married\",\"Single\",\"Married\",\"Single\",\"Single\",\"Single\",\"Single\",\"Married\",\"In a relationship\",\"Single\",\"Married\",\"Single\",\"Married\",\"Married\",\"Single\",\"Married\",\"Single\",\"Single\",\"Single\",\"In a relationship\",\"In a relationship\",\"Single\",\"Single\",\"Single\",\"Married\",\"Single\",\"Single\",\"Married\",\"Single\",\"Single\",\"Single\",\"Single\",\"Single\",\"Single\",\"Single\",\"Single\",\"Single\",\"In a relationship\",\"Single\",\"Single\",\"In a relationship\",\"Married\",\"Single\",\"In a relationship\",\"In a relationship\",\"Single\",\"Single\",\"Single\",\"Single\",\"Single\",\"Single\",\"Single\",\"Single\",\"Single\",\"In a relationship\",\"In a relationship\",\"Single\",\"Single\",\"Single\",\"Single\",\"Single\",\"Married\",\"In a relationship\",\"Married\",\"Married\",\"Single\",\"Married\",\"Married\",\"Single\",\"Married\",\"Single\",\"Single\",\"In a relationship\",\"Single\",\"Married\",\"Single\",\"Single\",\"Single\",\"Single\",\"Single\",\"Single\",\"Single\",\"Single\",\"Single\",\"Single\",\"Married\",\"Single\",\"Married\",\"Divorced\",\"Married\",\"Married\",\"Married\",\"Married\",\"Married\",\"Married\",\"Married\",\"Single\",\"Divorced\",\"Single\",\"Married\",\"In a relationship\",\"Married\",\"Married\",\"Married\",\"In a relationship\",\"Married\",\"Married\",\"Married\",\"Divorced\",\"In a relationship\",\"Married\",\"Married\",\"Married\",\"In a relationship\",\"In a relationship\",\"Married\",\"Married\",\"Married\",\"Married\",\"Married\",\"Married\",\"Single\",\"Married\",\"In a relationship\",\"Single\",\"Single\",\"Single\",\"Single\",\"In a relationship\",\"Married\",\"Divorced\",\"Single\",\"Single\",\"In a relationship\",\"Married\",\"Married\",\"Married\",\"Married\",\"In a relationship\",\"Married\",\"Married\",\"Single\",\"Married\",\"In a relationship\",\"Single\",\"Single\",\"In a relationship\",\"In a relationship\",\"Single\",\"Married\",\"Married\",\"Married\",\"Single\",\"Married\",\"Single\",\"In a relationship\",\"Married\",\"In a relationship\",\"Married\",\"Single\",\"Married\",\"Single\",\"Single\",\"Single\",\"Single\",\"Single\",\"Married\",\"Single\",\"In a relationship\",\"In a relationship\",\"Married\",\"Married\",\"Single\",\"Single\",\"In a relationship\",\"Single\",\"Single\",\"Single\",\"In a relationship\",\"In a relationship\",\"Single\",\"Single\",\"Married\",\"In a relationship\",\"In a relationship\",\"Single\",\"Single\",\"Single\",\"In a relationship\",\"In a relationship\",\"Married\",\"Single\",\"Divorced\",\"Single\",\"Single\",\"Single\",\"Single\",\"Single\",\"Single\",\"In a relationship\",\"Single\",\"Single\",\"Married\",\"Single\",\"Married\",\"Single\",\"Single\",\"Married\",\"Single\",\"Single\",\"Single\",\"Single\",\"Single\",\"In a relationship\",\"Married\",\"In a relationship\",\"Single\",\"Single\",\"Single\",\"Single\",\"In a relationship\",\"Single\",\"Single\",\"In a relationship\",\"Single\",\"Single\",\"Single\",\"Single\",\"Single\",\"In a relationship\",\"In a relationship\",\"Single\",\"In a relationship\",\"Single\",\"Single\",\"Single\",\"Single\",\"Single\",\"Single\",\"Single\",\"Single\",\"Single\",\"In a relationship\",\"In a relationship\",\"Single\",\"In a relationship\",\"Single\",\"In a relationship\",\"Single\",\"In a relationship\",\"Single\",\"Single\",\"Single\",\"Single\",\"In a relationship\",\"Single\",\"Single\",\"Single\",\"Single\",\"In a relationship\",\"In a relationship\",\"In a relationship\",\"Single\",\"Single\",\"Single\",\"Single\",\"Single\",\"Single\",\"Single\",\"Married\",\"Single\",\"In a relationship\",\"Single\",\"Single\",\"Single\",\"Single\",\"Single\",\"Single\",\"Single\",\"Single\",\"Single\",\"Single\",\"Single\",\"Married\",\"Single\",\"Single\",\"Single\",\"Single\",\"Single\",\"Single\",\"Single\",\"Single\",\"In a relationship\",\"Single\",\"Single\",\"Single\",\"Single\",\"Single\",\"Single\",\"In a relationship\",\"Married\",\"Married\",\"In a relationship\",\"Single\",\"Single\",\"In a relationship\",\"Single\",\"Single\",\"Single\",\"Married\",\"Single\",\"Single\",\"Single\",\"Single\",\"Single\",\"Married\",\"In a relationship\",\"In a relationship\",\"Married\",\"Single\",\"In a relationship\",\"Divorced\",\"In a relationship\",\"Single\",\"Single\",\"Married\",\"Single\",\"Single\",\"In a relationship\",\"In a relationship\",\"Single\",\"Single\",\"Single\",\"Single\",\"Single\",\"Single\",\"Single\",\"Single\",\"In a relationship\",\"Single\",\"Single\",\"Single\",\"Single\",\"Single\",\"Single\",\"Single\",\"Single\",\"Single\",\"In a relationship\",\"Married\",\"Single\",\"Single\",\"Single\",\"Single\",\"Single\",\"Married\",\"Single\",\"Married\",\"Married\",\"Single\",\"Single\",\"In a relationship\",\"Single\",\"In a relationship\",\"Single\",\"Single\",\"In a relationship\",\"Single\",\"In a relationship\",\"Single\",\"Single\",\"In a relationship\",\"Single\",\"Single\",\"Single\",\"In a relationship\",\"Single\",\"In a relationship\",\"In a relationship\",\"Single\",\"Married\",\"Married\",\"Married\",\"Single\",\"Single\",\"Single\",\"Single\",\"Single\",\"Single\",\"Single\",\"In a relationship\",\"In a relationship\",\"Single\",\"In a relationship\",\"In a relationship\",\"In a relationship\",\"Single\",\"Single\",\"Single\",\"Single\",\"In a relationship\",\"In a relationship\",\"Single\",\"Single\",\"Single\",\"Single\",\"Single\",\"Single\",\"Married\",\"Married\",\"Married\",\"Married\",\"Single\",\"Single\",\"Married\",\"Single\",\"Married\",\"Single\",\"Single\",\"Single\",\"In a relationship\",\"Single\",\"Single\",\"Single\",\"Single\",\"Single\",\"Married\",\"Married\",\"Married\",\"Married\",\"Single\",\"Married\",\"Married\",\"Single\",\"Married\"],\"legendgroup\":\"\",\"marker\":{\"colors\":[\"#ffd1dc\",\"#a8e6cf\",\"#a8e6cf\",\"#a8e6cf\",\"#a8e6cf\",\"#a8e6cf\",\"#dcedc1\",\"#ffd1dc\",\"#ffd1dc\",\"#a8e6cf\",\"#a8e6cf\",\"#a8e6cf\",\"#a8e6cf\",\"#a8e6cf\",\"#a8e6cf\",\"#ffd1dc\",\"#a8e6cf\",\"#a8e6cf\",\"#a8e6cf\",\"#ffd3b6\",\"#ffd1dc\",\"#a8e6cf\",\"#a8e6cf\",\"#dcedc1\",\"#a8e6cf\",\"#dcedc1\",\"#a8e6cf\",\"#dcedc1\",\"#ffd1dc\",\"#a8e6cf\",\"#ffd1dc\",\"#dcedc1\",\"#a8e6cf\",\"#a8e6cf\",\"#a8e6cf\",\"#a8e6cf\",\"#a8e6cf\",\"#a8e6cf\",\"#a8e6cf\",\"#a8e6cf\",\"#a8e6cf\",\"#a8e6cf\",\"#dcedc1\",\"#a8e6cf\",\"#a8e6cf\",\"#ffd1dc\",\"#dcedc1\",\"#a8e6cf\",\"#dcedc1\",\"#a8e6cf\",\"#a8e6cf\",\"#a8e6cf\",\"#a8e6cf\",\"#dcedc1\",\"#ffd1dc\",\"#a8e6cf\",\"#dcedc1\",\"#a8e6cf\",\"#dcedc1\",\"#dcedc1\",\"#a8e6cf\",\"#dcedc1\",\"#a8e6cf\",\"#a8e6cf\",\"#a8e6cf\",\"#ffd1dc\",\"#ffd1dc\",\"#a8e6cf\",\"#a8e6cf\",\"#a8e6cf\",\"#dcedc1\",\"#a8e6cf\",\"#a8e6cf\",\"#dcedc1\",\"#a8e6cf\",\"#a8e6cf\",\"#a8e6cf\",\"#a8e6cf\",\"#a8e6cf\",\"#a8e6cf\",\"#a8e6cf\",\"#a8e6cf\",\"#a8e6cf\",\"#ffd1dc\",\"#a8e6cf\",\"#a8e6cf\",\"#ffd1dc\",\"#dcedc1\",\"#a8e6cf\",\"#ffd1dc\",\"#ffd1dc\",\"#a8e6cf\",\"#a8e6cf\",\"#a8e6cf\",\"#a8e6cf\",\"#a8e6cf\",\"#a8e6cf\",\"#a8e6cf\",\"#a8e6cf\",\"#a8e6cf\",\"#ffd1dc\",\"#ffd1dc\",\"#a8e6cf\",\"#a8e6cf\",\"#a8e6cf\",\"#a8e6cf\",\"#a8e6cf\",\"#dcedc1\",\"#ffd1dc\",\"#dcedc1\",\"#dcedc1\",\"#a8e6cf\",\"#dcedc1\",\"#dcedc1\",\"#a8e6cf\",\"#dcedc1\",\"#a8e6cf\",\"#a8e6cf\",\"#ffd1dc\",\"#a8e6cf\",\"#dcedc1\",\"#a8e6cf\",\"#a8e6cf\",\"#a8e6cf\",\"#a8e6cf\",\"#a8e6cf\",\"#a8e6cf\",\"#a8e6cf\",\"#a8e6cf\",\"#a8e6cf\",\"#a8e6cf\",\"#dcedc1\",\"#a8e6cf\",\"#dcedc1\",\"#ffd3b6\",\"#dcedc1\",\"#dcedc1\",\"#dcedc1\",\"#dcedc1\",\"#dcedc1\",\"#dcedc1\",\"#dcedc1\",\"#a8e6cf\",\"#ffd3b6\",\"#a8e6cf\",\"#dcedc1\",\"#ffd1dc\",\"#dcedc1\",\"#dcedc1\",\"#dcedc1\",\"#ffd1dc\",\"#dcedc1\",\"#dcedc1\",\"#dcedc1\",\"#ffd3b6\",\"#ffd1dc\",\"#dcedc1\",\"#dcedc1\",\"#dcedc1\",\"#ffd1dc\",\"#ffd1dc\",\"#dcedc1\",\"#dcedc1\",\"#dcedc1\",\"#dcedc1\",\"#dcedc1\",\"#dcedc1\",\"#a8e6cf\",\"#dcedc1\",\"#ffd1dc\",\"#a8e6cf\",\"#a8e6cf\",\"#a8e6cf\",\"#a8e6cf\",\"#ffd1dc\",\"#dcedc1\",\"#ffd3b6\",\"#a8e6cf\",\"#a8e6cf\",\"#ffd1dc\",\"#dcedc1\",\"#dcedc1\",\"#dcedc1\",\"#dcedc1\",\"#ffd1dc\",\"#dcedc1\",\"#dcedc1\",\"#a8e6cf\",\"#dcedc1\",\"#ffd1dc\",\"#a8e6cf\",\"#a8e6cf\",\"#ffd1dc\",\"#ffd1dc\",\"#a8e6cf\",\"#dcedc1\",\"#dcedc1\",\"#dcedc1\",\"#a8e6cf\",\"#dcedc1\",\"#a8e6cf\",\"#ffd1dc\",\"#dcedc1\",\"#ffd1dc\",\"#dcedc1\",\"#a8e6cf\",\"#dcedc1\",\"#a8e6cf\",\"#a8e6cf\",\"#a8e6cf\",\"#a8e6cf\",\"#a8e6cf\",\"#dcedc1\",\"#a8e6cf\",\"#ffd1dc\",\"#ffd1dc\",\"#dcedc1\",\"#dcedc1\",\"#a8e6cf\",\"#a8e6cf\",\"#ffd1dc\",\"#a8e6cf\",\"#a8e6cf\",\"#a8e6cf\",\"#ffd1dc\",\"#ffd1dc\",\"#a8e6cf\",\"#a8e6cf\",\"#dcedc1\",\"#ffd1dc\",\"#ffd1dc\",\"#a8e6cf\",\"#a8e6cf\",\"#a8e6cf\",\"#ffd1dc\",\"#ffd1dc\",\"#dcedc1\",\"#a8e6cf\",\"#ffd3b6\",\"#a8e6cf\",\"#a8e6cf\",\"#a8e6cf\",\"#a8e6cf\",\"#a8e6cf\",\"#a8e6cf\",\"#ffd1dc\",\"#a8e6cf\",\"#a8e6cf\",\"#dcedc1\",\"#a8e6cf\",\"#dcedc1\",\"#a8e6cf\",\"#a8e6cf\",\"#dcedc1\",\"#a8e6cf\",\"#a8e6cf\",\"#a8e6cf\",\"#a8e6cf\",\"#a8e6cf\",\"#ffd1dc\",\"#dcedc1\",\"#ffd1dc\",\"#a8e6cf\",\"#a8e6cf\",\"#a8e6cf\",\"#a8e6cf\",\"#ffd1dc\",\"#a8e6cf\",\"#a8e6cf\",\"#ffd1dc\",\"#a8e6cf\",\"#a8e6cf\",\"#a8e6cf\",\"#a8e6cf\",\"#a8e6cf\",\"#ffd1dc\",\"#ffd1dc\",\"#a8e6cf\",\"#ffd1dc\",\"#a8e6cf\",\"#a8e6cf\",\"#a8e6cf\",\"#a8e6cf\",\"#a8e6cf\",\"#a8e6cf\",\"#a8e6cf\",\"#a8e6cf\",\"#a8e6cf\",\"#ffd1dc\",\"#ffd1dc\",\"#a8e6cf\",\"#ffd1dc\",\"#a8e6cf\",\"#ffd1dc\",\"#a8e6cf\",\"#ffd1dc\",\"#a8e6cf\",\"#a8e6cf\",\"#a8e6cf\",\"#a8e6cf\",\"#ffd1dc\",\"#a8e6cf\",\"#a8e6cf\",\"#a8e6cf\",\"#a8e6cf\",\"#ffd1dc\",\"#ffd1dc\",\"#ffd1dc\",\"#a8e6cf\",\"#a8e6cf\",\"#a8e6cf\",\"#a8e6cf\",\"#a8e6cf\",\"#a8e6cf\",\"#a8e6cf\",\"#dcedc1\",\"#a8e6cf\",\"#ffd1dc\",\"#a8e6cf\",\"#a8e6cf\",\"#a8e6cf\",\"#a8e6cf\",\"#a8e6cf\",\"#a8e6cf\",\"#a8e6cf\",\"#a8e6cf\",\"#a8e6cf\",\"#a8e6cf\",\"#a8e6cf\",\"#dcedc1\",\"#a8e6cf\",\"#a8e6cf\",\"#a8e6cf\",\"#a8e6cf\",\"#a8e6cf\",\"#a8e6cf\",\"#a8e6cf\",\"#a8e6cf\",\"#ffd1dc\",\"#a8e6cf\",\"#a8e6cf\",\"#a8e6cf\",\"#a8e6cf\",\"#a8e6cf\",\"#a8e6cf\",\"#ffd1dc\",\"#dcedc1\",\"#dcedc1\",\"#ffd1dc\",\"#a8e6cf\",\"#a8e6cf\",\"#ffd1dc\",\"#a8e6cf\",\"#a8e6cf\",\"#a8e6cf\",\"#dcedc1\",\"#a8e6cf\",\"#a8e6cf\",\"#a8e6cf\",\"#a8e6cf\",\"#a8e6cf\",\"#dcedc1\",\"#ffd1dc\",\"#ffd1dc\",\"#dcedc1\",\"#a8e6cf\",\"#ffd1dc\",\"#ffd3b6\",\"#ffd1dc\",\"#a8e6cf\",\"#a8e6cf\",\"#dcedc1\",\"#a8e6cf\",\"#a8e6cf\",\"#ffd1dc\",\"#ffd1dc\",\"#a8e6cf\",\"#a8e6cf\",\"#a8e6cf\",\"#a8e6cf\",\"#a8e6cf\",\"#a8e6cf\",\"#a8e6cf\",\"#a8e6cf\",\"#ffd1dc\",\"#a8e6cf\",\"#a8e6cf\",\"#a8e6cf\",\"#a8e6cf\",\"#a8e6cf\",\"#a8e6cf\",\"#a8e6cf\",\"#a8e6cf\",\"#a8e6cf\",\"#ffd1dc\",\"#dcedc1\",\"#a8e6cf\",\"#a8e6cf\",\"#a8e6cf\",\"#a8e6cf\",\"#a8e6cf\",\"#dcedc1\",\"#a8e6cf\",\"#dcedc1\",\"#dcedc1\",\"#a8e6cf\",\"#a8e6cf\",\"#ffd1dc\",\"#a8e6cf\",\"#ffd1dc\",\"#a8e6cf\",\"#a8e6cf\",\"#ffd1dc\",\"#a8e6cf\",\"#ffd1dc\",\"#a8e6cf\",\"#a8e6cf\",\"#ffd1dc\",\"#a8e6cf\",\"#a8e6cf\",\"#a8e6cf\",\"#ffd1dc\",\"#a8e6cf\",\"#ffd1dc\",\"#ffd1dc\",\"#a8e6cf\",\"#dcedc1\",\"#dcedc1\",\"#dcedc1\",\"#a8e6cf\",\"#a8e6cf\",\"#a8e6cf\",\"#a8e6cf\",\"#a8e6cf\",\"#a8e6cf\",\"#a8e6cf\",\"#ffd1dc\",\"#ffd1dc\",\"#a8e6cf\",\"#ffd1dc\",\"#ffd1dc\",\"#ffd1dc\",\"#a8e6cf\",\"#a8e6cf\",\"#a8e6cf\",\"#a8e6cf\",\"#ffd1dc\",\"#ffd1dc\",\"#a8e6cf\",\"#a8e6cf\",\"#a8e6cf\",\"#a8e6cf\",\"#a8e6cf\",\"#a8e6cf\",\"#dcedc1\",\"#dcedc1\",\"#dcedc1\",\"#dcedc1\",\"#a8e6cf\",\"#a8e6cf\",\"#dcedc1\",\"#a8e6cf\",\"#dcedc1\",\"#a8e6cf\",\"#a8e6cf\",\"#a8e6cf\",\"#ffd1dc\",\"#a8e6cf\",\"#a8e6cf\",\"#a8e6cf\",\"#a8e6cf\",\"#a8e6cf\",\"#dcedc1\",\"#dcedc1\",\"#dcedc1\",\"#dcedc1\",\"#a8e6cf\",\"#dcedc1\",\"#dcedc1\",\"#a8e6cf\",\"#dcedc1\"]},\"name\":\"\",\"showlegend\":true,\"type\":\"pie\",\"textfont\":{\"size\":15},\"textinfo\":\"percent+label\"}],                        {\"template\":{\"data\":{\"histogram2dcontour\":[{\"type\":\"histogram2dcontour\",\"colorbar\":{\"outlinewidth\":0,\"ticks\":\"\"},\"colorscale\":[[0.0,\"#0d0887\"],[0.1111111111111111,\"#46039f\"],[0.2222222222222222,\"#7201a8\"],[0.3333333333333333,\"#9c179e\"],[0.4444444444444444,\"#bd3786\"],[0.5555555555555556,\"#d8576b\"],[0.6666666666666666,\"#ed7953\"],[0.7777777777777778,\"#fb9f3a\"],[0.8888888888888888,\"#fdca26\"],[1.0,\"#f0f921\"]]}],\"choropleth\":[{\"type\":\"choropleth\",\"colorbar\":{\"outlinewidth\":0,\"ticks\":\"\"}}],\"histogram2d\":[{\"type\":\"histogram2d\",\"colorbar\":{\"outlinewidth\":0,\"ticks\":\"\"},\"colorscale\":[[0.0,\"#0d0887\"],[0.1111111111111111,\"#46039f\"],[0.2222222222222222,\"#7201a8\"],[0.3333333333333333,\"#9c179e\"],[0.4444444444444444,\"#bd3786\"],[0.5555555555555556,\"#d8576b\"],[0.6666666666666666,\"#ed7953\"],[0.7777777777777778,\"#fb9f3a\"],[0.8888888888888888,\"#fdca26\"],[1.0,\"#f0f921\"]]}],\"heatmap\":[{\"type\":\"heatmap\",\"colorbar\":{\"outlinewidth\":0,\"ticks\":\"\"},\"colorscale\":[[0.0,\"#0d0887\"],[0.1111111111111111,\"#46039f\"],[0.2222222222222222,\"#7201a8\"],[0.3333333333333333,\"#9c179e\"],[0.4444444444444444,\"#bd3786\"],[0.5555555555555556,\"#d8576b\"],[0.6666666666666666,\"#ed7953\"],[0.7777777777777778,\"#fb9f3a\"],[0.8888888888888888,\"#fdca26\"],[1.0,\"#f0f921\"]]}],\"heatmapgl\":[{\"type\":\"heatmapgl\",\"colorbar\":{\"outlinewidth\":0,\"ticks\":\"\"},\"colorscale\":[[0.0,\"#0d0887\"],[0.1111111111111111,\"#46039f\"],[0.2222222222222222,\"#7201a8\"],[0.3333333333333333,\"#9c179e\"],[0.4444444444444444,\"#bd3786\"],[0.5555555555555556,\"#d8576b\"],[0.6666666666666666,\"#ed7953\"],[0.7777777777777778,\"#fb9f3a\"],[0.8888888888888888,\"#fdca26\"],[1.0,\"#f0f921\"]]}],\"contourcarpet\":[{\"type\":\"contourcarpet\",\"colorbar\":{\"outlinewidth\":0,\"ticks\":\"\"}}],\"contour\":[{\"type\":\"contour\",\"colorbar\":{\"outlinewidth\":0,\"ticks\":\"\"},\"colorscale\":[[0.0,\"#0d0887\"],[0.1111111111111111,\"#46039f\"],[0.2222222222222222,\"#7201a8\"],[0.3333333333333333,\"#9c179e\"],[0.4444444444444444,\"#bd3786\"],[0.5555555555555556,\"#d8576b\"],[0.6666666666666666,\"#ed7953\"],[0.7777777777777778,\"#fb9f3a\"],[0.8888888888888888,\"#fdca26\"],[1.0,\"#f0f921\"]]}],\"surface\":[{\"type\":\"surface\",\"colorbar\":{\"outlinewidth\":0,\"ticks\":\"\"},\"colorscale\":[[0.0,\"#0d0887\"],[0.1111111111111111,\"#46039f\"],[0.2222222222222222,\"#7201a8\"],[0.3333333333333333,\"#9c179e\"],[0.4444444444444444,\"#bd3786\"],[0.5555555555555556,\"#d8576b\"],[0.6666666666666666,\"#ed7953\"],[0.7777777777777778,\"#fb9f3a\"],[0.8888888888888888,\"#fdca26\"],[1.0,\"#f0f921\"]]}],\"mesh3d\":[{\"type\":\"mesh3d\",\"colorbar\":{\"outlinewidth\":0,\"ticks\":\"\"}}],\"scatter\":[{\"fillpattern\":{\"fillmode\":\"overlay\",\"size\":10,\"solidity\":0.2},\"type\":\"scatter\"}],\"parcoords\":[{\"type\":\"parcoords\",\"line\":{\"colorbar\":{\"outlinewidth\":0,\"ticks\":\"\"}}}],\"scatterpolargl\":[{\"type\":\"scatterpolargl\",\"marker\":{\"colorbar\":{\"outlinewidth\":0,\"ticks\":\"\"}}}],\"bar\":[{\"error_x\":{\"color\":\"#2a3f5f\"},\"error_y\":{\"color\":\"#2a3f5f\"},\"marker\":{\"line\":{\"color\":\"#E5ECF6\",\"width\":0.5},\"pattern\":{\"fillmode\":\"overlay\",\"size\":10,\"solidity\":0.2}},\"type\":\"bar\"}],\"scattergeo\":[{\"type\":\"scattergeo\",\"marker\":{\"colorbar\":{\"outlinewidth\":0,\"ticks\":\"\"}}}],\"scatterpolar\":[{\"type\":\"scatterpolar\",\"marker\":{\"colorbar\":{\"outlinewidth\":0,\"ticks\":\"\"}}}],\"histogram\":[{\"marker\":{\"pattern\":{\"fillmode\":\"overlay\",\"size\":10,\"solidity\":0.2}},\"type\":\"histogram\"}],\"scattergl\":[{\"type\":\"scattergl\",\"marker\":{\"colorbar\":{\"outlinewidth\":0,\"ticks\":\"\"}}}],\"scatter3d\":[{\"type\":\"scatter3d\",\"line\":{\"colorbar\":{\"outlinewidth\":0,\"ticks\":\"\"}},\"marker\":{\"colorbar\":{\"outlinewidth\":0,\"ticks\":\"\"}}}],\"scattermapbox\":[{\"type\":\"scattermapbox\",\"marker\":{\"colorbar\":{\"outlinewidth\":0,\"ticks\":\"\"}}}],\"scatterternary\":[{\"type\":\"scatterternary\",\"marker\":{\"colorbar\":{\"outlinewidth\":0,\"ticks\":\"\"}}}],\"scattercarpet\":[{\"type\":\"scattercarpet\",\"marker\":{\"colorbar\":{\"outlinewidth\":0,\"ticks\":\"\"}}}],\"carpet\":[{\"aaxis\":{\"endlinecolor\":\"#2a3f5f\",\"gridcolor\":\"white\",\"linecolor\":\"white\",\"minorgridcolor\":\"white\",\"startlinecolor\":\"#2a3f5f\"},\"baxis\":{\"endlinecolor\":\"#2a3f5f\",\"gridcolor\":\"white\",\"linecolor\":\"white\",\"minorgridcolor\":\"white\",\"startlinecolor\":\"#2a3f5f\"},\"type\":\"carpet\"}],\"table\":[{\"cells\":{\"fill\":{\"color\":\"#EBF0F8\"},\"line\":{\"color\":\"white\"}},\"header\":{\"fill\":{\"color\":\"#C8D4E3\"},\"line\":{\"color\":\"white\"}},\"type\":\"table\"}],\"barpolar\":[{\"marker\":{\"line\":{\"color\":\"#E5ECF6\",\"width\":0.5},\"pattern\":{\"fillmode\":\"overlay\",\"size\":10,\"solidity\":0.2}},\"type\":\"barpolar\"}],\"pie\":[{\"automargin\":true,\"type\":\"pie\"}]},\"layout\":{\"autotypenumbers\":\"strict\",\"colorway\":[\"#636efa\",\"#EF553B\",\"#00cc96\",\"#ab63fa\",\"#FFA15A\",\"#19d3f3\",\"#FF6692\",\"#B6E880\",\"#FF97FF\",\"#FECB52\"],\"font\":{\"color\":\"#2a3f5f\"},\"hovermode\":\"closest\",\"hoverlabel\":{\"align\":\"left\"},\"paper_bgcolor\":\"white\",\"plot_bgcolor\":\"#E5ECF6\",\"polar\":{\"bgcolor\":\"#E5ECF6\",\"angularaxis\":{\"gridcolor\":\"white\",\"linecolor\":\"white\",\"ticks\":\"\"},\"radialaxis\":{\"gridcolor\":\"white\",\"linecolor\":\"white\",\"ticks\":\"\"}},\"ternary\":{\"bgcolor\":\"#E5ECF6\",\"aaxis\":{\"gridcolor\":\"white\",\"linecolor\":\"white\",\"ticks\":\"\"},\"baxis\":{\"gridcolor\":\"white\",\"linecolor\":\"white\",\"ticks\":\"\"},\"caxis\":{\"gridcolor\":\"white\",\"linecolor\":\"white\",\"ticks\":\"\"}},\"coloraxis\":{\"colorbar\":{\"outlinewidth\":0,\"ticks\":\"\"}},\"colorscale\":{\"sequential\":[[0.0,\"#0d0887\"],[0.1111111111111111,\"#46039f\"],[0.2222222222222222,\"#7201a8\"],[0.3333333333333333,\"#9c179e\"],[0.4444444444444444,\"#bd3786\"],[0.5555555555555556,\"#d8576b\"],[0.6666666666666666,\"#ed7953\"],[0.7777777777777778,\"#fb9f3a\"],[0.8888888888888888,\"#fdca26\"],[1.0,\"#f0f921\"]],\"sequentialminus\":[[0.0,\"#0d0887\"],[0.1111111111111111,\"#46039f\"],[0.2222222222222222,\"#7201a8\"],[0.3333333333333333,\"#9c179e\"],[0.4444444444444444,\"#bd3786\"],[0.5555555555555556,\"#d8576b\"],[0.6666666666666666,\"#ed7953\"],[0.7777777777777778,\"#fb9f3a\"],[0.8888888888888888,\"#fdca26\"],[1.0,\"#f0f921\"]],\"diverging\":[[0,\"#8e0152\"],[0.1,\"#c51b7d\"],[0.2,\"#de77ae\"],[0.3,\"#f1b6da\"],[0.4,\"#fde0ef\"],[0.5,\"#f7f7f7\"],[0.6,\"#e6f5d0\"],[0.7,\"#b8e186\"],[0.8,\"#7fbc41\"],[0.9,\"#4d9221\"],[1,\"#276419\"]]},\"xaxis\":{\"gridcolor\":\"white\",\"linecolor\":\"white\",\"ticks\":\"\",\"title\":{\"standoff\":15},\"zerolinecolor\":\"white\",\"automargin\":true,\"zerolinewidth\":2},\"yaxis\":{\"gridcolor\":\"white\",\"linecolor\":\"white\",\"ticks\":\"\",\"title\":{\"standoff\":15},\"zerolinecolor\":\"white\",\"automargin\":true,\"zerolinewidth\":2},\"scene\":{\"xaxis\":{\"backgroundcolor\":\"#E5ECF6\",\"gridcolor\":\"white\",\"linecolor\":\"white\",\"showbackground\":true,\"ticks\":\"\",\"zerolinecolor\":\"white\",\"gridwidth\":2},\"yaxis\":{\"backgroundcolor\":\"#E5ECF6\",\"gridcolor\":\"white\",\"linecolor\":\"white\",\"showbackground\":true,\"ticks\":\"\",\"zerolinecolor\":\"white\",\"gridwidth\":2},\"zaxis\":{\"backgroundcolor\":\"#E5ECF6\",\"gridcolor\":\"white\",\"linecolor\":\"white\",\"showbackground\":true,\"ticks\":\"\",\"zerolinecolor\":\"white\",\"gridwidth\":2}},\"shapedefaults\":{\"line\":{\"color\":\"#2a3f5f\"}},\"annotationdefaults\":{\"arrowcolor\":\"#2a3f5f\",\"arrowhead\":0,\"arrowwidth\":1},\"geo\":{\"bgcolor\":\"white\",\"landcolor\":\"#E5ECF6\",\"subunitcolor\":\"white\",\"showland\":true,\"showlakes\":true,\"lakecolor\":\"white\"},\"title\":{\"x\":0.05},\"mapbox\":{\"style\":\"light\"}}},\"legend\":{\"tracegroupgap\":0,\"font\":{\"size\":15},\"orientation\":\"v\",\"yanchor\":\"middle\",\"y\":1,\"xanchor\":\"left\",\"x\":1.05},\"title\":{\"text\":\"Relationship Status Distribution\",\"font\":{\"size\":20},\"y\":0.9,\"x\":0.4,\"xanchor\":\"center\",\"yanchor\":\"top\"},\"piecolorway\":[\"#ffd1dc\",\"#a8e6cf\",\"#dcedc1\",\"#ffd3b6\",\"#ffaaa5\",\"#a9d5fc\",\"#fcefa7\",\"#b6fcb6\",\"#FFB6C1\"],\"margin\":{\"t\":150,\"l\":0,\"r\":0,\"b\":0},\"plot_bgcolor\":\"rgba(255,255,255,1)\",\"paper_bgcolor\":\"rgba(255,255,255,1)\",\"width\":800,\"height\":600},                        {\"responsive\": true}                    ).then(function(){\n",
       "                            \n",
       "var gd = document.getElementById('2bae7c0a-9d22-411b-bc66-16a0cf149d7f');\n",
       "var x = new MutationObserver(function (mutations, observer) {{\n",
       "        var display = window.getComputedStyle(gd).display;\n",
       "        if (!display || display === 'none') {{\n",
       "            console.log([gd, 'removed!']);\n",
       "            Plotly.purge(gd);\n",
       "            observer.disconnect();\n",
       "        }}\n",
       "}});\n",
       "\n",
       "// Listen for the removal of the full notebook cells\n",
       "var notebookContainer = gd.closest('#notebook-container');\n",
       "if (notebookContainer) {{\n",
       "    x.observe(notebookContainer, {childList: true});\n",
       "}}\n",
       "\n",
       "// Listen for the clearing of the current output cell\n",
       "var outputEl = gd.closest('.output');\n",
       "if (outputEl) {{\n",
       "    x.observe(outputEl, {childList: true});\n",
       "}}\n",
       "\n",
       "                        })                };                });            </script>        </div>"
      ]
     },
     "metadata": {},
     "output_type": "display_data"
    }
   ],
   "source": [
    "# Graph 3: Relationship Status Distribution\n",
    "# Create a pie chart with Plotly Express using the custom pastel palette.\n",
    "fig = px.pie(df, names='relationship_status', \n",
    "             title='Relationship Status Distribution',\n",
    "             color='relationship_status',\n",
    "             color_discrete_sequence=pastel_colors,\n",
    "             hole=0.3)\n",
    "\n",
    "# Customize the chart to set the legend to the right and vertically, increase legend font size, and set the background to white\n",
    "fig.update_traces(textinfo='percent+label',textfont_size=15)\n",
    "fig.update_layout(\n",
    "    legend=dict(\n",
    "        orientation=\"v\",\n",
    "        yanchor=\"middle\",\n",
    "        y=1,\n",
    "        xanchor=\"left\",\n",
    "        x=1.05,\n",
    "        font=dict(size=15)  # Increase legend font size\n",
    "    ),\n",
    "    plot_bgcolor='rgba(255,255,255,1)', \n",
    "    paper_bgcolor='rgba(255,255,255,1)',\n",
    "    margin=dict(t=150, l=0, r=0, b=0),  # Increase top margin to give more space for the title\n",
    "    title=dict(\n",
    "        y=0.90,  # Raise the title position\n",
    "        x=0.4,\n",
    "        xanchor='center',\n",
    "        yanchor='top',\n",
    "        font=dict(size=20)  # Increase title font size if desired\n",
    "    )\n",
    ")\n",
    "# Increase the size of the figure\n",
    "fig.update_layout(width=800, height=600)\n",
    "\n",
    "fig.show()"
   ]
  },
  {
   "cell_type": "markdown",
   "metadata": {},
   "source": [
    "The donut chart shows relationship status distribution. Most people (59.3%) are single, 21% married, 18.3% in a relationship, and 1.46% divorced, giving a view of the group's marital status."
   ]
  },
  {
   "cell_type": "code",
   "execution_count": 480,
   "metadata": {},
   "outputs": [
    {
     "data": {
      "text/html": [
       "<div>                            <div id=\"a1b26241-ad37-4b88-8b20-2ae82ecc7c75\" class=\"plotly-graph-div\" style=\"height:600px; width:1200px;\"></div>            <script type=\"text/javascript\">                require([\"plotly\"], function(Plotly) {                    window.PLOTLYENV=window.PLOTLYENV || {};                                    if (document.getElementById(\"a1b26241-ad37-4b88-8b20-2ae82ecc7c75\")) {                    Plotly.newPlot(                        \"a1b26241-ad37-4b88-8b20-2ae82ecc7c75\",                        [{\"alignmentgroup\":\"True\",\"hovertemplate\":\"Color=#ffd1dc\\u003cbr\\u003ePlatforms=%{x}\\u003cbr\\u003eCount=%{y}\\u003cextra\\u003e\\u003c\\u002fextra\\u003e\",\"legendgroup\":\"#ffd1dc\",\"marker\":{\"color\":\"#ffd1dc\",\"pattern\":{\"shape\":\"\"}},\"name\":\"#ffd1dc\",\"offsetgroup\":\"#ffd1dc\",\"orientation\":\"v\",\"showlegend\":true,\"textposition\":\"auto\",\"x\":[\"YouTube\"],\"xaxis\":\"x\",\"y\":[412],\"yaxis\":\"y\",\"type\":\"bar\"},{\"alignmentgroup\":\"True\",\"hovertemplate\":\"Color=#a8e6cf\\u003cbr\\u003ePlatforms=%{x}\\u003cbr\\u003eCount=%{y}\\u003cextra\\u003e\\u003c\\u002fextra\\u003e\",\"legendgroup\":\"#a8e6cf\",\"marker\":{\"color\":\"#a8e6cf\",\"pattern\":{\"shape\":\"\"}},\"name\":\"#a8e6cf\",\"offsetgroup\":\"#a8e6cf\",\"orientation\":\"v\",\"showlegend\":true,\"textposition\":\"auto\",\"x\":[\"Facebook\"],\"xaxis\":\"x\",\"y\":[407],\"yaxis\":\"y\",\"type\":\"bar\"},{\"alignmentgroup\":\"True\",\"hovertemplate\":\"Color=#dcedc1\\u003cbr\\u003ePlatforms=%{x}\\u003cbr\\u003eCount=%{y}\\u003cextra\\u003e\\u003c\\u002fextra\\u003e\",\"legendgroup\":\"#dcedc1\",\"marker\":{\"color\":\"#dcedc1\",\"pattern\":{\"shape\":\"\"}},\"name\":\"#dcedc1\",\"offsetgroup\":\"#dcedc1\",\"orientation\":\"v\",\"showlegend\":true,\"textposition\":\"auto\",\"x\":[\"Instagram\"],\"xaxis\":\"x\",\"y\":[359],\"yaxis\":\"y\",\"type\":\"bar\"},{\"alignmentgroup\":\"True\",\"hovertemplate\":\"Color=#ffd3b6\\u003cbr\\u003ePlatforms=%{x}\\u003cbr\\u003eCount=%{y}\\u003cextra\\u003e\\u003c\\u002fextra\\u003e\",\"legendgroup\":\"#ffd3b6\",\"marker\":{\"color\":\"#ffd3b6\",\"pattern\":{\"shape\":\"\"}},\"name\":\"#ffd3b6\",\"offsetgroup\":\"#ffd3b6\",\"orientation\":\"v\",\"showlegend\":true,\"textposition\":\"auto\",\"x\":[\"Discord\"],\"xaxis\":\"x\",\"y\":[198],\"yaxis\":\"y\",\"type\":\"bar\"},{\"alignmentgroup\":\"True\",\"hovertemplate\":\"Color=#ffaaa5\\u003cbr\\u003ePlatforms=%{x}\\u003cbr\\u003eCount=%{y}\\u003cextra\\u003e\\u003c\\u002fextra\\u003e\",\"legendgroup\":\"#ffaaa5\",\"marker\":{\"color\":\"#ffaaa5\",\"pattern\":{\"shape\":\"\"}},\"name\":\"#ffaaa5\",\"offsetgroup\":\"#ffaaa5\",\"orientation\":\"v\",\"showlegend\":true,\"textposition\":\"auto\",\"x\":[\"Snapchat\"],\"xaxis\":\"x\",\"y\":[181],\"yaxis\":\"y\",\"type\":\"bar\"},{\"alignmentgroup\":\"True\",\"hovertemplate\":\"Color=#a9d5fc\\u003cbr\\u003ePlatforms=%{x}\\u003cbr\\u003eCount=%{y}\\u003cextra\\u003e\\u003c\\u002fextra\\u003e\",\"legendgroup\":\"#a9d5fc\",\"marker\":{\"color\":\"#a9d5fc\",\"pattern\":{\"shape\":\"\"}},\"name\":\"#a9d5fc\",\"offsetgroup\":\"#a9d5fc\",\"orientation\":\"v\",\"showlegend\":true,\"textposition\":\"auto\",\"x\":[\"Pinterest\"],\"xaxis\":\"x\",\"y\":[145],\"yaxis\":\"y\",\"type\":\"bar\"},{\"alignmentgroup\":\"True\",\"hovertemplate\":\"Color=#fcefa7\\u003cbr\\u003ePlatforms=%{x}\\u003cbr\\u003eCount=%{y}\\u003cextra\\u003e\\u003c\\u002fextra\\u003e\",\"legendgroup\":\"#fcefa7\",\"marker\":{\"color\":\"#fcefa7\",\"pattern\":{\"shape\":\"\"}},\"name\":\"#fcefa7\",\"offsetgroup\":\"#fcefa7\",\"orientation\":\"v\",\"showlegend\":true,\"textposition\":\"auto\",\"x\":[\"Twitter\"],\"xaxis\":\"x\",\"y\":[131],\"yaxis\":\"y\",\"type\":\"bar\"},{\"alignmentgroup\":\"True\",\"hovertemplate\":\"Color=#b6fcb6\\u003cbr\\u003ePlatforms=%{x}\\u003cbr\\u003eCount=%{y}\\u003cextra\\u003e\\u003c\\u002fextra\\u003e\",\"legendgroup\":\"#b6fcb6\",\"marker\":{\"color\":\"#b6fcb6\",\"pattern\":{\"shape\":\"\"}},\"name\":\"#b6fcb6\",\"offsetgroup\":\"#b6fcb6\",\"orientation\":\"v\",\"showlegend\":true,\"textposition\":\"auto\",\"x\":[\"Reddit\"],\"xaxis\":\"x\",\"y\":[126],\"yaxis\":\"y\",\"type\":\"bar\"},{\"alignmentgroup\":\"True\",\"hovertemplate\":\"Color=#FFB6C1\\u003cbr\\u003ePlatforms=%{x}\\u003cbr\\u003eCount=%{y}\\u003cextra\\u003e\\u003c\\u002fextra\\u003e\",\"legendgroup\":\"#FFB6C1\",\"marker\":{\"color\":\"#FFB6C1\",\"pattern\":{\"shape\":\"\"}},\"name\":\"#FFB6C1\",\"offsetgroup\":\"#FFB6C1\",\"orientation\":\"v\",\"showlegend\":true,\"textposition\":\"auto\",\"x\":[\"TikTok\"],\"xaxis\":\"x\",\"y\":[94],\"yaxis\":\"y\",\"type\":\"bar\"}],                        {\"template\":{\"data\":{\"histogram2dcontour\":[{\"type\":\"histogram2dcontour\",\"colorbar\":{\"outlinewidth\":0,\"ticks\":\"\"},\"colorscale\":[[0.0,\"#0d0887\"],[0.1111111111111111,\"#46039f\"],[0.2222222222222222,\"#7201a8\"],[0.3333333333333333,\"#9c179e\"],[0.4444444444444444,\"#bd3786\"],[0.5555555555555556,\"#d8576b\"],[0.6666666666666666,\"#ed7953\"],[0.7777777777777778,\"#fb9f3a\"],[0.8888888888888888,\"#fdca26\"],[1.0,\"#f0f921\"]]}],\"choropleth\":[{\"type\":\"choropleth\",\"colorbar\":{\"outlinewidth\":0,\"ticks\":\"\"}}],\"histogram2d\":[{\"type\":\"histogram2d\",\"colorbar\":{\"outlinewidth\":0,\"ticks\":\"\"},\"colorscale\":[[0.0,\"#0d0887\"],[0.1111111111111111,\"#46039f\"],[0.2222222222222222,\"#7201a8\"],[0.3333333333333333,\"#9c179e\"],[0.4444444444444444,\"#bd3786\"],[0.5555555555555556,\"#d8576b\"],[0.6666666666666666,\"#ed7953\"],[0.7777777777777778,\"#fb9f3a\"],[0.8888888888888888,\"#fdca26\"],[1.0,\"#f0f921\"]]}],\"heatmap\":[{\"type\":\"heatmap\",\"colorbar\":{\"outlinewidth\":0,\"ticks\":\"\"},\"colorscale\":[[0.0,\"#0d0887\"],[0.1111111111111111,\"#46039f\"],[0.2222222222222222,\"#7201a8\"],[0.3333333333333333,\"#9c179e\"],[0.4444444444444444,\"#bd3786\"],[0.5555555555555556,\"#d8576b\"],[0.6666666666666666,\"#ed7953\"],[0.7777777777777778,\"#fb9f3a\"],[0.8888888888888888,\"#fdca26\"],[1.0,\"#f0f921\"]]}],\"heatmapgl\":[{\"type\":\"heatmapgl\",\"colorbar\":{\"outlinewidth\":0,\"ticks\":\"\"},\"colorscale\":[[0.0,\"#0d0887\"],[0.1111111111111111,\"#46039f\"],[0.2222222222222222,\"#7201a8\"],[0.3333333333333333,\"#9c179e\"],[0.4444444444444444,\"#bd3786\"],[0.5555555555555556,\"#d8576b\"],[0.6666666666666666,\"#ed7953\"],[0.7777777777777778,\"#fb9f3a\"],[0.8888888888888888,\"#fdca26\"],[1.0,\"#f0f921\"]]}],\"contourcarpet\":[{\"type\":\"contourcarpet\",\"colorbar\":{\"outlinewidth\":0,\"ticks\":\"\"}}],\"contour\":[{\"type\":\"contour\",\"colorbar\":{\"outlinewidth\":0,\"ticks\":\"\"},\"colorscale\":[[0.0,\"#0d0887\"],[0.1111111111111111,\"#46039f\"],[0.2222222222222222,\"#7201a8\"],[0.3333333333333333,\"#9c179e\"],[0.4444444444444444,\"#bd3786\"],[0.5555555555555556,\"#d8576b\"],[0.6666666666666666,\"#ed7953\"],[0.7777777777777778,\"#fb9f3a\"],[0.8888888888888888,\"#fdca26\"],[1.0,\"#f0f921\"]]}],\"surface\":[{\"type\":\"surface\",\"colorbar\":{\"outlinewidth\":0,\"ticks\":\"\"},\"colorscale\":[[0.0,\"#0d0887\"],[0.1111111111111111,\"#46039f\"],[0.2222222222222222,\"#7201a8\"],[0.3333333333333333,\"#9c179e\"],[0.4444444444444444,\"#bd3786\"],[0.5555555555555556,\"#d8576b\"],[0.6666666666666666,\"#ed7953\"],[0.7777777777777778,\"#fb9f3a\"],[0.8888888888888888,\"#fdca26\"],[1.0,\"#f0f921\"]]}],\"mesh3d\":[{\"type\":\"mesh3d\",\"colorbar\":{\"outlinewidth\":0,\"ticks\":\"\"}}],\"scatter\":[{\"fillpattern\":{\"fillmode\":\"overlay\",\"size\":10,\"solidity\":0.2},\"type\":\"scatter\"}],\"parcoords\":[{\"type\":\"parcoords\",\"line\":{\"colorbar\":{\"outlinewidth\":0,\"ticks\":\"\"}}}],\"scatterpolargl\":[{\"type\":\"scatterpolargl\",\"marker\":{\"colorbar\":{\"outlinewidth\":0,\"ticks\":\"\"}}}],\"bar\":[{\"error_x\":{\"color\":\"#2a3f5f\"},\"error_y\":{\"color\":\"#2a3f5f\"},\"marker\":{\"line\":{\"color\":\"#E5ECF6\",\"width\":0.5},\"pattern\":{\"fillmode\":\"overlay\",\"size\":10,\"solidity\":0.2}},\"type\":\"bar\"}],\"scattergeo\":[{\"type\":\"scattergeo\",\"marker\":{\"colorbar\":{\"outlinewidth\":0,\"ticks\":\"\"}}}],\"scatterpolar\":[{\"type\":\"scatterpolar\",\"marker\":{\"colorbar\":{\"outlinewidth\":0,\"ticks\":\"\"}}}],\"histogram\":[{\"marker\":{\"pattern\":{\"fillmode\":\"overlay\",\"size\":10,\"solidity\":0.2}},\"type\":\"histogram\"}],\"scattergl\":[{\"type\":\"scattergl\",\"marker\":{\"colorbar\":{\"outlinewidth\":0,\"ticks\":\"\"}}}],\"scatter3d\":[{\"type\":\"scatter3d\",\"line\":{\"colorbar\":{\"outlinewidth\":0,\"ticks\":\"\"}},\"marker\":{\"colorbar\":{\"outlinewidth\":0,\"ticks\":\"\"}}}],\"scattermapbox\":[{\"type\":\"scattermapbox\",\"marker\":{\"colorbar\":{\"outlinewidth\":0,\"ticks\":\"\"}}}],\"scatterternary\":[{\"type\":\"scatterternary\",\"marker\":{\"colorbar\":{\"outlinewidth\":0,\"ticks\":\"\"}}}],\"scattercarpet\":[{\"type\":\"scattercarpet\",\"marker\":{\"colorbar\":{\"outlinewidth\":0,\"ticks\":\"\"}}}],\"carpet\":[{\"aaxis\":{\"endlinecolor\":\"#2a3f5f\",\"gridcolor\":\"white\",\"linecolor\":\"white\",\"minorgridcolor\":\"white\",\"startlinecolor\":\"#2a3f5f\"},\"baxis\":{\"endlinecolor\":\"#2a3f5f\",\"gridcolor\":\"white\",\"linecolor\":\"white\",\"minorgridcolor\":\"white\",\"startlinecolor\":\"#2a3f5f\"},\"type\":\"carpet\"}],\"table\":[{\"cells\":{\"fill\":{\"color\":\"#EBF0F8\"},\"line\":{\"color\":\"white\"}},\"header\":{\"fill\":{\"color\":\"#C8D4E3\"},\"line\":{\"color\":\"white\"}},\"type\":\"table\"}],\"barpolar\":[{\"marker\":{\"line\":{\"color\":\"#E5ECF6\",\"width\":0.5},\"pattern\":{\"fillmode\":\"overlay\",\"size\":10,\"solidity\":0.2}},\"type\":\"barpolar\"}],\"pie\":[{\"automargin\":true,\"type\":\"pie\"}]},\"layout\":{\"autotypenumbers\":\"strict\",\"colorway\":[\"#636efa\",\"#EF553B\",\"#00cc96\",\"#ab63fa\",\"#FFA15A\",\"#19d3f3\",\"#FF6692\",\"#B6E880\",\"#FF97FF\",\"#FECB52\"],\"font\":{\"color\":\"#2a3f5f\"},\"hovermode\":\"closest\",\"hoverlabel\":{\"align\":\"left\"},\"paper_bgcolor\":\"white\",\"plot_bgcolor\":\"#E5ECF6\",\"polar\":{\"bgcolor\":\"#E5ECF6\",\"angularaxis\":{\"gridcolor\":\"white\",\"linecolor\":\"white\",\"ticks\":\"\"},\"radialaxis\":{\"gridcolor\":\"white\",\"linecolor\":\"white\",\"ticks\":\"\"}},\"ternary\":{\"bgcolor\":\"#E5ECF6\",\"aaxis\":{\"gridcolor\":\"white\",\"linecolor\":\"white\",\"ticks\":\"\"},\"baxis\":{\"gridcolor\":\"white\",\"linecolor\":\"white\",\"ticks\":\"\"},\"caxis\":{\"gridcolor\":\"white\",\"linecolor\":\"white\",\"ticks\":\"\"}},\"coloraxis\":{\"colorbar\":{\"outlinewidth\":0,\"ticks\":\"\"}},\"colorscale\":{\"sequential\":[[0.0,\"#0d0887\"],[0.1111111111111111,\"#46039f\"],[0.2222222222222222,\"#7201a8\"],[0.3333333333333333,\"#9c179e\"],[0.4444444444444444,\"#bd3786\"],[0.5555555555555556,\"#d8576b\"],[0.6666666666666666,\"#ed7953\"],[0.7777777777777778,\"#fb9f3a\"],[0.8888888888888888,\"#fdca26\"],[1.0,\"#f0f921\"]],\"sequentialminus\":[[0.0,\"#0d0887\"],[0.1111111111111111,\"#46039f\"],[0.2222222222222222,\"#7201a8\"],[0.3333333333333333,\"#9c179e\"],[0.4444444444444444,\"#bd3786\"],[0.5555555555555556,\"#d8576b\"],[0.6666666666666666,\"#ed7953\"],[0.7777777777777778,\"#fb9f3a\"],[0.8888888888888888,\"#fdca26\"],[1.0,\"#f0f921\"]],\"diverging\":[[0,\"#8e0152\"],[0.1,\"#c51b7d\"],[0.2,\"#de77ae\"],[0.3,\"#f1b6da\"],[0.4,\"#fde0ef\"],[0.5,\"#f7f7f7\"],[0.6,\"#e6f5d0\"],[0.7,\"#b8e186\"],[0.8,\"#7fbc41\"],[0.9,\"#4d9221\"],[1,\"#276419\"]]},\"xaxis\":{\"gridcolor\":\"white\",\"linecolor\":\"white\",\"ticks\":\"\",\"title\":{\"standoff\":15},\"zerolinecolor\":\"white\",\"automargin\":true,\"zerolinewidth\":2},\"yaxis\":{\"gridcolor\":\"white\",\"linecolor\":\"white\",\"ticks\":\"\",\"title\":{\"standoff\":15},\"zerolinecolor\":\"white\",\"automargin\":true,\"zerolinewidth\":2},\"scene\":{\"xaxis\":{\"backgroundcolor\":\"#E5ECF6\",\"gridcolor\":\"white\",\"linecolor\":\"white\",\"showbackground\":true,\"ticks\":\"\",\"zerolinecolor\":\"white\",\"gridwidth\":2},\"yaxis\":{\"backgroundcolor\":\"#E5ECF6\",\"gridcolor\":\"white\",\"linecolor\":\"white\",\"showbackground\":true,\"ticks\":\"\",\"zerolinecolor\":\"white\",\"gridwidth\":2},\"zaxis\":{\"backgroundcolor\":\"#E5ECF6\",\"gridcolor\":\"white\",\"linecolor\":\"white\",\"showbackground\":true,\"ticks\":\"\",\"zerolinecolor\":\"white\",\"gridwidth\":2}},\"shapedefaults\":{\"line\":{\"color\":\"#2a3f5f\"}},\"annotationdefaults\":{\"arrowcolor\":\"#2a3f5f\",\"arrowhead\":0,\"arrowwidth\":1},\"geo\":{\"bgcolor\":\"white\",\"landcolor\":\"#E5ECF6\",\"subunitcolor\":\"white\",\"showland\":true,\"showlakes\":true,\"lakecolor\":\"white\"},\"title\":{\"x\":0.05},\"mapbox\":{\"style\":\"light\"}}},\"xaxis\":{\"anchor\":\"y\",\"domain\":[0.0,1.0],\"title\":{\"text\":\"Platforms\"},\"showgrid\":true,\"gridcolor\":\"LightGrey\",\"tickangle\":45},\"yaxis\":{\"anchor\":\"x\",\"domain\":[0.0,1.0],\"title\":{\"text\":\"Count\"},\"showgrid\":true,\"gridcolor\":\"LightGrey\"},\"legend\":{\"title\":{\"text\":\"Color\"},\"tracegroupgap\":0},\"title\":{\"text\":\"Social Media Platform Usage Distribution\"},\"barmode\":\"relative\",\"plot_bgcolor\":\"rgba(255,255,255,1)\",\"paper_bgcolor\":\"rgba(255,255,255,1)\",\"showlegend\":false,\"width\":1200,\"height\":600},                        {\"responsive\": true}                    ).then(function(){\n",
       "                            \n",
       "var gd = document.getElementById('a1b26241-ad37-4b88-8b20-2ae82ecc7c75');\n",
       "var x = new MutationObserver(function (mutations, observer) {{\n",
       "        var display = window.getComputedStyle(gd).display;\n",
       "        if (!display || display === 'none') {{\n",
       "            console.log([gd, 'removed!']);\n",
       "            Plotly.purge(gd);\n",
       "            observer.disconnect();\n",
       "        }}\n",
       "}});\n",
       "\n",
       "// Listen for the removal of the full notebook cells\n",
       "var notebookContainer = gd.closest('#notebook-container');\n",
       "if (notebookContainer) {{\n",
       "    x.observe(notebookContainer, {childList: true});\n",
       "}}\n",
       "\n",
       "// Listen for the clearing of the current output cell\n",
       "var outputEl = gd.closest('.output');\n",
       "if (outputEl) {{\n",
       "    x.observe(outputEl, {childList: true});\n",
       "}}\n",
       "\n",
       "                        })                };                });            </script>        </div>"
      ]
     },
     "metadata": {},
     "output_type": "display_data"
    }
   ],
   "source": [
    "# Graph 4: Social Media Platform Usage Distribution\n",
    "# This line explodes the 'common_platforms' column into multiple rows.\n",
    "platform_counts = df['common_platforms'].str.split(', ').explode().value_counts().reset_index()\n",
    "platform_counts.columns = ['Platforms', 'Count']  # Renaming columns for clarity\n",
    "\n",
    "# Ensure there are enough colors for each bar by repeating the color sequence if necessary\n",
    "num_platforms = platform_counts.shape[0]\n",
    "repeated_colors = pastel_colors * (num_platforms // len(pastel_colors) + 1)\n",
    "platform_counts['Color'] = repeated_colors[:num_platforms]\n",
    "\n",
    "# Create the bar plot with Plotly Express\n",
    "fig = px.bar(platform_counts, x='Platforms', y='Count',\n",
    "             title='Social Media Platform Usage Distribution',\n",
    "             color='Color',  # Use the Color column to map colors to bars\n",
    "             color_discrete_sequence=pastel_colors)  # Use the pastel color sequence\n",
    "\n",
    "# Update the layout to have a white background and gridlines\n",
    "fig.update_layout(\n",
    "    xaxis=dict(title='Platforms', showgrid=True, gridcolor='LightGrey'),\n",
    "    yaxis=dict(title='Count', showgrid=True, gridcolor='LightGrey'),\n",
    "    plot_bgcolor='rgba(255,255,255,1)',\n",
    "    paper_bgcolor='rgba(255,255,255,1)',\n",
    "    showlegend=False\n",
    ")\n",
    "\n",
    "# Customize x-axis tick angle\n",
    "fig.update_xaxes(tickangle=45)\n",
    "fig.update_layout(width=1200, height=600)\n",
    "\n",
    "fig.show()"
   ]
  },
  {
   "cell_type": "markdown",
   "metadata": {},
   "source": [
    "The bar chart displays the usage distribution across various social media platforms. YouTube appears to be the most used platform, followed closely by Facebook and Instagram. Platforms like Discord, Snapchat, Pinterest, Twitter, and Reddit show moderate counts, while TikTok has the least, suggesting a diverse range of platform preferences among the users surveyed."
   ]
  },
  {
   "cell_type": "code",
   "execution_count": 481,
   "metadata": {},
   "outputs": [
    {
     "data": {
      "text/html": [
       "<div>                            <div id=\"ebec57f4-e25f-4403-88dc-7100f9a0ecb8\" class=\"plotly-graph-div\" style=\"height:600px; width:1200px;\"></div>            <script type=\"text/javascript\">                require([\"plotly\"], function(Plotly) {                    window.PLOTLYENV=window.PLOTLYENV || {};                                    if (document.getElementById(\"ebec57f4-e25f-4403-88dc-7100f9a0ecb8\")) {                    Plotly.newPlot(                        \"ebec57f4-e25f-4403-88dc-7100f9a0ecb8\",                        [{\"alignmentgroup\":\"True\",\"hovertemplate\":\"Color=#ffd1dc\\u003cbr\\u003eTime on Social Media=%{x}\\u003cbr\\u003eCount=%{y}\\u003cextra\\u003e\\u003c\\u002fextra\\u003e\",\"legendgroup\":\"#ffd1dc\",\"marker\":{\"color\":\"#ffd1dc\",\"pattern\":{\"shape\":\"\"}},\"name\":\"#ffd1dc\",\"offsetgroup\":\"#ffd1dc\",\"orientation\":\"v\",\"showlegend\":true,\"textposition\":\"auto\",\"x\":[\"More than 5 hours\"],\"xaxis\":\"x\",\"y\":[116],\"yaxis\":\"y\",\"type\":\"bar\"},{\"alignmentgroup\":\"True\",\"hovertemplate\":\"Color=#a8e6cf\\u003cbr\\u003eTime on Social Media=%{x}\\u003cbr\\u003eCount=%{y}\\u003cextra\\u003e\\u003c\\u002fextra\\u003e\",\"legendgroup\":\"#a8e6cf\",\"marker\":{\"color\":\"#a8e6cf\",\"pattern\":{\"shape\":\"\"}},\"name\":\"#a8e6cf\",\"offsetgroup\":\"#a8e6cf\",\"orientation\":\"v\",\"showlegend\":true,\"textposition\":\"auto\",\"x\":[\"Between 2 and 3 hours\"],\"xaxis\":\"x\",\"y\":[101],\"yaxis\":\"y\",\"type\":\"bar\"},{\"alignmentgroup\":\"True\",\"hovertemplate\":\"Color=#dcedc1\\u003cbr\\u003eTime on Social Media=%{x}\\u003cbr\\u003eCount=%{y}\\u003cextra\\u003e\\u003c\\u002fextra\\u003e\",\"legendgroup\":\"#dcedc1\",\"marker\":{\"color\":\"#dcedc1\",\"pattern\":{\"shape\":\"\"}},\"name\":\"#dcedc1\",\"offsetgroup\":\"#dcedc1\",\"orientation\":\"v\",\"showlegend\":true,\"textposition\":\"auto\",\"x\":[\"Between 3 and 4 hours\"],\"xaxis\":\"x\",\"y\":[93],\"yaxis\":\"y\",\"type\":\"bar\"},{\"alignmentgroup\":\"True\",\"hovertemplate\":\"Color=#ffd3b6\\u003cbr\\u003eTime on Social Media=%{x}\\u003cbr\\u003eCount=%{y}\\u003cextra\\u003e\\u003c\\u002fextra\\u003e\",\"legendgroup\":\"#ffd3b6\",\"marker\":{\"color\":\"#ffd3b6\",\"pattern\":{\"shape\":\"\"}},\"name\":\"#ffd3b6\",\"offsetgroup\":\"#ffd3b6\",\"orientation\":\"v\",\"showlegend\":true,\"textposition\":\"auto\",\"x\":[\"Between 1 and 2 hours\"],\"xaxis\":\"x\",\"y\":[70],\"yaxis\":\"y\",\"type\":\"bar\"},{\"alignmentgroup\":\"True\",\"hovertemplate\":\"Color=#ffaaa5\\u003cbr\\u003eTime on Social Media=%{x}\\u003cbr\\u003eCount=%{y}\\u003cextra\\u003e\\u003c\\u002fextra\\u003e\",\"legendgroup\":\"#ffaaa5\",\"marker\":{\"color\":\"#ffaaa5\",\"pattern\":{\"shape\":\"\"}},\"name\":\"#ffaaa5\",\"offsetgroup\":\"#ffaaa5\",\"orientation\":\"v\",\"showlegend\":true,\"textposition\":\"auto\",\"x\":[\"Between 4 and 5 hours\"],\"xaxis\":\"x\",\"y\":[67],\"yaxis\":\"y\",\"type\":\"bar\"},{\"alignmentgroup\":\"True\",\"hovertemplate\":\"Color=#a9d5fc\\u003cbr\\u003eTime on Social Media=%{x}\\u003cbr\\u003eCount=%{y}\\u003cextra\\u003e\\u003c\\u002fextra\\u003e\",\"legendgroup\":\"#a9d5fc\",\"marker\":{\"color\":\"#a9d5fc\",\"pattern\":{\"shape\":\"\"}},\"name\":\"#a9d5fc\",\"offsetgroup\":\"#a9d5fc\",\"orientation\":\"v\",\"showlegend\":true,\"textposition\":\"auto\",\"x\":[\"Less than an Hour\"],\"xaxis\":\"x\",\"y\":[34],\"yaxis\":\"y\",\"type\":\"bar\"}],                        {\"template\":{\"data\":{\"histogram2dcontour\":[{\"type\":\"histogram2dcontour\",\"colorbar\":{\"outlinewidth\":0,\"ticks\":\"\"},\"colorscale\":[[0.0,\"#0d0887\"],[0.1111111111111111,\"#46039f\"],[0.2222222222222222,\"#7201a8\"],[0.3333333333333333,\"#9c179e\"],[0.4444444444444444,\"#bd3786\"],[0.5555555555555556,\"#d8576b\"],[0.6666666666666666,\"#ed7953\"],[0.7777777777777778,\"#fb9f3a\"],[0.8888888888888888,\"#fdca26\"],[1.0,\"#f0f921\"]]}],\"choropleth\":[{\"type\":\"choropleth\",\"colorbar\":{\"outlinewidth\":0,\"ticks\":\"\"}}],\"histogram2d\":[{\"type\":\"histogram2d\",\"colorbar\":{\"outlinewidth\":0,\"ticks\":\"\"},\"colorscale\":[[0.0,\"#0d0887\"],[0.1111111111111111,\"#46039f\"],[0.2222222222222222,\"#7201a8\"],[0.3333333333333333,\"#9c179e\"],[0.4444444444444444,\"#bd3786\"],[0.5555555555555556,\"#d8576b\"],[0.6666666666666666,\"#ed7953\"],[0.7777777777777778,\"#fb9f3a\"],[0.8888888888888888,\"#fdca26\"],[1.0,\"#f0f921\"]]}],\"heatmap\":[{\"type\":\"heatmap\",\"colorbar\":{\"outlinewidth\":0,\"ticks\":\"\"},\"colorscale\":[[0.0,\"#0d0887\"],[0.1111111111111111,\"#46039f\"],[0.2222222222222222,\"#7201a8\"],[0.3333333333333333,\"#9c179e\"],[0.4444444444444444,\"#bd3786\"],[0.5555555555555556,\"#d8576b\"],[0.6666666666666666,\"#ed7953\"],[0.7777777777777778,\"#fb9f3a\"],[0.8888888888888888,\"#fdca26\"],[1.0,\"#f0f921\"]]}],\"heatmapgl\":[{\"type\":\"heatmapgl\",\"colorbar\":{\"outlinewidth\":0,\"ticks\":\"\"},\"colorscale\":[[0.0,\"#0d0887\"],[0.1111111111111111,\"#46039f\"],[0.2222222222222222,\"#7201a8\"],[0.3333333333333333,\"#9c179e\"],[0.4444444444444444,\"#bd3786\"],[0.5555555555555556,\"#d8576b\"],[0.6666666666666666,\"#ed7953\"],[0.7777777777777778,\"#fb9f3a\"],[0.8888888888888888,\"#fdca26\"],[1.0,\"#f0f921\"]]}],\"contourcarpet\":[{\"type\":\"contourcarpet\",\"colorbar\":{\"outlinewidth\":0,\"ticks\":\"\"}}],\"contour\":[{\"type\":\"contour\",\"colorbar\":{\"outlinewidth\":0,\"ticks\":\"\"},\"colorscale\":[[0.0,\"#0d0887\"],[0.1111111111111111,\"#46039f\"],[0.2222222222222222,\"#7201a8\"],[0.3333333333333333,\"#9c179e\"],[0.4444444444444444,\"#bd3786\"],[0.5555555555555556,\"#d8576b\"],[0.6666666666666666,\"#ed7953\"],[0.7777777777777778,\"#fb9f3a\"],[0.8888888888888888,\"#fdca26\"],[1.0,\"#f0f921\"]]}],\"surface\":[{\"type\":\"surface\",\"colorbar\":{\"outlinewidth\":0,\"ticks\":\"\"},\"colorscale\":[[0.0,\"#0d0887\"],[0.1111111111111111,\"#46039f\"],[0.2222222222222222,\"#7201a8\"],[0.3333333333333333,\"#9c179e\"],[0.4444444444444444,\"#bd3786\"],[0.5555555555555556,\"#d8576b\"],[0.6666666666666666,\"#ed7953\"],[0.7777777777777778,\"#fb9f3a\"],[0.8888888888888888,\"#fdca26\"],[1.0,\"#f0f921\"]]}],\"mesh3d\":[{\"type\":\"mesh3d\",\"colorbar\":{\"outlinewidth\":0,\"ticks\":\"\"}}],\"scatter\":[{\"fillpattern\":{\"fillmode\":\"overlay\",\"size\":10,\"solidity\":0.2},\"type\":\"scatter\"}],\"parcoords\":[{\"type\":\"parcoords\",\"line\":{\"colorbar\":{\"outlinewidth\":0,\"ticks\":\"\"}}}],\"scatterpolargl\":[{\"type\":\"scatterpolargl\",\"marker\":{\"colorbar\":{\"outlinewidth\":0,\"ticks\":\"\"}}}],\"bar\":[{\"error_x\":{\"color\":\"#2a3f5f\"},\"error_y\":{\"color\":\"#2a3f5f\"},\"marker\":{\"line\":{\"color\":\"#E5ECF6\",\"width\":0.5},\"pattern\":{\"fillmode\":\"overlay\",\"size\":10,\"solidity\":0.2}},\"type\":\"bar\"}],\"scattergeo\":[{\"type\":\"scattergeo\",\"marker\":{\"colorbar\":{\"outlinewidth\":0,\"ticks\":\"\"}}}],\"scatterpolar\":[{\"type\":\"scatterpolar\",\"marker\":{\"colorbar\":{\"outlinewidth\":0,\"ticks\":\"\"}}}],\"histogram\":[{\"marker\":{\"pattern\":{\"fillmode\":\"overlay\",\"size\":10,\"solidity\":0.2}},\"type\":\"histogram\"}],\"scattergl\":[{\"type\":\"scattergl\",\"marker\":{\"colorbar\":{\"outlinewidth\":0,\"ticks\":\"\"}}}],\"scatter3d\":[{\"type\":\"scatter3d\",\"line\":{\"colorbar\":{\"outlinewidth\":0,\"ticks\":\"\"}},\"marker\":{\"colorbar\":{\"outlinewidth\":0,\"ticks\":\"\"}}}],\"scattermapbox\":[{\"type\":\"scattermapbox\",\"marker\":{\"colorbar\":{\"outlinewidth\":0,\"ticks\":\"\"}}}],\"scatterternary\":[{\"type\":\"scatterternary\",\"marker\":{\"colorbar\":{\"outlinewidth\":0,\"ticks\":\"\"}}}],\"scattercarpet\":[{\"type\":\"scattercarpet\",\"marker\":{\"colorbar\":{\"outlinewidth\":0,\"ticks\":\"\"}}}],\"carpet\":[{\"aaxis\":{\"endlinecolor\":\"#2a3f5f\",\"gridcolor\":\"white\",\"linecolor\":\"white\",\"minorgridcolor\":\"white\",\"startlinecolor\":\"#2a3f5f\"},\"baxis\":{\"endlinecolor\":\"#2a3f5f\",\"gridcolor\":\"white\",\"linecolor\":\"white\",\"minorgridcolor\":\"white\",\"startlinecolor\":\"#2a3f5f\"},\"type\":\"carpet\"}],\"table\":[{\"cells\":{\"fill\":{\"color\":\"#EBF0F8\"},\"line\":{\"color\":\"white\"}},\"header\":{\"fill\":{\"color\":\"#C8D4E3\"},\"line\":{\"color\":\"white\"}},\"type\":\"table\"}],\"barpolar\":[{\"marker\":{\"line\":{\"color\":\"#E5ECF6\",\"width\":0.5},\"pattern\":{\"fillmode\":\"overlay\",\"size\":10,\"solidity\":0.2}},\"type\":\"barpolar\"}],\"pie\":[{\"automargin\":true,\"type\":\"pie\"}]},\"layout\":{\"autotypenumbers\":\"strict\",\"colorway\":[\"#636efa\",\"#EF553B\",\"#00cc96\",\"#ab63fa\",\"#FFA15A\",\"#19d3f3\",\"#FF6692\",\"#B6E880\",\"#FF97FF\",\"#FECB52\"],\"font\":{\"color\":\"#2a3f5f\"},\"hovermode\":\"closest\",\"hoverlabel\":{\"align\":\"left\"},\"paper_bgcolor\":\"white\",\"plot_bgcolor\":\"#E5ECF6\",\"polar\":{\"bgcolor\":\"#E5ECF6\",\"angularaxis\":{\"gridcolor\":\"white\",\"linecolor\":\"white\",\"ticks\":\"\"},\"radialaxis\":{\"gridcolor\":\"white\",\"linecolor\":\"white\",\"ticks\":\"\"}},\"ternary\":{\"bgcolor\":\"#E5ECF6\",\"aaxis\":{\"gridcolor\":\"white\",\"linecolor\":\"white\",\"ticks\":\"\"},\"baxis\":{\"gridcolor\":\"white\",\"linecolor\":\"white\",\"ticks\":\"\"},\"caxis\":{\"gridcolor\":\"white\",\"linecolor\":\"white\",\"ticks\":\"\"}},\"coloraxis\":{\"colorbar\":{\"outlinewidth\":0,\"ticks\":\"\"}},\"colorscale\":{\"sequential\":[[0.0,\"#0d0887\"],[0.1111111111111111,\"#46039f\"],[0.2222222222222222,\"#7201a8\"],[0.3333333333333333,\"#9c179e\"],[0.4444444444444444,\"#bd3786\"],[0.5555555555555556,\"#d8576b\"],[0.6666666666666666,\"#ed7953\"],[0.7777777777777778,\"#fb9f3a\"],[0.8888888888888888,\"#fdca26\"],[1.0,\"#f0f921\"]],\"sequentialminus\":[[0.0,\"#0d0887\"],[0.1111111111111111,\"#46039f\"],[0.2222222222222222,\"#7201a8\"],[0.3333333333333333,\"#9c179e\"],[0.4444444444444444,\"#bd3786\"],[0.5555555555555556,\"#d8576b\"],[0.6666666666666666,\"#ed7953\"],[0.7777777777777778,\"#fb9f3a\"],[0.8888888888888888,\"#fdca26\"],[1.0,\"#f0f921\"]],\"diverging\":[[0,\"#8e0152\"],[0.1,\"#c51b7d\"],[0.2,\"#de77ae\"],[0.3,\"#f1b6da\"],[0.4,\"#fde0ef\"],[0.5,\"#f7f7f7\"],[0.6,\"#e6f5d0\"],[0.7,\"#b8e186\"],[0.8,\"#7fbc41\"],[0.9,\"#4d9221\"],[1,\"#276419\"]]},\"xaxis\":{\"gridcolor\":\"white\",\"linecolor\":\"white\",\"ticks\":\"\",\"title\":{\"standoff\":15},\"zerolinecolor\":\"white\",\"automargin\":true,\"zerolinewidth\":2},\"yaxis\":{\"gridcolor\":\"white\",\"linecolor\":\"white\",\"ticks\":\"\",\"title\":{\"standoff\":15},\"zerolinecolor\":\"white\",\"automargin\":true,\"zerolinewidth\":2},\"scene\":{\"xaxis\":{\"backgroundcolor\":\"#E5ECF6\",\"gridcolor\":\"white\",\"linecolor\":\"white\",\"showbackground\":true,\"ticks\":\"\",\"zerolinecolor\":\"white\",\"gridwidth\":2},\"yaxis\":{\"backgroundcolor\":\"#E5ECF6\",\"gridcolor\":\"white\",\"linecolor\":\"white\",\"showbackground\":true,\"ticks\":\"\",\"zerolinecolor\":\"white\",\"gridwidth\":2},\"zaxis\":{\"backgroundcolor\":\"#E5ECF6\",\"gridcolor\":\"white\",\"linecolor\":\"white\",\"showbackground\":true,\"ticks\":\"\",\"zerolinecolor\":\"white\",\"gridwidth\":2}},\"shapedefaults\":{\"line\":{\"color\":\"#2a3f5f\"}},\"annotationdefaults\":{\"arrowcolor\":\"#2a3f5f\",\"arrowhead\":0,\"arrowwidth\":1},\"geo\":{\"bgcolor\":\"white\",\"landcolor\":\"#E5ECF6\",\"subunitcolor\":\"white\",\"showland\":true,\"showlakes\":true,\"lakecolor\":\"white\"},\"title\":{\"x\":0.05},\"mapbox\":{\"style\":\"light\"}}},\"xaxis\":{\"anchor\":\"y\",\"domain\":[0.0,1.0],\"title\":{\"text\":\"Time on Social Media\"},\"categoryorder\":\"array\",\"categoryarray\":[\"Less than an Hour\",\"Between 1 and 2 hours\",\"Between 2 and 3 hours\",\"Between 3 and 4 hours\",\"Between 4 and 5 hours\",\"More than 5 hours\"],\"showgrid\":true,\"gridcolor\":\"LightGrey\",\"tickangle\":45},\"yaxis\":{\"anchor\":\"x\",\"domain\":[0.0,1.0],\"title\":{\"text\":\"Count\"},\"showgrid\":true,\"gridcolor\":\"LightGrey\"},\"legend\":{\"title\":{\"text\":\"Color\"},\"tracegroupgap\":0},\"title\":{\"text\":\"Average Time on Social Media Distribution\"},\"barmode\":\"relative\",\"plot_bgcolor\":\"rgba(255,255,255,1)\",\"paper_bgcolor\":\"rgba(255,255,255,1)\",\"showlegend\":false,\"width\":1200,\"height\":600},                        {\"responsive\": true}                    ).then(function(){\n",
       "                            \n",
       "var gd = document.getElementById('ebec57f4-e25f-4403-88dc-7100f9a0ecb8');\n",
       "var x = new MutationObserver(function (mutations, observer) {{\n",
       "        var display = window.getComputedStyle(gd).display;\n",
       "        if (!display || display === 'none') {{\n",
       "            console.log([gd, 'removed!']);\n",
       "            Plotly.purge(gd);\n",
       "            observer.disconnect();\n",
       "        }}\n",
       "}});\n",
       "\n",
       "// Listen for the removal of the full notebook cells\n",
       "var notebookContainer = gd.closest('#notebook-container');\n",
       "if (notebookContainer) {{\n",
       "    x.observe(notebookContainer, {childList: true});\n",
       "}}\n",
       "\n",
       "// Listen for the clearing of the current output cell\n",
       "var outputEl = gd.closest('.output');\n",
       "if (outputEl) {{\n",
       "    x.observe(outputEl, {childList: true});\n",
       "}}\n",
       "\n",
       "                        })                };                });            </script>        </div>"
      ]
     },
     "metadata": {},
     "output_type": "display_data"
    }
   ],
   "source": [
    "# Graph 5: Average Time on Social Media Distribution\n",
    "# This line calculates the counts of occurrences for each category in 'average_daily_use'.\n",
    "average_daily_use_counts = df['average_daily_use_category'].value_counts().reset_index()\n",
    "average_daily_use_counts.columns = ['Time on Social Media', 'Count']  # Renaming columns for clarity\n",
    "\n",
    "# Define a color sequence\n",
    "colors = px.colors.qualitative.Pastel  # Using Plotly's built-in qualitative pastel colors\n",
    "\n",
    "# Ensure there are enough colors for each bar by repeating the color sequence if necessary\n",
    "num_categories = average_daily_use_counts.shape[0]\n",
    "repeated_colors = pastel_colors * (num_categories // len(pastel_colors) + 1)\n",
    "average_daily_use_counts['Color'] = repeated_colors[:num_categories]\n",
    "\n",
    "# Create the bar plot with Plotly Express\n",
    "fig = px.bar(average_daily_use_counts, x='Time on Social Media', y='Count',\n",
    "             title='Average Time on Social Media Distribution',\n",
    "             color='Color',  # Use the Color column to map colors to bars\n",
    "             color_discrete_sequence=pastel_colors,  # Use the pastel color sequence\n",
    "             category_orders={'Time on Social Media': list(reverse_time_mapping.values())})  # Set the x-axis order\n",
    "\n",
    "# Update the layout to have a white background and gridlines\n",
    "fig.update_layout(\n",
    "    xaxis=dict(title='Time on Social Media', showgrid=True, gridcolor='LightGrey'),\n",
    "    yaxis=dict(title='Count', showgrid=True, gridcolor='LightGrey'),\n",
    "    plot_bgcolor='rgba(255,255,255,1)',\n",
    "    paper_bgcolor='rgba(255,255,255,1)',\n",
    "    showlegend=False\n",
    ")\n",
    "\n",
    "# Customize x-axis tick angle\n",
    "fig.update_xaxes(tickangle=45)\n",
    "fig.update_layout(width=1200, height=600)\n",
    "fig.show()"
   ]
  },
  {
   "cell_type": "markdown",
   "metadata": {},
   "source": [
    "The bar chart illustrates how much time users spend on social media on average, and it reveals that the largest group of users spends more than 5 hours per day on social media. The distribution is relatively even among those who spend less than an hour, those who spend between 1 and 2 hours, and those who spend between 3 and 4 hours per day on social media. Users who spend less than 1 hour represent a slightly smaller proportion, suggesting that the majority of users engage with social media for an extended period, which can be considered excessive."
   ]
  },
  {
   "cell_type": "markdown",
   "metadata": {},
   "source": [
    "## Data Visualization Habits And Mental Health"
   ]
  },
  {
   "cell_type": "code",
   "execution_count": 482,
   "metadata": {},
   "outputs": [
    {
     "data": {
      "text/html": [
       "<div>                            <div id=\"5dffa198-968f-4593-b982-35d6ff2a78a8\" class=\"plotly-graph-div\" style=\"height:1100px; width:1100px;\"></div>            <script type=\"text/javascript\">                require([\"plotly\"], function(Plotly) {                    window.PLOTLYENV=window.PLOTLYENV || {};                                    if (document.getElementById(\"5dffa198-968f-4593-b982-35d6ff2a78a8\")) {                    Plotly.newPlot(                        \"5dffa198-968f-4593-b982-35d6ff2a78a8\",                        [{\"coloraxis\":\"coloraxis\",\"name\":\"0\",\"texttemplate\":\"%{z}\",\"x\":[\"without_specific_purposeless_use(1-5)\",\"distraction_when_busy(1-5)\",\"restlessness(1-5)\",\"easy_distraction_scale(1-5)\",\"bothered_by_worries_scale(1-5)\",\"concentration_difficulty(1-5)\",\"comparison_with_others(1-5)\",\"feelings_about_comparison(1-5)\",\"validation_seeking(1-5)\",\"feel_depressed(1-5)\",\"interest_daily_activities_fluctuation(1-5)\",\"sleep_issues(1-5)\"],\"y\":[\"without_specific_purposeless_use(1-5)\",\"distraction_when_busy(1-5)\",\"restlessness(1-5)\",\"easy_distraction_scale(1-5)\",\"bothered_by_worries_scale(1-5)\",\"concentration_difficulty(1-5)\",\"comparison_with_others(1-5)\",\"feelings_about_comparison(1-5)\",\"validation_seeking(1-5)\",\"feel_depressed(1-5)\",\"interest_daily_activities_fluctuation(1-5)\",\"sleep_issues(1-5)\"],\"z\":[[1.0,0.4633529129055255,0.3590310768127673,0.36549070486734775,0.25208205352517615,0.28882859212394996,0.14820313199114024,0.08764478458346342,0.14451926220040498,0.31547811200867365,0.3593791059323829,0.2604961955855881],[0.4633529129055255,1.0,0.513354271995642,0.607418669694947,0.3433067663997728,0.5277449058081793,0.2885044302503073,0.07806549398148666,0.2701441659219617,0.37944392129183596,0.38913249167208547,0.25536203440920757],[0.3590310768127673,0.513354271995642,1.0,0.5148014558373818,0.34703636592953735,0.4694401304012542,0.32097257265936335,0.13419147923066777,0.24592483630125545,0.3289691584596133,0.3847697886477313,0.1666008837228022],[0.36549070486734775,0.607418669694947,0.5148014558373818,1.0,0.4626728686770986,0.6627681964191637,0.2861196635482459,0.014629965675761084,0.1725850397670323,0.4076666524248793,0.4799933835896456,0.2911469608786729],[0.25208205352517615,0.3433067663997728,0.34703636592953735,0.4626728686770986,1.0,0.5459040997808661,0.41430131498181094,0.02058869220357385,0.20884671693222467,0.5887573316541285,0.4303484349464623,0.3273670868378643],[0.28882859212394996,0.5277449058081793,0.4694401304012542,0.6627681964191637,0.5459040997808661,1.0,0.3711561365387113,0.06074217887175159,0.24203548935946553,0.5097936151628695,0.5031958754109154,0.35467614395619695],[0.14820313199114024,0.2885044302503073,0.32097257265936335,0.2861196635482459,0.41430131498181094,0.3711561365387113,1.0,-0.011467717004540226,0.4173276959953734,0.4178008186736344,0.3742423218750305,0.19371648068179675],[0.08764478458346342,0.07806549398148666,0.13419147923066777,0.014629965675761084,0.02058869220357385,0.06074217887175159,-0.011467717004540226,1.0,0.1535741222612595,0.03546954999197636,0.04615273242738216,0.06850990260803914],[0.14451926220040498,0.2701441659219617,0.24592483630125545,0.1725850397670323,0.20884671693222467,0.24203548935946553,0.4173276959953734,0.1535741222612595,1.0,0.2721253426512112,0.27857470028881776,0.12889842751353198],[0.31547811200867365,0.37944392129183596,0.3289691584596133,0.4076666524248793,0.5887573316541285,0.5097936151628695,0.4178008186736344,0.03546954999197636,0.2721253426512112,1.0,0.4949755887453745,0.3747260726354343],[0.3593791059323829,0.38913249167208547,0.3847697886477313,0.4799933835896456,0.4303484349464623,0.5031958754109154,0.3742423218750305,0.04615273242738216,0.27857470028881776,0.4949755887453745,1.0,0.31924702670539457],[0.2604961955855881,0.25536203440920757,0.1666008837228022,0.2911469608786729,0.3273670868378643,0.35467614395619695,0.19371648068179675,0.06850990260803914,0.12889842751353198,0.3747260726354343,0.31924702670539457,1.0]],\"type\":\"heatmap\",\"xaxis\":\"x\",\"yaxis\":\"y\",\"hovertemplate\":\"x: %{x}\\u003cbr\\u003ey: %{y}\\u003cbr\\u003eCorrelation: %{z}\\u003cextra\\u003e\\u003c\\u002fextra\\u003e\"}],                        {\"template\":{\"data\":{\"histogram2dcontour\":[{\"type\":\"histogram2dcontour\",\"colorbar\":{\"outlinewidth\":0,\"ticks\":\"\"},\"colorscale\":[[0.0,\"#0d0887\"],[0.1111111111111111,\"#46039f\"],[0.2222222222222222,\"#7201a8\"],[0.3333333333333333,\"#9c179e\"],[0.4444444444444444,\"#bd3786\"],[0.5555555555555556,\"#d8576b\"],[0.6666666666666666,\"#ed7953\"],[0.7777777777777778,\"#fb9f3a\"],[0.8888888888888888,\"#fdca26\"],[1.0,\"#f0f921\"]]}],\"choropleth\":[{\"type\":\"choropleth\",\"colorbar\":{\"outlinewidth\":0,\"ticks\":\"\"}}],\"histogram2d\":[{\"type\":\"histogram2d\",\"colorbar\":{\"outlinewidth\":0,\"ticks\":\"\"},\"colorscale\":[[0.0,\"#0d0887\"],[0.1111111111111111,\"#46039f\"],[0.2222222222222222,\"#7201a8\"],[0.3333333333333333,\"#9c179e\"],[0.4444444444444444,\"#bd3786\"],[0.5555555555555556,\"#d8576b\"],[0.6666666666666666,\"#ed7953\"],[0.7777777777777778,\"#fb9f3a\"],[0.8888888888888888,\"#fdca26\"],[1.0,\"#f0f921\"]]}],\"heatmap\":[{\"type\":\"heatmap\",\"colorbar\":{\"outlinewidth\":0,\"ticks\":\"\"},\"colorscale\":[[0.0,\"#0d0887\"],[0.1111111111111111,\"#46039f\"],[0.2222222222222222,\"#7201a8\"],[0.3333333333333333,\"#9c179e\"],[0.4444444444444444,\"#bd3786\"],[0.5555555555555556,\"#d8576b\"],[0.6666666666666666,\"#ed7953\"],[0.7777777777777778,\"#fb9f3a\"],[0.8888888888888888,\"#fdca26\"],[1.0,\"#f0f921\"]]}],\"heatmapgl\":[{\"type\":\"heatmapgl\",\"colorbar\":{\"outlinewidth\":0,\"ticks\":\"\"},\"colorscale\":[[0.0,\"#0d0887\"],[0.1111111111111111,\"#46039f\"],[0.2222222222222222,\"#7201a8\"],[0.3333333333333333,\"#9c179e\"],[0.4444444444444444,\"#bd3786\"],[0.5555555555555556,\"#d8576b\"],[0.6666666666666666,\"#ed7953\"],[0.7777777777777778,\"#fb9f3a\"],[0.8888888888888888,\"#fdca26\"],[1.0,\"#f0f921\"]]}],\"contourcarpet\":[{\"type\":\"contourcarpet\",\"colorbar\":{\"outlinewidth\":0,\"ticks\":\"\"}}],\"contour\":[{\"type\":\"contour\",\"colorbar\":{\"outlinewidth\":0,\"ticks\":\"\"},\"colorscale\":[[0.0,\"#0d0887\"],[0.1111111111111111,\"#46039f\"],[0.2222222222222222,\"#7201a8\"],[0.3333333333333333,\"#9c179e\"],[0.4444444444444444,\"#bd3786\"],[0.5555555555555556,\"#d8576b\"],[0.6666666666666666,\"#ed7953\"],[0.7777777777777778,\"#fb9f3a\"],[0.8888888888888888,\"#fdca26\"],[1.0,\"#f0f921\"]]}],\"surface\":[{\"type\":\"surface\",\"colorbar\":{\"outlinewidth\":0,\"ticks\":\"\"},\"colorscale\":[[0.0,\"#0d0887\"],[0.1111111111111111,\"#46039f\"],[0.2222222222222222,\"#7201a8\"],[0.3333333333333333,\"#9c179e\"],[0.4444444444444444,\"#bd3786\"],[0.5555555555555556,\"#d8576b\"],[0.6666666666666666,\"#ed7953\"],[0.7777777777777778,\"#fb9f3a\"],[0.8888888888888888,\"#fdca26\"],[1.0,\"#f0f921\"]]}],\"mesh3d\":[{\"type\":\"mesh3d\",\"colorbar\":{\"outlinewidth\":0,\"ticks\":\"\"}}],\"scatter\":[{\"fillpattern\":{\"fillmode\":\"overlay\",\"size\":10,\"solidity\":0.2},\"type\":\"scatter\"}],\"parcoords\":[{\"type\":\"parcoords\",\"line\":{\"colorbar\":{\"outlinewidth\":0,\"ticks\":\"\"}}}],\"scatterpolargl\":[{\"type\":\"scatterpolargl\",\"marker\":{\"colorbar\":{\"outlinewidth\":0,\"ticks\":\"\"}}}],\"bar\":[{\"error_x\":{\"color\":\"#2a3f5f\"},\"error_y\":{\"color\":\"#2a3f5f\"},\"marker\":{\"line\":{\"color\":\"#E5ECF6\",\"width\":0.5},\"pattern\":{\"fillmode\":\"overlay\",\"size\":10,\"solidity\":0.2}},\"type\":\"bar\"}],\"scattergeo\":[{\"type\":\"scattergeo\",\"marker\":{\"colorbar\":{\"outlinewidth\":0,\"ticks\":\"\"}}}],\"scatterpolar\":[{\"type\":\"scatterpolar\",\"marker\":{\"colorbar\":{\"outlinewidth\":0,\"ticks\":\"\"}}}],\"histogram\":[{\"marker\":{\"pattern\":{\"fillmode\":\"overlay\",\"size\":10,\"solidity\":0.2}},\"type\":\"histogram\"}],\"scattergl\":[{\"type\":\"scattergl\",\"marker\":{\"colorbar\":{\"outlinewidth\":0,\"ticks\":\"\"}}}],\"scatter3d\":[{\"type\":\"scatter3d\",\"line\":{\"colorbar\":{\"outlinewidth\":0,\"ticks\":\"\"}},\"marker\":{\"colorbar\":{\"outlinewidth\":0,\"ticks\":\"\"}}}],\"scattermapbox\":[{\"type\":\"scattermapbox\",\"marker\":{\"colorbar\":{\"outlinewidth\":0,\"ticks\":\"\"}}}],\"scatterternary\":[{\"type\":\"scatterternary\",\"marker\":{\"colorbar\":{\"outlinewidth\":0,\"ticks\":\"\"}}}],\"scattercarpet\":[{\"type\":\"scattercarpet\",\"marker\":{\"colorbar\":{\"outlinewidth\":0,\"ticks\":\"\"}}}],\"carpet\":[{\"aaxis\":{\"endlinecolor\":\"#2a3f5f\",\"gridcolor\":\"white\",\"linecolor\":\"white\",\"minorgridcolor\":\"white\",\"startlinecolor\":\"#2a3f5f\"},\"baxis\":{\"endlinecolor\":\"#2a3f5f\",\"gridcolor\":\"white\",\"linecolor\":\"white\",\"minorgridcolor\":\"white\",\"startlinecolor\":\"#2a3f5f\"},\"type\":\"carpet\"}],\"table\":[{\"cells\":{\"fill\":{\"color\":\"#EBF0F8\"},\"line\":{\"color\":\"white\"}},\"header\":{\"fill\":{\"color\":\"#C8D4E3\"},\"line\":{\"color\":\"white\"}},\"type\":\"table\"}],\"barpolar\":[{\"marker\":{\"line\":{\"color\":\"#E5ECF6\",\"width\":0.5},\"pattern\":{\"fillmode\":\"overlay\",\"size\":10,\"solidity\":0.2}},\"type\":\"barpolar\"}],\"pie\":[{\"automargin\":true,\"type\":\"pie\"}]},\"layout\":{\"autotypenumbers\":\"strict\",\"colorway\":[\"#636efa\",\"#EF553B\",\"#00cc96\",\"#ab63fa\",\"#FFA15A\",\"#19d3f3\",\"#FF6692\",\"#B6E880\",\"#FF97FF\",\"#FECB52\"],\"font\":{\"color\":\"#2a3f5f\"},\"hovermode\":\"closest\",\"hoverlabel\":{\"align\":\"left\"},\"paper_bgcolor\":\"white\",\"plot_bgcolor\":\"#E5ECF6\",\"polar\":{\"bgcolor\":\"#E5ECF6\",\"angularaxis\":{\"gridcolor\":\"white\",\"linecolor\":\"white\",\"ticks\":\"\"},\"radialaxis\":{\"gridcolor\":\"white\",\"linecolor\":\"white\",\"ticks\":\"\"}},\"ternary\":{\"bgcolor\":\"#E5ECF6\",\"aaxis\":{\"gridcolor\":\"white\",\"linecolor\":\"white\",\"ticks\":\"\"},\"baxis\":{\"gridcolor\":\"white\",\"linecolor\":\"white\",\"ticks\":\"\"},\"caxis\":{\"gridcolor\":\"white\",\"linecolor\":\"white\",\"ticks\":\"\"}},\"coloraxis\":{\"colorbar\":{\"outlinewidth\":0,\"ticks\":\"\"}},\"colorscale\":{\"sequential\":[[0.0,\"#0d0887\"],[0.1111111111111111,\"#46039f\"],[0.2222222222222222,\"#7201a8\"],[0.3333333333333333,\"#9c179e\"],[0.4444444444444444,\"#bd3786\"],[0.5555555555555556,\"#d8576b\"],[0.6666666666666666,\"#ed7953\"],[0.7777777777777778,\"#fb9f3a\"],[0.8888888888888888,\"#fdca26\"],[1.0,\"#f0f921\"]],\"sequentialminus\":[[0.0,\"#0d0887\"],[0.1111111111111111,\"#46039f\"],[0.2222222222222222,\"#7201a8\"],[0.3333333333333333,\"#9c179e\"],[0.4444444444444444,\"#bd3786\"],[0.5555555555555556,\"#d8576b\"],[0.6666666666666666,\"#ed7953\"],[0.7777777777777778,\"#fb9f3a\"],[0.8888888888888888,\"#fdca26\"],[1.0,\"#f0f921\"]],\"diverging\":[[0,\"#8e0152\"],[0.1,\"#c51b7d\"],[0.2,\"#de77ae\"],[0.3,\"#f1b6da\"],[0.4,\"#fde0ef\"],[0.5,\"#f7f7f7\"],[0.6,\"#e6f5d0\"],[0.7,\"#b8e186\"],[0.8,\"#7fbc41\"],[0.9,\"#4d9221\"],[1,\"#276419\"]]},\"xaxis\":{\"gridcolor\":\"white\",\"linecolor\":\"white\",\"ticks\":\"\",\"title\":{\"standoff\":15},\"zerolinecolor\":\"white\",\"automargin\":true,\"zerolinewidth\":2},\"yaxis\":{\"gridcolor\":\"white\",\"linecolor\":\"white\",\"ticks\":\"\",\"title\":{\"standoff\":15},\"zerolinecolor\":\"white\",\"automargin\":true,\"zerolinewidth\":2},\"scene\":{\"xaxis\":{\"backgroundcolor\":\"#E5ECF6\",\"gridcolor\":\"white\",\"linecolor\":\"white\",\"showbackground\":true,\"ticks\":\"\",\"zerolinecolor\":\"white\",\"gridwidth\":2},\"yaxis\":{\"backgroundcolor\":\"#E5ECF6\",\"gridcolor\":\"white\",\"linecolor\":\"white\",\"showbackground\":true,\"ticks\":\"\",\"zerolinecolor\":\"white\",\"gridwidth\":2},\"zaxis\":{\"backgroundcolor\":\"#E5ECF6\",\"gridcolor\":\"white\",\"linecolor\":\"white\",\"showbackground\":true,\"ticks\":\"\",\"zerolinecolor\":\"white\",\"gridwidth\":2}},\"shapedefaults\":{\"line\":{\"color\":\"#2a3f5f\"}},\"annotationdefaults\":{\"arrowcolor\":\"#2a3f5f\",\"arrowhead\":0,\"arrowwidth\":1},\"geo\":{\"bgcolor\":\"white\",\"landcolor\":\"#E5ECF6\",\"subunitcolor\":\"white\",\"showland\":true,\"showlakes\":true,\"lakecolor\":\"white\"},\"title\":{\"x\":0.05},\"mapbox\":{\"style\":\"light\"}}},\"xaxis\":{\"anchor\":\"y\",\"domain\":[0.0,1.0],\"scaleanchor\":\"y\",\"constrain\":\"domain\",\"nticks\":36},\"yaxis\":{\"anchor\":\"x\",\"domain\":[0.0,1.0],\"autorange\":\"reversed\",\"constrain\":\"domain\",\"nticks\":36},\"coloraxis\":{\"colorbar\":{\"title\":{\"text\":\"Correlation\"},\"x\":1.5,\"y\":0.5,\"lenmode\":\"fraction\",\"len\":0.65},\"colorscale\":[[0.0,\"rgb(103,0,31)\"],[0.1,\"rgb(178,24,43)\"],[0.2,\"rgb(214,96,77)\"],[0.3,\"rgb(244,165,130)\"],[0.4,\"rgb(253,219,199)\"],[0.5,\"rgb(247,247,247)\"],[0.6,\"rgb(209,229,240)\"],[0.7,\"rgb(146,197,222)\"],[0.8,\"rgb(67,147,195)\"],[0.9,\"rgb(33,102,172)\"],[1.0,\"rgb(5,48,97)\"]]},\"margin\":{\"t\":0,\"l\":170},\"title\":{\"text\":\"Correlation Heatmap of Psychological Features\",\"y\":0.95},\"plot_bgcolor\":\"rgba(255,255,255,1)\",\"paper_bgcolor\":\"rgba(255,255,255,1)\",\"width\":1100,\"height\":1100},                        {\"responsive\": true}                    ).then(function(){\n",
       "                            \n",
       "var gd = document.getElementById('5dffa198-968f-4593-b982-35d6ff2a78a8');\n",
       "var x = new MutationObserver(function (mutations, observer) {{\n",
       "        var display = window.getComputedStyle(gd).display;\n",
       "        if (!display || display === 'none') {{\n",
       "            console.log([gd, 'removed!']);\n",
       "            Plotly.purge(gd);\n",
       "            observer.disconnect();\n",
       "        }}\n",
       "}});\n",
       "\n",
       "// Listen for the removal of the full notebook cells\n",
       "var notebookContainer = gd.closest('#notebook-container');\n",
       "if (notebookContainer) {{\n",
       "    x.observe(notebookContainer, {childList: true});\n",
       "}}\n",
       "\n",
       "// Listen for the clearing of the current output cell\n",
       "var outputEl = gd.closest('.output');\n",
       "if (outputEl) {{\n",
       "    x.observe(outputEl, {childList: true});\n",
       "}}\n",
       "\n",
       "                        })                };                });            </script>        </div>"
      ]
     },
     "metadata": {},
     "output_type": "display_data"
    }
   ],
   "source": [
    "# Graph 1: Correlation Heatmap of Psychological Features\n",
    "# Compute the correlation matrix\n",
    "correlation_matrix = df.iloc[:, 9:].corr()\n",
    "\n",
    "# Create a heatmap with Plotly Express\n",
    "fig = px.imshow(correlation_matrix, text_auto=True, color_continuous_scale='RdBu',labels=dict(color='Correlation'), x=correlation_matrix.columns, y=correlation_matrix.columns)\n",
    "\n",
    "# Update the layout\n",
    "fig.update_layout(\n",
    "    title='Correlation Heatmap of Psychological Features',\n",
    "    xaxis_nticks=36,\n",
    "    yaxis_nticks=36,\n",
    "    plot_bgcolor='rgba(255,255,255,1)',\n",
    "    paper_bgcolor='rgba(255,255,255,1)',\n",
    "    margin=dict(l=170)\n",
    ")\n",
    "# Adjusting the color bar (legend) position\n",
    "fig.update_layout(coloraxis_colorbar=dict(\n",
    "    x=1.50,  # Positioning the colorbar to the right side\n",
    "    y=0.5,\n",
    "    lenmode='fraction',\n",
    "    len=0.65\n",
    "))\n",
    "\n",
    "# Increase the size of the figure\n",
    "fig.update_layout(width=1100, height=1100)\n",
    "# Lower the title\n",
    "fig.update_layout(title=dict(y=0.95))\n",
    "# Update the layout to reduce the top margin\n",
    "fig.update_layout(margin=dict(t=0))\n",
    "fig.show()"
   ]
  },
  {
   "cell_type": "markdown",
   "metadata": {},
   "source": [
    "The correlation heatmap for mental health and social media usage has been created. It shows how various factors such as purposeless social media use, feelings of restlessness, distraction, worries, concentration difficulty, comparison with others, feelings about comparison, validation seeking, depression, interest in daily activities fluctuation, and sleep issues correlate with each other."
   ]
  },
  {
   "cell_type": "code",
   "execution_count": 483,
   "metadata": {},
   "outputs": [
    {
     "data": {
      "text/html": [
       "<div>                            <div id=\"c3b5d606-3ab6-4316-8a7c-045859c9d194\" class=\"plotly-graph-div\" style=\"height:800px; width:1200px;\"></div>            <script type=\"text/javascript\">                require([\"plotly\"], function(Plotly) {                    window.PLOTLYENV=window.PLOTLYENV || {};                                    if (document.getElementById(\"c3b5d606-3ab6-4316-8a7c-045859c9d194\")) {                    Plotly.newPlot(                        \"c3b5d606-3ab6-4316-8a7c-045859c9d194\",                        [{\"alignmentgroup\":\"True\",\"hovertemplate\":\"uses_social_media=No\\u003cbr\\u003eCharacteristic=%{x}\\u003cbr\\u003eAverage Score=%{y}\\u003cextra\\u003e\\u003c\\u002fextra\\u003e\",\"legendgroup\":\"No\",\"marker\":{\"color\":\"#a9d5fc\",\"pattern\":{\"shape\":\"\"}},\"name\":\"No\",\"offsetgroup\":\"No\",\"orientation\":\"v\",\"showlegend\":true,\"textposition\":\"auto\",\"x\":[\"interest_daily_activities_fluctuation(1-5)\",\"concentration_difficulty(1-5)\",\"distraction_when_busy(1-5)\",\"without_specific_purposeless_use(1-5)\",\"sleep_issues(1-5)\",\"restlessness(1-5)\"],\"xaxis\":\"x\",\"y\":[2.0,1.3333333333333333,1.0,2.3333333333333335,1.3333333333333333,1.0],\"yaxis\":\"y\",\"type\":\"bar\"},{\"alignmentgroup\":\"True\",\"hovertemplate\":\"uses_social_media=Yes\\u003cbr\\u003eCharacteristic=%{x}\\u003cbr\\u003eAverage Score=%{y}\\u003cextra\\u003e\\u003c\\u002fextra\\u003e\",\"legendgroup\":\"Yes\",\"marker\":{\"color\":\"#ffaaa5\",\"pattern\":{\"shape\":\"\"}},\"name\":\"Yes\",\"offsetgroup\":\"Yes\",\"orientation\":\"v\",\"showlegend\":true,\"textposition\":\"auto\",\"x\":[\"interest_daily_activities_fluctuation(1-5)\",\"concentration_difficulty(1-5)\",\"distraction_when_busy(1-5)\",\"without_specific_purposeless_use(1-5)\",\"sleep_issues(1-5)\",\"restlessness(1-5)\"],\"xaxis\":\"x\",\"y\":[3.1778242677824267,3.2573221757322175,3.3347280334728033,3.5606694560669454,3.213389121338912,2.598326359832636],\"yaxis\":\"y\",\"type\":\"bar\"}],                        {\"template\":{\"data\":{\"histogram2dcontour\":[{\"type\":\"histogram2dcontour\",\"colorbar\":{\"outlinewidth\":0,\"ticks\":\"\"},\"colorscale\":[[0.0,\"#0d0887\"],[0.1111111111111111,\"#46039f\"],[0.2222222222222222,\"#7201a8\"],[0.3333333333333333,\"#9c179e\"],[0.4444444444444444,\"#bd3786\"],[0.5555555555555556,\"#d8576b\"],[0.6666666666666666,\"#ed7953\"],[0.7777777777777778,\"#fb9f3a\"],[0.8888888888888888,\"#fdca26\"],[1.0,\"#f0f921\"]]}],\"choropleth\":[{\"type\":\"choropleth\",\"colorbar\":{\"outlinewidth\":0,\"ticks\":\"\"}}],\"histogram2d\":[{\"type\":\"histogram2d\",\"colorbar\":{\"outlinewidth\":0,\"ticks\":\"\"},\"colorscale\":[[0.0,\"#0d0887\"],[0.1111111111111111,\"#46039f\"],[0.2222222222222222,\"#7201a8\"],[0.3333333333333333,\"#9c179e\"],[0.4444444444444444,\"#bd3786\"],[0.5555555555555556,\"#d8576b\"],[0.6666666666666666,\"#ed7953\"],[0.7777777777777778,\"#fb9f3a\"],[0.8888888888888888,\"#fdca26\"],[1.0,\"#f0f921\"]]}],\"heatmap\":[{\"type\":\"heatmap\",\"colorbar\":{\"outlinewidth\":0,\"ticks\":\"\"},\"colorscale\":[[0.0,\"#0d0887\"],[0.1111111111111111,\"#46039f\"],[0.2222222222222222,\"#7201a8\"],[0.3333333333333333,\"#9c179e\"],[0.4444444444444444,\"#bd3786\"],[0.5555555555555556,\"#d8576b\"],[0.6666666666666666,\"#ed7953\"],[0.7777777777777778,\"#fb9f3a\"],[0.8888888888888888,\"#fdca26\"],[1.0,\"#f0f921\"]]}],\"heatmapgl\":[{\"type\":\"heatmapgl\",\"colorbar\":{\"outlinewidth\":0,\"ticks\":\"\"},\"colorscale\":[[0.0,\"#0d0887\"],[0.1111111111111111,\"#46039f\"],[0.2222222222222222,\"#7201a8\"],[0.3333333333333333,\"#9c179e\"],[0.4444444444444444,\"#bd3786\"],[0.5555555555555556,\"#d8576b\"],[0.6666666666666666,\"#ed7953\"],[0.7777777777777778,\"#fb9f3a\"],[0.8888888888888888,\"#fdca26\"],[1.0,\"#f0f921\"]]}],\"contourcarpet\":[{\"type\":\"contourcarpet\",\"colorbar\":{\"outlinewidth\":0,\"ticks\":\"\"}}],\"contour\":[{\"type\":\"contour\",\"colorbar\":{\"outlinewidth\":0,\"ticks\":\"\"},\"colorscale\":[[0.0,\"#0d0887\"],[0.1111111111111111,\"#46039f\"],[0.2222222222222222,\"#7201a8\"],[0.3333333333333333,\"#9c179e\"],[0.4444444444444444,\"#bd3786\"],[0.5555555555555556,\"#d8576b\"],[0.6666666666666666,\"#ed7953\"],[0.7777777777777778,\"#fb9f3a\"],[0.8888888888888888,\"#fdca26\"],[1.0,\"#f0f921\"]]}],\"surface\":[{\"type\":\"surface\",\"colorbar\":{\"outlinewidth\":0,\"ticks\":\"\"},\"colorscale\":[[0.0,\"#0d0887\"],[0.1111111111111111,\"#46039f\"],[0.2222222222222222,\"#7201a8\"],[0.3333333333333333,\"#9c179e\"],[0.4444444444444444,\"#bd3786\"],[0.5555555555555556,\"#d8576b\"],[0.6666666666666666,\"#ed7953\"],[0.7777777777777778,\"#fb9f3a\"],[0.8888888888888888,\"#fdca26\"],[1.0,\"#f0f921\"]]}],\"mesh3d\":[{\"type\":\"mesh3d\",\"colorbar\":{\"outlinewidth\":0,\"ticks\":\"\"}}],\"scatter\":[{\"fillpattern\":{\"fillmode\":\"overlay\",\"size\":10,\"solidity\":0.2},\"type\":\"scatter\"}],\"parcoords\":[{\"type\":\"parcoords\",\"line\":{\"colorbar\":{\"outlinewidth\":0,\"ticks\":\"\"}}}],\"scatterpolargl\":[{\"type\":\"scatterpolargl\",\"marker\":{\"colorbar\":{\"outlinewidth\":0,\"ticks\":\"\"}}}],\"bar\":[{\"error_x\":{\"color\":\"#2a3f5f\"},\"error_y\":{\"color\":\"#2a3f5f\"},\"marker\":{\"line\":{\"color\":\"#E5ECF6\",\"width\":0.5},\"pattern\":{\"fillmode\":\"overlay\",\"size\":10,\"solidity\":0.2}},\"type\":\"bar\"}],\"scattergeo\":[{\"type\":\"scattergeo\",\"marker\":{\"colorbar\":{\"outlinewidth\":0,\"ticks\":\"\"}}}],\"scatterpolar\":[{\"type\":\"scatterpolar\",\"marker\":{\"colorbar\":{\"outlinewidth\":0,\"ticks\":\"\"}}}],\"histogram\":[{\"marker\":{\"pattern\":{\"fillmode\":\"overlay\",\"size\":10,\"solidity\":0.2}},\"type\":\"histogram\"}],\"scattergl\":[{\"type\":\"scattergl\",\"marker\":{\"colorbar\":{\"outlinewidth\":0,\"ticks\":\"\"}}}],\"scatter3d\":[{\"type\":\"scatter3d\",\"line\":{\"colorbar\":{\"outlinewidth\":0,\"ticks\":\"\"}},\"marker\":{\"colorbar\":{\"outlinewidth\":0,\"ticks\":\"\"}}}],\"scattermapbox\":[{\"type\":\"scattermapbox\",\"marker\":{\"colorbar\":{\"outlinewidth\":0,\"ticks\":\"\"}}}],\"scatterternary\":[{\"type\":\"scatterternary\",\"marker\":{\"colorbar\":{\"outlinewidth\":0,\"ticks\":\"\"}}}],\"scattercarpet\":[{\"type\":\"scattercarpet\",\"marker\":{\"colorbar\":{\"outlinewidth\":0,\"ticks\":\"\"}}}],\"carpet\":[{\"aaxis\":{\"endlinecolor\":\"#2a3f5f\",\"gridcolor\":\"white\",\"linecolor\":\"white\",\"minorgridcolor\":\"white\",\"startlinecolor\":\"#2a3f5f\"},\"baxis\":{\"endlinecolor\":\"#2a3f5f\",\"gridcolor\":\"white\",\"linecolor\":\"white\",\"minorgridcolor\":\"white\",\"startlinecolor\":\"#2a3f5f\"},\"type\":\"carpet\"}],\"table\":[{\"cells\":{\"fill\":{\"color\":\"#EBF0F8\"},\"line\":{\"color\":\"white\"}},\"header\":{\"fill\":{\"color\":\"#C8D4E3\"},\"line\":{\"color\":\"white\"}},\"type\":\"table\"}],\"barpolar\":[{\"marker\":{\"line\":{\"color\":\"#E5ECF6\",\"width\":0.5},\"pattern\":{\"fillmode\":\"overlay\",\"size\":10,\"solidity\":0.2}},\"type\":\"barpolar\"}],\"pie\":[{\"automargin\":true,\"type\":\"pie\"}]},\"layout\":{\"autotypenumbers\":\"strict\",\"colorway\":[\"#636efa\",\"#EF553B\",\"#00cc96\",\"#ab63fa\",\"#FFA15A\",\"#19d3f3\",\"#FF6692\",\"#B6E880\",\"#FF97FF\",\"#FECB52\"],\"font\":{\"color\":\"#2a3f5f\"},\"hovermode\":\"closest\",\"hoverlabel\":{\"align\":\"left\"},\"paper_bgcolor\":\"white\",\"plot_bgcolor\":\"#E5ECF6\",\"polar\":{\"bgcolor\":\"#E5ECF6\",\"angularaxis\":{\"gridcolor\":\"white\",\"linecolor\":\"white\",\"ticks\":\"\"},\"radialaxis\":{\"gridcolor\":\"white\",\"linecolor\":\"white\",\"ticks\":\"\"}},\"ternary\":{\"bgcolor\":\"#E5ECF6\",\"aaxis\":{\"gridcolor\":\"white\",\"linecolor\":\"white\",\"ticks\":\"\"},\"baxis\":{\"gridcolor\":\"white\",\"linecolor\":\"white\",\"ticks\":\"\"},\"caxis\":{\"gridcolor\":\"white\",\"linecolor\":\"white\",\"ticks\":\"\"}},\"coloraxis\":{\"colorbar\":{\"outlinewidth\":0,\"ticks\":\"\"}},\"colorscale\":{\"sequential\":[[0.0,\"#0d0887\"],[0.1111111111111111,\"#46039f\"],[0.2222222222222222,\"#7201a8\"],[0.3333333333333333,\"#9c179e\"],[0.4444444444444444,\"#bd3786\"],[0.5555555555555556,\"#d8576b\"],[0.6666666666666666,\"#ed7953\"],[0.7777777777777778,\"#fb9f3a\"],[0.8888888888888888,\"#fdca26\"],[1.0,\"#f0f921\"]],\"sequentialminus\":[[0.0,\"#0d0887\"],[0.1111111111111111,\"#46039f\"],[0.2222222222222222,\"#7201a8\"],[0.3333333333333333,\"#9c179e\"],[0.4444444444444444,\"#bd3786\"],[0.5555555555555556,\"#d8576b\"],[0.6666666666666666,\"#ed7953\"],[0.7777777777777778,\"#fb9f3a\"],[0.8888888888888888,\"#fdca26\"],[1.0,\"#f0f921\"]],\"diverging\":[[0,\"#8e0152\"],[0.1,\"#c51b7d\"],[0.2,\"#de77ae\"],[0.3,\"#f1b6da\"],[0.4,\"#fde0ef\"],[0.5,\"#f7f7f7\"],[0.6,\"#e6f5d0\"],[0.7,\"#b8e186\"],[0.8,\"#7fbc41\"],[0.9,\"#4d9221\"],[1,\"#276419\"]]},\"xaxis\":{\"gridcolor\":\"white\",\"linecolor\":\"white\",\"ticks\":\"\",\"title\":{\"standoff\":15},\"zerolinecolor\":\"white\",\"automargin\":true,\"zerolinewidth\":2},\"yaxis\":{\"gridcolor\":\"white\",\"linecolor\":\"white\",\"ticks\":\"\",\"title\":{\"standoff\":15},\"zerolinecolor\":\"white\",\"automargin\":true,\"zerolinewidth\":2},\"scene\":{\"xaxis\":{\"backgroundcolor\":\"#E5ECF6\",\"gridcolor\":\"white\",\"linecolor\":\"white\",\"showbackground\":true,\"ticks\":\"\",\"zerolinecolor\":\"white\",\"gridwidth\":2},\"yaxis\":{\"backgroundcolor\":\"#E5ECF6\",\"gridcolor\":\"white\",\"linecolor\":\"white\",\"showbackground\":true,\"ticks\":\"\",\"zerolinecolor\":\"white\",\"gridwidth\":2},\"zaxis\":{\"backgroundcolor\":\"#E5ECF6\",\"gridcolor\":\"white\",\"linecolor\":\"white\",\"showbackground\":true,\"ticks\":\"\",\"zerolinecolor\":\"white\",\"gridwidth\":2}},\"shapedefaults\":{\"line\":{\"color\":\"#2a3f5f\"}},\"annotationdefaults\":{\"arrowcolor\":\"#2a3f5f\",\"arrowhead\":0,\"arrowwidth\":1},\"geo\":{\"bgcolor\":\"white\",\"landcolor\":\"#E5ECF6\",\"subunitcolor\":\"white\",\"showland\":true,\"showlakes\":true,\"lakecolor\":\"white\"},\"title\":{\"x\":0.05},\"mapbox\":{\"style\":\"light\"}}},\"xaxis\":{\"anchor\":\"y\",\"domain\":[0.0,1.0],\"title\":{\"text\":\"Characteristic\"},\"tickfont\":{\"family\":\"Arial\",\"size\":12,\"color\":\"black\"},\"showline\":true,\"showgrid\":true,\"gridcolor\":\"lightgrey\",\"linecolor\":\"black\",\"linewidth\":2,\"ticks\":\"outside\",\"tickangle\":-45},\"yaxis\":{\"anchor\":\"x\",\"domain\":[0.0,1.0],\"title\":{\"text\":\"Average Score\"},\"tickfont\":{\"family\":\"Arial\",\"size\":12,\"color\":\"black\"},\"showline\":true,\"showgrid\":true,\"gridcolor\":\"lightgrey\",\"linecolor\":\"black\",\"linewidth\":2,\"ticks\":\"outside\"},\"legend\":{\"title\":{\"text\":\"uses_social_media\"},\"tracegroupgap\":0},\"title\":{\"text\":\"Comparative Analysis of Social Media Usage and Its Impact on Habits Characteristics\"},\"barmode\":\"group\",\"plot_bgcolor\":\"rgba(255,255,255,1)\",\"paper_bgcolor\":\"rgba(255,255,255,1)\",\"showlegend\":true,\"width\":1200,\"height\":800},                        {\"responsive\": true}                    ).then(function(){\n",
       "                            \n",
       "var gd = document.getElementById('c3b5d606-3ab6-4316-8a7c-045859c9d194');\n",
       "var x = new MutationObserver(function (mutations, observer) {{\n",
       "        var display = window.getComputedStyle(gd).display;\n",
       "        if (!display || display === 'none') {{\n",
       "            console.log([gd, 'removed!']);\n",
       "            Plotly.purge(gd);\n",
       "            observer.disconnect();\n",
       "        }}\n",
       "}});\n",
       "\n",
       "// Listen for the removal of the full notebook cells\n",
       "var notebookContainer = gd.closest('#notebook-container');\n",
       "if (notebookContainer) {{\n",
       "    x.observe(notebookContainer, {childList: true});\n",
       "}}\n",
       "\n",
       "// Listen for the clearing of the current output cell\n",
       "var outputEl = gd.closest('.output');\n",
       "if (outputEl) {{\n",
       "    x.observe(outputEl, {childList: true});\n",
       "}}\n",
       "\n",
       "                        })                };                });            </script>        </div>"
      ]
     },
     "metadata": {},
     "output_type": "display_data"
    }
   ],
   "source": [
    "# Graph 2 : Comparative Analysis of Social Media Usage and Its Impact on Habits Characteristics\n",
    "# Define the value variables\n",
    "value_vars = [\n",
    "    'interest_daily_activities_fluctuation(1-5)', \n",
    "    'concentration_difficulty(1-5)', \n",
    "    'distraction_when_busy(1-5)', \n",
    "    'without_specific_purposeless_use(1-5)', \n",
    "    'sleep_issues(1-5)', \n",
    "    'restlessness(1-5)'\n",
    "]\n",
    "\n",
    "# Calculate mean scores\n",
    "mean_scores = df.groupby('uses_social_media')[value_vars].mean().reset_index()\n",
    "\n",
    "# Melt the mean_scores dataframe\n",
    "melted_data = mean_scores.melt(id_vars='uses_social_media', var_name='Characteristic', value_name='Average Score')\n",
    "\n",
    "# Define a color map for the 'Yes' and 'No' categories\n",
    "color_map = {'Yes': \"#ffaaa5\", 'No': \"#a9d5fc\"}\n",
    "\n",
    "# Create the bar plot with a white background\n",
    "fig = px.bar(\n",
    "    melted_data, \n",
    "    x='Characteristic', \n",
    "    y='Average Score', \n",
    "    color='uses_social_media', \n",
    "    barmode='group',\n",
    "    color_discrete_map=color_map,\n",
    "    title='Comparative Analysis of Social Media Usage and Its Impact on Habits Characteristics'\n",
    ")\n",
    "\n",
    "# Update the layout with a white background and gridlines\n",
    "fig.update_layout(\n",
    "    plot_bgcolor='rgba(255,255,255,1)',\n",
    "    paper_bgcolor='rgba(255,255,255,1)',\n",
    "    showlegend=True,\n",
    "    xaxis=dict(\n",
    "        showline=True,\n",
    "        showgrid=True,\n",
    "        gridcolor='lightgrey',\n",
    "        linecolor='black',\n",
    "        linewidth=2,\n",
    "        ticks='outside',\n",
    "        tickfont=dict(\n",
    "            family='Arial',\n",
    "            size=12,\n",
    "            color='black'\n",
    "        ),\n",
    "    ),\n",
    "    yaxis=dict(\n",
    "        showline=True,\n",
    "        showgrid=True,\n",
    "        gridcolor='lightgrey',\n",
    "        linecolor='black',\n",
    "        linewidth=2,\n",
    "        ticks='outside',\n",
    "        tickfont=dict(\n",
    "            family='Arial',\n",
    "            size=12,\n",
    "            color='black'\n",
    "        ),\n",
    "    ),\n",
    "    xaxis_title='Characteristic',\n",
    "    yaxis_title='Average Score',\n",
    "    xaxis_tickangle=-45\n",
    ")\n",
    "fig.update_layout(width=1200, height=800)\n",
    "fig.show()"
   ]
  },
  {
   "cell_type": "markdown",
   "metadata": {},
   "source": [
    "The graph presents a side-by-side comparison of average scores on various mental health-related characteristics, contrasting social media users with non-users. It indicates that social media users generally report higher levels of difficulty with concentration, distraction while busy, purposeless use, sleep issues, and restlessness compared to non-users, highlighting a potential adverse impact of social media usage on these aspects of mental health."
   ]
  },
  {
   "cell_type": "markdown",
   "metadata": {},
   "source": [
    "## Data Visualization Self Reflection And Mental Health"
   ]
  },
  {
   "cell_type": "code",
   "execution_count": 484,
   "metadata": {},
   "outputs": [
    {
     "name": "stderr",
     "output_type": "stream",
     "text": [
      "/var/folders/5g/3_n1b4wj6rd2cr07gfh2bv6w0000gn/T/ipykernel_14772/2696779283.py:3: FutureWarning:\n",
      "\n",
      "Indexing with multiple keys (implicitly converted to a tuple of keys) will be deprecated, use a list instead.\n",
      "\n"
     ]
    },
    {
     "data": {
      "text/html": [
       "<div>                            <div id=\"3be2de41-bfe7-4fab-b0b6-83a32830896e\" class=\"plotly-graph-div\" style=\"height:1100px; width:1100px;\"></div>            <script type=\"text/javascript\">                require([\"plotly\"], function(Plotly) {                    window.PLOTLYENV=window.PLOTLYENV || {};                                    if (document.getElementById(\"3be2de41-bfe7-4fab-b0b6-83a32830896e\")) {                    Plotly.newPlot(                        \"3be2de41-bfe7-4fab-b0b6-83a32830896e\",                        [{\"marker\":{\"color\":\"#a9d5fc\"},\"name\":\"No\",\"x\":[\"No\"],\"y\":[1.0],\"type\":\"bar\",\"xaxis\":\"x\",\"yaxis\":\"y\"},{\"marker\":{\"color\":\"#ffaaa5\"},\"name\":\"Yes\",\"x\":[\"Yes\"],\"y\":[2.8430962343096233],\"type\":\"bar\",\"xaxis\":\"x\",\"yaxis\":\"y\"},{\"marker\":{\"color\":\"#a9d5fc\"},\"name\":\"No\",\"x\":[\"No\"],\"y\":[2.6666666666666665],\"type\":\"bar\",\"xaxis\":\"x2\",\"yaxis\":\"y2\"},{\"marker\":{\"color\":\"#ffaaa5\"},\"name\":\"Yes\",\"x\":[\"Yes\"],\"y\":[2.776150627615063],\"type\":\"bar\",\"xaxis\":\"x2\",\"yaxis\":\"y2\"},{\"marker\":{\"color\":\"#a9d5fc\"},\"name\":\"No\",\"x\":[\"No\"],\"y\":[1.0],\"type\":\"bar\",\"xaxis\":\"x3\",\"yaxis\":\"y3\"},{\"marker\":{\"color\":\"#ffaaa5\"},\"name\":\"Yes\",\"x\":[\"Yes\"],\"y\":[2.4644351464435146],\"type\":\"bar\",\"xaxis\":\"x3\",\"yaxis\":\"y3\"},{\"marker\":{\"color\":\"#a9d5fc\"},\"name\":\"No\",\"x\":[\"No\"],\"y\":[1.3333333333333333],\"type\":\"bar\",\"xaxis\":\"x4\",\"yaxis\":\"y4\"},{\"marker\":{\"color\":\"#ffaaa5\"},\"name\":\"Yes\",\"x\":[\"Yes\"],\"y\":[3.2677824267782425],\"type\":\"bar\",\"xaxis\":\"x4\",\"yaxis\":\"y4\"}],                        {\"template\":{\"data\":{\"histogram2dcontour\":[{\"type\":\"histogram2dcontour\",\"colorbar\":{\"outlinewidth\":0,\"ticks\":\"\"},\"colorscale\":[[0.0,\"#0d0887\"],[0.1111111111111111,\"#46039f\"],[0.2222222222222222,\"#7201a8\"],[0.3333333333333333,\"#9c179e\"],[0.4444444444444444,\"#bd3786\"],[0.5555555555555556,\"#d8576b\"],[0.6666666666666666,\"#ed7953\"],[0.7777777777777778,\"#fb9f3a\"],[0.8888888888888888,\"#fdca26\"],[1.0,\"#f0f921\"]]}],\"choropleth\":[{\"type\":\"choropleth\",\"colorbar\":{\"outlinewidth\":0,\"ticks\":\"\"}}],\"histogram2d\":[{\"type\":\"histogram2d\",\"colorbar\":{\"outlinewidth\":0,\"ticks\":\"\"},\"colorscale\":[[0.0,\"#0d0887\"],[0.1111111111111111,\"#46039f\"],[0.2222222222222222,\"#7201a8\"],[0.3333333333333333,\"#9c179e\"],[0.4444444444444444,\"#bd3786\"],[0.5555555555555556,\"#d8576b\"],[0.6666666666666666,\"#ed7953\"],[0.7777777777777778,\"#fb9f3a\"],[0.8888888888888888,\"#fdca26\"],[1.0,\"#f0f921\"]]}],\"heatmap\":[{\"type\":\"heatmap\",\"colorbar\":{\"outlinewidth\":0,\"ticks\":\"\"},\"colorscale\":[[0.0,\"#0d0887\"],[0.1111111111111111,\"#46039f\"],[0.2222222222222222,\"#7201a8\"],[0.3333333333333333,\"#9c179e\"],[0.4444444444444444,\"#bd3786\"],[0.5555555555555556,\"#d8576b\"],[0.6666666666666666,\"#ed7953\"],[0.7777777777777778,\"#fb9f3a\"],[0.8888888888888888,\"#fdca26\"],[1.0,\"#f0f921\"]]}],\"heatmapgl\":[{\"type\":\"heatmapgl\",\"colorbar\":{\"outlinewidth\":0,\"ticks\":\"\"},\"colorscale\":[[0.0,\"#0d0887\"],[0.1111111111111111,\"#46039f\"],[0.2222222222222222,\"#7201a8\"],[0.3333333333333333,\"#9c179e\"],[0.4444444444444444,\"#bd3786\"],[0.5555555555555556,\"#d8576b\"],[0.6666666666666666,\"#ed7953\"],[0.7777777777777778,\"#fb9f3a\"],[0.8888888888888888,\"#fdca26\"],[1.0,\"#f0f921\"]]}],\"contourcarpet\":[{\"type\":\"contourcarpet\",\"colorbar\":{\"outlinewidth\":0,\"ticks\":\"\"}}],\"contour\":[{\"type\":\"contour\",\"colorbar\":{\"outlinewidth\":0,\"ticks\":\"\"},\"colorscale\":[[0.0,\"#0d0887\"],[0.1111111111111111,\"#46039f\"],[0.2222222222222222,\"#7201a8\"],[0.3333333333333333,\"#9c179e\"],[0.4444444444444444,\"#bd3786\"],[0.5555555555555556,\"#d8576b\"],[0.6666666666666666,\"#ed7953\"],[0.7777777777777778,\"#fb9f3a\"],[0.8888888888888888,\"#fdca26\"],[1.0,\"#f0f921\"]]}],\"surface\":[{\"type\":\"surface\",\"colorbar\":{\"outlinewidth\":0,\"ticks\":\"\"},\"colorscale\":[[0.0,\"#0d0887\"],[0.1111111111111111,\"#46039f\"],[0.2222222222222222,\"#7201a8\"],[0.3333333333333333,\"#9c179e\"],[0.4444444444444444,\"#bd3786\"],[0.5555555555555556,\"#d8576b\"],[0.6666666666666666,\"#ed7953\"],[0.7777777777777778,\"#fb9f3a\"],[0.8888888888888888,\"#fdca26\"],[1.0,\"#f0f921\"]]}],\"mesh3d\":[{\"type\":\"mesh3d\",\"colorbar\":{\"outlinewidth\":0,\"ticks\":\"\"}}],\"scatter\":[{\"fillpattern\":{\"fillmode\":\"overlay\",\"size\":10,\"solidity\":0.2},\"type\":\"scatter\"}],\"parcoords\":[{\"type\":\"parcoords\",\"line\":{\"colorbar\":{\"outlinewidth\":0,\"ticks\":\"\"}}}],\"scatterpolargl\":[{\"type\":\"scatterpolargl\",\"marker\":{\"colorbar\":{\"outlinewidth\":0,\"ticks\":\"\"}}}],\"bar\":[{\"error_x\":{\"color\":\"#2a3f5f\"},\"error_y\":{\"color\":\"#2a3f5f\"},\"marker\":{\"line\":{\"color\":\"#E5ECF6\",\"width\":0.5},\"pattern\":{\"fillmode\":\"overlay\",\"size\":10,\"solidity\":0.2}},\"type\":\"bar\"}],\"scattergeo\":[{\"type\":\"scattergeo\",\"marker\":{\"colorbar\":{\"outlinewidth\":0,\"ticks\":\"\"}}}],\"scatterpolar\":[{\"type\":\"scatterpolar\",\"marker\":{\"colorbar\":{\"outlinewidth\":0,\"ticks\":\"\"}}}],\"histogram\":[{\"marker\":{\"pattern\":{\"fillmode\":\"overlay\",\"size\":10,\"solidity\":0.2}},\"type\":\"histogram\"}],\"scattergl\":[{\"type\":\"scattergl\",\"marker\":{\"colorbar\":{\"outlinewidth\":0,\"ticks\":\"\"}}}],\"scatter3d\":[{\"type\":\"scatter3d\",\"line\":{\"colorbar\":{\"outlinewidth\":0,\"ticks\":\"\"}},\"marker\":{\"colorbar\":{\"outlinewidth\":0,\"ticks\":\"\"}}}],\"scattermapbox\":[{\"type\":\"scattermapbox\",\"marker\":{\"colorbar\":{\"outlinewidth\":0,\"ticks\":\"\"}}}],\"scatterternary\":[{\"type\":\"scatterternary\",\"marker\":{\"colorbar\":{\"outlinewidth\":0,\"ticks\":\"\"}}}],\"scattercarpet\":[{\"type\":\"scattercarpet\",\"marker\":{\"colorbar\":{\"outlinewidth\":0,\"ticks\":\"\"}}}],\"carpet\":[{\"aaxis\":{\"endlinecolor\":\"#2a3f5f\",\"gridcolor\":\"white\",\"linecolor\":\"white\",\"minorgridcolor\":\"white\",\"startlinecolor\":\"#2a3f5f\"},\"baxis\":{\"endlinecolor\":\"#2a3f5f\",\"gridcolor\":\"white\",\"linecolor\":\"white\",\"minorgridcolor\":\"white\",\"startlinecolor\":\"#2a3f5f\"},\"type\":\"carpet\"}],\"table\":[{\"cells\":{\"fill\":{\"color\":\"#EBF0F8\"},\"line\":{\"color\":\"white\"}},\"header\":{\"fill\":{\"color\":\"#C8D4E3\"},\"line\":{\"color\":\"white\"}},\"type\":\"table\"}],\"barpolar\":[{\"marker\":{\"line\":{\"color\":\"#E5ECF6\",\"width\":0.5},\"pattern\":{\"fillmode\":\"overlay\",\"size\":10,\"solidity\":0.2}},\"type\":\"barpolar\"}],\"pie\":[{\"automargin\":true,\"type\":\"pie\"}]},\"layout\":{\"autotypenumbers\":\"strict\",\"colorway\":[\"#636efa\",\"#EF553B\",\"#00cc96\",\"#ab63fa\",\"#FFA15A\",\"#19d3f3\",\"#FF6692\",\"#B6E880\",\"#FF97FF\",\"#FECB52\"],\"font\":{\"color\":\"#2a3f5f\"},\"hovermode\":\"closest\",\"hoverlabel\":{\"align\":\"left\"},\"paper_bgcolor\":\"white\",\"plot_bgcolor\":\"#E5ECF6\",\"polar\":{\"bgcolor\":\"#E5ECF6\",\"angularaxis\":{\"gridcolor\":\"white\",\"linecolor\":\"white\",\"ticks\":\"\"},\"radialaxis\":{\"gridcolor\":\"white\",\"linecolor\":\"white\",\"ticks\":\"\"}},\"ternary\":{\"bgcolor\":\"#E5ECF6\",\"aaxis\":{\"gridcolor\":\"white\",\"linecolor\":\"white\",\"ticks\":\"\"},\"baxis\":{\"gridcolor\":\"white\",\"linecolor\":\"white\",\"ticks\":\"\"},\"caxis\":{\"gridcolor\":\"white\",\"linecolor\":\"white\",\"ticks\":\"\"}},\"coloraxis\":{\"colorbar\":{\"outlinewidth\":0,\"ticks\":\"\"}},\"colorscale\":{\"sequential\":[[0.0,\"#0d0887\"],[0.1111111111111111,\"#46039f\"],[0.2222222222222222,\"#7201a8\"],[0.3333333333333333,\"#9c179e\"],[0.4444444444444444,\"#bd3786\"],[0.5555555555555556,\"#d8576b\"],[0.6666666666666666,\"#ed7953\"],[0.7777777777777778,\"#fb9f3a\"],[0.8888888888888888,\"#fdca26\"],[1.0,\"#f0f921\"]],\"sequentialminus\":[[0.0,\"#0d0887\"],[0.1111111111111111,\"#46039f\"],[0.2222222222222222,\"#7201a8\"],[0.3333333333333333,\"#9c179e\"],[0.4444444444444444,\"#bd3786\"],[0.5555555555555556,\"#d8576b\"],[0.6666666666666666,\"#ed7953\"],[0.7777777777777778,\"#fb9f3a\"],[0.8888888888888888,\"#fdca26\"],[1.0,\"#f0f921\"]],\"diverging\":[[0,\"#8e0152\"],[0.1,\"#c51b7d\"],[0.2,\"#de77ae\"],[0.3,\"#f1b6da\"],[0.4,\"#fde0ef\"],[0.5,\"#f7f7f7\"],[0.6,\"#e6f5d0\"],[0.7,\"#b8e186\"],[0.8,\"#7fbc41\"],[0.9,\"#4d9221\"],[1,\"#276419\"]]},\"xaxis\":{\"gridcolor\":\"white\",\"linecolor\":\"white\",\"ticks\":\"\",\"title\":{\"standoff\":15},\"zerolinecolor\":\"white\",\"automargin\":true,\"zerolinewidth\":2},\"yaxis\":{\"gridcolor\":\"white\",\"linecolor\":\"white\",\"ticks\":\"\",\"title\":{\"standoff\":15},\"zerolinecolor\":\"white\",\"automargin\":true,\"zerolinewidth\":2},\"scene\":{\"xaxis\":{\"backgroundcolor\":\"#E5ECF6\",\"gridcolor\":\"white\",\"linecolor\":\"white\",\"showbackground\":true,\"ticks\":\"\",\"zerolinecolor\":\"white\",\"gridwidth\":2},\"yaxis\":{\"backgroundcolor\":\"#E5ECF6\",\"gridcolor\":\"white\",\"linecolor\":\"white\",\"showbackground\":true,\"ticks\":\"\",\"zerolinecolor\":\"white\",\"gridwidth\":2},\"zaxis\":{\"backgroundcolor\":\"#E5ECF6\",\"gridcolor\":\"white\",\"linecolor\":\"white\",\"showbackground\":true,\"ticks\":\"\",\"zerolinecolor\":\"white\",\"gridwidth\":2}},\"shapedefaults\":{\"line\":{\"color\":\"#2a3f5f\"}},\"annotationdefaults\":{\"arrowcolor\":\"#2a3f5f\",\"arrowhead\":0,\"arrowwidth\":1},\"geo\":{\"bgcolor\":\"white\",\"landcolor\":\"#E5ECF6\",\"subunitcolor\":\"white\",\"showland\":true,\"showlakes\":true,\"lakecolor\":\"white\"},\"title\":{\"x\":0.05},\"mapbox\":{\"style\":\"light\"}}},\"xaxis\":{\"anchor\":\"y\",\"domain\":[0.0,0.45],\"showline\":true,\"showgrid\":true,\"gridcolor\":\"lightgrey\"},\"yaxis\":{\"anchor\":\"x\",\"domain\":[0.625,1.0],\"showline\":true,\"showgrid\":true,\"gridcolor\":\"lightgrey\"},\"xaxis2\":{\"anchor\":\"y2\",\"domain\":[0.55,1.0],\"showline\":true,\"showgrid\":true,\"gridcolor\":\"lightgrey\"},\"yaxis2\":{\"anchor\":\"x2\",\"domain\":[0.625,1.0],\"showline\":true,\"showgrid\":true,\"gridcolor\":\"lightgrey\"},\"xaxis3\":{\"anchor\":\"y3\",\"domain\":[0.0,0.45],\"showline\":true,\"showgrid\":true,\"gridcolor\":\"lightgrey\"},\"yaxis3\":{\"anchor\":\"x3\",\"domain\":[0.0,0.375],\"showline\":true,\"showgrid\":true,\"gridcolor\":\"lightgrey\"},\"xaxis4\":{\"anchor\":\"y4\",\"domain\":[0.55,1.0],\"showline\":true,\"showgrid\":true,\"gridcolor\":\"lightgrey\"},\"yaxis4\":{\"anchor\":\"x4\",\"domain\":[0.0,0.375],\"showline\":true,\"showgrid\":true,\"gridcolor\":\"lightgrey\"},\"annotations\":[{\"font\":{\"size\":16},\"showarrow\":false,\"text\":\"Comparison with Others by Social Media Use\",\"x\":0.225,\"xanchor\":\"center\",\"xref\":\"paper\",\"y\":1.0,\"yanchor\":\"bottom\",\"yref\":\"paper\"},{\"font\":{\"size\":16},\"showarrow\":false,\"text\":\"Feelings About Comparison by Social Media Use\",\"x\":0.775,\"xanchor\":\"center\",\"xref\":\"paper\",\"y\":1.0,\"yanchor\":\"bottom\",\"yref\":\"paper\"},{\"font\":{\"size\":16},\"showarrow\":false,\"text\":\"Validation Seeking by Social Media Use\",\"x\":0.225,\"xanchor\":\"center\",\"xref\":\"paper\",\"y\":0.375,\"yanchor\":\"bottom\",\"yref\":\"paper\"},{\"font\":{\"size\":16},\"showarrow\":false,\"text\":\"Feeling Depressed by Social Media Use\",\"x\":0.775,\"xanchor\":\"center\",\"xref\":\"paper\",\"y\":0.375,\"yanchor\":\"bottom\",\"yref\":\"paper\"}],\"title\":{\"font\":{\"size\":22},\"text\":\"Comparative Analysis of Social Media's Impact on Self-Reflection Based on Usage Patterns\"},\"height\":1100,\"width\":1100,\"showlegend\":false,\"plot_bgcolor\":\"rgba(255, 255, 255, 1)\",\"paper_bgcolor\":\"rgba(255, 255, 255, 1)\"},                        {\"responsive\": true}                    ).then(function(){\n",
       "                            \n",
       "var gd = document.getElementById('3be2de41-bfe7-4fab-b0b6-83a32830896e');\n",
       "var x = new MutationObserver(function (mutations, observer) {{\n",
       "        var display = window.getComputedStyle(gd).display;\n",
       "        if (!display || display === 'none') {{\n",
       "            console.log([gd, 'removed!']);\n",
       "            Plotly.purge(gd);\n",
       "            observer.disconnect();\n",
       "        }}\n",
       "}});\n",
       "\n",
       "// Listen for the removal of the full notebook cells\n",
       "var notebookContainer = gd.closest('#notebook-container');\n",
       "if (notebookContainer) {{\n",
       "    x.observe(notebookContainer, {childList: true});\n",
       "}}\n",
       "\n",
       "// Listen for the clearing of the current output cell\n",
       "var outputEl = gd.closest('.output');\n",
       "if (outputEl) {{\n",
       "    x.observe(outputEl, {childList: true});\n",
       "}}\n",
       "\n",
       "                        })                };                });            </script>        </div>"
      ]
     },
     "metadata": {},
     "output_type": "display_data"
    }
   ],
   "source": [
    "# Graph 1 : Comparative Analysis of Social Media's Impact on Self-Reflection Based on Usage Patterns\n",
    "# Creating the data summary\n",
    "grouped_data = df.groupby('uses_social_media')[\n",
    "    'comparison_with_others(1-5)', \n",
    "    'feelings_about_comparison(1-5)', \n",
    "    'validation_seeking(1-5)', \n",
    "    'feel_depressed(1-5)'\n",
    "].mean().reset_index()\n",
    "\n",
    "# Define a color map for the 'Yes' and 'No' categories\n",
    "colors = {'Yes': \"#ffaaa5\", 'No': \"#a9d5fc\"}\n",
    "\n",
    "# Creating subgraphs\n",
    "fig = make_subplots(rows=2, cols=2, subplot_titles=[\n",
    "    'Comparison with Others by Social Media Use',\n",
    "    'Feelings About Comparison by Social Media Use',\n",
    "    'Validation Seeking by Social Media Use',\n",
    "    'Feeling Depressed by Social Media Use'\n",
    "])\n",
    "\n",
    "# Added bar charts with specific colors\n",
    "for i, col in enumerate(['comparison_with_others(1-5)', 'feelings_about_comparison(1-5)', 'validation_seeking(1-5)', 'feel_depressed(1-5)']):\n",
    "    for use in grouped_data['uses_social_media'].unique():\n",
    "        fig.add_trace(go.Bar(\n",
    "            x=[use], \n",
    "            y=grouped_data[grouped_data['uses_social_media'] == use][col], \n",
    "            name=use,\n",
    "            marker_color=colors[use]\n",
    "        ), row=int((i/2)+1), col=(i%2)+1)\n",
    "\n",
    "# Layout update with white background and gridlines\n",
    "fig.update_layout(\n",
    "    title_text=\"Comparative Analysis of Social Media's Impact on Self-Reflection Based on Usage Patterns\",\n",
    "    height=700, width=900,\n",
    "    showlegend=False,\n",
    "    plot_bgcolor='rgba(255, 255, 255, 1)',\n",
    "    paper_bgcolor='rgba(255, 255, 255, 1)',\n",
    "    xaxis=dict(showline=True, showgrid=True, gridcolor='lightgrey'),\n",
    "    yaxis=dict(showline=True, showgrid=True, gridcolor='lightgrey'),\n",
    "    title=dict(\n",
    "        font=dict(size=22)\n",
    "    )\n",
    ")\n",
    "\n",
    "# Updating each subplot for gridding\n",
    "for i in range(1, 5):\n",
    "    fig.update_xaxes(showline=True, showgrid=True, gridcolor='lightgrey', row=int((i+1)/2), col=1 if i%2 else 2)\n",
    "    fig.update_yaxes(showline=True, showgrid=True, gridcolor='lightgrey', row=int((i+1)/2), col=1 if i%2 else 2)\n",
    "\n",
    "# Increase the size of the figure\n",
    "fig.update_layout(width=1100, height=1100)\n",
    "# Show the figure\n",
    "fig.show()"
   ]
  },
  {
   "cell_type": "markdown",
   "metadata": {},
   "source": [
    "The set of bar plots above compares the average scores for comparison with others, feelings about comparison, validation seeking, and feelings of depression between individuals who use social media and those who do not.\n",
    "\n",
    "From the plots, we can observe trends and differences in these characteristics based on social media usage, which could provide insights into the psychological impact of social media. These visual comparisons can be useful for identifying areas where social media may be associated with negative feelings or behaviors."
   ]
  },
  {
   "cell_type": "markdown",
   "metadata": {},
   "source": [
    "### Focusing On The \"Comparison\" Feature"
   ]
  },
  {
   "cell_type": "markdown",
   "metadata": {},
   "source": [
    "I have chosen to focus on the 'comparison_with_others(1-5)' feature because it is one of the most common habits that we often engage in without even realizing it."
   ]
  },
  {
   "cell_type": "code",
   "execution_count": 485,
   "metadata": {},
   "outputs": [
    {
     "data": {
      "text/html": [
       "<div>                            <div id=\"62c8141d-419f-445f-9b24-0ba2e1740b47\" class=\"plotly-graph-div\" style=\"height:600px; width:1200px;\"></div>            <script type=\"text/javascript\">                require([\"plotly\"], function(Plotly) {                    window.PLOTLYENV=window.PLOTLYENV || {};                                    if (document.getElementById(\"62c8141d-419f-445f-9b24-0ba2e1740b47\")) {                    Plotly.newPlot(                        \"62c8141d-419f-445f-9b24-0ba2e1740b47\",                        [{\"alignmentgroup\":\"True\",\"hovertemplate\":\"User Category \\u002f Average Daily Use=%{x}\\u003cbr\\u003eAverage Comparison with Others (1-5)=%{y}\\u003cextra\\u003e\\u003c\\u002fextra\\u003e\",\"legendgroup\":\"No Social Media\",\"marker\":{\"color\":\"#ffd1dc\",\"pattern\":{\"shape\":\"\"}},\"name\":\"No Social Media\",\"offsetgroup\":\"No Social Media\",\"orientation\":\"v\",\"showlegend\":true,\"textposition\":\"auto\",\"x\":[\"No Social Media\"],\"xaxis\":\"x\",\"y\":[1.0],\"yaxis\":\"y\",\"type\":\"bar\"},{\"alignmentgroup\":\"True\",\"hovertemplate\":\"User Category \\u002f Average Daily Use=%{x}\\u003cbr\\u003eAverage Comparison with Others (1-5)=%{y}\\u003cextra\\u003e\\u003c\\u002fextra\\u003e\",\"legendgroup\":\"Less than an Hour\",\"marker\":{\"color\":\"#a8e6cf\",\"pattern\":{\"shape\":\"\"}},\"name\":\"Less than an Hour\",\"offsetgroup\":\"Less than an Hour\",\"orientation\":\"v\",\"showlegend\":true,\"textposition\":\"auto\",\"x\":[\"Less than an Hour\"],\"xaxis\":\"x\",\"y\":[2.1818181818181817],\"yaxis\":\"y\",\"type\":\"bar\"},{\"alignmentgroup\":\"True\",\"hovertemplate\":\"User Category \\u002f Average Daily Use=%{x}\\u003cbr\\u003eAverage Comparison with Others (1-5)=%{y}\\u003cextra\\u003e\\u003c\\u002fextra\\u003e\",\"legendgroup\":\"Between 1 and 2 hours\",\"marker\":{\"color\":\"#dcedc1\",\"pattern\":{\"shape\":\"\"}},\"name\":\"Between 1 and 2 hours\",\"offsetgroup\":\"Between 1 and 2 hours\",\"orientation\":\"v\",\"showlegend\":true,\"textposition\":\"auto\",\"x\":[\"Between 1 and 2 hours\"],\"xaxis\":\"x\",\"y\":[2.485294117647059],\"yaxis\":\"y\",\"type\":\"bar\"},{\"alignmentgroup\":\"True\",\"hovertemplate\":\"User Category \\u002f Average Daily Use=%{x}\\u003cbr\\u003eAverage Comparison with Others (1-5)=%{y}\\u003cextra\\u003e\\u003c\\u002fextra\\u003e\",\"legendgroup\":\"Between 2 and 3 hours\",\"marker\":{\"color\":\"#ffd3b6\",\"pattern\":{\"shape\":\"\"}},\"name\":\"Between 2 and 3 hours\",\"offsetgroup\":\"Between 2 and 3 hours\",\"orientation\":\"v\",\"showlegend\":true,\"textposition\":\"auto\",\"x\":[\"Between 2 and 3 hours\"],\"xaxis\":\"x\",\"y\":[2.623762376237624],\"yaxis\":\"y\",\"type\":\"bar\"},{\"alignmentgroup\":\"True\",\"hovertemplate\":\"User Category \\u002f Average Daily Use=%{x}\\u003cbr\\u003eAverage Comparison with Others (1-5)=%{y}\\u003cextra\\u003e\\u003c\\u002fextra\\u003e\",\"legendgroup\":\"Between 4 and 5 hours\",\"marker\":{\"color\":\"#ffaaa5\",\"pattern\":{\"shape\":\"\"}},\"name\":\"Between 4 and 5 hours\",\"offsetgroup\":\"Between 4 and 5 hours\",\"orientation\":\"v\",\"showlegend\":true,\"textposition\":\"auto\",\"x\":[\"Between 4 and 5 hours\"],\"xaxis\":\"x\",\"y\":[3.029850746268657],\"yaxis\":\"y\",\"type\":\"bar\"},{\"alignmentgroup\":\"True\",\"hovertemplate\":\"User Category \\u002f Average Daily Use=%{x}\\u003cbr\\u003eAverage Comparison with Others (1-5)=%{y}\\u003cextra\\u003e\\u003c\\u002fextra\\u003e\",\"legendgroup\":\"More than 5 hours\",\"marker\":{\"color\":\"#a9d5fc\",\"pattern\":{\"shape\":\"\"}},\"name\":\"More than 5 hours\",\"offsetgroup\":\"More than 5 hours\",\"orientation\":\"v\",\"showlegend\":true,\"textposition\":\"auto\",\"x\":[\"More than 5 hours\"],\"xaxis\":\"x\",\"y\":[3.0775862068965516],\"yaxis\":\"y\",\"type\":\"bar\"},{\"alignmentgroup\":\"True\",\"hovertemplate\":\"User Category \\u002f Average Daily Use=%{x}\\u003cbr\\u003eAverage Comparison with Others (1-5)=%{y}\\u003cextra\\u003e\\u003c\\u002fextra\\u003e\",\"legendgroup\":\"Between 3 and 4 hours\",\"marker\":{\"color\":\"#fcefa7\",\"pattern\":{\"shape\":\"\"}},\"name\":\"Between 3 and 4 hours\",\"offsetgroup\":\"Between 3 and 4 hours\",\"orientation\":\"v\",\"showlegend\":true,\"textposition\":\"auto\",\"x\":[\"Between 3 and 4 hours\"],\"xaxis\":\"x\",\"y\":[3.150537634408602],\"yaxis\":\"y\",\"type\":\"bar\"}],                        {\"template\":{\"data\":{\"histogram2dcontour\":[{\"type\":\"histogram2dcontour\",\"colorbar\":{\"outlinewidth\":0,\"ticks\":\"\"},\"colorscale\":[[0.0,\"#0d0887\"],[0.1111111111111111,\"#46039f\"],[0.2222222222222222,\"#7201a8\"],[0.3333333333333333,\"#9c179e\"],[0.4444444444444444,\"#bd3786\"],[0.5555555555555556,\"#d8576b\"],[0.6666666666666666,\"#ed7953\"],[0.7777777777777778,\"#fb9f3a\"],[0.8888888888888888,\"#fdca26\"],[1.0,\"#f0f921\"]]}],\"choropleth\":[{\"type\":\"choropleth\",\"colorbar\":{\"outlinewidth\":0,\"ticks\":\"\"}}],\"histogram2d\":[{\"type\":\"histogram2d\",\"colorbar\":{\"outlinewidth\":0,\"ticks\":\"\"},\"colorscale\":[[0.0,\"#0d0887\"],[0.1111111111111111,\"#46039f\"],[0.2222222222222222,\"#7201a8\"],[0.3333333333333333,\"#9c179e\"],[0.4444444444444444,\"#bd3786\"],[0.5555555555555556,\"#d8576b\"],[0.6666666666666666,\"#ed7953\"],[0.7777777777777778,\"#fb9f3a\"],[0.8888888888888888,\"#fdca26\"],[1.0,\"#f0f921\"]]}],\"heatmap\":[{\"type\":\"heatmap\",\"colorbar\":{\"outlinewidth\":0,\"ticks\":\"\"},\"colorscale\":[[0.0,\"#0d0887\"],[0.1111111111111111,\"#46039f\"],[0.2222222222222222,\"#7201a8\"],[0.3333333333333333,\"#9c179e\"],[0.4444444444444444,\"#bd3786\"],[0.5555555555555556,\"#d8576b\"],[0.6666666666666666,\"#ed7953\"],[0.7777777777777778,\"#fb9f3a\"],[0.8888888888888888,\"#fdca26\"],[1.0,\"#f0f921\"]]}],\"heatmapgl\":[{\"type\":\"heatmapgl\",\"colorbar\":{\"outlinewidth\":0,\"ticks\":\"\"},\"colorscale\":[[0.0,\"#0d0887\"],[0.1111111111111111,\"#46039f\"],[0.2222222222222222,\"#7201a8\"],[0.3333333333333333,\"#9c179e\"],[0.4444444444444444,\"#bd3786\"],[0.5555555555555556,\"#d8576b\"],[0.6666666666666666,\"#ed7953\"],[0.7777777777777778,\"#fb9f3a\"],[0.8888888888888888,\"#fdca26\"],[1.0,\"#f0f921\"]]}],\"contourcarpet\":[{\"type\":\"contourcarpet\",\"colorbar\":{\"outlinewidth\":0,\"ticks\":\"\"}}],\"contour\":[{\"type\":\"contour\",\"colorbar\":{\"outlinewidth\":0,\"ticks\":\"\"},\"colorscale\":[[0.0,\"#0d0887\"],[0.1111111111111111,\"#46039f\"],[0.2222222222222222,\"#7201a8\"],[0.3333333333333333,\"#9c179e\"],[0.4444444444444444,\"#bd3786\"],[0.5555555555555556,\"#d8576b\"],[0.6666666666666666,\"#ed7953\"],[0.7777777777777778,\"#fb9f3a\"],[0.8888888888888888,\"#fdca26\"],[1.0,\"#f0f921\"]]}],\"surface\":[{\"type\":\"surface\",\"colorbar\":{\"outlinewidth\":0,\"ticks\":\"\"},\"colorscale\":[[0.0,\"#0d0887\"],[0.1111111111111111,\"#46039f\"],[0.2222222222222222,\"#7201a8\"],[0.3333333333333333,\"#9c179e\"],[0.4444444444444444,\"#bd3786\"],[0.5555555555555556,\"#d8576b\"],[0.6666666666666666,\"#ed7953\"],[0.7777777777777778,\"#fb9f3a\"],[0.8888888888888888,\"#fdca26\"],[1.0,\"#f0f921\"]]}],\"mesh3d\":[{\"type\":\"mesh3d\",\"colorbar\":{\"outlinewidth\":0,\"ticks\":\"\"}}],\"scatter\":[{\"fillpattern\":{\"fillmode\":\"overlay\",\"size\":10,\"solidity\":0.2},\"type\":\"scatter\"}],\"parcoords\":[{\"type\":\"parcoords\",\"line\":{\"colorbar\":{\"outlinewidth\":0,\"ticks\":\"\"}}}],\"scatterpolargl\":[{\"type\":\"scatterpolargl\",\"marker\":{\"colorbar\":{\"outlinewidth\":0,\"ticks\":\"\"}}}],\"bar\":[{\"error_x\":{\"color\":\"#2a3f5f\"},\"error_y\":{\"color\":\"#2a3f5f\"},\"marker\":{\"line\":{\"color\":\"#E5ECF6\",\"width\":0.5},\"pattern\":{\"fillmode\":\"overlay\",\"size\":10,\"solidity\":0.2}},\"type\":\"bar\"}],\"scattergeo\":[{\"type\":\"scattergeo\",\"marker\":{\"colorbar\":{\"outlinewidth\":0,\"ticks\":\"\"}}}],\"scatterpolar\":[{\"type\":\"scatterpolar\",\"marker\":{\"colorbar\":{\"outlinewidth\":0,\"ticks\":\"\"}}}],\"histogram\":[{\"marker\":{\"pattern\":{\"fillmode\":\"overlay\",\"size\":10,\"solidity\":0.2}},\"type\":\"histogram\"}],\"scattergl\":[{\"type\":\"scattergl\",\"marker\":{\"colorbar\":{\"outlinewidth\":0,\"ticks\":\"\"}}}],\"scatter3d\":[{\"type\":\"scatter3d\",\"line\":{\"colorbar\":{\"outlinewidth\":0,\"ticks\":\"\"}},\"marker\":{\"colorbar\":{\"outlinewidth\":0,\"ticks\":\"\"}}}],\"scattermapbox\":[{\"type\":\"scattermapbox\",\"marker\":{\"colorbar\":{\"outlinewidth\":0,\"ticks\":\"\"}}}],\"scatterternary\":[{\"type\":\"scatterternary\",\"marker\":{\"colorbar\":{\"outlinewidth\":0,\"ticks\":\"\"}}}],\"scattercarpet\":[{\"type\":\"scattercarpet\",\"marker\":{\"colorbar\":{\"outlinewidth\":0,\"ticks\":\"\"}}}],\"carpet\":[{\"aaxis\":{\"endlinecolor\":\"#2a3f5f\",\"gridcolor\":\"white\",\"linecolor\":\"white\",\"minorgridcolor\":\"white\",\"startlinecolor\":\"#2a3f5f\"},\"baxis\":{\"endlinecolor\":\"#2a3f5f\",\"gridcolor\":\"white\",\"linecolor\":\"white\",\"minorgridcolor\":\"white\",\"startlinecolor\":\"#2a3f5f\"},\"type\":\"carpet\"}],\"table\":[{\"cells\":{\"fill\":{\"color\":\"#EBF0F8\"},\"line\":{\"color\":\"white\"}},\"header\":{\"fill\":{\"color\":\"#C8D4E3\"},\"line\":{\"color\":\"white\"}},\"type\":\"table\"}],\"barpolar\":[{\"marker\":{\"line\":{\"color\":\"#E5ECF6\",\"width\":0.5},\"pattern\":{\"fillmode\":\"overlay\",\"size\":10,\"solidity\":0.2}},\"type\":\"barpolar\"}],\"pie\":[{\"automargin\":true,\"type\":\"pie\"}]},\"layout\":{\"autotypenumbers\":\"strict\",\"colorway\":[\"#636efa\",\"#EF553B\",\"#00cc96\",\"#ab63fa\",\"#FFA15A\",\"#19d3f3\",\"#FF6692\",\"#B6E880\",\"#FF97FF\",\"#FECB52\"],\"font\":{\"color\":\"#2a3f5f\"},\"hovermode\":\"closest\",\"hoverlabel\":{\"align\":\"left\"},\"paper_bgcolor\":\"white\",\"plot_bgcolor\":\"#E5ECF6\",\"polar\":{\"bgcolor\":\"#E5ECF6\",\"angularaxis\":{\"gridcolor\":\"white\",\"linecolor\":\"white\",\"ticks\":\"\"},\"radialaxis\":{\"gridcolor\":\"white\",\"linecolor\":\"white\",\"ticks\":\"\"}},\"ternary\":{\"bgcolor\":\"#E5ECF6\",\"aaxis\":{\"gridcolor\":\"white\",\"linecolor\":\"white\",\"ticks\":\"\"},\"baxis\":{\"gridcolor\":\"white\",\"linecolor\":\"white\",\"ticks\":\"\"},\"caxis\":{\"gridcolor\":\"white\",\"linecolor\":\"white\",\"ticks\":\"\"}},\"coloraxis\":{\"colorbar\":{\"outlinewidth\":0,\"ticks\":\"\"}},\"colorscale\":{\"sequential\":[[0.0,\"#0d0887\"],[0.1111111111111111,\"#46039f\"],[0.2222222222222222,\"#7201a8\"],[0.3333333333333333,\"#9c179e\"],[0.4444444444444444,\"#bd3786\"],[0.5555555555555556,\"#d8576b\"],[0.6666666666666666,\"#ed7953\"],[0.7777777777777778,\"#fb9f3a\"],[0.8888888888888888,\"#fdca26\"],[1.0,\"#f0f921\"]],\"sequentialminus\":[[0.0,\"#0d0887\"],[0.1111111111111111,\"#46039f\"],[0.2222222222222222,\"#7201a8\"],[0.3333333333333333,\"#9c179e\"],[0.4444444444444444,\"#bd3786\"],[0.5555555555555556,\"#d8576b\"],[0.6666666666666666,\"#ed7953\"],[0.7777777777777778,\"#fb9f3a\"],[0.8888888888888888,\"#fdca26\"],[1.0,\"#f0f921\"]],\"diverging\":[[0,\"#8e0152\"],[0.1,\"#c51b7d\"],[0.2,\"#de77ae\"],[0.3,\"#f1b6da\"],[0.4,\"#fde0ef\"],[0.5,\"#f7f7f7\"],[0.6,\"#e6f5d0\"],[0.7,\"#b8e186\"],[0.8,\"#7fbc41\"],[0.9,\"#4d9221\"],[1,\"#276419\"]]},\"xaxis\":{\"gridcolor\":\"white\",\"linecolor\":\"white\",\"ticks\":\"\",\"title\":{\"standoff\":15},\"zerolinecolor\":\"white\",\"automargin\":true,\"zerolinewidth\":2},\"yaxis\":{\"gridcolor\":\"white\",\"linecolor\":\"white\",\"ticks\":\"\",\"title\":{\"standoff\":15},\"zerolinecolor\":\"white\",\"automargin\":true,\"zerolinewidth\":2},\"scene\":{\"xaxis\":{\"backgroundcolor\":\"#E5ECF6\",\"gridcolor\":\"white\",\"linecolor\":\"white\",\"showbackground\":true,\"ticks\":\"\",\"zerolinecolor\":\"white\",\"gridwidth\":2},\"yaxis\":{\"backgroundcolor\":\"#E5ECF6\",\"gridcolor\":\"white\",\"linecolor\":\"white\",\"showbackground\":true,\"ticks\":\"\",\"zerolinecolor\":\"white\",\"gridwidth\":2},\"zaxis\":{\"backgroundcolor\":\"#E5ECF6\",\"gridcolor\":\"white\",\"linecolor\":\"white\",\"showbackground\":true,\"ticks\":\"\",\"zerolinecolor\":\"white\",\"gridwidth\":2}},\"shapedefaults\":{\"line\":{\"color\":\"#2a3f5f\"}},\"annotationdefaults\":{\"arrowcolor\":\"#2a3f5f\",\"arrowhead\":0,\"arrowwidth\":1},\"geo\":{\"bgcolor\":\"white\",\"landcolor\":\"#E5ECF6\",\"subunitcolor\":\"white\",\"showland\":true,\"showlakes\":true,\"lakecolor\":\"white\"},\"title\":{\"x\":0.05},\"mapbox\":{\"style\":\"light\"}}},\"xaxis\":{\"anchor\":\"y\",\"domain\":[0.0,1.0],\"title\":{\"text\":\"User Category \\u002f Average Daily Use\"},\"categoryorder\":\"array\",\"categoryarray\":[\"No Social Media\",\"Less than an Hour\",\"Between 1 and 2 hours\",\"Between 2 and 3 hours\",\"Between 4 and 5 hours\",\"More than 5 hours\",\"Between 3 and 4 hours\"],\"tickangle\":-45,\"showline\":true,\"showgrid\":true,\"gridcolor\":\"lightgrey\"},\"yaxis\":{\"anchor\":\"x\",\"domain\":[0.0,1.0],\"title\":{\"text\":\"Average Comparison with Others (1-5)\"},\"showline\":true,\"showgrid\":true,\"gridcolor\":\"lightgrey\"},\"legend\":{\"title\":{\"text\":\"User Category \\u002f Average Daily Use\"},\"tracegroupgap\":0},\"title\":{\"text\":\"Comparison with Others by Social Media Use and Average Daily Use\"},\"barmode\":\"relative\",\"plot_bgcolor\":\"white\",\"paper_bgcolor\":\"white\",\"width\":1200,\"height\":600},                        {\"responsive\": true}                    ).then(function(){\n",
       "                            \n",
       "var gd = document.getElementById('62c8141d-419f-445f-9b24-0ba2e1740b47');\n",
       "var x = new MutationObserver(function (mutations, observer) {{\n",
       "        var display = window.getComputedStyle(gd).display;\n",
       "        if (!display || display === 'none') {{\n",
       "            console.log([gd, 'removed!']);\n",
       "            Plotly.purge(gd);\n",
       "            observer.disconnect();\n",
       "        }}\n",
       "}});\n",
       "\n",
       "// Listen for the removal of the full notebook cells\n",
       "var notebookContainer = gd.closest('#notebook-container');\n",
       "if (notebookContainer) {{\n",
       "    x.observe(notebookContainer, {childList: true});\n",
       "}}\n",
       "\n",
       "// Listen for the clearing of the current output cell\n",
       "var outputEl = gd.closest('.output');\n",
       "if (outputEl) {{\n",
       "    x.observe(outputEl, {childList: true});\n",
       "}}\n",
       "\n",
       "                        })                };                });            </script>        </div>"
      ]
     },
     "metadata": {},
     "output_type": "display_data"
    }
   ],
   "source": [
    "# Graph 2 : Comparison with Others by Social Media Use and Average Daily Use\n",
    "# Include non-social users in the mapping\n",
    "df.loc[df['uses_social_media'] == 'No', 'average_daily_use_category'] = 'No Social Media'\n",
    "\n",
    "# Calculate the average comparison score for each category\n",
    "plot_data = df.groupby('average_daily_use_category').agg({'comparison_with_others(1-5)': 'mean'}).reset_index()\n",
    "plot_data = plot_data.sort_values(by='comparison_with_others(1-5)')\n",
    "\n",
    "# Create the bar chart with Plotly Express\n",
    "fig = px.bar(\n",
    "    plot_data, \n",
    "    x='average_daily_use_category', \n",
    "    y='comparison_with_others(1-5)', \n",
    "    title='Comparison with Others by Social Media Use and Average Daily Use',\n",
    "    labels={'average_daily_use_category': 'User Category / Average Daily Use', 'comparison_with_others(1-5)': 'Average Comparison with Others (1-5)'},\n",
    "    color='average_daily_use_category',\n",
    "    color_discrete_sequence=pastel_colors\n",
    ")\n",
    "\n",
    "# Update the layout for better readability\n",
    "fig.update_layout(\n",
    "    xaxis_tickangle=-45,\n",
    "    plot_bgcolor='white',  # Fond blanc\n",
    "    paper_bgcolor='white', # Fond blanc\n",
    "    xaxis=dict(showline=True, showgrid=True, gridcolor='lightgrey'),  # Quadrillage pour l'axe X\n",
    "    yaxis=dict(showline=True, showgrid=True, gridcolor='lightgrey')   # Quadrillage pour l'axe Y\n",
    ")\n",
    "fig.update_layout(width=1200, height=600)\n",
    "fig.show()"
   ]
  },
  {
   "cell_type": "markdown",
   "metadata": {},
   "source": [
    "The graph depicts a correlation between social media usage and the frequency of social comparisons. Non-users of social media report the least amount of comparison, while in the majority, the more time one spends on social networks, the more likely they are to engage in comparisons with others."
   ]
  },
  {
   "cell_type": "code",
   "execution_count": 486,
   "metadata": {},
   "outputs": [
    {
     "data": {
      "text/html": [
       "<div>                            <div id=\"2ed0395c-5c50-4a82-8225-4c174f7332fa\" class=\"plotly-graph-div\" style=\"height:600px; width:1200px;\"></div>            <script type=\"text/javascript\">                require([\"plotly\"], function(Plotly) {                    window.PLOTLYENV=window.PLOTLYENV || {};                                    if (document.getElementById(\"2ed0395c-5c50-4a82-8225-4c174f7332fa\")) {                    Plotly.newPlot(                        \"2ed0395c-5c50-4a82-8225-4c174f7332fa\",                        [{\"alignmentgroup\":\"True\",\"hovertemplate\":\"Comparison with Others (1-5)=%{x}\\u003cbr\\u003eFeeling Depressed (1-5)=%{y}\\u003cextra\\u003e\\u003c\\u002fextra\\u003e\",\"legendgroup\":\"\",\"marker\":{\"color\":\"#636efa\"},\"name\":\"\",\"notched\":false,\"offsetgroup\":\"\",\"orientation\":\"v\",\"showlegend\":false,\"x\":[2,5,3,5,3,4,5,1,1,1,4,2,4,2,5,3,1,1,2,1,2,5,4,3,4,4,2,4,4,4,5,2,2,3,2,1,5,1,2,1,2,3,1,5,1,3,3,4,2,2,1,2,5,1,1,3,1,3,3,1,2,5,1,1,1,1,5,2,3,3,1,5,4,1,3,1,2,5,4,5,3,3,2,4,3,3,1,2,1,4,2,2,1,3,3,2,1,2,5,3,2,1,2,3,3,3,1,1,2,2,4,5,2,3,5,3,3,3,5,2,1,4,2,3,4,2,3,5,5,2,1,4,2,3,1,3,1,1,3,3,3,5,3,1,5,4,5,2,3,2,2,1,3,1,1,3,2,1,1,2,4,5,3,2,2,4,1,3,2,2,3,5,3,4,5,1,1,1,3,3,5,2,3,2,2,3,2,3,3,2,1,3,3,2,1,1,2,3,1,1,4,2,1,5,1,3,2,5,1,5,4,1,4,1,2,1,5,4,4,4,4,1,5,2,3,5,5,1,1,3,4,5,4,1,4,4,3,3,5,5,5,5,3,2,1,4,4,1,2,3,2,3,2,1,1,5,5,1,3,2,1,3,4,4,4,4,2,2,2,1,1,5,2,1,4,4,5,5,1,5,5,5,2,4,3,3,2,5,2,1,3,3,2,5,1,3,4,4,2,4,3,1,2,4,4,3,5,1,1,2,3,1,2,3,3,4,1,3,5,5,5,4,1,2,1,4,5,2,2,3,2,4,2,2,3,1,1,5,2,1,1,4,2,4,1,2,1,4,1,1,2,2,4,4,2,2,3,2,2,5,4,2,5,1,1,5,4,5,3,4,2,5,1,2,4,5,1,4,5,3,5,5,5,3,5,3,5,5,5,2,2,4,2,5,1,2,2,4,3,3,2,3,3,1,1,5,5,4,2,3,5,2,5,3,3,4,1,1,2,1,4,3,4,5,2,5,4,3,2,5,3,4,5,5,2,5,1,4,2,4,3,2,3,3,2,3,5,5,4,1,2,1,1,3,3,3,1,4,2,3,1,1,2,1,1,2,1,1,5,3,5,1,1,4,4,5,4,4,3,2,3],\"x0\":\" \",\"xaxis\":\"x\",\"y\":[5,5,4,4,4,3,5,5,5,1,5,3,3,3,5,3,4,2,3,2,2,3,4,4,3,4,4,4,4,5,5,3,2,3,5,4,3,5,2,1,3,4,2,5,3,3,1,3,2,1,3,3,5,1,1,5,3,4,5,1,4,4,5,5,1,2,4,4,4,3,1,5,4,2,5,2,5,4,5,5,4,1,4,4,2,4,2,1,3,5,4,4,4,3,4,3,1,4,5,2,3,5,4,3,1,2,3,1,2,3,2,4,2,2,4,2,3,3,5,4,1,3,5,4,1,4,4,4,4,3,1,3,3,2,2,4,1,1,3,4,1,3,4,2,5,3,4,2,2,2,2,1,2,3,4,3,2,1,4,4,2,1,3,3,3,2,2,2,1,2,3,3,5,3,4,1,1,4,3,4,4,3,1,5,3,2,3,3,4,2,4,4,4,5,4,1,3,2,1,1,2,3,3,3,5,2,1,5,1,4,3,1,5,1,4,3,1,2,5,2,3,2,3,3,4,2,4,2,1,4,4,1,5,1,4,4,2,5,5,4,4,2,3,3,3,4,4,2,1,4,1,5,5,2,2,3,5,1,4,3,2,5,3,3,2,3,2,4,3,3,2,5,3,5,3,5,5,5,5,5,3,4,2,5,4,3,2,5,4,3,3,4,4,5,1,2,4,4,3,5,5,5,4,4,3,3,5,1,2,2,5,3,2,5,4,3,3,5,5,5,5,4,3,2,5,5,5,5,4,4,1,4,3,5,3,4,1,4,3,5,3,3,5,2,5,5,1,4,3,5,4,3,3,5,2,3,4,3,3,4,3,2,4,2,1,5,4,5,1,5,2,4,3,3,2,5,5,4,5,1,5,5,4,5,3,2,3,2,4,4,3,5,5,5,2,2,5,5,1,5,4,3,3,1,1,5,5,4,4,4,3,3,5,5,4,5,2,3,4,3,3,2,5,4,1,4,3,4,3,5,5,5,5,5,4,3,3,2,2,4,2,1,3,4,3,3,5,5,4,2,2,4,3,1,3,1,1,2,4,2,1,3,5,3,2,2,3,1,5,1,5,4,2,4,4,5,3,4,2,4,2],\"y0\":\" \",\"yaxis\":\"y\",\"type\":\"box\"}],                        {\"template\":{\"data\":{\"histogram2dcontour\":[{\"type\":\"histogram2dcontour\",\"colorbar\":{\"outlinewidth\":0,\"ticks\":\"\"},\"colorscale\":[[0.0,\"#0d0887\"],[0.1111111111111111,\"#46039f\"],[0.2222222222222222,\"#7201a8\"],[0.3333333333333333,\"#9c179e\"],[0.4444444444444444,\"#bd3786\"],[0.5555555555555556,\"#d8576b\"],[0.6666666666666666,\"#ed7953\"],[0.7777777777777778,\"#fb9f3a\"],[0.8888888888888888,\"#fdca26\"],[1.0,\"#f0f921\"]]}],\"choropleth\":[{\"type\":\"choropleth\",\"colorbar\":{\"outlinewidth\":0,\"ticks\":\"\"}}],\"histogram2d\":[{\"type\":\"histogram2d\",\"colorbar\":{\"outlinewidth\":0,\"ticks\":\"\"},\"colorscale\":[[0.0,\"#0d0887\"],[0.1111111111111111,\"#46039f\"],[0.2222222222222222,\"#7201a8\"],[0.3333333333333333,\"#9c179e\"],[0.4444444444444444,\"#bd3786\"],[0.5555555555555556,\"#d8576b\"],[0.6666666666666666,\"#ed7953\"],[0.7777777777777778,\"#fb9f3a\"],[0.8888888888888888,\"#fdca26\"],[1.0,\"#f0f921\"]]}],\"heatmap\":[{\"type\":\"heatmap\",\"colorbar\":{\"outlinewidth\":0,\"ticks\":\"\"},\"colorscale\":[[0.0,\"#0d0887\"],[0.1111111111111111,\"#46039f\"],[0.2222222222222222,\"#7201a8\"],[0.3333333333333333,\"#9c179e\"],[0.4444444444444444,\"#bd3786\"],[0.5555555555555556,\"#d8576b\"],[0.6666666666666666,\"#ed7953\"],[0.7777777777777778,\"#fb9f3a\"],[0.8888888888888888,\"#fdca26\"],[1.0,\"#f0f921\"]]}],\"heatmapgl\":[{\"type\":\"heatmapgl\",\"colorbar\":{\"outlinewidth\":0,\"ticks\":\"\"},\"colorscale\":[[0.0,\"#0d0887\"],[0.1111111111111111,\"#46039f\"],[0.2222222222222222,\"#7201a8\"],[0.3333333333333333,\"#9c179e\"],[0.4444444444444444,\"#bd3786\"],[0.5555555555555556,\"#d8576b\"],[0.6666666666666666,\"#ed7953\"],[0.7777777777777778,\"#fb9f3a\"],[0.8888888888888888,\"#fdca26\"],[1.0,\"#f0f921\"]]}],\"contourcarpet\":[{\"type\":\"contourcarpet\",\"colorbar\":{\"outlinewidth\":0,\"ticks\":\"\"}}],\"contour\":[{\"type\":\"contour\",\"colorbar\":{\"outlinewidth\":0,\"ticks\":\"\"},\"colorscale\":[[0.0,\"#0d0887\"],[0.1111111111111111,\"#46039f\"],[0.2222222222222222,\"#7201a8\"],[0.3333333333333333,\"#9c179e\"],[0.4444444444444444,\"#bd3786\"],[0.5555555555555556,\"#d8576b\"],[0.6666666666666666,\"#ed7953\"],[0.7777777777777778,\"#fb9f3a\"],[0.8888888888888888,\"#fdca26\"],[1.0,\"#f0f921\"]]}],\"surface\":[{\"type\":\"surface\",\"colorbar\":{\"outlinewidth\":0,\"ticks\":\"\"},\"colorscale\":[[0.0,\"#0d0887\"],[0.1111111111111111,\"#46039f\"],[0.2222222222222222,\"#7201a8\"],[0.3333333333333333,\"#9c179e\"],[0.4444444444444444,\"#bd3786\"],[0.5555555555555556,\"#d8576b\"],[0.6666666666666666,\"#ed7953\"],[0.7777777777777778,\"#fb9f3a\"],[0.8888888888888888,\"#fdca26\"],[1.0,\"#f0f921\"]]}],\"mesh3d\":[{\"type\":\"mesh3d\",\"colorbar\":{\"outlinewidth\":0,\"ticks\":\"\"}}],\"scatter\":[{\"fillpattern\":{\"fillmode\":\"overlay\",\"size\":10,\"solidity\":0.2},\"type\":\"scatter\"}],\"parcoords\":[{\"type\":\"parcoords\",\"line\":{\"colorbar\":{\"outlinewidth\":0,\"ticks\":\"\"}}}],\"scatterpolargl\":[{\"type\":\"scatterpolargl\",\"marker\":{\"colorbar\":{\"outlinewidth\":0,\"ticks\":\"\"}}}],\"bar\":[{\"error_x\":{\"color\":\"#2a3f5f\"},\"error_y\":{\"color\":\"#2a3f5f\"},\"marker\":{\"line\":{\"color\":\"#E5ECF6\",\"width\":0.5},\"pattern\":{\"fillmode\":\"overlay\",\"size\":10,\"solidity\":0.2}},\"type\":\"bar\"}],\"scattergeo\":[{\"type\":\"scattergeo\",\"marker\":{\"colorbar\":{\"outlinewidth\":0,\"ticks\":\"\"}}}],\"scatterpolar\":[{\"type\":\"scatterpolar\",\"marker\":{\"colorbar\":{\"outlinewidth\":0,\"ticks\":\"\"}}}],\"histogram\":[{\"marker\":{\"pattern\":{\"fillmode\":\"overlay\",\"size\":10,\"solidity\":0.2}},\"type\":\"histogram\"}],\"scattergl\":[{\"type\":\"scattergl\",\"marker\":{\"colorbar\":{\"outlinewidth\":0,\"ticks\":\"\"}}}],\"scatter3d\":[{\"type\":\"scatter3d\",\"line\":{\"colorbar\":{\"outlinewidth\":0,\"ticks\":\"\"}},\"marker\":{\"colorbar\":{\"outlinewidth\":0,\"ticks\":\"\"}}}],\"scattermapbox\":[{\"type\":\"scattermapbox\",\"marker\":{\"colorbar\":{\"outlinewidth\":0,\"ticks\":\"\"}}}],\"scatterternary\":[{\"type\":\"scatterternary\",\"marker\":{\"colorbar\":{\"outlinewidth\":0,\"ticks\":\"\"}}}],\"scattercarpet\":[{\"type\":\"scattercarpet\",\"marker\":{\"colorbar\":{\"outlinewidth\":0,\"ticks\":\"\"}}}],\"carpet\":[{\"aaxis\":{\"endlinecolor\":\"#2a3f5f\",\"gridcolor\":\"white\",\"linecolor\":\"white\",\"minorgridcolor\":\"white\",\"startlinecolor\":\"#2a3f5f\"},\"baxis\":{\"endlinecolor\":\"#2a3f5f\",\"gridcolor\":\"white\",\"linecolor\":\"white\",\"minorgridcolor\":\"white\",\"startlinecolor\":\"#2a3f5f\"},\"type\":\"carpet\"}],\"table\":[{\"cells\":{\"fill\":{\"color\":\"#EBF0F8\"},\"line\":{\"color\":\"white\"}},\"header\":{\"fill\":{\"color\":\"#C8D4E3\"},\"line\":{\"color\":\"white\"}},\"type\":\"table\"}],\"barpolar\":[{\"marker\":{\"line\":{\"color\":\"#E5ECF6\",\"width\":0.5},\"pattern\":{\"fillmode\":\"overlay\",\"size\":10,\"solidity\":0.2}},\"type\":\"barpolar\"}],\"pie\":[{\"automargin\":true,\"type\":\"pie\"}]},\"layout\":{\"autotypenumbers\":\"strict\",\"colorway\":[\"#636efa\",\"#EF553B\",\"#00cc96\",\"#ab63fa\",\"#FFA15A\",\"#19d3f3\",\"#FF6692\",\"#B6E880\",\"#FF97FF\",\"#FECB52\"],\"font\":{\"color\":\"#2a3f5f\"},\"hovermode\":\"closest\",\"hoverlabel\":{\"align\":\"left\"},\"paper_bgcolor\":\"white\",\"plot_bgcolor\":\"#E5ECF6\",\"polar\":{\"bgcolor\":\"#E5ECF6\",\"angularaxis\":{\"gridcolor\":\"white\",\"linecolor\":\"white\",\"ticks\":\"\"},\"radialaxis\":{\"gridcolor\":\"white\",\"linecolor\":\"white\",\"ticks\":\"\"}},\"ternary\":{\"bgcolor\":\"#E5ECF6\",\"aaxis\":{\"gridcolor\":\"white\",\"linecolor\":\"white\",\"ticks\":\"\"},\"baxis\":{\"gridcolor\":\"white\",\"linecolor\":\"white\",\"ticks\":\"\"},\"caxis\":{\"gridcolor\":\"white\",\"linecolor\":\"white\",\"ticks\":\"\"}},\"coloraxis\":{\"colorbar\":{\"outlinewidth\":0,\"ticks\":\"\"}},\"colorscale\":{\"sequential\":[[0.0,\"#0d0887\"],[0.1111111111111111,\"#46039f\"],[0.2222222222222222,\"#7201a8\"],[0.3333333333333333,\"#9c179e\"],[0.4444444444444444,\"#bd3786\"],[0.5555555555555556,\"#d8576b\"],[0.6666666666666666,\"#ed7953\"],[0.7777777777777778,\"#fb9f3a\"],[0.8888888888888888,\"#fdca26\"],[1.0,\"#f0f921\"]],\"sequentialminus\":[[0.0,\"#0d0887\"],[0.1111111111111111,\"#46039f\"],[0.2222222222222222,\"#7201a8\"],[0.3333333333333333,\"#9c179e\"],[0.4444444444444444,\"#bd3786\"],[0.5555555555555556,\"#d8576b\"],[0.6666666666666666,\"#ed7953\"],[0.7777777777777778,\"#fb9f3a\"],[0.8888888888888888,\"#fdca26\"],[1.0,\"#f0f921\"]],\"diverging\":[[0,\"#8e0152\"],[0.1,\"#c51b7d\"],[0.2,\"#de77ae\"],[0.3,\"#f1b6da\"],[0.4,\"#fde0ef\"],[0.5,\"#f7f7f7\"],[0.6,\"#e6f5d0\"],[0.7,\"#b8e186\"],[0.8,\"#7fbc41\"],[0.9,\"#4d9221\"],[1,\"#276419\"]]},\"xaxis\":{\"gridcolor\":\"white\",\"linecolor\":\"white\",\"ticks\":\"\",\"title\":{\"standoff\":15},\"zerolinecolor\":\"white\",\"automargin\":true,\"zerolinewidth\":2},\"yaxis\":{\"gridcolor\":\"white\",\"linecolor\":\"white\",\"ticks\":\"\",\"title\":{\"standoff\":15},\"zerolinecolor\":\"white\",\"automargin\":true,\"zerolinewidth\":2},\"scene\":{\"xaxis\":{\"backgroundcolor\":\"#E5ECF6\",\"gridcolor\":\"white\",\"linecolor\":\"white\",\"showbackground\":true,\"ticks\":\"\",\"zerolinecolor\":\"white\",\"gridwidth\":2},\"yaxis\":{\"backgroundcolor\":\"#E5ECF6\",\"gridcolor\":\"white\",\"linecolor\":\"white\",\"showbackground\":true,\"ticks\":\"\",\"zerolinecolor\":\"white\",\"gridwidth\":2},\"zaxis\":{\"backgroundcolor\":\"#E5ECF6\",\"gridcolor\":\"white\",\"linecolor\":\"white\",\"showbackground\":true,\"ticks\":\"\",\"zerolinecolor\":\"white\",\"gridwidth\":2}},\"shapedefaults\":{\"line\":{\"color\":\"#2a3f5f\"}},\"annotationdefaults\":{\"arrowcolor\":\"#2a3f5f\",\"arrowhead\":0,\"arrowwidth\":1},\"geo\":{\"bgcolor\":\"white\",\"landcolor\":\"#E5ECF6\",\"subunitcolor\":\"white\",\"showland\":true,\"showlakes\":true,\"lakecolor\":\"white\"},\"title\":{\"x\":0.05},\"mapbox\":{\"style\":\"light\"}}},\"xaxis\":{\"anchor\":\"y\",\"domain\":[0.0,1.0],\"title\":{\"text\":\"Comparison with Others (1-5)\"},\"showline\":true,\"linewidth\":1,\"linecolor\":\"lightgrey\",\"gridcolor\":\"lightgrey\"},\"yaxis\":{\"anchor\":\"x\",\"domain\":[0.0,1.0],\"title\":{\"text\":\"Feeling Depressed (1-5)\"},\"showline\":true,\"linewidth\":1,\"linecolor\":\"lightgrey\",\"gridcolor\":\"lightgrey\"},\"legend\":{\"tracegroupgap\":0},\"title\":{\"text\":\"Distribution of Depression Feelings at Different Levels of Comparison with Others\"},\"boxmode\":\"group\",\"plot_bgcolor\":\"white\",\"paper_bgcolor\":\"white\",\"width\":1200,\"height\":600},                        {\"responsive\": true}                    ).then(function(){\n",
       "                            \n",
       "var gd = document.getElementById('2ed0395c-5c50-4a82-8225-4c174f7332fa');\n",
       "var x = new MutationObserver(function (mutations, observer) {{\n",
       "        var display = window.getComputedStyle(gd).display;\n",
       "        if (!display || display === 'none') {{\n",
       "            console.log([gd, 'removed!']);\n",
       "            Plotly.purge(gd);\n",
       "            observer.disconnect();\n",
       "        }}\n",
       "}});\n",
       "\n",
       "// Listen for the removal of the full notebook cells\n",
       "var notebookContainer = gd.closest('#notebook-container');\n",
       "if (notebookContainer) {{\n",
       "    x.observe(notebookContainer, {childList: true});\n",
       "}}\n",
       "\n",
       "// Listen for the clearing of the current output cell\n",
       "var outputEl = gd.closest('.output');\n",
       "if (outputEl) {{\n",
       "    x.observe(outputEl, {childList: true});\n",
       "}}\n",
       "\n",
       "                        })                };                });            </script>        </div>"
      ]
     },
     "metadata": {},
     "output_type": "display_data"
    }
   ],
   "source": [
    "# Graph 3 : Distribution of Depression Feelings at Different Levels of Comparison with Others\n",
    "# Recreating the box plot with the desired aesthetics\n",
    "fig = px.box(df, x='comparison_with_others(1-5)', y='feel_depressed(1-5)',\n",
    "             labels={'comparison_with_others(1-5)': 'Comparison with Others (1-5)',\n",
    "                     'feel_depressed(1-5)': 'Feeling Depressed (1-5)'},\n",
    "             title='Distribution of Depression Feelings at Different Levels of Comparison with Others')\n",
    "\n",
    "# Updating the axes to include gridlines in light grey\n",
    "fig.update_layout( plot_bgcolor='white',paper_bgcolor='white')\n",
    "fig.update_xaxes(showline=True, linewidth=1, linecolor='lightgrey', gridcolor='lightgrey')\n",
    "fig.update_yaxes(showline=True, linewidth=1, linecolor='lightgrey', gridcolor='lightgrey')\n",
    "\n",
    "fig.update_layout(width=1200, height=600)\n",
    "fig.show()"
   ]
  },
  {
   "cell_type": "markdown",
   "metadata": {},
   "source": [
    "The box plot reveals a trend where higher self-comparison correlates with increased feelings of depression. Each step up in comparison level shows a rise in the median depression score. The spread of data suggests variability in how comparison affects individuals. Outliers indicate that some experience notably different levels of depression."
   ]
  },
  {
   "cell_type": "markdown",
   "metadata": {},
   "source": [
    "### Focusing On The Correlation between feeling Depressed and Other caracteristics "
   ]
  },
  {
   "cell_type": "markdown",
   "metadata": {},
   "source": [
    "I then shifted my focus to the \"Depression\" feature to better study mental health and identify the characteristics that impact mental well-being"
   ]
  },
  {
   "cell_type": "code",
   "execution_count": 487,
   "metadata": {},
   "outputs": [
    {
     "data": {
      "text/html": [
       "<div>                            <div id=\"ab885fe1-ccd1-4736-a32f-cb3d8dc860bd\" class=\"plotly-graph-div\" style=\"height:800px; width:1200px;\"></div>            <script type=\"text/javascript\">                require([\"plotly\"], function(Plotly) {                    window.PLOTLYENV=window.PLOTLYENV || {};                                    if (document.getElementById(\"ab885fe1-ccd1-4736-a32f-cb3d8dc860bd\")) {                    Plotly.newPlot(                        \"ab885fe1-ccd1-4736-a32f-cb3d8dc860bd\",                        [{\"name\":\"feelings_about_comparison(1-5)\",\"x\":[5,5,4,4,4,3,5,5,5,1,5,3,3,3,5,3,4,2,3,2,2,3,4,4,3,4,4,4,4,5,5,3,2,3,5,4,3,5,2,1,3,4,2,5,3,3,1,3,2,1,3,3,5,1,1,5,3,4,5,1,4,4,5,5,1,2,4,4,4,3,1,5,4,2,5,2,5,4,5,5,4,1,4,4,2,4,2,1,3,5,4,4,4,3,4,3,1,4,5,2,3,5,4,3,1,2,3,1,2,3,2,4,2,2,4,2,3,3,5,4,1,3,5,4,1,4,4,4,4,3,1,3,3,2,2,4,1,1,3,4,1,3,4,2,5,3,4,2,2,2,2,1,2,3,4,3,2,1,4,4,2,1,3,3,3,2,2,2,1,2,3,3,5,3,4,1,1,4,3,4,4,3,1,5,3,2,3,3,4,2,4,4,4,5,4,1,3,2,1,1,2,3,3,3,5,2,1,5,1,4,3,1,5,1,4,3,1,2,5,2,3,2,3,3,4,2,4,2,1,4,4,1,5,1,4,4,2,5,5,4,4,2,3,3,3,4,4,2,1,4,1,5,5,2,2,3,5,1,4,3,2,5,3,3,2,3,2,4,3,3,2,5,3,5,3,5,5,5,5,5,3,4,2,5,4,3,2,5,4,3,3,4,4,5,1,2,4,4,3,5,5,5,4,4,3,3,5,1,2,2,5,3,2,5,4,3,3,5,5,5,5,4,3,2,5,5,5,5,4,4,1,4,3,5,3,4,1,4,3,5,3,3,5,2,5,5,1,4,3,5,4,3,3,5,2,3,4,3,3,4,3,2,4,2,1,5,4,5,1,5,2,4,3,3,2,5,5,4,5,1,5,5,4,5,3,2,3,2,4,4,3,5,5,5,2,2,5,5,1,5,4,3,3,1,1,5,5,4,4,4,3,3,5,5,4,5,2,3,4,3,3,2,5,4,1,4,3,4,3,5,5,5,5,5,4,3,3,2,2,4,2,1,3,4,3,3,5,5,4,2,2,4,3,1,3,1,1,2,4,2,1,3,5,3,2,2,3,1,5,1,5,4,2,4,4,5,3,4,2,4,2],\"y\":[3,1,3,1,3,4,3,3,3,1,2,2,2,3,5,2,3,4,3,5,2,2,3,2,1,4,3,4,3,4,2,2,3,2,3,3,3,3,3,3,1,4,3,2,3,3,4,2,3,2,3,2,5,3,3,3,3,3,3,3,2,2,3,3,3,3,2,3,4,2,1,5,2,3,2,1,3,1,3,2,3,3,3,4,2,2,2,4,3,2,3,3,3,2,3,1,3,2,3,1,2,1,3,3,4,4,3,3,1,3,3,4,3,3,1,3,1,3,5,3,3,2,3,1,5,2,3,1,1,4,4,2,4,1,4,3,3,1,3,4,4,2,3,3,2,2,1,2,3,4,4,5,3,1,3,3,3,1,2,5,2,3,3,3,5,3,1,5,3,3,3,2,2,3,4,2,3,3,2,2,2,3,3,4,3,2,3,3,3,5,3,5,2,3,3,3,4,4,2,3,2,4,3,2,3,2,2,4,1,4,4,3,4,1,3,3,5,4,4,5,2,2,2,3,4,3,1,3,2,3,4,1,5,1,2,4,3,1,5,1,1,4,3,3,4,2,2,5,3,4,1,3,3,3,4,1,1,2,3,4,3,3,3,3,3,3,4,3,3,3,3,1,3,3,2,3,5,5,3,3,4,4,2,2,3,2,1,2,3,1,3,3,3,5,3,3,3,3,2,3,3,1,3,3,2,3,2,3,3,3,3,3,2,3,4,4,3,3,1,5,5,3,3,3,1,3,5,2,2,2,5,3,4,2,3,3,1,2,4,3,3,4,2,2,5,3,3,1,3,3,3,3,2,2,1,2,3,4,3,2,3,3,1,3,1,1,3,5,4,4,3,1,2,3,2,2,3,2,5,3,3,5,2,3,1,4,3,2,1,3,3,3,3,2,3,3,4,3,3,3,2,2,3,1,1,5,1,2,2,2,1,3,3,2,3,3,3,3,3,2,3,4,1,2,3,5,2,3,4,1,3,4,5,1,1,2,2,2,3,4,3,5,3,3,4,4,3,1,1,3,1,3,1,3,3,4,1,3,3,3,1,4,2,3,3,3,3,2,1,3,1,3,2,5,2,1,2,2,3,3,3],\"type\":\"box\",\"xaxis\":\"x\",\"yaxis\":\"y\"},{\"name\":\"sleep_issues(1-5)\",\"x\":[5,5,4,4,4,3,5,5,5,1,5,3,3,3,5,3,4,2,3,2,2,3,4,4,3,4,4,4,4,5,5,3,2,3,5,4,3,5,2,1,3,4,2,5,3,3,1,3,2,1,3,3,5,1,1,5,3,4,5,1,4,4,5,5,1,2,4,4,4,3,1,5,4,2,5,2,5,4,5,5,4,1,4,4,2,4,2,1,3,5,4,4,4,3,4,3,1,4,5,2,3,5,4,3,1,2,3,1,2,3,2,4,2,2,4,2,3,3,5,4,1,3,5,4,1,4,4,4,4,3,1,3,3,2,2,4,1,1,3,4,1,3,4,2,5,3,4,2,2,2,2,1,2,3,4,3,2,1,4,4,2,1,3,3,3,2,2,2,1,2,3,3,5,3,4,1,1,4,3,4,4,3,1,5,3,2,3,3,4,2,4,4,4,5,4,1,3,2,1,1,2,3,3,3,5,2,1,5,1,4,3,1,5,1,4,3,1,2,5,2,3,2,3,3,4,2,4,2,1,4,4,1,5,1,4,4,2,5,5,4,4,2,3,3,3,4,4,2,1,4,1,5,5,2,2,3,5,1,4,3,2,5,3,3,2,3,2,4,3,3,2,5,3,5,3,5,5,5,5,5,3,4,2,5,4,3,2,5,4,3,3,4,4,5,1,2,4,4,3,5,5,5,4,4,3,3,5,1,2,2,5,3,2,5,4,3,3,5,5,5,5,4,3,2,5,5,5,5,4,4,1,4,3,5,3,4,1,4,3,5,3,3,5,2,5,5,1,4,3,5,4,3,3,5,2,3,4,3,3,4,3,2,4,2,1,5,4,5,1,5,2,4,3,3,2,5,5,4,5,1,5,5,4,5,3,2,3,2,4,4,3,5,5,5,2,2,5,5,1,5,4,3,3,1,1,5,5,4,4,4,3,3,5,5,4,5,2,3,4,3,3,2,5,4,1,4,3,4,3,5,5,5,5,5,4,3,3,2,2,4,2,1,3,4,3,3,5,5,4,2,2,4,3,1,3,1,1,2,4,2,1,3,5,3,2,2,3,1,5,1,5,4,2,4,4,5,3,4,2,4,2],\"y\":[5,5,5,2,1,4,3,1,1,1,5,2,5,3,5,2,3,2,1,2,2,1,4,1,5,2,4,5,1,1,3,2,3,2,4,1,1,5,5,4,1,2,1,2,3,3,2,1,1,1,4,1,5,1,2,3,2,5,2,5,4,4,5,5,4,4,1,4,4,4,2,5,5,2,4,4,2,2,5,5,5,4,2,5,2,1,4,1,2,4,3,2,1,5,4,5,5,2,3,3,3,5,3,5,3,5,5,1,5,3,3,3,4,4,1,4,5,4,5,5,1,3,3,2,1,3,4,5,3,2,4,2,4,1,1,5,4,1,3,2,1,4,1,2,5,3,4,2,2,4,2,5,3,2,5,4,4,4,4,5,5,2,4,4,4,2,4,4,2,1,4,4,5,1,5,1,1,5,5,1,5,4,3,2,4,2,1,1,4,5,1,1,4,4,5,1,2,2,2,1,2,5,4,3,5,4,2,4,1,4,2,1,5,1,1,1,1,2,4,3,4,1,3,3,3,3,3,5,4,5,1,1,5,1,3,1,1,5,5,5,2,4,5,5,3,2,1,3,1,4,1,4,5,3,2,5,5,3,2,4,3,4,2,3,2,2,4,4,5,2,5,5,4,5,3,5,5,5,2,4,5,3,2,5,4,4,2,4,2,4,4,3,4,5,1,1,2,5,2,3,4,5,2,5,2,2,3,1,4,1,5,5,2,5,4,4,3,4,5,5,5,4,5,5,5,1,5,4,2,4,4,2,3,4,3,2,2,5,3,2,1,3,5,5,5,2,1,1,1,4,5,4,5,4,2,5,2,3,1,5,2,4,5,2,2,5,4,5,1,4,5,5,3,5,1,4,4,4,2,2,5,1,5,3,3,4,4,4,2,5,4,3,5,1,2,1,3,5,4,5,3,4,5,1,1,5,5,3,1,5,1,3,5,5,4,5,2,5,3,1,5,4,4,5,3,1,3,3,2,4,5,5,5,5,5,5,4,2,5,4,4,2,2,3,3,4,5,3,5,5,2,5,3,1,2,1,2,4,2,3,1,2,2,4,1,2,3,4,1,1,5,4,4,4,1,4,4,1,2,4,3],\"type\":\"box\",\"xaxis\":\"x2\",\"yaxis\":\"y2\"},{\"name\":\"bothered_by_worries_scale(1-5)\",\"x\":[5,5,4,4,4,3,5,5,5,1,5,3,3,3,5,3,4,2,3,2,2,3,4,4,3,4,4,4,4,5,5,3,2,3,5,4,3,5,2,1,3,4,2,5,3,3,1,3,2,1,3,3,5,1,1,5,3,4,5,1,4,4,5,5,1,2,4,4,4,3,1,5,4,2,5,2,5,4,5,5,4,1,4,4,2,4,2,1,3,5,4,4,4,3,4,3,1,4,5,2,3,5,4,3,1,2,3,1,2,3,2,4,2,2,4,2,3,3,5,4,1,3,5,4,1,4,4,4,4,3,1,3,3,2,2,4,1,1,3,4,1,3,4,2,5,3,4,2,2,2,2,1,2,3,4,3,2,1,4,4,2,1,3,3,3,2,2,2,1,2,3,3,5,3,4,1,1,4,3,4,4,3,1,5,3,2,3,3,4,2,4,4,4,5,4,1,3,2,1,1,2,3,3,3,5,2,1,5,1,4,3,1,5,1,4,3,1,2,5,2,3,2,3,3,4,2,4,2,1,4,4,1,5,1,4,4,2,5,5,4,4,2,3,3,3,4,4,2,1,4,1,5,5,2,2,3,5,1,4,3,2,5,3,3,2,3,2,4,3,3,2,5,3,5,3,5,5,5,5,5,3,4,2,5,4,3,2,5,4,3,3,4,4,5,1,2,4,4,3,5,5,5,4,4,3,3,5,1,2,2,5,3,2,5,4,3,3,5,5,5,5,4,3,2,5,5,5,5,4,4,1,4,3,5,3,4,1,4,3,5,3,3,5,2,5,5,1,4,3,5,4,3,3,5,2,3,4,3,3,4,3,2,4,2,1,5,4,5,1,5,2,4,3,3,2,5,5,4,5,1,5,5,4,5,3,2,3,2,4,4,3,5,5,5,2,2,5,5,1,5,4,3,3,1,1,5,5,4,4,4,3,3,5,5,4,5,2,3,4,3,3,2,5,4,1,4,3,4,3,5,5,5,5,5,4,3,3,2,2,4,2,1,3,4,3,3,5,5,4,2,2,4,3,1,3,1,1,2,4,2,1,3,5,3,2,2,3,1,5,1,5,4,2,4,4,5,3,4,2,4,2],\"y\":[2,5,5,5,5,4,4,3,1,1,3,3,4,4,5,4,4,3,5,4,3,4,4,4,5,3,3,4,5,5,5,3,3,4,5,4,2,1,4,3,1,3,3,5,3,5,2,5,2,2,3,4,5,2,2,4,4,4,4,2,4,5,4,2,3,2,5,5,5,3,2,5,4,2,4,2,3,5,5,5,5,4,4,3,5,5,1,2,1,5,4,5,5,2,4,2,2,1,4,3,4,4,4,5,3,3,2,3,2,2,4,5,3,3,3,3,5,5,5,3,2,4,2,5,2,4,4,5,1,3,3,2,4,2,2,4,3,1,3,5,2,5,4,2,3,2,4,5,2,2,2,2,2,2,4,4,3,4,1,5,2,1,4,4,5,2,2,2,1,3,2,5,4,4,4,4,1,3,5,4,5,2,4,5,4,3,3,3,4,1,2,3,2,5,5,1,1,3,2,2,4,4,3,5,5,3,4,1,1,5,4,1,3,1,5,3,1,4,4,3,5,2,4,3,3,3,5,3,1,4,4,2,2,2,4,4,3,5,5,5,4,5,4,5,2,4,4,4,1,5,1,5,1,3,5,5,5,1,3,3,2,5,2,2,4,4,3,5,5,3,2,5,4,5,5,5,5,5,5,3,5,5,1,5,4,4,2,5,4,4,2,4,4,4,1,4,5,5,4,3,5,5,2,3,4,5,4,2,4,4,5,5,3,5,4,4,4,3,5,5,5,4,4,4,5,5,5,5,2,4,3,3,1,5,3,5,3,4,4,5,4,5,5,5,5,4,1,4,5,5,4,3,4,5,3,4,5,2,4,5,3,3,3,1,1,5,3,5,1,4,4,5,2,4,4,5,4,5,5,2,4,5,5,3,4,3,5,4,4,5,2,5,5,5,3,3,4,4,2,4,4,3,4,1,1,5,5,3,5,5,5,3,5,5,3,5,3,4,5,2,5,3,5,5,4,5,3,5,3,5,4,4,5,5,4,5,5,3,2,4,2,3,3,4,4,5,5,5,4,3,4,5,3,1,4,1,1,2,3,3,1,5,4,3,3,2,4,2,5,3,5,5,3,4,4,5,3,4,2,3,1],\"type\":\"box\",\"xaxis\":\"x3\",\"yaxis\":\"y3\"},{\"name\":\"validation_seeking(1-5)\",\"x\":[5,5,4,4,4,3,5,5,5,1,5,3,3,3,5,3,4,2,3,2,2,3,4,4,3,4,4,4,4,5,5,3,2,3,5,4,3,5,2,1,3,4,2,5,3,3,1,3,2,1,3,3,5,1,1,5,3,4,5,1,4,4,5,5,1,2,4,4,4,3,1,5,4,2,5,2,5,4,5,5,4,1,4,4,2,4,2,1,3,5,4,4,4,3,4,3,1,4,5,2,3,5,4,3,1,2,3,1,2,3,2,4,2,2,4,2,3,3,5,4,1,3,5,4,1,4,4,4,4,3,1,3,3,2,2,4,1,1,3,4,1,3,4,2,5,3,4,2,2,2,2,1,2,3,4,3,2,1,4,4,2,1,3,3,3,2,2,2,1,2,3,3,5,3,4,1,1,4,3,4,4,3,1,5,3,2,3,3,4,2,4,4,4,5,4,1,3,2,1,1,2,3,3,3,5,2,1,5,1,4,3,1,5,1,4,3,1,2,5,2,3,2,3,3,4,2,4,2,1,4,4,1,5,1,4,4,2,5,5,4,4,2,3,3,3,4,4,2,1,4,1,5,5,2,2,3,5,1,4,3,2,5,3,3,2,3,2,4,3,3,2,5,3,5,3,5,5,5,5,5,3,4,2,5,4,3,2,5,4,3,3,4,4,5,1,2,4,4,3,5,5,5,4,4,3,3,5,1,2,2,5,3,2,5,4,3,3,5,5,5,5,4,3,2,5,5,5,5,4,4,1,4,3,5,3,4,1,4,3,5,3,3,5,2,5,5,1,4,3,5,4,3,3,5,2,3,4,3,3,4,3,2,4,2,1,5,4,5,1,5,2,4,3,3,2,5,5,4,5,1,5,5,4,5,3,2,3,2,4,4,3,5,5,5,2,2,5,5,1,5,4,3,3,1,1,5,5,4,4,4,3,3,5,5,4,5,2,3,4,3,3,2,5,4,1,4,3,4,3,5,5,5,5,5,4,3,3,2,2,4,2,1,3,4,3,3,5,5,4,2,2,4,3,1,3,1,1,2,4,2,1,3,5,3,2,2,3,1,5,1,5,4,2,4,4,5,3,4,2,4,2],\"y\":[2,1,1,2,3,3,4,1,1,1,3,3,1,2,5,2,1,2,1,3,1,1,3,3,3,4,3,4,2,3,3,2,3,4,1,1,4,1,3,1,2,2,1,1,3,3,3,1,1,1,3,1,5,1,1,4,1,2,4,1,2,4,1,1,1,2,4,2,2,2,1,5,4,1,4,1,4,2,1,1,1,2,2,3,4,2,2,1,5,4,2,2,2,2,3,1,1,1,4,4,3,1,3,4,4,3,3,2,3,3,3,3,1,2,4,3,1,4,4,3,2,1,1,1,4,2,2,4,1,1,3,3,2,1,1,3,1,1,3,3,1,3,3,5,3,3,4,1,3,2,3,1,2,3,3,2,1,1,2,4,2,2,2,2,2,2,1,3,1,1,1,2,4,4,3,1,4,3,1,4,2,3,2,4,3,2,3,1,3,5,3,3,1,4,4,1,1,3,1,1,2,2,1,4,1,3,1,1,1,3,4,1,5,1,5,1,3,3,3,5,3,1,3,3,3,3,5,2,1,4,3,2,3,1,1,4,1,2,5,5,4,4,2,3,2,3,2,1,5,3,1,3,4,2,2,3,5,1,4,2,2,3,3,4,2,3,1,2,1,1,1,4,4,1,3,3,5,1,4,4,4,4,1,1,3,2,3,4,4,3,3,2,3,4,5,1,1,3,1,3,3,2,4,1,2,3,2,5,3,2,1,1,3,1,2,3,1,2,4,5,3,3,3,4,1,5,3,5,2,2,1,1,1,3,3,2,1,4,1,4,1,4,1,2,1,1,3,1,1,1,1,1,3,1,3,4,1,2,2,2,3,1,4,1,2,4,2,5,2,3,3,5,2,2,3,3,2,5,5,1,3,5,3,4,2,1,2,4,2,2,4,1,1,4,3,4,3,4,2,4,2,2,2,1,1,1,1,4,1,4,1,1,1,1,2,3,1,1,2,3,2,3,4,4,3,1,3,4,3,3,3,4,5,3,1,5,2,4,1,4,4,3,1,4,3,1,3,4,4,1,1,1,1,3,3,1,1,3,3,1,1,1,2,1,1,2,1,1,2,3,2,2,2,3,2,4,4,4,4,4,2],\"type\":\"box\",\"xaxis\":\"x4\",\"yaxis\":\"y4\"}],                        {\"template\":{\"data\":{\"histogram2dcontour\":[{\"type\":\"histogram2dcontour\",\"colorbar\":{\"outlinewidth\":0,\"ticks\":\"\"},\"colorscale\":[[0.0,\"#0d0887\"],[0.1111111111111111,\"#46039f\"],[0.2222222222222222,\"#7201a8\"],[0.3333333333333333,\"#9c179e\"],[0.4444444444444444,\"#bd3786\"],[0.5555555555555556,\"#d8576b\"],[0.6666666666666666,\"#ed7953\"],[0.7777777777777778,\"#fb9f3a\"],[0.8888888888888888,\"#fdca26\"],[1.0,\"#f0f921\"]]}],\"choropleth\":[{\"type\":\"choropleth\",\"colorbar\":{\"outlinewidth\":0,\"ticks\":\"\"}}],\"histogram2d\":[{\"type\":\"histogram2d\",\"colorbar\":{\"outlinewidth\":0,\"ticks\":\"\"},\"colorscale\":[[0.0,\"#0d0887\"],[0.1111111111111111,\"#46039f\"],[0.2222222222222222,\"#7201a8\"],[0.3333333333333333,\"#9c179e\"],[0.4444444444444444,\"#bd3786\"],[0.5555555555555556,\"#d8576b\"],[0.6666666666666666,\"#ed7953\"],[0.7777777777777778,\"#fb9f3a\"],[0.8888888888888888,\"#fdca26\"],[1.0,\"#f0f921\"]]}],\"heatmap\":[{\"type\":\"heatmap\",\"colorbar\":{\"outlinewidth\":0,\"ticks\":\"\"},\"colorscale\":[[0.0,\"#0d0887\"],[0.1111111111111111,\"#46039f\"],[0.2222222222222222,\"#7201a8\"],[0.3333333333333333,\"#9c179e\"],[0.4444444444444444,\"#bd3786\"],[0.5555555555555556,\"#d8576b\"],[0.6666666666666666,\"#ed7953\"],[0.7777777777777778,\"#fb9f3a\"],[0.8888888888888888,\"#fdca26\"],[1.0,\"#f0f921\"]]}],\"heatmapgl\":[{\"type\":\"heatmapgl\",\"colorbar\":{\"outlinewidth\":0,\"ticks\":\"\"},\"colorscale\":[[0.0,\"#0d0887\"],[0.1111111111111111,\"#46039f\"],[0.2222222222222222,\"#7201a8\"],[0.3333333333333333,\"#9c179e\"],[0.4444444444444444,\"#bd3786\"],[0.5555555555555556,\"#d8576b\"],[0.6666666666666666,\"#ed7953\"],[0.7777777777777778,\"#fb9f3a\"],[0.8888888888888888,\"#fdca26\"],[1.0,\"#f0f921\"]]}],\"contourcarpet\":[{\"type\":\"contourcarpet\",\"colorbar\":{\"outlinewidth\":0,\"ticks\":\"\"}}],\"contour\":[{\"type\":\"contour\",\"colorbar\":{\"outlinewidth\":0,\"ticks\":\"\"},\"colorscale\":[[0.0,\"#0d0887\"],[0.1111111111111111,\"#46039f\"],[0.2222222222222222,\"#7201a8\"],[0.3333333333333333,\"#9c179e\"],[0.4444444444444444,\"#bd3786\"],[0.5555555555555556,\"#d8576b\"],[0.6666666666666666,\"#ed7953\"],[0.7777777777777778,\"#fb9f3a\"],[0.8888888888888888,\"#fdca26\"],[1.0,\"#f0f921\"]]}],\"surface\":[{\"type\":\"surface\",\"colorbar\":{\"outlinewidth\":0,\"ticks\":\"\"},\"colorscale\":[[0.0,\"#0d0887\"],[0.1111111111111111,\"#46039f\"],[0.2222222222222222,\"#7201a8\"],[0.3333333333333333,\"#9c179e\"],[0.4444444444444444,\"#bd3786\"],[0.5555555555555556,\"#d8576b\"],[0.6666666666666666,\"#ed7953\"],[0.7777777777777778,\"#fb9f3a\"],[0.8888888888888888,\"#fdca26\"],[1.0,\"#f0f921\"]]}],\"mesh3d\":[{\"type\":\"mesh3d\",\"colorbar\":{\"outlinewidth\":0,\"ticks\":\"\"}}],\"scatter\":[{\"fillpattern\":{\"fillmode\":\"overlay\",\"size\":10,\"solidity\":0.2},\"type\":\"scatter\"}],\"parcoords\":[{\"type\":\"parcoords\",\"line\":{\"colorbar\":{\"outlinewidth\":0,\"ticks\":\"\"}}}],\"scatterpolargl\":[{\"type\":\"scatterpolargl\",\"marker\":{\"colorbar\":{\"outlinewidth\":0,\"ticks\":\"\"}}}],\"bar\":[{\"error_x\":{\"color\":\"#2a3f5f\"},\"error_y\":{\"color\":\"#2a3f5f\"},\"marker\":{\"line\":{\"color\":\"#E5ECF6\",\"width\":0.5},\"pattern\":{\"fillmode\":\"overlay\",\"size\":10,\"solidity\":0.2}},\"type\":\"bar\"}],\"scattergeo\":[{\"type\":\"scattergeo\",\"marker\":{\"colorbar\":{\"outlinewidth\":0,\"ticks\":\"\"}}}],\"scatterpolar\":[{\"type\":\"scatterpolar\",\"marker\":{\"colorbar\":{\"outlinewidth\":0,\"ticks\":\"\"}}}],\"histogram\":[{\"marker\":{\"pattern\":{\"fillmode\":\"overlay\",\"size\":10,\"solidity\":0.2}},\"type\":\"histogram\"}],\"scattergl\":[{\"type\":\"scattergl\",\"marker\":{\"colorbar\":{\"outlinewidth\":0,\"ticks\":\"\"}}}],\"scatter3d\":[{\"type\":\"scatter3d\",\"line\":{\"colorbar\":{\"outlinewidth\":0,\"ticks\":\"\"}},\"marker\":{\"colorbar\":{\"outlinewidth\":0,\"ticks\":\"\"}}}],\"scattermapbox\":[{\"type\":\"scattermapbox\",\"marker\":{\"colorbar\":{\"outlinewidth\":0,\"ticks\":\"\"}}}],\"scatterternary\":[{\"type\":\"scatterternary\",\"marker\":{\"colorbar\":{\"outlinewidth\":0,\"ticks\":\"\"}}}],\"scattercarpet\":[{\"type\":\"scattercarpet\",\"marker\":{\"colorbar\":{\"outlinewidth\":0,\"ticks\":\"\"}}}],\"carpet\":[{\"aaxis\":{\"endlinecolor\":\"#2a3f5f\",\"gridcolor\":\"white\",\"linecolor\":\"white\",\"minorgridcolor\":\"white\",\"startlinecolor\":\"#2a3f5f\"},\"baxis\":{\"endlinecolor\":\"#2a3f5f\",\"gridcolor\":\"white\",\"linecolor\":\"white\",\"minorgridcolor\":\"white\",\"startlinecolor\":\"#2a3f5f\"},\"type\":\"carpet\"}],\"table\":[{\"cells\":{\"fill\":{\"color\":\"#EBF0F8\"},\"line\":{\"color\":\"white\"}},\"header\":{\"fill\":{\"color\":\"#C8D4E3\"},\"line\":{\"color\":\"white\"}},\"type\":\"table\"}],\"barpolar\":[{\"marker\":{\"line\":{\"color\":\"#E5ECF6\",\"width\":0.5},\"pattern\":{\"fillmode\":\"overlay\",\"size\":10,\"solidity\":0.2}},\"type\":\"barpolar\"}],\"pie\":[{\"automargin\":true,\"type\":\"pie\"}]},\"layout\":{\"autotypenumbers\":\"strict\",\"colorway\":[\"#636efa\",\"#EF553B\",\"#00cc96\",\"#ab63fa\",\"#FFA15A\",\"#19d3f3\",\"#FF6692\",\"#B6E880\",\"#FF97FF\",\"#FECB52\"],\"font\":{\"color\":\"#2a3f5f\"},\"hovermode\":\"closest\",\"hoverlabel\":{\"align\":\"left\"},\"paper_bgcolor\":\"white\",\"plot_bgcolor\":\"#E5ECF6\",\"polar\":{\"bgcolor\":\"#E5ECF6\",\"angularaxis\":{\"gridcolor\":\"white\",\"linecolor\":\"white\",\"ticks\":\"\"},\"radialaxis\":{\"gridcolor\":\"white\",\"linecolor\":\"white\",\"ticks\":\"\"}},\"ternary\":{\"bgcolor\":\"#E5ECF6\",\"aaxis\":{\"gridcolor\":\"white\",\"linecolor\":\"white\",\"ticks\":\"\"},\"baxis\":{\"gridcolor\":\"white\",\"linecolor\":\"white\",\"ticks\":\"\"},\"caxis\":{\"gridcolor\":\"white\",\"linecolor\":\"white\",\"ticks\":\"\"}},\"coloraxis\":{\"colorbar\":{\"outlinewidth\":0,\"ticks\":\"\"}},\"colorscale\":{\"sequential\":[[0.0,\"#0d0887\"],[0.1111111111111111,\"#46039f\"],[0.2222222222222222,\"#7201a8\"],[0.3333333333333333,\"#9c179e\"],[0.4444444444444444,\"#bd3786\"],[0.5555555555555556,\"#d8576b\"],[0.6666666666666666,\"#ed7953\"],[0.7777777777777778,\"#fb9f3a\"],[0.8888888888888888,\"#fdca26\"],[1.0,\"#f0f921\"]],\"sequentialminus\":[[0.0,\"#0d0887\"],[0.1111111111111111,\"#46039f\"],[0.2222222222222222,\"#7201a8\"],[0.3333333333333333,\"#9c179e\"],[0.4444444444444444,\"#bd3786\"],[0.5555555555555556,\"#d8576b\"],[0.6666666666666666,\"#ed7953\"],[0.7777777777777778,\"#fb9f3a\"],[0.8888888888888888,\"#fdca26\"],[1.0,\"#f0f921\"]],\"diverging\":[[0,\"#8e0152\"],[0.1,\"#c51b7d\"],[0.2,\"#de77ae\"],[0.3,\"#f1b6da\"],[0.4,\"#fde0ef\"],[0.5,\"#f7f7f7\"],[0.6,\"#e6f5d0\"],[0.7,\"#b8e186\"],[0.8,\"#7fbc41\"],[0.9,\"#4d9221\"],[1,\"#276419\"]]},\"xaxis\":{\"gridcolor\":\"white\",\"linecolor\":\"white\",\"ticks\":\"\",\"title\":{\"standoff\":15},\"zerolinecolor\":\"white\",\"automargin\":true,\"zerolinewidth\":2},\"yaxis\":{\"gridcolor\":\"white\",\"linecolor\":\"white\",\"ticks\":\"\",\"title\":{\"standoff\":15},\"zerolinecolor\":\"white\",\"automargin\":true,\"zerolinewidth\":2},\"scene\":{\"xaxis\":{\"backgroundcolor\":\"#E5ECF6\",\"gridcolor\":\"white\",\"linecolor\":\"white\",\"showbackground\":true,\"ticks\":\"\",\"zerolinecolor\":\"white\",\"gridwidth\":2},\"yaxis\":{\"backgroundcolor\":\"#E5ECF6\",\"gridcolor\":\"white\",\"linecolor\":\"white\",\"showbackground\":true,\"ticks\":\"\",\"zerolinecolor\":\"white\",\"gridwidth\":2},\"zaxis\":{\"backgroundcolor\":\"#E5ECF6\",\"gridcolor\":\"white\",\"linecolor\":\"white\",\"showbackground\":true,\"ticks\":\"\",\"zerolinecolor\":\"white\",\"gridwidth\":2}},\"shapedefaults\":{\"line\":{\"color\":\"#2a3f5f\"}},\"annotationdefaults\":{\"arrowcolor\":\"#2a3f5f\",\"arrowhead\":0,\"arrowwidth\":1},\"geo\":{\"bgcolor\":\"white\",\"landcolor\":\"#E5ECF6\",\"subunitcolor\":\"white\",\"showland\":true,\"showlakes\":true,\"lakecolor\":\"white\"},\"title\":{\"x\":0.05},\"mapbox\":{\"style\":\"light\"}}},\"xaxis\":{\"anchor\":\"y\",\"domain\":[0.0,0.45],\"showgrid\":true,\"gridwidth\":1,\"gridcolor\":\"lightgrey\"},\"yaxis\":{\"anchor\":\"x\",\"domain\":[0.625,1.0],\"showgrid\":true,\"gridwidth\":1,\"gridcolor\":\"lightgrey\"},\"xaxis2\":{\"anchor\":\"y2\",\"domain\":[0.55,1.0],\"showgrid\":true,\"gridwidth\":1,\"gridcolor\":\"lightgrey\"},\"yaxis2\":{\"anchor\":\"x2\",\"domain\":[0.625,1.0],\"showgrid\":true,\"gridwidth\":1,\"gridcolor\":\"lightgrey\"},\"xaxis3\":{\"anchor\":\"y3\",\"domain\":[0.0,0.45],\"showgrid\":true,\"gridwidth\":1,\"gridcolor\":\"lightgrey\"},\"yaxis3\":{\"anchor\":\"x3\",\"domain\":[0.0,0.375],\"showgrid\":true,\"gridwidth\":1,\"gridcolor\":\"lightgrey\"},\"xaxis4\":{\"anchor\":\"y4\",\"domain\":[0.55,1.0],\"showgrid\":true,\"gridwidth\":1,\"gridcolor\":\"lightgrey\"},\"yaxis4\":{\"anchor\":\"x4\",\"domain\":[0.0,0.375],\"showgrid\":true,\"gridwidth\":1,\"gridcolor\":\"lightgrey\"},\"annotations\":[{\"font\":{\"size\":16},\"showarrow\":false,\"text\":\"feelings_about_comparison(1-5)\",\"x\":0.225,\"xanchor\":\"center\",\"xref\":\"paper\",\"y\":1.0,\"yanchor\":\"bottom\",\"yref\":\"paper\"},{\"font\":{\"size\":16},\"showarrow\":false,\"text\":\"sleep_issues(1-5)\",\"x\":0.775,\"xanchor\":\"center\",\"xref\":\"paper\",\"y\":1.0,\"yanchor\":\"bottom\",\"yref\":\"paper\"},{\"font\":{\"size\":16},\"showarrow\":false,\"text\":\"bothered_by_worries_scale(1-5)\",\"x\":0.225,\"xanchor\":\"center\",\"xref\":\"paper\",\"y\":0.375,\"yanchor\":\"bottom\",\"yref\":\"paper\"},{\"font\":{\"size\":16},\"showarrow\":false,\"text\":\"validation_seeking(1-5)\",\"x\":0.775,\"xanchor\":\"center\",\"xref\":\"paper\",\"y\":0.375,\"yanchor\":\"bottom\",\"yref\":\"paper\"}],\"plot_bgcolor\":\"white\",\"paper_bgcolor\":\"white\",\"title\":{\"text\":\"Subplots of Box Plots Comparing 'Feel Depressed' With Various Factors\"},\"height\":800,\"width\":1200},                        {\"responsive\": true}                    ).then(function(){\n",
       "                            \n",
       "var gd = document.getElementById('ab885fe1-ccd1-4736-a32f-cb3d8dc860bd');\n",
       "var x = new MutationObserver(function (mutations, observer) {{\n",
       "        var display = window.getComputedStyle(gd).display;\n",
       "        if (!display || display === 'none') {{\n",
       "            console.log([gd, 'removed!']);\n",
       "            Plotly.purge(gd);\n",
       "            observer.disconnect();\n",
       "        }}\n",
       "}});\n",
       "\n",
       "// Listen for the removal of the full notebook cells\n",
       "var notebookContainer = gd.closest('#notebook-container');\n",
       "if (notebookContainer) {{\n",
       "    x.observe(notebookContainer, {childList: true});\n",
       "}}\n",
       "\n",
       "// Listen for the clearing of the current output cell\n",
       "var outputEl = gd.closest('.output');\n",
       "if (outputEl) {{\n",
       "    x.observe(outputEl, {childList: true});\n",
       "}}\n",
       "\n",
       "                        })                };                });            </script>        </div>"
      ]
     },
     "metadata": {},
     "output_type": "display_data"
    }
   ],
   "source": [
    "# Graph 4 : Subplots of Box Plots Comparing 'Feel Depressed' With Various Factors\n",
    "# List of numerical variables to compare with 'feel_depressed(1-5)'\n",
    "compare_vars = [\n",
    "    \"feelings_about_comparison(1-5)\",\n",
    "    \"sleep_issues(1-5)\",\n",
    "    \"bothered_by_worries_scale(1-5)\",\n",
    "    \"validation_seeking(1-5)\"\n",
    "]\n",
    "\n",
    "# Define the number of rows needed for the subplots, considering 2 plots per row\n",
    "num_rows = -(-len(compare_vars) // 2)\n",
    "\n",
    "# Create the subplots with 2 columns\n",
    "fig = make_subplots(rows=num_rows, cols=2, subplot_titles=compare_vars)\n",
    "\n",
    "# Add a box plot to the figure for each comparison variable\n",
    "for i, var in enumerate(compare_vars):\n",
    "    fig.add_trace(\n",
    "        go.Box(y=df[var], x=df['feel_depressed(1-5)'], name=var),\n",
    "        row=(i // 2) + 1,\n",
    "        col=(i % 2) + 1\n",
    "    )\n",
    "\n",
    "# Update layout for a clear view\n",
    "fig.update_layout(plot_bgcolor='white', paper_bgcolor='white')\n",
    "fig.update_layout(height=800, width=1200, title_text=\"Subplots of Box Plots Comparing 'Feel Depressed' With Various Factors\")\n",
    "fig.update_xaxes(showgrid=True, gridwidth=1, gridcolor='lightgrey')\n",
    "fig.update_yaxes(showgrid=True, gridwidth=1, gridcolor='lightgrey')\n",
    "\n",
    "# Show plot\n",
    "fig.show()"
   ]
  },
  {
   "cell_type": "markdown",
   "metadata": {},
   "source": [
    "1. Feelings About Comparison: As people's feelings about comparison increase, there doesn't seem to be a clear trend in how it relates to feeling depressed. The spread of responses is fairly consistent across all levels.\n",
    "\n",
    "2. Sleep Issues: There's a noticeable trend that as sleep issues worsen (moving from 1 to 5), the median level of feeling depressed increases, suggesting a possible correlation where poor sleep might be associated with higher levels of depression.\n",
    "\n",
    "3. Bothered by Worries: Similarly to sleep issues, as the level of being bothered by worries increases, so does the median level of feeling depressed. This could indicate that being more worried is associated with higher depression.\n",
    "\n",
    "4. Validation Seeking: The spread and median levels appear to increase with the level of validation seeking, hinting that those who seek more validation might also experience higher levels of depression."
   ]
  },
  {
   "cell_type": "code",
   "execution_count": 488,
   "metadata": {},
   "outputs": [
    {
     "data": {
      "text/html": [
       "<div>                            <div id=\"e1e7cac4-39e7-4013-ae03-c430f990c1dd\" class=\"plotly-graph-div\" style=\"height:800px; width:1200px;\"></div>            <script type=\"text/javascript\">                require([\"plotly\"], function(Plotly) {                    window.PLOTLYENV=window.PLOTLYENV || {};                                    if (document.getElementById(\"e1e7cac4-39e7-4013-ae03-c430f990c1dd\")) {                    Plotly.newPlot(                        \"e1e7cac4-39e7-4013-ae03-c430f990c1dd\",                        [{\"name\":\"relationship_status\",\"x\":[\"In a relationship\",\"Single\",\"Single\",\"Single\",\"Single\",\"Single\",\"Married\",\"In a relationship\",\"In a relationship\",\"Single\",\"Single\",\"Single\",\"Single\",\"Single\",\"Single\",\"In a relationship\",\"Single\",\"Single\",\"Single\",\"Divorced\",\"In a relationship\",\"Single\",\"Single\",\"Married\",\"Single\",\"Married\",\"Single\",\"Married\",\"In a relationship\",\"Single\",\"In a relationship\",\"Married\",\"Single\",\"Single\",\"Single\",\"Single\",\"Single\",\"Single\",\"Single\",\"Single\",\"Single\",\"Single\",\"Married\",\"Single\",\"Single\",\"In a relationship\",\"Married\",\"Single\",\"Married\",\"Single\",\"Single\",\"Single\",\"Single\",\"Married\",\"In a relationship\",\"Single\",\"Married\",\"Single\",\"Married\",\"Married\",\"Single\",\"Married\",\"Single\",\"Single\",\"Single\",\"In a relationship\",\"In a relationship\",\"Single\",\"Single\",\"Single\",\"Married\",\"Single\",\"Single\",\"Married\",\"Single\",\"Single\",\"Single\",\"Single\",\"Single\",\"Single\",\"Single\",\"Single\",\"Single\",\"In a relationship\",\"Single\",\"Single\",\"In a relationship\",\"Married\",\"Single\",\"In a relationship\",\"In a relationship\",\"Single\",\"Single\",\"Single\",\"Single\",\"Single\",\"Single\",\"Single\",\"Single\",\"Single\",\"In a relationship\",\"In a relationship\",\"Single\",\"Single\",\"Single\",\"Single\",\"Single\",\"Married\",\"In a relationship\",\"Married\",\"Married\",\"Single\",\"Married\",\"Married\",\"Single\",\"Married\",\"Single\",\"Single\",\"In a relationship\",\"Single\",\"Married\",\"Single\",\"Single\",\"Single\",\"Single\",\"Single\",\"Single\",\"Single\",\"Single\",\"Single\",\"Single\",\"Married\",\"Single\",\"Married\",\"Divorced\",\"Married\",\"Married\",\"Married\",\"Married\",\"Married\",\"Married\",\"Married\",\"Single\",\"Divorced\",\"Single\",\"Married\",\"In a relationship\",\"Married\",\"Married\",\"Married\",\"In a relationship\",\"Married\",\"Married\",\"Married\",\"Divorced\",\"In a relationship\",\"Married\",\"Married\",\"Married\",\"In a relationship\",\"In a relationship\",\"Married\",\"Married\",\"Married\",\"Married\",\"Married\",\"Married\",\"Single\",\"Married\",\"In a relationship\",\"Single\",\"Single\",\"Single\",\"Single\",\"In a relationship\",\"Married\",\"Divorced\",\"Single\",\"Single\",\"In a relationship\",\"Married\",\"Married\",\"Married\",\"Married\",\"In a relationship\",\"Married\",\"Married\",\"Single\",\"Married\",\"In a relationship\",\"Single\",\"Single\",\"In a relationship\",\"In a relationship\",\"Single\",\"Married\",\"Married\",\"Married\",\"Single\",\"Married\",\"Single\",\"In a relationship\",\"Married\",\"In a relationship\",\"Married\",\"Single\",\"Married\",\"Single\",\"Single\",\"Single\",\"Single\",\"Single\",\"Married\",\"Single\",\"In a relationship\",\"In a relationship\",\"Married\",\"Married\",\"Single\",\"Single\",\"In a relationship\",\"Single\",\"Single\",\"Single\",\"In a relationship\",\"In a relationship\",\"Single\",\"Single\",\"Married\",\"In a relationship\",\"In a relationship\",\"Single\",\"Single\",\"Single\",\"In a relationship\",\"In a relationship\",\"Married\",\"Single\",\"Divorced\",\"Single\",\"Single\",\"Single\",\"Single\",\"Single\",\"Single\",\"In a relationship\",\"Single\",\"Single\",\"Married\",\"Single\",\"Married\",\"Single\",\"Single\",\"Married\",\"Single\",\"Single\",\"Single\",\"Single\",\"Single\",\"In a relationship\",\"Married\",\"In a relationship\",\"Single\",\"Single\",\"Single\",\"Single\",\"In a relationship\",\"Single\",\"Single\",\"In a relationship\",\"Single\",\"Single\",\"Single\",\"Single\",\"Single\",\"In a relationship\",\"In a relationship\",\"Single\",\"In a relationship\",\"Single\",\"Single\",\"Single\",\"Single\",\"Single\",\"Single\",\"Single\",\"Single\",\"Single\",\"In a relationship\",\"In a relationship\",\"Single\",\"In a relationship\",\"Single\",\"In a relationship\",\"Single\",\"In a relationship\",\"Single\",\"Single\",\"Single\",\"Single\",\"In a relationship\",\"Single\",\"Single\",\"Single\",\"Single\",\"In a relationship\",\"In a relationship\",\"In a relationship\",\"Single\",\"Single\",\"Single\",\"Single\",\"Single\",\"Single\",\"Single\",\"Married\",\"Single\",\"In a relationship\",\"Single\",\"Single\",\"Single\",\"Single\",\"Single\",\"Single\",\"Single\",\"Single\",\"Single\",\"Single\",\"Single\",\"Married\",\"Single\",\"Single\",\"Single\",\"Single\",\"Single\",\"Single\",\"Single\",\"Single\",\"In a relationship\",\"Single\",\"Single\",\"Single\",\"Single\",\"Single\",\"Single\",\"In a relationship\",\"Married\",\"Married\",\"In a relationship\",\"Single\",\"Single\",\"In a relationship\",\"Single\",\"Single\",\"Single\",\"Married\",\"Single\",\"Single\",\"Single\",\"Single\",\"Single\",\"Married\",\"In a relationship\",\"In a relationship\",\"Married\",\"Single\",\"In a relationship\",\"Divorced\",\"In a relationship\",\"Single\",\"Single\",\"Married\",\"Single\",\"Single\",\"In a relationship\",\"In a relationship\",\"Single\",\"Single\",\"Single\",\"Single\",\"Single\",\"Single\",\"Single\",\"Single\",\"In a relationship\",\"Single\",\"Single\",\"Single\",\"Single\",\"Single\",\"Single\",\"Single\",\"Single\",\"Single\",\"In a relationship\",\"Married\",\"Single\",\"Single\",\"Single\",\"Single\",\"Single\",\"Married\",\"Single\",\"Married\",\"Married\",\"Single\",\"Single\",\"In a relationship\",\"Single\",\"In a relationship\",\"Single\",\"Single\",\"In a relationship\",\"Single\",\"In a relationship\",\"Single\",\"Single\",\"In a relationship\",\"Single\",\"Single\",\"Single\",\"In a relationship\",\"Single\",\"In a relationship\",\"In a relationship\",\"Single\",\"Married\",\"Married\",\"Married\",\"Single\",\"Single\",\"Single\",\"Single\",\"Single\",\"Single\",\"Single\",\"In a relationship\",\"In a relationship\",\"Single\",\"In a relationship\",\"In a relationship\",\"In a relationship\",\"Single\",\"Single\",\"Single\",\"Single\",\"In a relationship\",\"In a relationship\",\"Single\",\"Single\",\"Single\",\"Single\",\"Single\",\"Single\",\"Married\",\"Married\",\"Married\",\"Married\",\"Single\",\"Single\",\"Married\",\"Single\",\"Married\",\"Single\",\"Single\",\"Single\",\"In a relationship\",\"Single\",\"Single\",\"Single\",\"Single\",\"Single\",\"Married\",\"Married\",\"Married\",\"Married\",\"Single\",\"Married\",\"Married\",\"Single\",\"Married\"],\"y\":[5,5,4,4,4,3,5,5,5,1,5,3,3,3,5,3,4,2,3,2,2,3,4,4,3,4,4,4,4,5,5,3,2,3,5,4,3,5,2,1,3,4,2,5,3,3,1,3,2,1,3,3,5,1,1,5,3,4,5,1,4,4,5,5,1,2,4,4,4,3,1,5,4,2,5,2,5,4,5,5,4,1,4,4,2,4,2,1,3,5,4,4,4,3,4,3,1,4,5,2,3,5,4,3,1,2,3,1,2,3,2,4,2,2,4,2,3,3,5,4,1,3,5,4,1,4,4,4,4,3,1,3,3,2,2,4,1,1,3,4,1,3,4,2,5,3,4,2,2,2,2,1,2,3,4,3,2,1,4,4,2,1,3,3,3,2,2,2,1,2,3,3,5,3,4,1,1,4,3,4,4,3,1,5,3,2,3,3,4,2,4,4,4,5,4,1,3,2,1,1,2,3,3,3,5,2,1,5,1,4,3,1,5,1,4,3,1,2,5,2,3,2,3,3,4,2,4,2,1,4,4,1,5,1,4,4,2,5,5,4,4,2,3,3,3,4,4,2,1,4,1,5,5,2,2,3,5,1,4,3,2,5,3,3,2,3,2,4,3,3,2,5,3,5,3,5,5,5,5,5,3,4,2,5,4,3,2,5,4,3,3,4,4,5,1,2,4,4,3,5,5,5,4,4,3,3,5,1,2,2,5,3,2,5,4,3,3,5,5,5,5,4,3,2,5,5,5,5,4,4,1,4,3,5,3,4,1,4,3,5,3,3,5,2,5,5,1,4,3,5,4,3,3,5,2,3,4,3,3,4,3,2,4,2,1,5,4,5,1,5,2,4,3,3,2,5,5,4,5,1,5,5,4,5,3,2,3,2,4,4,3,5,5,5,2,2,5,5,1,5,4,3,3,1,1,5,5,4,4,4,3,3,5,5,4,5,2,3,4,3,3,2,5,4,1,4,3,4,3,5,5,5,5,5,4,3,3,2,2,4,2,1,3,4,3,3,5,5,4,2,2,4,3,1,3,1,1,2,4,2,1,3,5,3,2,2,3,1,5,1,5,4,2,4,4,5,3,4,2,4,2],\"type\":\"box\",\"xaxis\":\"x\",\"yaxis\":\"y\"},{\"name\":\"occupation\",\"x\":[\"University Student\",\"University Student\",\"University Student\",\"University Student\",\"University Student\",\"University Student\",\"University Student\",\"University Student\",\"University Student\",\"University Student\",\"University Student\",\"University Student\",\"University Student\",\"University Student\",\"University Student\",\"University Student\",\"University Student\",\"School Student\",\"University Student\",\"Salaried Worker\",\"University Student\",\"University Student\",\"University Student\",\"University Student\",\"University Student\",\"Salaried Worker\",\"University Student\",\"Salaried Worker\",\"University Student\",\"University Student\",\"University Student\",\"Salaried Worker\",\"Salaried Worker\",\"School Student\",\"University Student\",\"University Student\",\"University Student\",\"University Student\",\"University Student\",\"University Student\",\"University Student\",\"University Student\",\"Retired\",\"School Student\",\"Salaried Worker\",\"University Student\",\"Retired\",\"School Student\",\"Salaried Worker\",\"Salaried Worker\",\"University Student\",\"Salaried Worker\",\"University Student\",\"Salaried Worker\",\"Salaried Worker\",\"University Student\",\"University Student\",\"School Student\",\"University Student\",\"University Student\",\"University Student\",\"University Student\",\"University Student\",\"Salaried Worker\",\"University Student\",\"School Student\",\"University Student\",\"School Student\",\"School Student\",\"University Student\",\"Salaried Worker\",\"School Student\",\"School Student\",\"Salaried Worker\",\"Retired\",\"Salaried Worker\",\"University Student\",\"University Student\",\"University Student\",\"University Student\",\"University Student\",\"University Student\",\"University Student\",\"University Student\",\"School Student\",\"Salaried Worker\",\"University Student\",\"Salaried Worker\",\"University Student\",\"University Student\",\"University Student\",\"University Student\",\"University Student\",\"School Student\",\"Salaried Worker\",\"University Student\",\"School Student\",\"School Student\",\"School Student\",\"School Student\",\"University Student\",\"University Student\",\"University Student\",\"University Student\",\"University Student\",\"University Student\",\"University Student\",\"Salaried Worker\",\"University Student\",\"Salaried Worker\",\"Salaried Worker\",\"Salaried Worker\",\"Salaried Worker\",\"Salaried Worker\",\"Salaried Worker\",\"Salaried Worker\",\"University Student\",\"University Student\",\"University Student\",\"University Student\",\"Salaried Worker\",\"University Student\",\"University Student\",\"University Student\",\"University Student\",\"University Student\",\"University Student\",\"University Student\",\"University Student\",\"School Student\",\"Salaried Worker\",\"Salaried Worker\",\"Salaried Worker\",\"Salaried Worker\",\"Salaried Worker\",\"Retired\",\"Salaried Worker\",\"Salaried Worker\",\"Salaried Worker\",\"Salaried Worker\",\"Salaried Worker\",\"Salaried Worker\",\"Salaried Worker\",\"Salaried Worker\",\"University Student\",\"Salaried Worker\",\"University Student\",\"Salaried Worker\",\"Salaried Worker\",\"Salaried Worker\",\"University Student\",\"Salaried Worker\",\"Salaried Worker\",\"Salaried Worker\",\"Salaried Worker\",\"University Student\",\"Salaried Worker\",\"Salaried Worker\",\"Retired\",\"School Student\",\"Salaried Worker\",\"Salaried Worker\",\"Retired\",\"Salaried Worker\",\"Salaried Worker\",\"Salaried Worker\",\"Salaried Worker\",\"University Student\",\"Salaried Worker\",\"University Student\",\"University Student\",\"University Student\",\"University Student\",\"University Student\",\"University Student\",\"Salaried Worker\",\"Salaried Worker\",\"University Student\",\"University Student\",\"University Student\",\"Salaried Worker\",\"Salaried Worker\",\"Salaried Worker\",\"Salaried Worker\",\"University Student\",\"Salaried Worker\",\"Salaried Worker\",\"Salaried Worker\",\"University Student\",\"University Student\",\"University Student\",\"School Student\",\"University Student\",\"University Student\",\"University Student\",\"Salaried Worker\",\"Salaried Worker\",\"Salaried Worker\",\"School Student\",\"Salaried Worker\",\"University Student\",\"University Student\",\"University Student\",\"University Student\",\"Salaried Worker\",\"School Student\",\"Salaried Worker\",\"University Student\",\"Salaried Worker\",\"University Student\",\"Salaried Worker\",\"University Student\",\"Salaried Worker\",\"University Student\",\"University Student\",\"University Student\",\"Salaried Worker\",\"Salaried Worker\",\"University Student\",\"Salaried Worker\",\"University Student\",\"University Student\",\"University Student\",\"University Student\",\"University Student\",\"University Student\",\"University Student\",\"University Student\",\"Salaried Worker\",\"University Student\",\"University Student\",\"University Student\",\"University Student\",\"University Student\",\"University Student\",\"Salaried Worker\",\"Salaried Worker\",\"University Student\",\"Salaried Worker\",\"Salaried Worker\",\"University Student\",\"University Student\",\"University Student\",\"School Student\",\"University Student\",\"Salaried Worker\",\"University Student\",\"University Student\",\"Salaried Worker\",\"University Student\",\"Salaried Worker\",\"Salaried Worker\",\"University Student\",\"University Student\",\"University Student\",\"University Student\",\"University Student\",\"University Student\",\"University Student\",\"University Student\",\"Salaried Worker\",\"University Student\",\"University Student\",\"University Student\",\"University Student\",\"University Student\",\"Salaried Worker\",\"University Student\",\"University Student\",\"University Student\",\"School Student\",\"University Student\",\"University Student\",\"University Student\",\"University Student\",\"University Student\",\"University Student\",\"Salaried Worker\",\"University Student\",\"School Student\",\"University Student\",\"School Student\",\"University Student\",\"University Student\",\"University Student\",\"University Student\",\"University Student\",\"University Student\",\"University Student\",\"Salaried Worker\",\"University Student\",\"University Student\",\"University Student\",\"University Student\",\"University Student\",\"Salaried Worker\",\"School Student\",\"University Student\",\"University Student\",\"University Student\",\"University Student\",\"Salaried Worker\",\"School Student\",\"Salaried Worker\",\"University Student\",\"Salaried Worker\",\"University Student\",\"University Student\",\"University Student\",\"University Student\",\"School Student\",\"University Student\",\"School Student\",\"University Student\",\"University Student\",\"University Student\",\"University Student\",\"University Student\",\"University Student\",\"University Student\",\"University Student\",\"University Student\",\"School Student\",\"University Student\",\"University Student\",\"University Student\",\"University Student\",\"University Student\",\"University Student\",\"University Student\",\"University Student\",\"Salaried Worker\",\"Salaried Worker\",\"University Student\",\"University Student\",\"University Student\",\"University Student\",\"School Student\",\"University Student\",\"Salaried Worker\",\"Salaried Worker\",\"University Student\",\"Salaried Worker\",\"University Student\",\"University Student\",\"University Student\",\"Salaried Worker\",\"University Student\",\"University Student\",\"School Student\",\"University Student\",\"Salaried Worker\",\"University Student\",\"Salaried Worker\",\"School Student\",\"Salaried Worker\",\"University Student\",\"University Student\",\"University Student\",\"Salaried Worker\",\"School Student\",\"Salaried Worker\",\"University Student\",\"University Student\",\"University Student\",\"University Student\",\"University Student\",\"University Student\",\"Salaried Worker\",\"Salaried Worker\",\"Salaried Worker\",\"University Student\",\"University Student\",\"University Student\",\"University Student\",\"University Student\",\"University Student\",\"Salaried Worker\",\"University Student\",\"University Student\",\"University Student\",\"University Student\",\"University Student\",\"Salaried Worker\",\"University Student\",\"University Student\",\"University Student\",\"School Student\",\"University Student\",\"University Student\",\"University Student\",\"University Student\",\"University Student\",\"University Student\",\"School Student\",\"Salaried Worker\",\"University Student\",\"University Student\",\"University Student\",\"University Student\",\"University Student\",\"Salaried Worker\",\"University Student\",\"Salaried Worker\",\"Salaried Worker\",\"University Student\",\"Salaried Worker\",\"University Student\",\"University Student\",\"University Student\",\"University Student\",\"University Student\",\"University Student\",\"School Student\",\"University Student\",\"School Student\",\"School Student\",\"School Student\",\"University Student\",\"University Student\",\"University Student\",\"University Student\",\"Salaried Worker\",\"University Student\",\"School Student\",\"School Student\",\"University Student\",\"Salaried Worker\",\"Retired\",\"University Student\",\"University Student\",\"University Student\",\"University Student\",\"University Student\",\"University Student\",\"University Student\",\"University Student\",\"Salaried Worker\",\"University Student\",\"University Student\",\"University Student\",\"University Student\",\"University Student\",\"University Student\",\"University Student\",\"University Student\",\"University Student\",\"University Student\",\"University Student\",\"University Student\",\"University Student\",\"University Student\",\"Salaried Worker\",\"Retired\",\"Salaried Worker\",\"Salaried Worker\",\"Salaried Worker\",\"Salaried Worker\",\"School Student\",\"University Student\",\"University Student\",\"University Student\",\"Salaried Worker\",\"School Student\",\"School Student\",\"School Student\",\"School Student\",\"University Student\",\"School Student\",\"School Student\",\"University Student\",\"University Student\",\"Salaried Worker\",\"University Student\",\"Salaried Worker\",\"Salaried Worker\",\"Salaried Worker\",\"Salaried Worker\",\"Salaried Worker\",\"University Student\",\"Salaried Worker\"],\"y\":[5,5,4,4,4,3,5,5,5,1,5,3,3,3,5,3,4,2,3,2,2,3,4,4,3,4,4,4,4,5,5,3,2,3,5,4,3,5,2,1,3,4,2,5,3,3,1,3,2,1,3,3,5,1,1,5,3,4,5,1,4,4,5,5,1,2,4,4,4,3,1,5,4,2,5,2,5,4,5,5,4,1,4,4,2,4,2,1,3,5,4,4,4,3,4,3,1,4,5,2,3,5,4,3,1,2,3,1,2,3,2,4,2,2,4,2,3,3,5,4,1,3,5,4,1,4,4,4,4,3,1,3,3,2,2,4,1,1,3,4,1,3,4,2,5,3,4,2,2,2,2,1,2,3,4,3,2,1,4,4,2,1,3,3,3,2,2,2,1,2,3,3,5,3,4,1,1,4,3,4,4,3,1,5,3,2,3,3,4,2,4,4,4,5,4,1,3,2,1,1,2,3,3,3,5,2,1,5,1,4,3,1,5,1,4,3,1,2,5,2,3,2,3,3,4,2,4,2,1,4,4,1,5,1,4,4,2,5,5,4,4,2,3,3,3,4,4,2,1,4,1,5,5,2,2,3,5,1,4,3,2,5,3,3,2,3,2,4,3,3,2,5,3,5,3,5,5,5,5,5,3,4,2,5,4,3,2,5,4,3,3,4,4,5,1,2,4,4,3,5,5,5,4,4,3,3,5,1,2,2,5,3,2,5,4,3,3,5,5,5,5,4,3,2,5,5,5,5,4,4,1,4,3,5,3,4,1,4,3,5,3,3,5,2,5,5,1,4,3,5,4,3,3,5,2,3,4,3,3,4,3,2,4,2,1,5,4,5,1,5,2,4,3,3,2,5,5,4,5,1,5,5,4,5,3,2,3,2,4,4,3,5,5,5,2,2,5,5,1,5,4,3,3,1,1,5,5,4,4,4,3,3,5,5,4,5,2,3,4,3,3,2,5,4,1,4,3,4,3,5,5,5,5,5,4,3,3,2,2,4,2,1,3,4,3,3,5,5,4,2,2,4,3,1,3,1,1,2,4,2,1,3,5,3,2,2,3,1,5,1,5,4,2,4,4,5,3,4,2,4,2],\"type\":\"box\",\"xaxis\":\"x2\",\"yaxis\":\"y2\"},{\"name\":\"uses_social_media\",\"x\":[\"Yes\",\"Yes\",\"Yes\",\"Yes\",\"Yes\",\"Yes\",\"Yes\",\"Yes\",\"Yes\",\"No\",\"Yes\",\"Yes\",\"Yes\",\"Yes\",\"Yes\",\"Yes\",\"Yes\",\"Yes\",\"Yes\",\"Yes\",\"Yes\",\"Yes\",\"Yes\",\"Yes\",\"Yes\",\"Yes\",\"Yes\",\"Yes\",\"Yes\",\"Yes\",\"Yes\",\"Yes\",\"Yes\",\"Yes\",\"Yes\",\"Yes\",\"Yes\",\"Yes\",\"Yes\",\"Yes\",\"Yes\",\"Yes\",\"Yes\",\"Yes\",\"Yes\",\"Yes\",\"Yes\",\"Yes\",\"Yes\",\"Yes\",\"Yes\",\"Yes\",\"Yes\",\"Yes\",\"No\",\"Yes\",\"Yes\",\"Yes\",\"Yes\",\"Yes\",\"Yes\",\"Yes\",\"Yes\",\"Yes\",\"Yes\",\"Yes\",\"Yes\",\"Yes\",\"Yes\",\"Yes\",\"Yes\",\"Yes\",\"Yes\",\"Yes\",\"Yes\",\"Yes\",\"Yes\",\"Yes\",\"Yes\",\"Yes\",\"Yes\",\"Yes\",\"Yes\",\"Yes\",\"Yes\",\"Yes\",\"Yes\",\"Yes\",\"Yes\",\"Yes\",\"Yes\",\"Yes\",\"Yes\",\"Yes\",\"Yes\",\"Yes\",\"Yes\",\"Yes\",\"Yes\",\"Yes\",\"Yes\",\"Yes\",\"Yes\",\"Yes\",\"Yes\",\"Yes\",\"Yes\",\"Yes\",\"Yes\",\"Yes\",\"Yes\",\"Yes\",\"Yes\",\"Yes\",\"Yes\",\"Yes\",\"Yes\",\"Yes\",\"Yes\",\"Yes\",\"Yes\",\"Yes\",\"Yes\",\"Yes\",\"Yes\",\"Yes\",\"Yes\",\"Yes\",\"Yes\",\"Yes\",\"Yes\",\"Yes\",\"Yes\",\"Yes\",\"No\",\"Yes\",\"Yes\",\"Yes\",\"Yes\",\"Yes\",\"Yes\",\"Yes\",\"Yes\",\"Yes\",\"Yes\",\"Yes\",\"Yes\",\"Yes\",\"Yes\",\"Yes\",\"Yes\",\"Yes\",\"Yes\",\"Yes\",\"Yes\",\"Yes\",\"Yes\",\"Yes\",\"Yes\",\"Yes\",\"Yes\",\"Yes\",\"Yes\",\"Yes\",\"Yes\",\"Yes\",\"Yes\",\"Yes\",\"Yes\",\"Yes\",\"Yes\",\"Yes\",\"Yes\",\"Yes\",\"Yes\",\"Yes\",\"Yes\",\"Yes\",\"Yes\",\"Yes\",\"Yes\",\"Yes\",\"Yes\",\"Yes\",\"Yes\",\"Yes\",\"Yes\",\"Yes\",\"Yes\",\"Yes\",\"Yes\",\"Yes\",\"Yes\",\"Yes\",\"Yes\",\"Yes\",\"Yes\",\"Yes\",\"Yes\",\"Yes\",\"Yes\",\"Yes\",\"Yes\",\"Yes\",\"Yes\",\"Yes\",\"Yes\",\"Yes\",\"Yes\",\"Yes\",\"Yes\",\"Yes\",\"Yes\",\"Yes\",\"Yes\",\"Yes\",\"Yes\",\"Yes\",\"Yes\",\"Yes\",\"Yes\",\"Yes\",\"Yes\",\"Yes\",\"Yes\",\"Yes\",\"Yes\",\"Yes\",\"Yes\",\"Yes\",\"Yes\",\"Yes\",\"Yes\",\"Yes\",\"Yes\",\"Yes\",\"Yes\",\"Yes\",\"Yes\",\"Yes\",\"Yes\",\"Yes\",\"Yes\",\"Yes\",\"Yes\",\"Yes\",\"Yes\",\"Yes\",\"Yes\",\"Yes\",\"Yes\",\"Yes\",\"Yes\",\"Yes\",\"Yes\",\"Yes\",\"Yes\",\"Yes\",\"Yes\",\"Yes\",\"Yes\",\"Yes\",\"Yes\",\"Yes\",\"Yes\",\"Yes\",\"Yes\",\"Yes\",\"Yes\",\"Yes\",\"Yes\",\"Yes\",\"Yes\",\"Yes\",\"Yes\",\"Yes\",\"Yes\",\"Yes\",\"Yes\",\"Yes\",\"Yes\",\"Yes\",\"Yes\",\"Yes\",\"Yes\",\"Yes\",\"Yes\",\"Yes\",\"Yes\",\"Yes\",\"Yes\",\"Yes\",\"Yes\",\"Yes\",\"Yes\",\"Yes\",\"Yes\",\"Yes\",\"Yes\",\"Yes\",\"Yes\",\"Yes\",\"Yes\",\"Yes\",\"Yes\",\"Yes\",\"Yes\",\"Yes\",\"Yes\",\"Yes\",\"Yes\",\"Yes\",\"Yes\",\"Yes\",\"Yes\",\"Yes\",\"Yes\",\"Yes\",\"Yes\",\"Yes\",\"Yes\",\"Yes\",\"Yes\",\"Yes\",\"Yes\",\"Yes\",\"Yes\",\"Yes\",\"Yes\",\"Yes\",\"Yes\",\"Yes\",\"Yes\",\"Yes\",\"Yes\",\"Yes\",\"Yes\",\"Yes\",\"Yes\",\"Yes\",\"Yes\",\"Yes\",\"Yes\",\"Yes\",\"Yes\",\"Yes\",\"Yes\",\"Yes\",\"Yes\",\"Yes\",\"Yes\",\"Yes\",\"Yes\",\"Yes\",\"Yes\",\"Yes\",\"Yes\",\"Yes\",\"Yes\",\"Yes\",\"Yes\",\"Yes\",\"Yes\",\"Yes\",\"Yes\",\"Yes\",\"Yes\",\"Yes\",\"Yes\",\"Yes\",\"Yes\",\"Yes\",\"Yes\",\"Yes\",\"Yes\",\"Yes\",\"Yes\",\"Yes\",\"Yes\",\"Yes\",\"Yes\",\"Yes\",\"Yes\",\"Yes\",\"Yes\",\"Yes\",\"Yes\",\"Yes\",\"Yes\",\"Yes\",\"Yes\",\"Yes\",\"Yes\",\"Yes\",\"Yes\",\"Yes\",\"Yes\",\"Yes\",\"Yes\",\"Yes\",\"Yes\",\"Yes\",\"Yes\",\"Yes\",\"Yes\",\"Yes\",\"Yes\",\"Yes\",\"Yes\",\"Yes\",\"Yes\",\"Yes\",\"Yes\",\"Yes\",\"Yes\",\"Yes\",\"Yes\",\"Yes\",\"Yes\",\"Yes\",\"Yes\",\"Yes\",\"Yes\",\"Yes\",\"Yes\",\"Yes\",\"Yes\",\"Yes\",\"Yes\",\"Yes\",\"Yes\",\"Yes\",\"Yes\",\"Yes\",\"Yes\",\"Yes\",\"Yes\",\"Yes\",\"Yes\",\"Yes\",\"Yes\",\"Yes\",\"Yes\",\"Yes\",\"Yes\",\"Yes\",\"Yes\",\"Yes\",\"Yes\",\"Yes\",\"Yes\",\"Yes\",\"Yes\",\"Yes\",\"Yes\",\"Yes\",\"Yes\",\"Yes\",\"Yes\",\"Yes\",\"Yes\",\"Yes\",\"Yes\",\"Yes\",\"Yes\",\"Yes\",\"Yes\",\"Yes\",\"Yes\",\"Yes\",\"Yes\",\"Yes\",\"Yes\",\"Yes\",\"Yes\",\"Yes\",\"Yes\",\"Yes\",\"Yes\",\"Yes\",\"Yes\"],\"y\":[5,5,4,4,4,3,5,5,5,1,5,3,3,3,5,3,4,2,3,2,2,3,4,4,3,4,4,4,4,5,5,3,2,3,5,4,3,5,2,1,3,4,2,5,3,3,1,3,2,1,3,3,5,1,1,5,3,4,5,1,4,4,5,5,1,2,4,4,4,3,1,5,4,2,5,2,5,4,5,5,4,1,4,4,2,4,2,1,3,5,4,4,4,3,4,3,1,4,5,2,3,5,4,3,1,2,3,1,2,3,2,4,2,2,4,2,3,3,5,4,1,3,5,4,1,4,4,4,4,3,1,3,3,2,2,4,1,1,3,4,1,3,4,2,5,3,4,2,2,2,2,1,2,3,4,3,2,1,4,4,2,1,3,3,3,2,2,2,1,2,3,3,5,3,4,1,1,4,3,4,4,3,1,5,3,2,3,3,4,2,4,4,4,5,4,1,3,2,1,1,2,3,3,3,5,2,1,5,1,4,3,1,5,1,4,3,1,2,5,2,3,2,3,3,4,2,4,2,1,4,4,1,5,1,4,4,2,5,5,4,4,2,3,3,3,4,4,2,1,4,1,5,5,2,2,3,5,1,4,3,2,5,3,3,2,3,2,4,3,3,2,5,3,5,3,5,5,5,5,5,3,4,2,5,4,3,2,5,4,3,3,4,4,5,1,2,4,4,3,5,5,5,4,4,3,3,5,1,2,2,5,3,2,5,4,3,3,5,5,5,5,4,3,2,5,5,5,5,4,4,1,4,3,5,3,4,1,4,3,5,3,3,5,2,5,5,1,4,3,5,4,3,3,5,2,3,4,3,3,4,3,2,4,2,1,5,4,5,1,5,2,4,3,3,2,5,5,4,5,1,5,5,4,5,3,2,3,2,4,4,3,5,5,5,2,2,5,5,1,5,4,3,3,1,1,5,5,4,4,4,3,3,5,5,4,5,2,3,4,3,3,2,5,4,1,4,3,4,3,5,5,5,5,5,4,3,3,2,2,4,2,1,3,4,3,3,5,5,4,2,2,4,3,1,3,1,1,2,4,2,1,3,5,3,2,2,3,1,5,1,5,4,2,4,4,5,3,4,2,4,2],\"type\":\"box\",\"xaxis\":\"x3\",\"yaxis\":\"y3\"},{\"name\":\"average_daily_use_category\",\"x\":[\"Between 2 and 3 hours\",\"More than 5 hours\",\"Between 3 and 4 hours\",\"More than 5 hours\",\"Between 2 and 3 hours\",\"Between 2 and 3 hours\",\"Between 3 and 4 hours\",\"More than 5 hours\",\"More than 5 hours\",\"No Social Media\",\"Between 2 and 3 hours\",\"Between 3 and 4 hours\",\"Between 3 and 4 hours\",\"Between 3 and 4 hours\",\"More than 5 hours\",\"Between 1 and 2 hours\",\"Less than an Hour\",\"Between 4 and 5 hours\",\"Between 1 and 2 hours\",\"Between 1 and 2 hours\",\"Between 2 and 3 hours\",\"More than 5 hours\",\"Between 3 and 4 hours\",\"Between 1 and 2 hours\",\"Between 3 and 4 hours\",\"Between 3 and 4 hours\",\"Between 3 and 4 hours\",\"Between 2 and 3 hours\",\"Between 4 and 5 hours\",\"Between 3 and 4 hours\",\"Between 3 and 4 hours\",\"Between 2 and 3 hours\",\"Between 2 and 3 hours\",\"Between 2 and 3 hours\",\"Between 3 and 4 hours\",\"More than 5 hours\",\"Between 3 and 4 hours\",\"Less than an Hour\",\"Between 3 and 4 hours\",\"Between 2 and 3 hours\",\"Between 1 and 2 hours\",\"Between 3 and 4 hours\",\"Between 1 and 2 hours\",\"More than 5 hours\",\"More than 5 hours\",\"More than 5 hours\",\"Between 3 and 4 hours\",\"Between 3 and 4 hours\",\"Between 2 and 3 hours\",\"Between 3 and 4 hours\",\"Between 3 and 4 hours\",\"More than 5 hours\",\"Less than an Hour\",\"Between 1 and 2 hours\",\"No Social Media\",\"More than 5 hours\",\"More than 5 hours\",\"Between 2 and 3 hours\",\"Between 2 and 3 hours\",\"Between 1 and 2 hours\",\"More than 5 hours\",\"Between 1 and 2 hours\",\"More than 5 hours\",\"Between 1 and 2 hours\",\"Between 2 and 3 hours\",\"Between 1 and 2 hours\",\"Between 3 and 4 hours\",\"Between 2 and 3 hours\",\"Between 1 and 2 hours\",\"Between 3 and 4 hours\",\"Between 3 and 4 hours\",\"Between 2 and 3 hours\",\"More than 5 hours\",\"Between 1 and 2 hours\",\"Between 4 and 5 hours\",\"Less than an Hour\",\"Between 2 and 3 hours\",\"Between 3 and 4 hours\",\"Between 3 and 4 hours\",\"Between 3 and 4 hours\",\"Between 2 and 3 hours\",\"More than 5 hours\",\"More than 5 hours\",\"Between 4 and 5 hours\",\"Between 2 and 3 hours\",\"Between 2 and 3 hours\",\"Between 1 and 2 hours\",\"Between 1 and 2 hours\",\"Between 2 and 3 hours\",\"Between 2 and 3 hours\",\"Between 2 and 3 hours\",\"Between 3 and 4 hours\",\"More than 5 hours\",\"Between 4 and 5 hours\",\"Between 4 and 5 hours\",\"More than 5 hours\",\"Between 4 and 5 hours\",\"More than 5 hours\",\"More than 5 hours\",\"Between 4 and 5 hours\",\"Between 2 and 3 hours\",\"Between 1 and 2 hours\",\"Between 3 and 4 hours\",\"Between 1 and 2 hours\",\"Between 4 and 5 hours\",\"Between 4 and 5 hours\",\"Between 2 and 3 hours\",\"Between 1 and 2 hours\",\"Between 3 and 4 hours\",\"Between 2 and 3 hours\",\"Between 2 and 3 hours\",\"More than 5 hours\",\"Between 2 and 3 hours\",\"Between 1 and 2 hours\",\"More than 5 hours\",\"More than 5 hours\",\"Between 2 and 3 hours\",\"More than 5 hours\",\"More than 5 hours\",\"Between 4 and 5 hours\",\"Less than an Hour\",\"Between 3 and 4 hours\",\"Between 4 and 5 hours\",\"More than 5 hours\",\"More than 5 hours\",\"More than 5 hours\",\"Between 2 and 3 hours\",\"More than 5 hours\",\"Between 3 and 4 hours\",\"Between 2 and 3 hours\",\"Between 2 and 3 hours\",\"Between 1 and 2 hours\",\"Between 2 and 3 hours\",\"Less than an Hour\",\"No Social Media\",\"Between 4 and 5 hours\",\"Between 2 and 3 hours\",\"Between 2 and 3 hours\",\"Between 1 and 2 hours\",\"Between 3 and 4 hours\",\"Between 3 and 4 hours\",\"Between 4 and 5 hours\",\"Between 1 and 2 hours\",\"Less than an Hour\",\"Between 4 and 5 hours\",\"Between 1 and 2 hours\",\"More than 5 hours\",\"Between 1 and 2 hours\",\"Between 3 and 4 hours\",\"Between 4 and 5 hours\",\"Between 3 and 4 hours\",\"Between 4 and 5 hours\",\"Between 2 and 3 hours\",\"Between 1 and 2 hours\",\"Less than an Hour\",\"Between 3 and 4 hours\",\"Less than an Hour\",\"Between 2 and 3 hours\",\"Between 1 and 2 hours\",\"Between 4 and 5 hours\",\"Between 1 and 2 hours\",\"Less than an Hour\",\"More than 5 hours\",\"Between 3 and 4 hours\",\"Between 2 and 3 hours\",\"Less than an Hour\",\"Less than an Hour\",\"Between 2 and 3 hours\",\"Between 1 and 2 hours\",\"Less than an Hour\",\"More than 5 hours\",\"Between 3 and 4 hours\",\"Between 1 and 2 hours\",\"Between 1 and 2 hours\",\"Between 4 and 5 hours\",\"Between 2 and 3 hours\",\"Less than an Hour\",\"Between 3 and 4 hours\",\"Between 4 and 5 hours\",\"Between 2 and 3 hours\",\"Between 1 and 2 hours\",\"Between 1 and 2 hours\",\"Less than an Hour\",\"Between 4 and 5 hours\",\"More than 5 hours\",\"Between 2 and 3 hours\",\"Between 1 and 2 hours\",\"Between 4 and 5 hours\",\"More than 5 hours\",\"Between 2 and 3 hours\",\"Between 2 and 3 hours\",\"Between 2 and 3 hours\",\"Between 4 and 5 hours\",\"More than 5 hours\",\"Between 3 and 4 hours\",\"Between 2 and 3 hours\",\"Between 2 and 3 hours\",\"Between 4 and 5 hours\",\"Less than an Hour\",\"Between 1 and 2 hours\",\"Between 1 and 2 hours\",\"Between 3 and 4 hours\",\"More than 5 hours\",\"Between 3 and 4 hours\",\"More than 5 hours\",\"Between 2 and 3 hours\",\"Between 3 and 4 hours\",\"Between 3 and 4 hours\",\"Between 2 and 3 hours\",\"Between 3 and 4 hours\",\"Between 2 and 3 hours\",\"More than 5 hours\",\"More than 5 hours\",\"Less than an Hour\",\"More than 5 hours\",\"Between 4 and 5 hours\",\"Less than an Hour\",\"Between 1 and 2 hours\",\"Between 1 and 2 hours\",\"Between 1 and 2 hours\",\"More than 5 hours\",\"Between 2 and 3 hours\",\"Between 1 and 2 hours\",\"Between 3 and 4 hours\",\"More than 5 hours\",\"More than 5 hours\",\"Between 3 and 4 hours\",\"Between 2 and 3 hours\",\"Less than an Hour\",\"More than 5 hours\",\"More than 5 hours\",\"Less than an Hour\",\"Between 1 and 2 hours\",\"Between 3 and 4 hours\",\"More than 5 hours\",\"More than 5 hours\",\"Less than an Hour\",\"Between 2 and 3 hours\",\"More than 5 hours\",\"Between 4 and 5 hours\",\"Between 4 and 5 hours\",\"Between 3 and 4 hours\",\"Less than an Hour\",\"Between 3 and 4 hours\",\"Between 1 and 2 hours\",\"Between 4 and 5 hours\",\"More than 5 hours\",\"Between 2 and 3 hours\",\"Between 1 and 2 hours\",\"More than 5 hours\",\"Between 1 and 2 hours\",\"Between 4 and 5 hours\",\"Between 4 and 5 hours\",\"Between 2 and 3 hours\",\"Less than an Hour\",\"More than 5 hours\",\"Between 2 and 3 hours\",\"Between 4 and 5 hours\",\"More than 5 hours\",\"Between 2 and 3 hours\",\"Between 1 and 2 hours\",\"Between 2 and 3 hours\",\"Between 1 and 2 hours\",\"More than 5 hours\",\"More than 5 hours\",\"Between 3 and 4 hours\",\"More than 5 hours\",\"Between 2 and 3 hours\",\"More than 5 hours\",\"More than 5 hours\",\"More than 5 hours\",\"More than 5 hours\",\"Between 3 and 4 hours\",\"Between 1 and 2 hours\",\"Between 2 and 3 hours\",\"Between 3 and 4 hours\",\"Between 4 and 5 hours\",\"More than 5 hours\",\"Between 2 and 3 hours\",\"Between 2 and 3 hours\",\"More than 5 hours\",\"Between 3 and 4 hours\",\"More than 5 hours\",\"More than 5 hours\",\"Between 4 and 5 hours\",\"Between 3 and 4 hours\",\"Between 3 and 4 hours\",\"More than 5 hours\",\"Between 4 and 5 hours\",\"Between 3 and 4 hours\",\"Between 2 and 3 hours\",\"Between 3 and 4 hours\",\"Between 4 and 5 hours\",\"Between 2 and 3 hours\",\"Between 1 and 2 hours\",\"Between 2 and 3 hours\",\"Between 4 and 5 hours\",\"Between 2 and 3 hours\",\"Between 1 and 2 hours\",\"Between 2 and 3 hours\",\"Between 2 and 3 hours\",\"Between 2 and 3 hours\",\"Between 2 and 3 hours\",\"Between 2 and 3 hours\",\"Between 3 and 4 hours\",\"Between 4 and 5 hours\",\"Between 4 and 5 hours\",\"Between 3 and 4 hours\",\"More than 5 hours\",\"Between 3 and 4 hours\",\"Between 3 and 4 hours\",\"More than 5 hours\",\"More than 5 hours\",\"Between 1 and 2 hours\",\"More than 5 hours\",\"More than 5 hours\",\"Between 3 and 4 hours\",\"More than 5 hours\",\"More than 5 hours\",\"More than 5 hours\",\"More than 5 hours\",\"More than 5 hours\",\"More than 5 hours\",\"Less than an Hour\",\"More than 5 hours\",\"More than 5 hours\",\"Between 3 and 4 hours\",\"Between 2 and 3 hours\",\"Between 2 and 3 hours\",\"Between 2 and 3 hours\",\"Between 3 and 4 hours\",\"Between 2 and 3 hours\",\"Between 2 and 3 hours\",\"More than 5 hours\",\"Between 4 and 5 hours\",\"More than 5 hours\",\"Between 3 and 4 hours\",\"Between 3 and 4 hours\",\"Between 2 and 3 hours\",\"Between 1 and 2 hours\",\"More than 5 hours\",\"Between 4 and 5 hours\",\"Between 3 and 4 hours\",\"Between 1 and 2 hours\",\"More than 5 hours\",\"Between 2 and 3 hours\",\"Less than an Hour\",\"Between 4 and 5 hours\",\"Between 4 and 5 hours\",\"More than 5 hours\",\"Between 3 and 4 hours\",\"Between 1 and 2 hours\",\"Between 4 and 5 hours\",\"Between 1 and 2 hours\",\"Between 4 and 5 hours\",\"Less than an Hour\",\"Between 2 and 3 hours\",\"Between 1 and 2 hours\",\"More than 5 hours\",\"Between 2 and 3 hours\",\"Between 4 and 5 hours\",\"Between 1 and 2 hours\",\"Between 4 and 5 hours\",\"Between 4 and 5 hours\",\"Between 2 and 3 hours\",\"Between 4 and 5 hours\",\"Between 2 and 3 hours\",\"More than 5 hours\",\"More than 5 hours\",\"Between 3 and 4 hours\",\"More than 5 hours\",\"Between 1 and 2 hours\",\"Less than an Hour\",\"Between 3 and 4 hours\",\"Between 2 and 3 hours\",\"Between 4 and 5 hours\",\"Between 4 and 5 hours\",\"Between 2 and 3 hours\",\"Between 3 and 4 hours\",\"More than 5 hours\",\"More than 5 hours\",\"Between 3 and 4 hours\",\"More than 5 hours\",\"Between 1 and 2 hours\",\"Between 3 and 4 hours\",\"Between 2 and 3 hours\",\"Between 4 and 5 hours\",\"Between 4 and 5 hours\",\"Between 2 and 3 hours\",\"Between 4 and 5 hours\",\"More than 5 hours\",\"More than 5 hours\",\"More than 5 hours\",\"More than 5 hours\",\"More than 5 hours\",\"Between 1 and 2 hours\",\"More than 5 hours\",\"More than 5 hours\",\"Between 2 and 3 hours\",\"Between 4 and 5 hours\",\"Between 3 and 4 hours\",\"Between 1 and 2 hours\",\"More than 5 hours\",\"Less than an Hour\",\"Less than an Hour\",\"Between 3 and 4 hours\",\"Between 3 and 4 hours\",\"More than 5 hours\",\"Between 4 and 5 hours\",\"More than 5 hours\",\"Between 3 and 4 hours\",\"More than 5 hours\",\"Between 3 and 4 hours\",\"More than 5 hours\",\"Between 4 and 5 hours\",\"Between 3 and 4 hours\",\"Between 3 and 4 hours\",\"Between 3 and 4 hours\",\"Between 3 and 4 hours\",\"Between 1 and 2 hours\",\"More than 5 hours\",\"Less than an Hour\",\"Between 2 and 3 hours\",\"More than 5 hours\",\"Between 1 and 2 hours\",\"Between 2 and 3 hours\",\"Between 3 and 4 hours\",\"More than 5 hours\",\"Between 3 and 4 hours\",\"Between 3 and 4 hours\",\"More than 5 hours\",\"More than 5 hours\",\"More than 5 hours\",\"Between 4 and 5 hours\",\"Between 4 and 5 hours\",\"Between 2 and 3 hours\",\"More than 5 hours\",\"Between 4 and 5 hours\",\"More than 5 hours\",\"Between 4 and 5 hours\",\"Between 3 and 4 hours\",\"Between 3 and 4 hours\",\"Between 2 and 3 hours\",\"More than 5 hours\",\"Between 4 and 5 hours\",\"Between 1 and 2 hours\",\"Between 3 and 4 hours\",\"More than 5 hours\",\"Between 3 and 4 hours\",\"Between 2 and 3 hours\",\"Between 3 and 4 hours\",\"Between 4 and 5 hours\",\"Between 3 and 4 hours\",\"Between 2 and 3 hours\",\"Less than an Hour\",\"Less than an Hour\",\"Between 2 and 3 hours\",\"Between 1 and 2 hours\",\"Between 2 and 3 hours\",\"Between 4 and 5 hours\",\"Between 1 and 2 hours\",\"Between 3 and 4 hours\",\"Between 2 and 3 hours\",\"Between 4 and 5 hours\",\"Between 2 and 3 hours\",\"More than 5 hours\",\"Between 4 and 5 hours\",\"Between 1 and 2 hours\",\"More than 5 hours\",\"Between 4 and 5 hours\",\"Between 1 and 2 hours\",\"More than 5 hours\",\"Between 1 and 2 hours\",\"Between 2 and 3 hours\",\"Between 4 and 5 hours\",\"Between 3 and 4 hours\",\"Between 2 and 3 hours\",\"Between 1 and 2 hours\",\"Between 2 and 3 hours\",\"Between 2 and 3 hours\",\"Less than an Hour\"],\"y\":[5,5,4,4,4,3,5,5,5,1,5,3,3,3,5,3,4,2,3,2,2,3,4,4,3,4,4,4,4,5,5,3,2,3,5,4,3,5,2,1,3,4,2,5,3,3,1,3,2,1,3,3,5,1,1,5,3,4,5,1,4,4,5,5,1,2,4,4,4,3,1,5,4,2,5,2,5,4,5,5,4,1,4,4,2,4,2,1,3,5,4,4,4,3,4,3,1,4,5,2,3,5,4,3,1,2,3,1,2,3,2,4,2,2,4,2,3,3,5,4,1,3,5,4,1,4,4,4,4,3,1,3,3,2,2,4,1,1,3,4,1,3,4,2,5,3,4,2,2,2,2,1,2,3,4,3,2,1,4,4,2,1,3,3,3,2,2,2,1,2,3,3,5,3,4,1,1,4,3,4,4,3,1,5,3,2,3,3,4,2,4,4,4,5,4,1,3,2,1,1,2,3,3,3,5,2,1,5,1,4,3,1,5,1,4,3,1,2,5,2,3,2,3,3,4,2,4,2,1,4,4,1,5,1,4,4,2,5,5,4,4,2,3,3,3,4,4,2,1,4,1,5,5,2,2,3,5,1,4,3,2,5,3,3,2,3,2,4,3,3,2,5,3,5,3,5,5,5,5,5,3,4,2,5,4,3,2,5,4,3,3,4,4,5,1,2,4,4,3,5,5,5,4,4,3,3,5,1,2,2,5,3,2,5,4,3,3,5,5,5,5,4,3,2,5,5,5,5,4,4,1,4,3,5,3,4,1,4,3,5,3,3,5,2,5,5,1,4,3,5,4,3,3,5,2,3,4,3,3,4,3,2,4,2,1,5,4,5,1,5,2,4,3,3,2,5,5,4,5,1,5,5,4,5,3,2,3,2,4,4,3,5,5,5,2,2,5,5,1,5,4,3,3,1,1,5,5,4,4,4,3,3,5,5,4,5,2,3,4,3,3,2,5,4,1,4,3,4,3,5,5,5,5,5,4,3,3,2,2,4,2,1,3,4,3,3,5,5,4,2,2,4,3,1,3,1,1,2,4,2,1,3,5,3,2,2,3,1,5,1,5,4,2,4,4,5,3,4,2,4,2],\"type\":\"box\",\"xaxis\":\"x4\",\"yaxis\":\"y4\"}],                        {\"template\":{\"data\":{\"histogram2dcontour\":[{\"type\":\"histogram2dcontour\",\"colorbar\":{\"outlinewidth\":0,\"ticks\":\"\"},\"colorscale\":[[0.0,\"#0d0887\"],[0.1111111111111111,\"#46039f\"],[0.2222222222222222,\"#7201a8\"],[0.3333333333333333,\"#9c179e\"],[0.4444444444444444,\"#bd3786\"],[0.5555555555555556,\"#d8576b\"],[0.6666666666666666,\"#ed7953\"],[0.7777777777777778,\"#fb9f3a\"],[0.8888888888888888,\"#fdca26\"],[1.0,\"#f0f921\"]]}],\"choropleth\":[{\"type\":\"choropleth\",\"colorbar\":{\"outlinewidth\":0,\"ticks\":\"\"}}],\"histogram2d\":[{\"type\":\"histogram2d\",\"colorbar\":{\"outlinewidth\":0,\"ticks\":\"\"},\"colorscale\":[[0.0,\"#0d0887\"],[0.1111111111111111,\"#46039f\"],[0.2222222222222222,\"#7201a8\"],[0.3333333333333333,\"#9c179e\"],[0.4444444444444444,\"#bd3786\"],[0.5555555555555556,\"#d8576b\"],[0.6666666666666666,\"#ed7953\"],[0.7777777777777778,\"#fb9f3a\"],[0.8888888888888888,\"#fdca26\"],[1.0,\"#f0f921\"]]}],\"heatmap\":[{\"type\":\"heatmap\",\"colorbar\":{\"outlinewidth\":0,\"ticks\":\"\"},\"colorscale\":[[0.0,\"#0d0887\"],[0.1111111111111111,\"#46039f\"],[0.2222222222222222,\"#7201a8\"],[0.3333333333333333,\"#9c179e\"],[0.4444444444444444,\"#bd3786\"],[0.5555555555555556,\"#d8576b\"],[0.6666666666666666,\"#ed7953\"],[0.7777777777777778,\"#fb9f3a\"],[0.8888888888888888,\"#fdca26\"],[1.0,\"#f0f921\"]]}],\"heatmapgl\":[{\"type\":\"heatmapgl\",\"colorbar\":{\"outlinewidth\":0,\"ticks\":\"\"},\"colorscale\":[[0.0,\"#0d0887\"],[0.1111111111111111,\"#46039f\"],[0.2222222222222222,\"#7201a8\"],[0.3333333333333333,\"#9c179e\"],[0.4444444444444444,\"#bd3786\"],[0.5555555555555556,\"#d8576b\"],[0.6666666666666666,\"#ed7953\"],[0.7777777777777778,\"#fb9f3a\"],[0.8888888888888888,\"#fdca26\"],[1.0,\"#f0f921\"]]}],\"contourcarpet\":[{\"type\":\"contourcarpet\",\"colorbar\":{\"outlinewidth\":0,\"ticks\":\"\"}}],\"contour\":[{\"type\":\"contour\",\"colorbar\":{\"outlinewidth\":0,\"ticks\":\"\"},\"colorscale\":[[0.0,\"#0d0887\"],[0.1111111111111111,\"#46039f\"],[0.2222222222222222,\"#7201a8\"],[0.3333333333333333,\"#9c179e\"],[0.4444444444444444,\"#bd3786\"],[0.5555555555555556,\"#d8576b\"],[0.6666666666666666,\"#ed7953\"],[0.7777777777777778,\"#fb9f3a\"],[0.8888888888888888,\"#fdca26\"],[1.0,\"#f0f921\"]]}],\"surface\":[{\"type\":\"surface\",\"colorbar\":{\"outlinewidth\":0,\"ticks\":\"\"},\"colorscale\":[[0.0,\"#0d0887\"],[0.1111111111111111,\"#46039f\"],[0.2222222222222222,\"#7201a8\"],[0.3333333333333333,\"#9c179e\"],[0.4444444444444444,\"#bd3786\"],[0.5555555555555556,\"#d8576b\"],[0.6666666666666666,\"#ed7953\"],[0.7777777777777778,\"#fb9f3a\"],[0.8888888888888888,\"#fdca26\"],[1.0,\"#f0f921\"]]}],\"mesh3d\":[{\"type\":\"mesh3d\",\"colorbar\":{\"outlinewidth\":0,\"ticks\":\"\"}}],\"scatter\":[{\"fillpattern\":{\"fillmode\":\"overlay\",\"size\":10,\"solidity\":0.2},\"type\":\"scatter\"}],\"parcoords\":[{\"type\":\"parcoords\",\"line\":{\"colorbar\":{\"outlinewidth\":0,\"ticks\":\"\"}}}],\"scatterpolargl\":[{\"type\":\"scatterpolargl\",\"marker\":{\"colorbar\":{\"outlinewidth\":0,\"ticks\":\"\"}}}],\"bar\":[{\"error_x\":{\"color\":\"#2a3f5f\"},\"error_y\":{\"color\":\"#2a3f5f\"},\"marker\":{\"line\":{\"color\":\"#E5ECF6\",\"width\":0.5},\"pattern\":{\"fillmode\":\"overlay\",\"size\":10,\"solidity\":0.2}},\"type\":\"bar\"}],\"scattergeo\":[{\"type\":\"scattergeo\",\"marker\":{\"colorbar\":{\"outlinewidth\":0,\"ticks\":\"\"}}}],\"scatterpolar\":[{\"type\":\"scatterpolar\",\"marker\":{\"colorbar\":{\"outlinewidth\":0,\"ticks\":\"\"}}}],\"histogram\":[{\"marker\":{\"pattern\":{\"fillmode\":\"overlay\",\"size\":10,\"solidity\":0.2}},\"type\":\"histogram\"}],\"scattergl\":[{\"type\":\"scattergl\",\"marker\":{\"colorbar\":{\"outlinewidth\":0,\"ticks\":\"\"}}}],\"scatter3d\":[{\"type\":\"scatter3d\",\"line\":{\"colorbar\":{\"outlinewidth\":0,\"ticks\":\"\"}},\"marker\":{\"colorbar\":{\"outlinewidth\":0,\"ticks\":\"\"}}}],\"scattermapbox\":[{\"type\":\"scattermapbox\",\"marker\":{\"colorbar\":{\"outlinewidth\":0,\"ticks\":\"\"}}}],\"scatterternary\":[{\"type\":\"scatterternary\",\"marker\":{\"colorbar\":{\"outlinewidth\":0,\"ticks\":\"\"}}}],\"scattercarpet\":[{\"type\":\"scattercarpet\",\"marker\":{\"colorbar\":{\"outlinewidth\":0,\"ticks\":\"\"}}}],\"carpet\":[{\"aaxis\":{\"endlinecolor\":\"#2a3f5f\",\"gridcolor\":\"white\",\"linecolor\":\"white\",\"minorgridcolor\":\"white\",\"startlinecolor\":\"#2a3f5f\"},\"baxis\":{\"endlinecolor\":\"#2a3f5f\",\"gridcolor\":\"white\",\"linecolor\":\"white\",\"minorgridcolor\":\"white\",\"startlinecolor\":\"#2a3f5f\"},\"type\":\"carpet\"}],\"table\":[{\"cells\":{\"fill\":{\"color\":\"#EBF0F8\"},\"line\":{\"color\":\"white\"}},\"header\":{\"fill\":{\"color\":\"#C8D4E3\"},\"line\":{\"color\":\"white\"}},\"type\":\"table\"}],\"barpolar\":[{\"marker\":{\"line\":{\"color\":\"#E5ECF6\",\"width\":0.5},\"pattern\":{\"fillmode\":\"overlay\",\"size\":10,\"solidity\":0.2}},\"type\":\"barpolar\"}],\"pie\":[{\"automargin\":true,\"type\":\"pie\"}]},\"layout\":{\"autotypenumbers\":\"strict\",\"colorway\":[\"#636efa\",\"#EF553B\",\"#00cc96\",\"#ab63fa\",\"#FFA15A\",\"#19d3f3\",\"#FF6692\",\"#B6E880\",\"#FF97FF\",\"#FECB52\"],\"font\":{\"color\":\"#2a3f5f\"},\"hovermode\":\"closest\",\"hoverlabel\":{\"align\":\"left\"},\"paper_bgcolor\":\"white\",\"plot_bgcolor\":\"#E5ECF6\",\"polar\":{\"bgcolor\":\"#E5ECF6\",\"angularaxis\":{\"gridcolor\":\"white\",\"linecolor\":\"white\",\"ticks\":\"\"},\"radialaxis\":{\"gridcolor\":\"white\",\"linecolor\":\"white\",\"ticks\":\"\"}},\"ternary\":{\"bgcolor\":\"#E5ECF6\",\"aaxis\":{\"gridcolor\":\"white\",\"linecolor\":\"white\",\"ticks\":\"\"},\"baxis\":{\"gridcolor\":\"white\",\"linecolor\":\"white\",\"ticks\":\"\"},\"caxis\":{\"gridcolor\":\"white\",\"linecolor\":\"white\",\"ticks\":\"\"}},\"coloraxis\":{\"colorbar\":{\"outlinewidth\":0,\"ticks\":\"\"}},\"colorscale\":{\"sequential\":[[0.0,\"#0d0887\"],[0.1111111111111111,\"#46039f\"],[0.2222222222222222,\"#7201a8\"],[0.3333333333333333,\"#9c179e\"],[0.4444444444444444,\"#bd3786\"],[0.5555555555555556,\"#d8576b\"],[0.6666666666666666,\"#ed7953\"],[0.7777777777777778,\"#fb9f3a\"],[0.8888888888888888,\"#fdca26\"],[1.0,\"#f0f921\"]],\"sequentialminus\":[[0.0,\"#0d0887\"],[0.1111111111111111,\"#46039f\"],[0.2222222222222222,\"#7201a8\"],[0.3333333333333333,\"#9c179e\"],[0.4444444444444444,\"#bd3786\"],[0.5555555555555556,\"#d8576b\"],[0.6666666666666666,\"#ed7953\"],[0.7777777777777778,\"#fb9f3a\"],[0.8888888888888888,\"#fdca26\"],[1.0,\"#f0f921\"]],\"diverging\":[[0,\"#8e0152\"],[0.1,\"#c51b7d\"],[0.2,\"#de77ae\"],[0.3,\"#f1b6da\"],[0.4,\"#fde0ef\"],[0.5,\"#f7f7f7\"],[0.6,\"#e6f5d0\"],[0.7,\"#b8e186\"],[0.8,\"#7fbc41\"],[0.9,\"#4d9221\"],[1,\"#276419\"]]},\"xaxis\":{\"gridcolor\":\"white\",\"linecolor\":\"white\",\"ticks\":\"\",\"title\":{\"standoff\":15},\"zerolinecolor\":\"white\",\"automargin\":true,\"zerolinewidth\":2},\"yaxis\":{\"gridcolor\":\"white\",\"linecolor\":\"white\",\"ticks\":\"\",\"title\":{\"standoff\":15},\"zerolinecolor\":\"white\",\"automargin\":true,\"zerolinewidth\":2},\"scene\":{\"xaxis\":{\"backgroundcolor\":\"#E5ECF6\",\"gridcolor\":\"white\",\"linecolor\":\"white\",\"showbackground\":true,\"ticks\":\"\",\"zerolinecolor\":\"white\",\"gridwidth\":2},\"yaxis\":{\"backgroundcolor\":\"#E5ECF6\",\"gridcolor\":\"white\",\"linecolor\":\"white\",\"showbackground\":true,\"ticks\":\"\",\"zerolinecolor\":\"white\",\"gridwidth\":2},\"zaxis\":{\"backgroundcolor\":\"#E5ECF6\",\"gridcolor\":\"white\",\"linecolor\":\"white\",\"showbackground\":true,\"ticks\":\"\",\"zerolinecolor\":\"white\",\"gridwidth\":2}},\"shapedefaults\":{\"line\":{\"color\":\"#2a3f5f\"}},\"annotationdefaults\":{\"arrowcolor\":\"#2a3f5f\",\"arrowhead\":0,\"arrowwidth\":1},\"geo\":{\"bgcolor\":\"white\",\"landcolor\":\"#E5ECF6\",\"subunitcolor\":\"white\",\"showland\":true,\"showlakes\":true,\"lakecolor\":\"white\"},\"title\":{\"x\":0.05},\"mapbox\":{\"style\":\"light\"}}},\"xaxis\":{\"anchor\":\"y\",\"domain\":[0.0,0.45],\"showgrid\":true,\"gridwidth\":1,\"gridcolor\":\"lightgrey\"},\"yaxis\":{\"anchor\":\"x\",\"domain\":[0.625,1.0],\"showgrid\":true,\"gridwidth\":1,\"gridcolor\":\"lightgrey\"},\"xaxis2\":{\"anchor\":\"y2\",\"domain\":[0.55,1.0],\"showgrid\":true,\"gridwidth\":1,\"gridcolor\":\"lightgrey\"},\"yaxis2\":{\"anchor\":\"x2\",\"domain\":[0.625,1.0],\"showgrid\":true,\"gridwidth\":1,\"gridcolor\":\"lightgrey\"},\"xaxis3\":{\"anchor\":\"y3\",\"domain\":[0.0,0.45],\"showgrid\":true,\"gridwidth\":1,\"gridcolor\":\"lightgrey\"},\"yaxis3\":{\"anchor\":\"x3\",\"domain\":[0.0,0.375],\"showgrid\":true,\"gridwidth\":1,\"gridcolor\":\"lightgrey\"},\"xaxis4\":{\"anchor\":\"y4\",\"domain\":[0.55,1.0],\"showgrid\":true,\"gridwidth\":1,\"gridcolor\":\"lightgrey\"},\"yaxis4\":{\"anchor\":\"x4\",\"domain\":[0.0,0.375],\"showgrid\":true,\"gridwidth\":1,\"gridcolor\":\"lightgrey\"},\"annotations\":[{\"font\":{\"size\":16},\"showarrow\":false,\"text\":\"relationship_status\",\"x\":0.225,\"xanchor\":\"center\",\"xref\":\"paper\",\"y\":1.0,\"yanchor\":\"bottom\",\"yref\":\"paper\"},{\"font\":{\"size\":16},\"showarrow\":false,\"text\":\"occupation\",\"x\":0.775,\"xanchor\":\"center\",\"xref\":\"paper\",\"y\":1.0,\"yanchor\":\"bottom\",\"yref\":\"paper\"},{\"font\":{\"size\":16},\"showarrow\":false,\"text\":\"uses_social_media\",\"x\":0.225,\"xanchor\":\"center\",\"xref\":\"paper\",\"y\":0.375,\"yanchor\":\"bottom\",\"yref\":\"paper\"},{\"font\":{\"size\":16},\"showarrow\":false,\"text\":\"average_daily_use_category\",\"x\":0.775,\"xanchor\":\"center\",\"xref\":\"paper\",\"y\":0.375,\"yanchor\":\"bottom\",\"yref\":\"paper\"}],\"plot_bgcolor\":\"white\",\"paper_bgcolor\":\"white\",\"title\":{\"text\":\"Box Plots Comparing 'Feel Depressed' With Categorical Factors\"},\"height\":800,\"width\":1200},                        {\"responsive\": true}                    ).then(function(){\n",
       "                            \n",
       "var gd = document.getElementById('e1e7cac4-39e7-4013-ae03-c430f990c1dd');\n",
       "var x = new MutationObserver(function (mutations, observer) {{\n",
       "        var display = window.getComputedStyle(gd).display;\n",
       "        if (!display || display === 'none') {{\n",
       "            console.log([gd, 'removed!']);\n",
       "            Plotly.purge(gd);\n",
       "            observer.disconnect();\n",
       "        }}\n",
       "}});\n",
       "\n",
       "// Listen for the removal of the full notebook cells\n",
       "var notebookContainer = gd.closest('#notebook-container');\n",
       "if (notebookContainer) {{\n",
       "    x.observe(notebookContainer, {childList: true});\n",
       "}}\n",
       "\n",
       "// Listen for the clearing of the current output cell\n",
       "var outputEl = gd.closest('.output');\n",
       "if (outputEl) {{\n",
       "    x.observe(outputEl, {childList: true});\n",
       "}}\n",
       "\n",
       "                        })                };                });            </script>        </div>"
      ]
     },
     "metadata": {},
     "output_type": "display_data"
    }
   ],
   "source": [
    "# Graph 5 : Box Plots Comparing 'Feel Depressed' With Categorical Factors\n",
    "# Define the categorical variables to compare with 'feel_depressed(1-5)'\n",
    "compare_vars_categorical = [ \"relationship_status\", \"occupation\", \"uses_social_media\",\"average_daily_use_category\"]\n",
    "\n",
    "# Define the number of rows needed for the subplots, considering 2 plots per row\n",
    "num_rows = -(-len(compare_vars_categorical) // 2)  # Ceiling division to get the number of rows needed\n",
    "\n",
    "# Create the subplots with 2 columns\n",
    "fig = make_subplots(rows=num_rows, cols=2, subplot_titles=compare_vars_categorical)\n",
    "\n",
    "# Add a box plot to the figure for each comparison variable\n",
    "for i, var in enumerate(compare_vars_categorical):\n",
    "    fig.add_trace(\n",
    "        go.Box(x=df[var], y=df['feel_depressed(1-5)'], name=var),\n",
    "        row=(i // 2) + 1,\n",
    "        col=(i % 2) + 1\n",
    "    )\n",
    "\n",
    "# Update layout for a clear view\n",
    "fig.update_layout(plot_bgcolor='white', paper_bgcolor='white')\n",
    "fig.update_layout(height=800, width=1200, title_text=\"Box Plots Comparing 'Feel Depressed' With Categorical Factors\")\n",
    "fig.update_xaxes(showgrid=True, gridwidth=1, gridcolor='lightgrey')\n",
    "fig.update_yaxes(showgrid=True, gridwidth=1, gridcolor='lightgrey')\n",
    "\n",
    "# Show plot\n",
    "fig.show()"
   ]
  },
  {
   "cell_type": "markdown",
   "metadata": {},
   "source": [
    "1. Relationship Status: Individuals who are 'Divorced' show a slightly higher median level of feeling depressed compared to other statuses. However, the spread of responses is wide across all categories, indicating variation within each group.\n",
    "\n",
    "2. Occupation: 'University Student' and 'Salaried Worker' categories have similar median levels of depression, but 'University Student' shows a wider range, suggesting more variability in feelings of depression among students. The 'Retired' group shows a narrower spread, indicating more consistency in their responses.\n",
    "\n",
    "3. Uses Social Media: Those who use social media report a higher median level of feeling depressed than those who do not, with the users' responses showing a significant spread.\n",
    "\n",
    "4. Average Daily Use Category: There's an interesting pattern; those who do not use social media report the lowest levels of feeling depressed, while users with \"More than 5 hours\" show the highest median depression level. The groups \"Between 3 and 4 hours\" and \"Between 4 and 5 hours\" have a lower median compared to \"More than 5 hours\", but higher than those with less usage."
   ]
  },
  {
   "cell_type": "code",
   "execution_count": 489,
   "metadata": {},
   "outputs": [
    {
     "data": {
      "text/html": [
       "<div>                            <div id=\"be9aef80-f338-4bc0-b5d2-6b938b5bfe2b\" class=\"plotly-graph-div\" style=\"height:525px; width:100%;\"></div>            <script type=\"text/javascript\">                require([\"plotly\"], function(Plotly) {                    window.PLOTLYENV=window.PLOTLYENV || {};                                    if (document.getElementById(\"be9aef80-f338-4bc0-b5d2-6b938b5bfe2b\")) {                    Plotly.newPlot(                        \"be9aef80-f338-4bc0-b5d2-6b938b5bfe2b\",                        [{\"alignmentgroup\":\"True\",\"hovertemplate\":\"Social Media Platform=%{x}\\u003cbr\\u003eFeeling Depressed (1-5)=%{y}\\u003cextra\\u003e\\u003c\\u002fextra\\u003e\",\"legendgroup\":\"\",\"marker\":{\"color\":\"#636efa\"},\"name\":\"\",\"notched\":false,\"offsetgroup\":\"\",\"orientation\":\"v\",\"showlegend\":false,\"x\":[\"Facebook\",\"Twitter\",\"Instagram\",\"YouTube\",\"Discord\",\"Reddit\",\"Facebook\",\"Twitter\",\"Instagram\",\"YouTube\",\"Discord\",\"Reddit\",\"Facebook\",\"Instagram\",\"YouTube\",\"Pinterest\",\"Facebook\",\"Instagram\",\"Facebook\",\"Instagram\",\"YouTube\",\"Facebook\",\"Twitter\",\"Instagram\",\"YouTube\",\"Discord\",\"Pinterest\",\"TikTok\",\"Facebook\",\"Instagram\",\"YouTube\",\"Snapchat\",\"TikTok\",\"Facebook\",\"Instagram\",\"YouTube\",\"Facebook\",\"Instagram\",\"YouTube\",\"Reddit\",\"Pinterest\",\"Facebook\",\"Instagram\",\"YouTube\",\"Discord\",\"Facebook\",\"Instagram\",\"YouTube\",\"Snapchat\",\"Discord\",\"Reddit\",\"Pinterest\",\"TikTok\",\"Facebook\",\"Twitter\",\"Instagram\",\"YouTube\",\"Snapchat\",\"Discord\",\"Reddit\",\"Pinterest\",\"Facebook\",\"Twitter\",\"Instagram\",\"YouTube\",\"Snapchat\",\"Reddit\",\"Pinterest\",\"Facebook\",\"YouTube\",\"Pinterest\",\"Facebook\",\"Instagram\",\"YouTube\",\"Reddit\",\"Facebook\",\"YouTube\",\"Discord\",\"Facebook\",\"Instagram\",\"YouTube\",\"Reddit\",\"Facebook\",\"YouTube\",\"Discord\",\"Reddit\",\"Facebook\",\"Twitter\",\"Instagram\",\"YouTube\",\"Facebook\",\"Instagram\",\"YouTube\",\"Discord\",\"Reddit\",\"Facebook\",\"Twitter\",\"Instagram\",\"YouTube\",\"Discord\",\"Reddit\",\"TikTok\",\"Facebook\",\"Instagram\",\"YouTube\",\"Pinterest\",\"Facebook\",\"Instagram\",\"YouTube\",\"Snapchat\",\"Pinterest\",\"Facebook\",\"Twitter\",\"YouTube\",\"Discord\",\"Facebook\",\"YouTube\",\"Facebook\",\"Instagram\",\"YouTube\",\"Discord\",\"Facebook\",\"Twitter\",\"Instagram\",\"YouTube\",\"Facebook\",\"Instagram\",\"YouTube\",\"Snapchat\",\"Discord\",\"Pinterest\",\"TikTok\",\"Facebook\",\"Instagram\",\"YouTube\",\"Snapchat\",\"Discord\",\"Facebook\",\"Instagram\",\"YouTube\",\"Discord\",\"Facebook\",\"YouTube\",\"Pinterest\",\"Facebook\",\"Instagram\",\"YouTube\",\"TikTok\",\"Facebook\",\"Instagram\",\"YouTube\",\"Discord\",\"Pinterest\",\"Facebook\",\"Instagram\",\"YouTube\",\"Discord\",\"Facebook\",\"Twitter\",\"Instagram\",\"YouTube\",\"Discord\",\"Facebook\",\"Instagram\",\"Facebook\",\"Twitter\",\"Instagram\",\"YouTube\",\"Snapchat\",\"Discord\",\"Reddit\",\"Facebook\",\"Instagram\",\"YouTube\",\"Snapchat\",\"Pinterest\",\"Facebook\",\"YouTube\",\"Discord\",\"Facebook\",\"Instagram\",\"YouTube\",\"Snapchat\",\"Facebook\",\"Instagram\",\"YouTube\",\"Snapchat\",\"YouTube\",\"Facebook\",\"Instagram\",\"YouTube\",\"Snapchat\",\"Pinterest\",\"Twitter\",\"Discord\",\"Reddit\",\"Facebook\",\"Instagram\",\"YouTube\",\"Facebook\",\"YouTube\",\"Instagram\",\"YouTube\",\"Reddit\",\"Pinterest\",\"Twitter\",\"YouTube\",\"Reddit\",\"Facebook\",\"YouTube\",\"Facebook\",\"Twitter\",\"Instagram\",\"YouTube\",\"Snapchat\",\"Discord\",\"Reddit\",\"Pinterest\",\"TikTok\",\"YouTube\",\"Snapchat\",\"Discord\",\"Facebook\",\"Discord\",\"Reddit\",\"YouTube\",\"Discord\",\"Reddit\",\"Facebook\",\"Twitter\",\"Instagram\",\"YouTube\",\"Snapchat\",\"Reddit\",\"TikTok\",\"Facebook\",\"Instagram\",\"YouTube\",\"Snapchat\",\"Discord\",\"Reddit\",\"Facebook\",\"Instagram\",\"YouTube\",\"Discord\",\"Pinterest\",\"Facebook\",\"Twitter\",\"Instagram\",\"YouTube\",\"Snapchat\",\"Discord\",\"Reddit\",\"Pinterest\",\"TikTok\",\"Instagram\",\"Reddit\",\"Facebook\",\"Twitter\",\"Instagram\",\"YouTube\",\"Discord\",\"YouTube\",\"Reddit\",\"Facebook\",\"Instagram\",\"YouTube\",\"Pinterest\",\"Reddit\",\"Discord\",\"Reddit\",\"YouTube\",\"Discord\",\"Reddit\",\"Facebook\",\"Instagram\",\"Reddit\",\"TikTok\",\"Twitter\",\"Instagram\",\"YouTube\",\"Reddit\",\"TikTok\",\"Reddit\",\"YouTube\",\"Snapchat\",\"Discord\",\"Reddit\",\"Instagram\",\"YouTube\",\"Instagram\",\"YouTube\",\"Discord\",\"Reddit\",\"Twitter\",\"Instagram\",\"YouTube\",\"Snapchat\",\"Reddit\",\"Pinterest\",\"TikTok\",\"Twitter\",\"YouTube\",\"Discord\",\"Reddit\",\"Facebook\",\"YouTube\",\"Discord\",\"Reddit\",\"Reddit\",\"Facebook\",\"YouTube\",\"Reddit\",\"Facebook\",\"Twitter\",\"Instagram\",\"YouTube\",\"Snapchat\",\"Discord\",\"TikTok\",\"Facebook\",\"YouTube\",\"Reddit\",\"Facebook\",\"YouTube\",\"Discord\",\"Reddit\",\"Twitter\",\"Instagram\",\"YouTube\",\"Snapchat\",\"Discord\",\"Reddit\",\"Facebook\",\"Instagram\",\"YouTube\",\"Snapchat\",\"Discord\",\"Reddit\",\"Pinterest\",\"Instagram\",\"YouTube\",\"Snapchat\",\"Discord\",\"Reddit\",\"Facebook\",\"Instagram\",\"YouTube\",\"Pinterest\",\"Facebook\",\"Twitter\",\"Instagram\",\"YouTube\",\"Reddit\",\"YouTube\",\"Reddit\",\"Facebook\",\"YouTube\",\"Reddit\",\"Facebook\",\"YouTube\",\"Facebook\",\"Instagram\",\"YouTube\",\"Snapchat\",\"Pinterest\",\"Facebook\",\"Instagram\",\"YouTube\",\"Snapchat\",\"Facebook\",\"YouTube\",\"Facebook\",\"Twitter\",\"Instagram\",\"YouTube\",\"Snapchat\",\"Twitter\",\"Instagram\",\"YouTube\",\"Snapchat\",\"Discord\",\"Reddit\",\"TikTok\",\"Instagram\",\"Facebook\",\"Instagram\",\"YouTube\",\"Snapchat\",\"Discord\",\"Instagram\",\"YouTube\",\"Discord\",\"YouTube\",\"Reddit\",\"Facebook\",\"Instagram\",\"YouTube\",\"Pinterest\",\"Facebook\",\"Instagram\",\"YouTube\",\"Snapchat\",\"Discord\",\"TikTok\",\"Facebook\",\"Twitter\",\"Instagram\",\"YouTube\",\"Facebook\",\"Twitter\",\"Instagram\",\"YouTube\",\"Snapchat\",\"Discord\",\"Reddit\",\"Pinterest\",\"Instagram\",\"Facebook\",\"Twitter\",\"Instagram\",\"YouTube\",\"Snapchat\",\"Pinterest\",\"Facebook\",\"Instagram\",\"YouTube\",\"Snapchat\",\"Pinterest\",\"Facebook\",\"YouTube\",\"Facebook\",\"Instagram\",\"TikTok\",\"Facebook\",\"YouTube\",\"Facebook\",\"Instagram\",\"YouTube\",\"Snapchat\",\"Facebook\",\"Instagram\",\"YouTube\",\"Pinterest\",\"Facebook\",\"Instagram\",\"YouTube\",\"Facebook\",\"Instagram\",\"YouTube\",\"Pinterest\",\"Facebook\",\"YouTube\",\"Facebook\",\"Instagram\",\"Snapchat\",\"Facebook\",\"Instagram\",\"YouTube\",\"Snapchat\",\"Facebook\",\"Facebook\",\"Instagram\",\"Facebook\",\"Facebook\",\"Instagram\",\"YouTube\",\"Snapchat\",\"Discord\",\"TikTok\",\"Facebook\",\"Instagram\",\"YouTube\",\"Facebook\",\"Instagram\",\"Facebook\",\"Instagram\",\"YouTube\",\"TikTok\",\"Facebook\",\"YouTube\",\"Snapchat\",\"Pinterest\",\"Facebook\",\"Instagram\",\"YouTube\",\"Snapchat\",\"Instagram\",\"Facebook\",\"Instagram\",\"YouTube\",\"Snapchat\",\"Facebook\",\"Twitter\",\"Instagram\",\"YouTube\",\"Snapchat\",\"Discord\",\"Facebook\",\"Instagram\",\"YouTube\",\"Snapchat\",\"Pinterest\",\"TikTok\",\"Facebook\",\"Instagram\",\"YouTube\",\"Instagram\",\"YouTube\",\"Snapchat\",\"Pinterest\",\"Facebook\",\"Instagram\",\"YouTube\",\"Discord\",\"Pinterest\",\"Facebook\",\"YouTube\",\"Facebook\",\"Twitter\",\"Instagram\",\"YouTube\",\"Facebook\",\"Instagram\",\"YouTube\",\"Facebook\",\"Twitter\",\"Instagram\",\"YouTube\",\"Pinterest\",\"Facebook\",\"YouTube\",\"Pinterest\",\"Facebook\",\"Twitter\",\"Instagram\",\"YouTube\",\"Pinterest\",\"Facebook\",\"Twitter\",\"Instagram\",\"YouTube\",\"Snapchat\",\"Pinterest\",\"Facebook\",\"Twitter\",\"Instagram\",\"YouTube\",\"Facebook\",\"Twitter\",\"Instagram\",\"YouTube\",\"Pinterest\",\"Facebook\",\"Instagram\",\"YouTube\",\"Facebook\",\"Twitter\",\"Instagram\",\"YouTube\",\"Facebook\",\"Twitter\",\"Instagram\",\"YouTube\",\"Snapchat\",\"Facebook\",\"Instagram\",\"YouTube\",\"Snapchat\",\"Discord\",\"Facebook\",\"Facebook\",\"Twitter\",\"Instagram\",\"YouTube\",\"Snapchat\",\"Discord\",\"Pinterest\",\"Facebook\",\"Twitter\",\"Instagram\",\"YouTube\",\"Facebook\",\"Instagram\",\"YouTube\",\"Facebook\",\"YouTube\",\"Facebook\",\"YouTube\",\"Discord\",\"Facebook\",\"Instagram\",\"YouTube\",\"Discord\",\"Pinterest\",\"Twitter\",\"Instagram\",\"YouTube\",\"Facebook\",\"Twitter\",\"YouTube\",\"Facebook\",\"Twitter\",\"Instagram\",\"YouTube\",\"Facebook\",\"Instagram\",\"YouTube\",\"Pinterest\",\"Twitter\",\"YouTube\",\"Facebook\",\"Instagram\",\"YouTube\",\"Facebook\",\"Facebook\",\"Instagram\",\"YouTube\",\"Facebook\",\"Twitter\",\"Instagram\",\"YouTube\",\"Snapchat\",\"Discord\",\"Reddit\",\"Pinterest\",\"TikTok\",\"Facebook\",\"Instagram\",\"YouTube\",\"Pinterest\",\"TikTok\",\"Twitter\",\"YouTube\",\"Twitter\",\"Instagram\",\"YouTube\",\"Reddit\",\"TikTok\",\"Facebook\",\"Twitter\",\"Facebook\",\"YouTube\",\"Pinterest\",\"Facebook\",\"Twitter\",\"Instagram\",\"YouTube\",\"Pinterest\",\"Twitter\",\"YouTube\",\"Facebook\",\"Twitter\",\"Instagram\",\"YouTube\",\"Snapchat\",\"Discord\",\"Twitter\",\"Instagram\",\"YouTube\",\"Snapchat\",\"Discord\",\"Reddit\",\"TikTok\",\"Facebook\",\"YouTube\",\"Facebook\",\"Instagram\",\"YouTube\",\"Facebook\",\"Instagram\",\"YouTube\",\"Snapchat\",\"Instagram\",\"YouTube\",\"Pinterest\",\"Twitter\",\"Instagram\",\"YouTube\",\"Reddit\",\"TikTok\",\"Facebook\",\"YouTube\",\"Pinterest\",\"Facebook\",\"Twitter\",\"Instagram\",\"YouTube\",\"Snapchat\",\"Pinterest\",\"Facebook\",\"Instagram\",\"YouTube\",\"Pinterest\",\"Facebook\",\"YouTube\",\"Facebook\",\"Twitter\",\"Instagram\",\"YouTube\",\"Facebook\",\"YouTube\",\"TikTok\",\"Facebook\",\"Twitter\",\"Instagram\",\"YouTube\",\"Reddit\",\"Pinterest\",\"TikTok\",\"Facebook\",\"Twitter\",\"Instagram\",\"YouTube\",\"Snapchat\",\"Discord\",\"Pinterest\",\"TikTok\",\"Facebook\",\"YouTube\",\"Instagram\",\"YouTube\",\"Facebook\",\"Twitter\",\"Instagram\",\"YouTube\",\"Pinterest\",\"Facebook\",\"Instagram\",\"Pinterest\",\"Instagram\",\"Facebook\",\"YouTube\",\"Discord\",\"Reddit\",\"Pinterest\",\"Facebook\",\"Instagram\",\"YouTube\",\"Snapchat\",\"Discord\",\"Pinterest\",\"TikTok\",\"Facebook\",\"Instagram\",\"YouTube\",\"Snapchat\",\"Facebook\",\"Instagram\",\"YouTube\",\"Snapchat\",\"Facebook\",\"Instagram\",\"YouTube\",\"Snapchat\",\"Discord\",\"TikTok\",\"Facebook\",\"Instagram\",\"YouTube\",\"Discord\",\"Pinterest\",\"Facebook\",\"Facebook\",\"Twitter\",\"YouTube\",\"Discord\",\"Reddit\",\"Facebook\",\"Instagram\",\"YouTube\",\"Facebook\",\"YouTube\",\"Discord\",\"Reddit\",\"Facebook\",\"Twitter\",\"Instagram\",\"YouTube\",\"Snapchat\",\"Discord\",\"Facebook\",\"Instagram\",\"YouTube\",\"Snapchat\",\"Discord\",\"Reddit\",\"Facebook\",\"Instagram\",\"YouTube\",\"Facebook\",\"Instagram\",\"YouTube\",\"Discord\",\"Reddit\",\"TikTok\",\"Facebook\",\"Discord\",\"Reddit\",\"Instagram\",\"Discord\",\"Reddit\",\"Pinterest\",\"TikTok\",\"Facebook\",\"Instagram\",\"YouTube\",\"Facebook\",\"Instagram\",\"YouTube\",\"Discord\",\"Facebook\",\"Instagram\",\"YouTube\",\"Snapchat\",\"Pinterest\",\"Twitter\",\"Instagram\",\"YouTube\",\"Snapchat\",\"Discord\",\"Reddit\",\"Pinterest\",\"TikTok\",\"Facebook\",\"Instagram\",\"YouTube\",\"Discord\",\"YouTube\",\"Discord\",\"Reddit\",\"Facebook\",\"YouTube\",\"TikTok\",\"Facebook\",\"YouTube\",\"Snapchat\",\"Instagram\",\"Facebook\",\"Twitter\",\"Instagram\",\"YouTube\",\"Discord\",\"Reddit\",\"Facebook\",\"YouTube\",\"Facebook\",\"YouTube\",\"Facebook\",\"Instagram\",\"YouTube\",\"Snapchat\",\"Facebook\",\"Facebook\",\"Twitter\",\"Instagram\",\"YouTube\",\"Snapchat\",\"Facebook\",\"Twitter\",\"Instagram\",\"YouTube\",\"Snapchat\",\"Discord\",\"Pinterest\",\"Facebook\",\"YouTube\",\"Facebook\",\"Twitter\",\"Instagram\",\"YouTube\",\"Snapchat\",\"Discord\",\"Pinterest\",\"Facebook\",\"Facebook\",\"Instagram\",\"YouTube\",\"Snapchat\",\"TikTok\",\"Facebook\",\"Instagram\",\"YouTube\",\"Snapchat\",\"Discord\",\"Pinterest\",\"Facebook\",\"Instagram\",\"YouTube\",\"Facebook\",\"YouTube\",\"Facebook\",\"Instagram\",\"YouTube\",\"Facebook\",\"Instagram\",\"YouTube\",\"Discord\",\"Facebook\",\"Instagram\",\"YouTube\",\"YouTube\",\"Facebook\",\"YouTube\",\"Discord\",\"Pinterest\",\"Facebook\",\"Twitter\",\"Instagram\",\"YouTube\",\"Discord\",\"Reddit\",\"TikTok\",\"Instagram\",\"YouTube\",\"Discord\",\"Reddit\",\"TikTok\",\"Facebook\",\"Instagram\",\"YouTube\",\"Pinterest\",\"Facebook\",\"Instagram\",\"YouTube\",\"Snapchat\",\"Pinterest\",\"TikTok\",\"TikTok\",\"Facebook\",\"Instagram\",\"YouTube\",\"Facebook\",\"Twitter\",\"Instagram\",\"YouTube\",\"Snapchat\",\"TikTok\",\"Facebook\",\"Instagram\",\"YouTube\",\"Snapchat\",\"Discord\",\"TikTok\",\"Facebook\",\"Instagram\",\"Facebook\",\"Instagram\",\"YouTube\",\"Discord\",\"Facebook\",\"Instagram\",\"YouTube\",\"Snapchat\",\"Discord\",\"Reddit\",\"Facebook\",\"Instagram\",\"YouTube\",\"Snapchat\",\"Facebook\",\"YouTube\",\"Discord\",\"Facebook\",\"Instagram\",\"YouTube\",\"Snapchat\",\"Facebook\",\"Facebook\",\"Instagram\",\"YouTube\",\"Snapchat\",\"Discord\",\"Pinterest\",\"Facebook\",\"Facebook\",\"Instagram\",\"YouTube\",\"Discord\",\"Pinterest\",\"TikTok\",\"Facebook\",\"Twitter\",\"Instagram\",\"YouTube\",\"Snapchat\",\"Discord\",\"Pinterest\",\"TikTok\",\"Facebook\",\"Instagram\",\"YouTube\",\"Pinterest\",\"Facebook\",\"Twitter\",\"Instagram\",\"YouTube\",\"Snapchat\",\"Discord\",\"Reddit\",\"Facebook\",\"Instagram\",\"YouTube\",\"Snapchat\",\"Facebook\",\"Instagram\",\"YouTube\",\"Snapchat\",\"Discord\",\"Facebook\",\"Instagram\",\"YouTube\",\"Snapchat\",\"Discord\",\"Facebook\",\"Instagram\",\"YouTube\",\"TikTok\",\"Facebook\",\"Instagram\",\"Discord\",\"Facebook\",\"YouTube\",\"Snapchat\",\"Facebook\",\"Instagram\",\"YouTube\",\"Snapchat\",\"Discord\",\"TikTok\",\"Facebook\",\"Instagram\",\"YouTube\",\"Facebook\",\"Twitter\",\"Instagram\",\"YouTube\",\"Discord\",\"Reddit\",\"Pinterest\",\"TikTok\",\"Facebook\",\"Instagram\",\"YouTube\",\"Snapchat\",\"Facebook\",\"Instagram\",\"YouTube\",\"Discord\",\"Facebook\",\"Twitter\",\"Instagram\",\"YouTube\",\"YouTube\",\"Facebook\",\"Instagram\",\"YouTube\",\"Snapchat\",\"Pinterest\",\"TikTok\",\"Facebook\",\"Twitter\",\"YouTube\",\"Discord\",\"Pinterest\",\"Facebook\",\"Twitter\",\"Instagram\",\"YouTube\",\"Snapchat\",\"Discord\",\"Reddit\",\"Pinterest\",\"TikTok\",\"Facebook\",\"Instagram\",\"YouTube\",\"Snapchat\",\"Discord\",\"Pinterest\",\"TikTok\",\"Facebook\",\"Twitter\",\"Instagram\",\"YouTube\",\"Snapchat\",\"Discord\",\"Reddit\",\"Pinterest\",\"TikTok\",\"YouTube\",\"Discord\",\"Reddit\",\"Facebook\",\"Twitter\",\"Instagram\",\"YouTube\",\"Discord\",\"Reddit\",\"Facebook\",\"Instagram\",\"YouTube\",\"Snapchat\",\"Discord\",\"Pinterest\",\"TikTok\",\"Facebook\",\"Instagram\",\"YouTube\",\"Snapchat\",\"Discord\",\"Facebook\",\"Instagram\",\"YouTube\",\"Discord\",\"Facebook\",\"Instagram\",\"YouTube\",\"Discord\",\"Discord\",\"Facebook\",\"Instagram\",\"YouTube\",\"Discord\",\"Pinterest\",\"TikTok\",\"Facebook\",\"Instagram\",\"YouTube\",\"Discord\",\"Reddit\",\"Pinterest\",\"Facebook\",\"Instagram\",\"YouTube\",\"Snapchat\",\"Facebook\",\"Twitter\",\"Instagram\",\"YouTube\",\"Snapchat\",\"Discord\",\"TikTok\",\"Facebook\",\"Twitter\",\"Instagram\",\"YouTube\",\"Facebook\",\"Instagram\",\"YouTube\",\"Snapchat\",\"Facebook\",\"Twitter\",\"Instagram\",\"YouTube\",\"Discord\",\"Facebook\",\"Instagram\",\"YouTube\",\"Snapchat\",\"Pinterest\",\"Facebook\",\"Twitter\",\"Instagram\",\"YouTube\",\"Snapchat\",\"Discord\",\"Pinterest\",\"Facebook\",\"Instagram\",\"YouTube\",\"Discord\",\"Pinterest\",\"Facebook\",\"YouTube\",\"Facebook\",\"Instagram\",\"YouTube\",\"Snapchat\",\"Discord\",\"Facebook\",\"Instagram\",\"YouTube\",\"Snapchat\",\"Discord\",\"Reddit\",\"Pinterest\",\"TikTok\",\"Facebook\",\"Instagram\",\"YouTube\",\"Snapchat\",\"TikTok\",\"Facebook\",\"Instagram\",\"YouTube\",\"Facebook\",\"Twitter\",\"Instagram\",\"YouTube\",\"Snapchat\",\"Pinterest\",\"Facebook\",\"Discord\",\"Facebook\",\"Twitter\",\"Instagram\",\"YouTube\",\"Facebook\",\"Twitter\",\"Instagram\",\"YouTube\",\"Reddit\",\"Facebook\",\"Facebook\",\"Instagram\",\"YouTube\",\"Snapchat\",\"Pinterest\",\"Facebook\",\"Instagram\",\"YouTube\",\"Snapchat\",\"Instagram\",\"YouTube\",\"Snapchat\",\"Discord\",\"Reddit\",\"Facebook\",\"TikTok\",\"Facebook\",\"Instagram\",\"YouTube\",\"Facebook\",\"Twitter\",\"Instagram\",\"YouTube\",\"Snapchat\",\"Discord\",\"Reddit\",\"TikTok\",\"Facebook\",\"Instagram\",\"YouTube\",\"Facebook\",\"YouTube\",\"Facebook\",\"Instagram\",\"YouTube\",\"Snapchat\",\"Discord\",\"Pinterest\",\"Twitter\",\"Instagram\",\"YouTube\",\"Instagram\",\"YouTube\",\"Discord\",\"Pinterest\",\"Facebook\",\"Twitter\",\"Instagram\",\"YouTube\",\"Snapchat\",\"Discord\",\"Reddit\",\"Pinterest\",\"Facebook\",\"Instagram\",\"YouTube\",\"Snapchat\",\"Pinterest\",\"TikTok\",\"Facebook\",\"Instagram\",\"Facebook\",\"Twitter\",\"Instagram\",\"YouTube\",\"Snapchat\",\"TikTok\",\"Facebook\",\"Facebook\",\"Twitter\",\"Instagram\",\"YouTube\",\"Snapchat\",\"Discord\",\"Reddit\",\"Pinterest\",\"Facebook\",\"Instagram\",\"YouTube\",\"Snapchat\",\"Facebook\",\"Instagram\",\"YouTube\",\"Snapchat\",\"Pinterest\",\"TikTok\",\"Facebook\",\"YouTube\",\"Snapchat\",\"Discord\",\"Facebook\",\"Twitter\",\"Instagram\",\"YouTube\",\"Snapchat\",\"TikTok\",\"Facebook\",\"Instagram\",\"YouTube\",\"Snapchat\",\"Discord\",\"Pinterest\",\"Facebook\",\"Twitter\",\"Instagram\",\"YouTube\",\"Discord\",\"Reddit\",\"Pinterest\",\"Facebook\",\"Twitter\",\"Instagram\",\"YouTube\",\"Snapchat\",\"Discord\",\"Facebook\",\"Twitter\",\"Instagram\",\"YouTube\",\"Snapchat\",\"Discord\",\"Reddit\",\"Facebook\",\"Instagram\",\"YouTube\",\"Snapchat\",\"Reddit\",\"Pinterest\",\"TikTok\",\"Facebook\",\"Instagram\",\"YouTube\",\"Snapchat\",\"Discord\",\"TikTok\",\"Facebook\",\"Instagram\",\"YouTube\",\"Discord\",\"Pinterest\",\"Facebook\",\"Instagram\",\"Snapchat\",\"Pinterest\",\"TikTok\",\"Facebook\",\"Twitter\",\"Instagram\",\"YouTube\",\"Snapchat\",\"Discord\",\"Reddit\",\"Pinterest\",\"TikTok\",\"Facebook\",\"Twitter\",\"Instagram\",\"YouTube\",\"Snapchat\",\"Discord\",\"Reddit\",\"Pinterest\",\"TikTok\",\"Facebook\",\"Twitter\",\"Instagram\",\"YouTube\",\"Snapchat\",\"Discord\",\"Reddit\",\"Facebook\",\"Twitter\",\"Instagram\",\"YouTube\",\"Reddit\",\"Pinterest\",\"Facebook\",\"Instagram\",\"YouTube\",\"Pinterest\",\"TikTok\",\"Facebook\",\"Instagram\",\"YouTube\",\"Discord\",\"Facebook\",\"Twitter\",\"Instagram\",\"YouTube\",\"Snapchat\",\"Facebook\",\"Twitter\",\"Instagram\",\"YouTube\",\"Snapchat\",\"Discord\",\"Reddit\",\"Pinterest\",\"Facebook\",\"Instagram\",\"YouTube\",\"Facebook\",\"Instagram\",\"YouTube\",\"Snapchat\",\"Discord\",\"Reddit\",\"Facebook\",\"Twitter\",\"Instagram\",\"Snapchat\",\"Reddit\",\"YouTube\",\"Discord\",\"Facebook\",\"Instagram\",\"YouTube\",\"Facebook\",\"Instagram\",\"Facebook\",\"Instagram\",\"YouTube\",\"Snapchat\",\"Discord\",\"TikTok\",\"Facebook\",\"Instagram\",\"YouTube\",\"Snapchat\",\"Discord\",\"Reddit\",\"Pinterest\",\"TikTok\",\"Facebook\",\"Instagram\",\"YouTube\",\"Snapchat\",\"Discord\",\"Facebook\",\"YouTube\",\"Facebook\",\"Twitter\",\"Instagram\",\"YouTube\",\"Snapchat\",\"Discord\",\"Reddit\",\"Pinterest\",\"TikTok\",\"Facebook\",\"Twitter\",\"Instagram\",\"YouTube\",\"Snapchat\",\"Discord\",\"Reddit\",\"Facebook\",\"YouTube\",\"Facebook\",\"Instagram\",\"YouTube\",\"Snapchat\",\"Discord\",\"Facebook\",\"YouTube\",\"Facebook\",\"Instagram\",\"YouTube\",\"Discord\",\"Reddit\",\"Facebook\",\"Twitter\",\"Instagram\",\"YouTube\",\"Reddit\",\"Pinterest\",\"Facebook\",\"Instagram\",\"YouTube\",\"Snapchat\",\"Discord\",\"Reddit\",\"TikTok\",\"Facebook\",\"Instagram\",\"YouTube\",\"Discord\",\"Twitter\",\"Discord\",\"Reddit\",\"Facebook\",\"Twitter\",\"Instagram\",\"YouTube\",\"Snapchat\",\"Discord\",\"Pinterest\",\"Twitter\",\"Instagram\",\"TikTok\",\"Facebook\",\"Instagram\",\"YouTube\",\"Snapchat\",\"Discord\",\"Facebook\",\"Instagram\",\"YouTube\",\"TikTok\",\"Facebook\",\"Instagram\",\"YouTube\",\"Pinterest\",\"Facebook\",\"Twitter\",\"Instagram\",\"YouTube\",\"Snapchat\",\"Pinterest\",\"Facebook\",\"Instagram\",\"YouTube\",\"Snapchat\",\"Discord\",\"Facebook\",\"Instagram\",\"YouTube\",\"Snapchat\",\"Discord\",\"Facebook\",\"Twitter\",\"Instagram\",\"YouTube\",\"Snapchat\",\"Discord\",\"Reddit\",\"Pinterest\",\"TikTok\",\"Facebook\",\"Instagram\",\"YouTube\",\"Facebook\",\"Instagram\",\"YouTube\",\"Snapchat\",\"Discord\",\"Facebook\",\"Instagram\",\"YouTube\",\"Snapchat\",\"Facebook\",\"Instagram\",\"Snapchat\",\"Discord\",\"Pinterest\",\"TikTok\",\"Facebook\",\"Twitter\",\"Instagram\",\"YouTube\",\"Snapchat\",\"Discord\",\"Reddit\",\"Pinterest\",\"Facebook\",\"Instagram\",\"YouTube\",\"Snapchat\",\"YouTube\",\"Pinterest\",\"Facebook\",\"Twitter\",\"Instagram\",\"YouTube\",\"Reddit\",\"Pinterest\",\"Facebook\",\"Twitter\",\"Instagram\",\"YouTube\",\"Snapchat\",\"Facebook\",\"Twitter\",\"Instagram\",\"YouTube\",\"Snapchat\",\"Discord\",\"Pinterest\",\"TikTok\",\"Facebook\",\"Twitter\",\"Instagram\",\"YouTube\",\"Snapchat\",\"Discord\",\"Reddit\",\"Pinterest\",\"TikTok\",\"Facebook\",\"Instagram\",\"YouTube\",\"Facebook\",\"Twitter\",\"Instagram\",\"YouTube\",\"Snapchat\",\"Discord\",\"Reddit\",\"Facebook\",\"Instagram\",\"YouTube\",\"Snapchat\",\"Facebook\",\"Instagram\",\"YouTube\",\"Snapchat\",\"Pinterest\",\"TikTok\",\"Instagram\",\"YouTube\",\"Discord\",\"Reddit\",\"Pinterest\",\"Facebook\",\"YouTube\",\"Facebook\",\"Twitter\",\"Instagram\",\"YouTube\",\"Snapchat\",\"Discord\",\"Reddit\",\"Pinterest\",\"TikTok\",\"Facebook\",\"Instagram\",\"YouTube\",\"Snapchat\",\"Facebook\",\"YouTube\",\"Discord\",\"Facebook\",\"Instagram\",\"YouTube\",\"Snapchat\",\"Discord\",\"Pinterest\",\"TikTok\",\"Facebook\",\"Instagram\",\"YouTube\",\"Snapchat\",\"Discord\",\"Reddit\",\"Pinterest\",\"Twitter\",\"Instagram\",\"YouTube\",\"TikTok\",\"Facebook\",\"Instagram\",\"YouTube\",\"Snapchat\",\"Discord\",\"Reddit\",\"Pinterest\",\"TikTok\",\"Facebook\",\"Instagram\",\"YouTube\",\"Snapchat\",\"Discord\",\"Facebook\",\"Twitter\",\"Instagram\",\"YouTube\",\"Discord\",\"Pinterest\",\"Facebook\",\"Twitter\",\"Instagram\",\"YouTube\",\"Snapchat\",\"Discord\",\"Reddit\",\"Facebook\",\"Instagram\",\"YouTube\",\"Snapchat\",\"Discord\",\"Facebook\",\"Twitter\",\"Instagram\",\"YouTube\",\"Snapchat\",\"Discord\",\"Pinterest\",\"TikTok\",\"Facebook\",\"Instagram\",\"YouTube\",\"Pinterest\",\"Facebook\",\"Instagram\",\"YouTube\",\"Snapchat\",\"Facebook\",\"Facebook\",\"Twitter\",\"Instagram\",\"YouTube\",\"Snapchat\",\"Pinterest\",\"Facebook\",\"Instagram\",\"YouTube\",\"Snapchat\",\"Facebook\",\"Twitter\",\"Instagram\",\"YouTube\",\"Facebook\",\"YouTube\",\"Facebook\",\"Instagram\",\"YouTube\",\"Reddit\",\"Pinterest\",\"TikTok\",\"Facebook\",\"Facebook\",\"Facebook\",\"YouTube\",\"Discord\",\"Pinterest\",\"Facebook\",\"Snapchat\",\"Reddit\",\"Facebook\",\"Instagram\",\"Snapchat\",\"Facebook\",\"Instagram\",\"TikTok\",\"Facebook\",\"Twitter\",\"Instagram\",\"YouTube\",\"Reddit\",\"Facebook\",\"Instagram\",\"YouTube\",\"Reddit\",\"Pinterest\",\"Facebook\",\"Instagram\",\"YouTube\",\"Discord\",\"Reddit\",\"Facebook\",\"Instagram\",\"YouTube\",\"Snapchat\",\"Facebook\",\"Instagram\",\"YouTube\",\"Discord\",\"Facebook\",\"Facebook\",\"Twitter\",\"Instagram\",\"YouTube\",\"Snapchat\",\"Discord\",\"TikTok\",\"Facebook\",\"Instagram\",\"YouTube\",\"Discord\",\"Facebook\",\"Instagram\",\"YouTube\",\"Snapchat\",\"Reddit\",\"Pinterest\",\"TikTok\",\"Facebook\",\"Instagram\",\"YouTube\",\"Snapchat\",\"Discord\",\"Facebook\",\"Instagram\",\"YouTube\",\"Snapchat\",\"Discord\",\"Facebook\",\"Instagram\",\"YouTube\",\"Snapchat\",\"Discord\",\"Facebook\",\"Twitter\",\"Instagram\",\"YouTube\",\"Discord\",\"Reddit\",\"Pinterest\",\"Facebook\",\"Instagram\",\"YouTube\",\"Reddit\",\"Facebook\",\"Twitter\",\"Instagram\",\"YouTube\",\"Snapchat\",\"Discord\",\"TikTok\",\"Facebook\",\"Instagram\",\"YouTube\",\"Snapchat\",\"Discord\",\"Reddit\",\"Pinterest\",\"Facebook\",\"Instagram\",\"YouTube\",\"Pinterest\",\"Facebook\",\"Instagram\",\"YouTube\",\"Snapchat\",\"Facebook\",\"Instagram\",\"YouTube\",\"Pinterest\",\"Facebook\",\"Instagram\",\"YouTube\",\"Facebook\",\"Twitter\",\"Instagram\",\"YouTube\",\"Snapchat\",\"Discord\",\"TikTok\",\"Facebook\",\"Instagram\",\"YouTube\",\"Snapchat\",\"Discord\",\"Reddit\",\"Pinterest\",\"Facebook\",\"Instagram\",\"YouTube\",\"Snapchat\",\"Discord\",\"Reddit\",\"Pinterest\",\"Facebook\",\"Instagram\",\"YouTube\",\"Discord\",\"Facebook\",\"Twitter\",\"Instagram\",\"YouTube\",\"Snapchat\",\"Discord\",\"Reddit\",\"YouTube\",\"Facebook\",\"Instagram\",\"Facebook\",\"Instagram\",\"Snapchat\",\"Facebook\",\"Instagram\",\"YouTube\",\"Reddit\",\"TikTok\",\"Facebook\",\"Instagram\",\"YouTube\",\"Facebook\",\"Instagram\",\"YouTube\",\"Snapchat\",\"Discord\",\"Reddit\",\"TikTok\",\"Facebook\",\"Instagram\",\"YouTube\",\"Discord\",\"YouTube\",\"Facebook\",\"YouTube\",\"Discord\",\"Reddit\",\"Facebook\",\"Twitter\",\"Instagram\",\"YouTube\",\"Pinterest\",\"Facebook\",\"Instagram\",\"YouTube\",\"Facebook\",\"Instagram\",\"YouTube\",\"Discord\",\"Reddit\",\"Pinterest\",\"Facebook\",\"Instagram\",\"YouTube\",\"Snapchat\",\"Pinterest\",\"TikTok\",\"Facebook\",\"Instagram\",\"YouTube\",\"Snapchat\",\"Facebook\",\"Instagram\",\"YouTube\",\"Snapchat\",\"Discord\",\"Facebook\",\"Twitter\",\"Instagram\",\"YouTube\",\"Pinterest\",\"Facebook\",\"Instagram\",\"Discord\",\"Facebook\",\"Instagram\",\"YouTube\",\"Discord\",\"Reddit\",\"Facebook\",\"Instagram\",\"YouTube\",\"Snapchat\",\"Discord\",\"Reddit\",\"Pinterest\",\"TikTok\",\"Facebook\",\"YouTube\",\"Facebook\",\"YouTube\",\"Pinterest\",\"Facebook\",\"Instagram\",\"YouTube\",\"Facebook\",\"Twitter\",\"YouTube\",\"Pinterest\",\"Facebook\",\"Twitter\",\"Instagram\",\"YouTube\",\"Facebook\",\"Facebook\",\"YouTube\",\"Discord\",\"Facebook\",\"Instagram\",\"Twitter\",\"Instagram\",\"YouTube\",\"Facebook\",\"Instagram\",\"YouTube\",\"Pinterest\",\"Instagram\",\"YouTube\",\"Discord\",\"Instagram\",\"Discord\",\"Twitter\",\"Instagram\",\"YouTube\",\"Discord\",\"Pinterest\",\"Facebook\",\"Instagram\",\"YouTube\",\"Discord\",\"Discord\",\"Reddit\",\"Pinterest\",\"Instagram\",\"YouTube\",\"Discord\",\"Reddit\",\"Instagram\",\"YouTube\",\"Snapchat\",\"Discord\",\"Reddit\",\"Pinterest\",\"TikTok\",\"Facebook\",\"Instagram\",\"YouTube\",\"Facebook\",\"Instagram\",\"YouTube\",\"Facebook\",\"YouTube\",\"TikTok\",\"Facebook\",\"Instagram\",\"YouTube\",\"Facebook\",\"Instagram\",\"Facebook\",\"Instagram\",\"YouTube\",\"Facebook\",\"YouTube\",\"Facebook\",\"YouTube\",\"Facebook\",\"Twitter\",\"Instagram\",\"YouTube\",\"Discord\",\"Pinterest\",\"Facebook\",\"YouTube\"],\"x0\":\" \",\"xaxis\":\"x\",\"y\":[5,5,5,5,5,5,5,5,5,5,5,5,4,4,4,4,4,4,4,4,4,3,3,3,3,3,3,3,5,5,5,5,5,5,5,5,5,5,5,1,1,5,5,5,5,3,3,3,3,3,3,3,3,3,3,3,3,3,3,3,3,3,3,3,3,3,3,3,5,5,5,3,3,3,3,4,4,4,2,2,2,2,3,3,3,3,2,2,2,2,2,2,2,2,2,3,3,3,3,3,3,3,4,4,4,4,4,4,4,4,4,3,3,3,3,4,4,4,4,4,4,4,4,4,4,4,4,4,4,4,4,4,5,5,5,5,5,5,5,5,5,3,3,3,2,2,2,2,3,3,3,3,3,5,5,5,5,4,4,4,4,4,3,3,5,5,5,5,5,5,5,2,2,2,2,2,1,1,1,3,3,3,3,4,4,4,4,2,5,5,5,5,5,3,3,3,3,3,3,1,1,3,3,3,3,2,2,2,1,1,3,3,3,3,3,3,3,3,3,3,3,3,5,1,1,1,1,1,5,5,5,5,5,5,5,3,3,3,3,3,3,4,4,4,4,4,5,5,5,5,5,5,5,5,5,1,1,4,4,4,4,4,4,4,5,5,5,5,5,1,1,2,2,2,4,4,4,4,4,4,4,4,4,4,3,3,3,3,1,1,5,5,5,5,4,4,4,4,4,4,4,2,2,2,2,5,5,5,5,2,5,5,5,4,4,4,4,4,4,4,5,5,5,5,5,5,5,4,4,4,4,4,4,1,1,1,1,1,1,1,4,4,4,4,4,4,4,4,4,2,2,2,2,2,4,4,2,2,1,3,3,5,5,5,5,5,4,4,4,4,4,4,4,4,4,4,4,3,3,3,3,3,3,3,4,3,3,3,3,3,1,1,1,4,4,5,5,5,5,2,2,2,2,2,2,3,3,3,3,5,5,5,5,5,5,5,5,4,3,3,3,3,3,3,1,1,1,1,1,2,2,3,3,3,1,1,2,2,2,2,3,3,3,3,2,2,2,4,4,4,4,2,2,2,2,2,4,4,4,4,2,3,3,3,5,5,5,5,5,5,4,4,4,1,1,3,3,3,3,5,5,5,5,4,4,4,4,1,4,4,4,4,4,4,4,4,4,4,4,4,4,4,4,4,4,4,4,3,3,3,3,1,1,1,1,1,3,3,3,3,3,3,2,2,2,4,4,4,4,4,1,1,1,1,1,1,1,1,3,3,3,3,3,3,4,4,4,4,1,1,1,1,1,3,3,3,4,4,4,4,2,2,2,2,2,5,5,5,5,5,3,4,4,4,4,4,4,4,2,2,2,2,2,2,2,2,2,2,2,2,1,1,1,1,1,2,2,2,3,3,3,4,4,4,4,3,3,3,3,2,1,4,4,4,4,2,2,2,1,1,1,1,1,1,1,1,1,3,3,3,3,3,3,3,3,3,3,3,3,2,2,2,2,2,2,2,2,2,2,1,1,2,2,2,2,2,2,3,3,3,3,3,3,3,3,3,5,5,5,3,3,3,3,4,4,4,1,1,1,1,1,1,1,4,3,3,3,3,3,3,4,4,4,4,4,4,3,3,3,3,1,1,1,5,5,5,5,5,5,5,3,3,3,3,3,3,3,3,2,2,3,3,3,3,3,3,3,4,4,4,2,4,4,4,4,4,4,4,4,4,4,4,4,4,4,4,4,5,5,5,5,4,4,4,4,4,4,1,1,1,1,1,3,2,2,2,2,2,1,1,1,1,1,1,1,2,2,2,2,2,2,3,3,3,3,3,3,3,3,3,3,3,3,3,3,3,5,5,5,2,2,2,2,2,1,1,1,5,5,5,5,1,1,1,1,1,4,4,4,4,4,4,4,4,3,3,3,3,1,1,1,5,5,5,1,1,1,4,3,3,3,3,3,3,1,1,2,2,5,5,5,5,2,3,3,3,3,3,2,2,2,2,2,2,2,3,3,3,3,3,3,3,3,3,4,2,2,2,2,2,4,4,4,4,4,4,2,2,2,1,1,4,4,4,4,4,4,4,1,1,1,5,1,1,1,1,4,4,4,4,4,4,4,4,4,4,4,4,2,2,2,2,5,5,5,5,5,5,5,4,4,4,4,4,4,4,4,4,2,2,2,2,2,2,3,3,3,3,3,3,3,3,3,3,3,3,4,4,4,4,4,4,4,2,2,2,2,1,4,4,4,4,4,4,1,5,5,5,5,5,5,5,5,5,5,5,5,5,5,2,2,2,2,2,2,2,2,2,2,2,3,3,3,3,5,5,5,5,5,1,1,1,1,1,4,4,4,4,3,3,3,2,2,2,5,5,5,5,5,5,3,3,3,3,3,3,3,3,3,3,3,2,2,2,2,3,3,3,3,2,2,2,2,4,3,3,3,3,3,3,3,3,3,3,3,2,2,2,2,2,2,2,2,2,5,5,5,5,5,5,5,3,3,3,3,3,3,3,3,3,5,5,5,3,3,3,3,3,3,5,5,5,5,5,5,5,5,5,5,5,5,5,5,5,5,5,5,5,5,5,3,3,3,3,3,3,4,4,4,4,4,4,2,2,2,2,5,5,5,5,5,5,5,4,4,4,4,3,3,3,3,2,2,2,2,2,5,5,5,5,5,4,4,4,4,4,4,4,3,3,3,3,3,3,3,4,4,4,4,4,4,4,4,4,4,4,4,4,5,5,5,5,5,1,1,1,2,2,2,2,2,2,4,4,4,4,4,4,3,3,3,3,3,5,5,5,5,5,5,5,5,5,5,4,4,4,4,4,4,4,3,3,3,3,3,3,3,3,3,3,3,5,5,5,1,1,2,2,2,2,2,2,2,2,2,5,5,5,5,3,3,3,3,3,3,3,3,2,2,2,2,2,2,5,5,4,4,4,4,4,4,3,3,3,3,3,3,3,3,3,5,5,5,5,5,5,5,5,5,5,5,5,5,5,5,5,5,5,5,5,4,4,4,4,4,4,3,3,3,3,3,3,3,2,2,2,2,2,2,5,5,5,5,5,5,5,5,5,5,5,5,5,5,5,5,5,5,5,5,5,5,5,5,5,4,4,4,4,4,4,4,4,4,4,4,4,4,4,1,1,1,1,1,1,1,1,1,4,4,4,4,4,4,4,3,3,3,3,3,3,5,5,5,5,5,3,3,3,3,4,4,4,4,4,1,1,1,1,1,1,1,1,4,4,4,3,3,3,3,3,3,5,5,5,5,5,3,3,3,3,3,5,5,2,2,2,2,2,2,5,5,5,5,5,5,5,5,5,5,5,5,5,1,1,4,4,4,4,4,4,4,4,4,3,3,3,3,3,3,3,5,5,4,4,4,4,4,3,3,3,3,3,3,3,5,5,5,5,5,5,2,2,2,2,2,2,2,3,3,3,3,4,4,4,3,3,3,3,3,3,3,3,3,3,4,4,4,4,4,3,3,3,3,2,2,2,2,4,4,4,4,4,4,2,2,2,2,2,1,1,1,1,1,5,5,5,5,5,5,5,5,5,4,4,4,5,5,5,5,5,1,1,1,1,5,5,5,5,5,5,2,2,2,2,2,2,2,2,4,4,4,4,3,3,3,3,3,3,3,3,2,2,2,2,2,5,5,5,5,5,5,5,5,5,5,5,5,5,5,5,5,5,4,4,4,5,5,5,5,5,5,5,1,1,1,1,5,5,5,5,5,5,5,5,5,5,5,4,4,5,5,5,5,5,5,5,5,5,3,3,3,3,2,2,2,3,3,3,3,3,3,3,2,2,2,2,2,2,2,4,4,4,4,4,4,4,4,4,4,4,4,3,3,3,3,3,5,5,5,5,5,5,5,5,5,5,5,5,5,5,5,5,5,5,2,2,2,2,2,2,2,2,2,2,2,2,5,5,5,5,5,1,1,1,1,1,1,5,5,5,5,4,4,4,4,3,3,3,3,3,3,3,3,1,1,5,5,5,5,5,5,5,4,4,4,4,4,4,4,4,4,4,4,3,3,3,3,3,3,3,3,3,3,5,5,5,5,5,5,5,5,4,5,5,5,5,5,5,5,2,2,2,2,3,3,3,3,3,3,3,4,4,4,4,4,3,3,3,3,3,3,3,3,3,3,2,2,2,2,2,2,2,5,5,5,5,4,4,4,4,4,4,4,1,1,1,1,1,1,1,4,4,4,4,3,3,3,3,4,4,4,4,3,3,3,5,5,5,5,5,5,5,5,5,5,5,5,5,5,5,5,5,5,5,5,5,5,5,5,5,5,5,5,5,5,5,5,4,3,3,3,3,3,2,2,2,2,2,2,2,2,4,4,4,4,4,4,4,2,2,2,2,1,3,3,3,3,4,4,4,4,4,3,3,3,3,3,3,3,3,3,5,5,5,5,5,5,5,5,5,5,4,4,4,4,4,2,2,2,2,2,2,2,2,4,4,4,4,4,3,3,3,3,3,3,3,3,1,1,3,3,3,1,1,1,1,1,1,1,2,2,2,2,4,2,2,2,1,1,3,3,3,5,5,5,5,3,3,3,2,2,2,2,2,2,2,3,3,3,3,1,1,5,1,1,1,1,5,5,5,5,5,5,5,4,4,4,2,2,2,4,4,4,4,4,4,5,5,3,3,3,4,4,2,2,4,4,4,4,4,4,2,2],\"y0\":\" \",\"yaxis\":\"y\",\"type\":\"box\"}],                        {\"template\":{\"data\":{\"histogram2dcontour\":[{\"type\":\"histogram2dcontour\",\"colorbar\":{\"outlinewidth\":0,\"ticks\":\"\"},\"colorscale\":[[0.0,\"#0d0887\"],[0.1111111111111111,\"#46039f\"],[0.2222222222222222,\"#7201a8\"],[0.3333333333333333,\"#9c179e\"],[0.4444444444444444,\"#bd3786\"],[0.5555555555555556,\"#d8576b\"],[0.6666666666666666,\"#ed7953\"],[0.7777777777777778,\"#fb9f3a\"],[0.8888888888888888,\"#fdca26\"],[1.0,\"#f0f921\"]]}],\"choropleth\":[{\"type\":\"choropleth\",\"colorbar\":{\"outlinewidth\":0,\"ticks\":\"\"}}],\"histogram2d\":[{\"type\":\"histogram2d\",\"colorbar\":{\"outlinewidth\":0,\"ticks\":\"\"},\"colorscale\":[[0.0,\"#0d0887\"],[0.1111111111111111,\"#46039f\"],[0.2222222222222222,\"#7201a8\"],[0.3333333333333333,\"#9c179e\"],[0.4444444444444444,\"#bd3786\"],[0.5555555555555556,\"#d8576b\"],[0.6666666666666666,\"#ed7953\"],[0.7777777777777778,\"#fb9f3a\"],[0.8888888888888888,\"#fdca26\"],[1.0,\"#f0f921\"]]}],\"heatmap\":[{\"type\":\"heatmap\",\"colorbar\":{\"outlinewidth\":0,\"ticks\":\"\"},\"colorscale\":[[0.0,\"#0d0887\"],[0.1111111111111111,\"#46039f\"],[0.2222222222222222,\"#7201a8\"],[0.3333333333333333,\"#9c179e\"],[0.4444444444444444,\"#bd3786\"],[0.5555555555555556,\"#d8576b\"],[0.6666666666666666,\"#ed7953\"],[0.7777777777777778,\"#fb9f3a\"],[0.8888888888888888,\"#fdca26\"],[1.0,\"#f0f921\"]]}],\"heatmapgl\":[{\"type\":\"heatmapgl\",\"colorbar\":{\"outlinewidth\":0,\"ticks\":\"\"},\"colorscale\":[[0.0,\"#0d0887\"],[0.1111111111111111,\"#46039f\"],[0.2222222222222222,\"#7201a8\"],[0.3333333333333333,\"#9c179e\"],[0.4444444444444444,\"#bd3786\"],[0.5555555555555556,\"#d8576b\"],[0.6666666666666666,\"#ed7953\"],[0.7777777777777778,\"#fb9f3a\"],[0.8888888888888888,\"#fdca26\"],[1.0,\"#f0f921\"]]}],\"contourcarpet\":[{\"type\":\"contourcarpet\",\"colorbar\":{\"outlinewidth\":0,\"ticks\":\"\"}}],\"contour\":[{\"type\":\"contour\",\"colorbar\":{\"outlinewidth\":0,\"ticks\":\"\"},\"colorscale\":[[0.0,\"#0d0887\"],[0.1111111111111111,\"#46039f\"],[0.2222222222222222,\"#7201a8\"],[0.3333333333333333,\"#9c179e\"],[0.4444444444444444,\"#bd3786\"],[0.5555555555555556,\"#d8576b\"],[0.6666666666666666,\"#ed7953\"],[0.7777777777777778,\"#fb9f3a\"],[0.8888888888888888,\"#fdca26\"],[1.0,\"#f0f921\"]]}],\"surface\":[{\"type\":\"surface\",\"colorbar\":{\"outlinewidth\":0,\"ticks\":\"\"},\"colorscale\":[[0.0,\"#0d0887\"],[0.1111111111111111,\"#46039f\"],[0.2222222222222222,\"#7201a8\"],[0.3333333333333333,\"#9c179e\"],[0.4444444444444444,\"#bd3786\"],[0.5555555555555556,\"#d8576b\"],[0.6666666666666666,\"#ed7953\"],[0.7777777777777778,\"#fb9f3a\"],[0.8888888888888888,\"#fdca26\"],[1.0,\"#f0f921\"]]}],\"mesh3d\":[{\"type\":\"mesh3d\",\"colorbar\":{\"outlinewidth\":0,\"ticks\":\"\"}}],\"scatter\":[{\"fillpattern\":{\"fillmode\":\"overlay\",\"size\":10,\"solidity\":0.2},\"type\":\"scatter\"}],\"parcoords\":[{\"type\":\"parcoords\",\"line\":{\"colorbar\":{\"outlinewidth\":0,\"ticks\":\"\"}}}],\"scatterpolargl\":[{\"type\":\"scatterpolargl\",\"marker\":{\"colorbar\":{\"outlinewidth\":0,\"ticks\":\"\"}}}],\"bar\":[{\"error_x\":{\"color\":\"#2a3f5f\"},\"error_y\":{\"color\":\"#2a3f5f\"},\"marker\":{\"line\":{\"color\":\"#E5ECF6\",\"width\":0.5},\"pattern\":{\"fillmode\":\"overlay\",\"size\":10,\"solidity\":0.2}},\"type\":\"bar\"}],\"scattergeo\":[{\"type\":\"scattergeo\",\"marker\":{\"colorbar\":{\"outlinewidth\":0,\"ticks\":\"\"}}}],\"scatterpolar\":[{\"type\":\"scatterpolar\",\"marker\":{\"colorbar\":{\"outlinewidth\":0,\"ticks\":\"\"}}}],\"histogram\":[{\"marker\":{\"pattern\":{\"fillmode\":\"overlay\",\"size\":10,\"solidity\":0.2}},\"type\":\"histogram\"}],\"scattergl\":[{\"type\":\"scattergl\",\"marker\":{\"colorbar\":{\"outlinewidth\":0,\"ticks\":\"\"}}}],\"scatter3d\":[{\"type\":\"scatter3d\",\"line\":{\"colorbar\":{\"outlinewidth\":0,\"ticks\":\"\"}},\"marker\":{\"colorbar\":{\"outlinewidth\":0,\"ticks\":\"\"}}}],\"scattermapbox\":[{\"type\":\"scattermapbox\",\"marker\":{\"colorbar\":{\"outlinewidth\":0,\"ticks\":\"\"}}}],\"scatterternary\":[{\"type\":\"scatterternary\",\"marker\":{\"colorbar\":{\"outlinewidth\":0,\"ticks\":\"\"}}}],\"scattercarpet\":[{\"type\":\"scattercarpet\",\"marker\":{\"colorbar\":{\"outlinewidth\":0,\"ticks\":\"\"}}}],\"carpet\":[{\"aaxis\":{\"endlinecolor\":\"#2a3f5f\",\"gridcolor\":\"white\",\"linecolor\":\"white\",\"minorgridcolor\":\"white\",\"startlinecolor\":\"#2a3f5f\"},\"baxis\":{\"endlinecolor\":\"#2a3f5f\",\"gridcolor\":\"white\",\"linecolor\":\"white\",\"minorgridcolor\":\"white\",\"startlinecolor\":\"#2a3f5f\"},\"type\":\"carpet\"}],\"table\":[{\"cells\":{\"fill\":{\"color\":\"#EBF0F8\"},\"line\":{\"color\":\"white\"}},\"header\":{\"fill\":{\"color\":\"#C8D4E3\"},\"line\":{\"color\":\"white\"}},\"type\":\"table\"}],\"barpolar\":[{\"marker\":{\"line\":{\"color\":\"#E5ECF6\",\"width\":0.5},\"pattern\":{\"fillmode\":\"overlay\",\"size\":10,\"solidity\":0.2}},\"type\":\"barpolar\"}],\"pie\":[{\"automargin\":true,\"type\":\"pie\"}]},\"layout\":{\"autotypenumbers\":\"strict\",\"colorway\":[\"#636efa\",\"#EF553B\",\"#00cc96\",\"#ab63fa\",\"#FFA15A\",\"#19d3f3\",\"#FF6692\",\"#B6E880\",\"#FF97FF\",\"#FECB52\"],\"font\":{\"color\":\"#2a3f5f\"},\"hovermode\":\"closest\",\"hoverlabel\":{\"align\":\"left\"},\"paper_bgcolor\":\"white\",\"plot_bgcolor\":\"#E5ECF6\",\"polar\":{\"bgcolor\":\"#E5ECF6\",\"angularaxis\":{\"gridcolor\":\"white\",\"linecolor\":\"white\",\"ticks\":\"\"},\"radialaxis\":{\"gridcolor\":\"white\",\"linecolor\":\"white\",\"ticks\":\"\"}},\"ternary\":{\"bgcolor\":\"#E5ECF6\",\"aaxis\":{\"gridcolor\":\"white\",\"linecolor\":\"white\",\"ticks\":\"\"},\"baxis\":{\"gridcolor\":\"white\",\"linecolor\":\"white\",\"ticks\":\"\"},\"caxis\":{\"gridcolor\":\"white\",\"linecolor\":\"white\",\"ticks\":\"\"}},\"coloraxis\":{\"colorbar\":{\"outlinewidth\":0,\"ticks\":\"\"}},\"colorscale\":{\"sequential\":[[0.0,\"#0d0887\"],[0.1111111111111111,\"#46039f\"],[0.2222222222222222,\"#7201a8\"],[0.3333333333333333,\"#9c179e\"],[0.4444444444444444,\"#bd3786\"],[0.5555555555555556,\"#d8576b\"],[0.6666666666666666,\"#ed7953\"],[0.7777777777777778,\"#fb9f3a\"],[0.8888888888888888,\"#fdca26\"],[1.0,\"#f0f921\"]],\"sequentialminus\":[[0.0,\"#0d0887\"],[0.1111111111111111,\"#46039f\"],[0.2222222222222222,\"#7201a8\"],[0.3333333333333333,\"#9c179e\"],[0.4444444444444444,\"#bd3786\"],[0.5555555555555556,\"#d8576b\"],[0.6666666666666666,\"#ed7953\"],[0.7777777777777778,\"#fb9f3a\"],[0.8888888888888888,\"#fdca26\"],[1.0,\"#f0f921\"]],\"diverging\":[[0,\"#8e0152\"],[0.1,\"#c51b7d\"],[0.2,\"#de77ae\"],[0.3,\"#f1b6da\"],[0.4,\"#fde0ef\"],[0.5,\"#f7f7f7\"],[0.6,\"#e6f5d0\"],[0.7,\"#b8e186\"],[0.8,\"#7fbc41\"],[0.9,\"#4d9221\"],[1,\"#276419\"]]},\"xaxis\":{\"gridcolor\":\"white\",\"linecolor\":\"white\",\"ticks\":\"\",\"title\":{\"standoff\":15},\"zerolinecolor\":\"white\",\"automargin\":true,\"zerolinewidth\":2},\"yaxis\":{\"gridcolor\":\"white\",\"linecolor\":\"white\",\"ticks\":\"\",\"title\":{\"standoff\":15},\"zerolinecolor\":\"white\",\"automargin\":true,\"zerolinewidth\":2},\"scene\":{\"xaxis\":{\"backgroundcolor\":\"#E5ECF6\",\"gridcolor\":\"white\",\"linecolor\":\"white\",\"showbackground\":true,\"ticks\":\"\",\"zerolinecolor\":\"white\",\"gridwidth\":2},\"yaxis\":{\"backgroundcolor\":\"#E5ECF6\",\"gridcolor\":\"white\",\"linecolor\":\"white\",\"showbackground\":true,\"ticks\":\"\",\"zerolinecolor\":\"white\",\"gridwidth\":2},\"zaxis\":{\"backgroundcolor\":\"#E5ECF6\",\"gridcolor\":\"white\",\"linecolor\":\"white\",\"showbackground\":true,\"ticks\":\"\",\"zerolinecolor\":\"white\",\"gridwidth\":2}},\"shapedefaults\":{\"line\":{\"color\":\"#2a3f5f\"}},\"annotationdefaults\":{\"arrowcolor\":\"#2a3f5f\",\"arrowhead\":0,\"arrowwidth\":1},\"geo\":{\"bgcolor\":\"white\",\"landcolor\":\"#E5ECF6\",\"subunitcolor\":\"white\",\"showland\":true,\"showlakes\":true,\"lakecolor\":\"white\"},\"title\":{\"x\":0.05},\"mapbox\":{\"style\":\"light\"}}},\"xaxis\":{\"anchor\":\"y\",\"domain\":[0.0,1.0],\"title\":{\"text\":\"Social Media Platform\"},\"showgrid\":true,\"gridwidth\":1,\"gridcolor\":\"lightgrey\"},\"yaxis\":{\"anchor\":\"x\",\"domain\":[0.0,1.0],\"title\":{\"text\":\"Feeling Depressed (1-5)\"},\"showgrid\":true,\"gridwidth\":1,\"gridcolor\":\"lightgrey\"},\"legend\":{\"tracegroupgap\":0},\"title\":{\"text\":\"Comparison of 'Feel Depressed' Across Different Social Media Platforms\"},\"boxmode\":\"group\",\"plot_bgcolor\":\"white\",\"paper_bgcolor\":\"white\"},                        {\"responsive\": true}                    ).then(function(){\n",
       "                            \n",
       "var gd = document.getElementById('be9aef80-f338-4bc0-b5d2-6b938b5bfe2b');\n",
       "var x = new MutationObserver(function (mutations, observer) {{\n",
       "        var display = window.getComputedStyle(gd).display;\n",
       "        if (!display || display === 'none') {{\n",
       "            console.log([gd, 'removed!']);\n",
       "            Plotly.purge(gd);\n",
       "            observer.disconnect();\n",
       "        }}\n",
       "}});\n",
       "\n",
       "// Listen for the removal of the full notebook cells\n",
       "var notebookContainer = gd.closest('#notebook-container');\n",
       "if (notebookContainer) {{\n",
       "    x.observe(notebookContainer, {childList: true});\n",
       "}}\n",
       "\n",
       "// Listen for the clearing of the current output cell\n",
       "var outputEl = gd.closest('.output');\n",
       "if (outputEl) {{\n",
       "    x.observe(outputEl, {childList: true});\n",
       "}}\n",
       "\n",
       "                        })                };                });            </script>        </div>"
      ]
     },
     "metadata": {},
     "output_type": "display_data"
    }
   ],
   "source": [
    "# Graph 6 : Comparison of 'Feel Depressed' Across Different Social Media Platforms\n",
    "# Split the 'common_platforms' into individual platforms and stack them\n",
    "all_platforms = df['common_platforms'].str.split(', ', expand=True).stack()\n",
    "all_platforms.index = all_platforms.index.droplevel(1)  # to align with df's index\n",
    "all_platforms.name = 'platform'\n",
    "\n",
    "# Join the new 'platform' column with the 'feel_depressed(1-5)' column from the original dataframe\n",
    "platform_df = df[['feel_depressed(1-5)']].join(all_platforms)\n",
    "platform_df.reset_index(drop=True, inplace=True)\n",
    "\n",
    "# Create a box plot comparing 'feel_depressed(1-5)' with individual platforms\n",
    "fig = px.box(platform_df, x='platform', y='feel_depressed(1-5)',\n",
    "             labels={'platform': 'Social Media Platform',\n",
    "                     'feel_depressed(1-5)': 'Feeling Depressed (1-5)'},\n",
    "             title=\"Comparison of 'Feel Depressed' Across Different Social Media Platforms\")\n",
    "\n",
    "# Update layout for a clear view\n",
    "fig.update_layout(plot_bgcolor='white', paper_bgcolor='white')\n",
    "fig.update_xaxes(showgrid=True, gridwidth=1, gridcolor='lightgrey')\n",
    "fig.update_yaxes(showgrid=True, gridwidth=1, gridcolor='lightgrey')\n",
    "\n",
    "# Show plot\n",
    "fig.show()"
   ]
  },
  {
   "cell_type": "markdown",
   "metadata": {},
   "source": [
    "The box plot shows that median depression levels reported by users differ slightly between social media platforms. Platforms like TikTok and Snapchat exhibit slightly higher median depression levels, whereas Facebook and Twitter are on the lower end. The variability in depression levels is also platform-dependent, with some showing a wider range of responses. Despite these nuances, the overall trend indicates a general consistency in reported depression levels across different platforms."
   ]
  },
  {
   "cell_type": "markdown",
   "metadata": {},
   "source": [
    "### Conclusion"
   ]
  },
  {
   "cell_type": "markdown",
   "metadata": {},
   "source": [
    "The box plots reveal a nuanced connection between social media interaction and depression. Heavy use of social media and tendencies to compare with others are associated with higher self-reported depression. Those not engaged in social media tend to report lower depression levels. The data implies that while social media use is a significant factor in mental health, the impact may vary depending on how individuals engage with these platforms.\n",
    "Just because there's a link between social media use and depression doesn't mean one causes the other. We need more research to understand if or how they truly affect each other."
   ]
  }
 ],
 "metadata": {
  "kernelspec": {
   "display_name": "base",
   "language": "python",
   "name": "python3"
  },
  "language_info": {
   "codemirror_mode": {
    "name": "ipython",
    "version": 3
   },
   "file_extension": ".py",
   "mimetype": "text/x-python",
   "name": "python",
   "nbconvert_exporter": "python",
   "pygments_lexer": "ipython3",
   "version": "3.9.13"
  }
 },
 "nbformat": 4,
 "nbformat_minor": 2
}
